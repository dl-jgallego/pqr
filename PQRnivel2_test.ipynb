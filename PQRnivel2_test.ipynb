{
 "cells": [
  {
   "cell_type": "markdown",
   "metadata": {},
   "source": [
    "# Testeo de los modelos entrenados para PQR nivel 2"
   ]
  },
  {
   "cell_type": "markdown",
   "metadata": {},
   "source": [
    "En este libro se testean los modelos entrandos en el libro PQRnivel2.ipynb. El libro en una primera instancia hace un proprocesamiento de los nuevos registros, esto es seleccionar aquellos registros que provengan de las siguientes fuentes: web y email.Para esto se tomarán las PQR de diciembre y enero dando un total de 741 registros a testear"
   ]
  },
  {
   "cell_type": "code",
   "execution_count": 1,
   "metadata": {},
   "outputs": [],
   "source": [
    "import pandas as pd\n",
    "import numpy as np\n",
    "import matplotlib.pyplot as plt\n",
    "import seaborn as sns\n",
    "%matplotlib inline"
   ]
  },
  {
   "cell_type": "code",
   "execution_count": 2,
   "metadata": {},
   "outputs": [
    {
     "output_type": "execute_result",
     "data": {
      "text/plain": [
       "                        _id            ID forma_requerimiento  identificacion  \\\n",
       "0  601180ac1d4f1829b8fafa90  PQR_202012_1              verbal      1093221111   \n",
       "1  601180ac1d4f1829b8fafa91  PQR_202012_2              verbal          206943   \n",
       "2  601180ac1d4f1829b8fafa92  PQR_202012_3              verbal        52068043   \n",
       "3  601180ac1d4f1829b8fafa93  PQR_202012_4              verbal        18591705   \n",
       "4  601180ac1d4f1829b8fafa94  PQR_202012_5          telefonico         4583845   \n",
       "\n",
       "              solicitante                               dir_solicitante  \\\n",
       "0          JHONATAN SILVA             CRA 16 22 29 - BARRIO SIN DEFINIR   \n",
       "1        IDARRGA FERNANDI             CRA 16 22 29 - BARRIO SIN DEFINIR   \n",
       "2         ADRIANA GRANADA                                  CLL 33 12 16   \n",
       "3          DARIO MARTINEZ  CLL 18 15 10 P3 APT 301 - BARRIO SIN DEFINIR   \n",
       "4  ANDRES FELIPE RAMIRES   CLL 18 15 10 P3 APT 301 - BARRIO SIN DEFINIR   \n",
       "\n",
       "  tipo_solicitud     cuenta fec_solicitud fec_vencmto  ...   MUNICIPIO  \\\n",
       "0       peticion  101106357    2020/12/18  2021/01/12  ...  Santa Rosa   \n",
       "1       peticion  101106357    2020/12/18  2021/01/12  ...  Santa Rosa   \n",
       "2       peticion  101176660    2020/12/18  2021/01/12  ...  Santa Rosa   \n",
       "3       peticion  101212965    2020/12/17  2021/01/11  ...  Santa Rosa   \n",
       "4       peticion  101212965    2020/12/17  2021/01/11  ...  Santa Rosa   \n",
       "\n",
       "      TELEFONO      CELULAR EMAIL  CIRCUITO    NODO UBICACION CLASE_SERVICIO  \\\n",
       "0  3.65663e+06   3.2077e+09   NaN  HER23L15  D23516         U    Residencial   \n",
       "1  3.65663e+06   3.2077e+09   NaN  HER23L15  D23516         U    Residencial   \n",
       "2          NaN  3.17291e+09   NaN  HER23L15  D23537         U    Residencial   \n",
       "3  3.65790e+06          NaN   NaN  HER23L12  D20303         U    Residencial   \n",
       "4  3.65790e+06          NaN   NaN  HER23L12  D20303         U    Residencial   \n",
       "\n",
       "  ANIOMES  Tipo fuente  \n",
       "0  202012          PQR  \n",
       "1  202012          PQR  \n",
       "2  202012          PQR  \n",
       "3  202012          PQR  \n",
       "4  202012          PQR  \n",
       "\n",
       "[5 rows x 35 columns]"
      ],
      "text/html": "<div>\n<style scoped>\n    .dataframe tbody tr th:only-of-type {\n        vertical-align: middle;\n    }\n\n    .dataframe tbody tr th {\n        vertical-align: top;\n    }\n\n    .dataframe thead th {\n        text-align: right;\n    }\n</style>\n<table border=\"1\" class=\"dataframe\">\n  <thead>\n    <tr style=\"text-align: right;\">\n      <th></th>\n      <th>_id</th>\n      <th>ID</th>\n      <th>forma_requerimiento</th>\n      <th>identificacion</th>\n      <th>solicitante</th>\n      <th>dir_solicitante</th>\n      <th>tipo_solicitud</th>\n      <th>cuenta</th>\n      <th>fec_solicitud</th>\n      <th>fec_vencmto</th>\n      <th>...</th>\n      <th>MUNICIPIO</th>\n      <th>TELEFONO</th>\n      <th>CELULAR</th>\n      <th>EMAIL</th>\n      <th>CIRCUITO</th>\n      <th>NODO</th>\n      <th>UBICACION</th>\n      <th>CLASE_SERVICIO</th>\n      <th>ANIOMES</th>\n      <th>Tipo fuente</th>\n    </tr>\n  </thead>\n  <tbody>\n    <tr>\n      <th>0</th>\n      <td>601180ac1d4f1829b8fafa90</td>\n      <td>PQR_202012_1</td>\n      <td>verbal</td>\n      <td>1093221111</td>\n      <td>JHONATAN SILVA</td>\n      <td>CRA 16 22 29 - BARRIO SIN DEFINIR</td>\n      <td>peticion</td>\n      <td>101106357</td>\n      <td>2020/12/18</td>\n      <td>2021/01/12</td>\n      <td>...</td>\n      <td>Santa Rosa</td>\n      <td>3.65663e+06</td>\n      <td>3.2077e+09</td>\n      <td>NaN</td>\n      <td>HER23L15</td>\n      <td>D23516</td>\n      <td>U</td>\n      <td>Residencial</td>\n      <td>202012</td>\n      <td>PQR</td>\n    </tr>\n    <tr>\n      <th>1</th>\n      <td>601180ac1d4f1829b8fafa91</td>\n      <td>PQR_202012_2</td>\n      <td>verbal</td>\n      <td>206943</td>\n      <td>IDARRGA FERNANDI</td>\n      <td>CRA 16 22 29 - BARRIO SIN DEFINIR</td>\n      <td>peticion</td>\n      <td>101106357</td>\n      <td>2020/12/18</td>\n      <td>2021/01/12</td>\n      <td>...</td>\n      <td>Santa Rosa</td>\n      <td>3.65663e+06</td>\n      <td>3.2077e+09</td>\n      <td>NaN</td>\n      <td>HER23L15</td>\n      <td>D23516</td>\n      <td>U</td>\n      <td>Residencial</td>\n      <td>202012</td>\n      <td>PQR</td>\n    </tr>\n    <tr>\n      <th>2</th>\n      <td>601180ac1d4f1829b8fafa92</td>\n      <td>PQR_202012_3</td>\n      <td>verbal</td>\n      <td>52068043</td>\n      <td>ADRIANA GRANADA</td>\n      <td>CLL 33 12 16</td>\n      <td>peticion</td>\n      <td>101176660</td>\n      <td>2020/12/18</td>\n      <td>2021/01/12</td>\n      <td>...</td>\n      <td>Santa Rosa</td>\n      <td>NaN</td>\n      <td>3.17291e+09</td>\n      <td>NaN</td>\n      <td>HER23L15</td>\n      <td>D23537</td>\n      <td>U</td>\n      <td>Residencial</td>\n      <td>202012</td>\n      <td>PQR</td>\n    </tr>\n    <tr>\n      <th>3</th>\n      <td>601180ac1d4f1829b8fafa93</td>\n      <td>PQR_202012_4</td>\n      <td>verbal</td>\n      <td>18591705</td>\n      <td>DARIO MARTINEZ</td>\n      <td>CLL 18 15 10 P3 APT 301 - BARRIO SIN DEFINIR</td>\n      <td>peticion</td>\n      <td>101212965</td>\n      <td>2020/12/17</td>\n      <td>2021/01/11</td>\n      <td>...</td>\n      <td>Santa Rosa</td>\n      <td>3.65790e+06</td>\n      <td>NaN</td>\n      <td>NaN</td>\n      <td>HER23L12</td>\n      <td>D20303</td>\n      <td>U</td>\n      <td>Residencial</td>\n      <td>202012</td>\n      <td>PQR</td>\n    </tr>\n    <tr>\n      <th>4</th>\n      <td>601180ac1d4f1829b8fafa94</td>\n      <td>PQR_202012_5</td>\n      <td>telefonico</td>\n      <td>4583845</td>\n      <td>ANDRES FELIPE RAMIRES</td>\n      <td>CLL 18 15 10 P3 APT 301 - BARRIO SIN DEFINIR</td>\n      <td>peticion</td>\n      <td>101212965</td>\n      <td>2020/12/17</td>\n      <td>2021/01/11</td>\n      <td>...</td>\n      <td>Santa Rosa</td>\n      <td>3.65790e+06</td>\n      <td>NaN</td>\n      <td>NaN</td>\n      <td>HER23L12</td>\n      <td>D20303</td>\n      <td>U</td>\n      <td>Residencial</td>\n      <td>202012</td>\n      <td>PQR</td>\n    </tr>\n  </tbody>\n</table>\n<p>5 rows × 35 columns</p>\n</div>"
     },
     "metadata": {},
     "execution_count": 2
    }
   ],
   "source": [
    "data_dic = pd.read_csv('PQR_2020-12.csv')\n",
    "data_dic.head()"
   ]
  },
  {
   "cell_type": "code",
   "execution_count": 3,
   "metadata": {},
   "outputs": [
    {
     "output_type": "execute_result",
     "data": {
      "text/plain": [
       "                        _id            ID forma_requerimiento  identificacion  \\\n",
       "0  602866a71d4f183238e145b9  PQR_202101_1              verbal        25161756   \n",
       "1  602866a71d4f183238e145ba  PQR_202101_2              verbal          206864   \n",
       "2  602866a71d4f183238e145bb  PQR_202101_3              verbal        18591705   \n",
       "3  602866a71d4f183238e145bc  PQR_202101_4              verbal          206840   \n",
       "4  602866a71d4f183238e145bd  PQR_202101_5              verbal          206799   \n",
       "\n",
       "                  solicitante                               dir_solicitante  \\\n",
       "0     ADIELA CARDONA GONZALEZ             CRA 16 18 66 - BARRIO SIN DEFINIR   \n",
       "1           RIGOBERTO SANCHEZ             CLL 18 15 25 - BARRIO SIN DEFINIR   \n",
       "2  RAMON DARIO MARTINEZ GOMEZ  CLL 18 15 10 P3 APT 301 - BARRIO SIN DEFINIR   \n",
       "3   ANA TULIA SEPULVEDA DE A.             CRA 15 18 63 - BARRIO SIN DEFINIR   \n",
       "4      MARIA GOMEZ SOTO GOMEZ       CLL 20 15 15 PSO 2 - BARRIO SIN DEFINIR   \n",
       "\n",
       "  tipo_solicitud     cuenta fec_solicitud fec_vencmto  ...   MUNICIPIO  \\\n",
       "0       peticion  101184075    2021/01/19  2021/02/08  ...  Santa Rosa   \n",
       "1       peticion  101201209    2021/01/04  2021/01/25  ...  Santa Rosa   \n",
       "2       peticion  101212965    2021/01/06  2021/01/27  ...  Santa Rosa   \n",
       "3       peticion  101228526    2021/01/04  2021/01/25  ...  Santa Rosa   \n",
       "4       peticion  101274963    2021/01/30  2021/02/19  ...  Santa Rosa   \n",
       "\n",
       "      TELEFONO      CELULAR EMAIL  CIRCUITO    NODO UBICACION CLASE_SERVICIO  \\\n",
       "0          NaN          NaN   NaN  HER23L12  D20299         U    Residencial   \n",
       "1   3.6469e+06          NaN   NaN  HER23L13  D21189         U    Residencial   \n",
       "2  3.65790e+06          NaN   NaN  HER23L12  D20303         U    Residencial   \n",
       "3          NaN          NaN   NaN  HER23L12  D20299         U    Residencial   \n",
       "4          NaN  3.11739e+09   NaN  HER23L15  D23553         U    Residencial   \n",
       "\n",
       "  ANIOMES  Tipo fuente  \n",
       "0  202101          PQR  \n",
       "1  202101          PQR  \n",
       "2  202101          PQR  \n",
       "3  202101          PQR  \n",
       "4  202101          PQR  \n",
       "\n",
       "[5 rows x 35 columns]"
      ],
      "text/html": "<div>\n<style scoped>\n    .dataframe tbody tr th:only-of-type {\n        vertical-align: middle;\n    }\n\n    .dataframe tbody tr th {\n        vertical-align: top;\n    }\n\n    .dataframe thead th {\n        text-align: right;\n    }\n</style>\n<table border=\"1\" class=\"dataframe\">\n  <thead>\n    <tr style=\"text-align: right;\">\n      <th></th>\n      <th>_id</th>\n      <th>ID</th>\n      <th>forma_requerimiento</th>\n      <th>identificacion</th>\n      <th>solicitante</th>\n      <th>dir_solicitante</th>\n      <th>tipo_solicitud</th>\n      <th>cuenta</th>\n      <th>fec_solicitud</th>\n      <th>fec_vencmto</th>\n      <th>...</th>\n      <th>MUNICIPIO</th>\n      <th>TELEFONO</th>\n      <th>CELULAR</th>\n      <th>EMAIL</th>\n      <th>CIRCUITO</th>\n      <th>NODO</th>\n      <th>UBICACION</th>\n      <th>CLASE_SERVICIO</th>\n      <th>ANIOMES</th>\n      <th>Tipo fuente</th>\n    </tr>\n  </thead>\n  <tbody>\n    <tr>\n      <th>0</th>\n      <td>602866a71d4f183238e145b9</td>\n      <td>PQR_202101_1</td>\n      <td>verbal</td>\n      <td>25161756</td>\n      <td>ADIELA CARDONA GONZALEZ</td>\n      <td>CRA 16 18 66 - BARRIO SIN DEFINIR</td>\n      <td>peticion</td>\n      <td>101184075</td>\n      <td>2021/01/19</td>\n      <td>2021/02/08</td>\n      <td>...</td>\n      <td>Santa Rosa</td>\n      <td>NaN</td>\n      <td>NaN</td>\n      <td>NaN</td>\n      <td>HER23L12</td>\n      <td>D20299</td>\n      <td>U</td>\n      <td>Residencial</td>\n      <td>202101</td>\n      <td>PQR</td>\n    </tr>\n    <tr>\n      <th>1</th>\n      <td>602866a71d4f183238e145ba</td>\n      <td>PQR_202101_2</td>\n      <td>verbal</td>\n      <td>206864</td>\n      <td>RIGOBERTO SANCHEZ</td>\n      <td>CLL 18 15 25 - BARRIO SIN DEFINIR</td>\n      <td>peticion</td>\n      <td>101201209</td>\n      <td>2021/01/04</td>\n      <td>2021/01/25</td>\n      <td>...</td>\n      <td>Santa Rosa</td>\n      <td>3.6469e+06</td>\n      <td>NaN</td>\n      <td>NaN</td>\n      <td>HER23L13</td>\n      <td>D21189</td>\n      <td>U</td>\n      <td>Residencial</td>\n      <td>202101</td>\n      <td>PQR</td>\n    </tr>\n    <tr>\n      <th>2</th>\n      <td>602866a71d4f183238e145bb</td>\n      <td>PQR_202101_3</td>\n      <td>verbal</td>\n      <td>18591705</td>\n      <td>RAMON DARIO MARTINEZ GOMEZ</td>\n      <td>CLL 18 15 10 P3 APT 301 - BARRIO SIN DEFINIR</td>\n      <td>peticion</td>\n      <td>101212965</td>\n      <td>2021/01/06</td>\n      <td>2021/01/27</td>\n      <td>...</td>\n      <td>Santa Rosa</td>\n      <td>3.65790e+06</td>\n      <td>NaN</td>\n      <td>NaN</td>\n      <td>HER23L12</td>\n      <td>D20303</td>\n      <td>U</td>\n      <td>Residencial</td>\n      <td>202101</td>\n      <td>PQR</td>\n    </tr>\n    <tr>\n      <th>3</th>\n      <td>602866a71d4f183238e145bc</td>\n      <td>PQR_202101_4</td>\n      <td>verbal</td>\n      <td>206840</td>\n      <td>ANA TULIA SEPULVEDA DE A.</td>\n      <td>CRA 15 18 63 - BARRIO SIN DEFINIR</td>\n      <td>peticion</td>\n      <td>101228526</td>\n      <td>2021/01/04</td>\n      <td>2021/01/25</td>\n      <td>...</td>\n      <td>Santa Rosa</td>\n      <td>NaN</td>\n      <td>NaN</td>\n      <td>NaN</td>\n      <td>HER23L12</td>\n      <td>D20299</td>\n      <td>U</td>\n      <td>Residencial</td>\n      <td>202101</td>\n      <td>PQR</td>\n    </tr>\n    <tr>\n      <th>4</th>\n      <td>602866a71d4f183238e145bd</td>\n      <td>PQR_202101_5</td>\n      <td>verbal</td>\n      <td>206799</td>\n      <td>MARIA GOMEZ SOTO GOMEZ</td>\n      <td>CLL 20 15 15 PSO 2 - BARRIO SIN DEFINIR</td>\n      <td>peticion</td>\n      <td>101274963</td>\n      <td>2021/01/30</td>\n      <td>2021/02/19</td>\n      <td>...</td>\n      <td>Santa Rosa</td>\n      <td>NaN</td>\n      <td>3.11739e+09</td>\n      <td>NaN</td>\n      <td>HER23L15</td>\n      <td>D23553</td>\n      <td>U</td>\n      <td>Residencial</td>\n      <td>202101</td>\n      <td>PQR</td>\n    </tr>\n  </tbody>\n</table>\n<p>5 rows × 35 columns</p>\n</div>"
     },
     "metadata": {},
     "execution_count": 3
    }
   ],
   "source": [
    "data_jan = pd.read_csv('PQR_2021-01.csv')\n",
    "data_jan.head()"
   ]
  },
  {
   "cell_type": "code",
   "execution_count": 4,
   "metadata": {},
   "outputs": [
    {
     "output_type": "execute_result",
     "data": {
      "text/plain": [
       "                        _id            ID forma_requerimiento  identificacion  \\\n",
       "0  601180ac1d4f1829b8fafa90  PQR_202012_1              verbal      1093221111   \n",
       "1  601180ac1d4f1829b8fafa91  PQR_202012_2              verbal          206943   \n",
       "2  601180ac1d4f1829b8fafa92  PQR_202012_3              verbal        52068043   \n",
       "3  601180ac1d4f1829b8fafa93  PQR_202012_4              verbal        18591705   \n",
       "4  601180ac1d4f1829b8fafa94  PQR_202012_5          telefonico         4583845   \n",
       "\n",
       "              solicitante                               dir_solicitante  \\\n",
       "0          JHONATAN SILVA             CRA 16 22 29 - BARRIO SIN DEFINIR   \n",
       "1        IDARRGA FERNANDI             CRA 16 22 29 - BARRIO SIN DEFINIR   \n",
       "2         ADRIANA GRANADA                                  CLL 33 12 16   \n",
       "3          DARIO MARTINEZ  CLL 18 15 10 P3 APT 301 - BARRIO SIN DEFINIR   \n",
       "4  ANDRES FELIPE RAMIRES   CLL 18 15 10 P3 APT 301 - BARRIO SIN DEFINIR   \n",
       "\n",
       "  tipo_solicitud     cuenta fec_solicitud fec_vencmto  ...   MUNICIPIO  \\\n",
       "0       peticion  101106357    2020/12/18  2021/01/12  ...  Santa Rosa   \n",
       "1       peticion  101106357    2020/12/18  2021/01/12  ...  Santa Rosa   \n",
       "2       peticion  101176660    2020/12/18  2021/01/12  ...  Santa Rosa   \n",
       "3       peticion  101212965    2020/12/17  2021/01/11  ...  Santa Rosa   \n",
       "4       peticion  101212965    2020/12/17  2021/01/11  ...  Santa Rosa   \n",
       "\n",
       "      TELEFONO      CELULAR EMAIL  CIRCUITO    NODO UBICACION CLASE_SERVICIO  \\\n",
       "0  3.65663e+06   3.2077e+09   NaN  HER23L15  D23516         U    Residencial   \n",
       "1  3.65663e+06   3.2077e+09   NaN  HER23L15  D23516         U    Residencial   \n",
       "2          NaN  3.17291e+09   NaN  HER23L15  D23537         U    Residencial   \n",
       "3  3.65790e+06          NaN   NaN  HER23L12  D20303         U    Residencial   \n",
       "4  3.65790e+06          NaN   NaN  HER23L12  D20303         U    Residencial   \n",
       "\n",
       "  ANIOMES  Tipo fuente  \n",
       "0  202012          PQR  \n",
       "1  202012          PQR  \n",
       "2  202012          PQR  \n",
       "3  202012          PQR  \n",
       "4  202012          PQR  \n",
       "\n",
       "[5 rows x 35 columns]"
      ],
      "text/html": "<div>\n<style scoped>\n    .dataframe tbody tr th:only-of-type {\n        vertical-align: middle;\n    }\n\n    .dataframe tbody tr th {\n        vertical-align: top;\n    }\n\n    .dataframe thead th {\n        text-align: right;\n    }\n</style>\n<table border=\"1\" class=\"dataframe\">\n  <thead>\n    <tr style=\"text-align: right;\">\n      <th></th>\n      <th>_id</th>\n      <th>ID</th>\n      <th>forma_requerimiento</th>\n      <th>identificacion</th>\n      <th>solicitante</th>\n      <th>dir_solicitante</th>\n      <th>tipo_solicitud</th>\n      <th>cuenta</th>\n      <th>fec_solicitud</th>\n      <th>fec_vencmto</th>\n      <th>...</th>\n      <th>MUNICIPIO</th>\n      <th>TELEFONO</th>\n      <th>CELULAR</th>\n      <th>EMAIL</th>\n      <th>CIRCUITO</th>\n      <th>NODO</th>\n      <th>UBICACION</th>\n      <th>CLASE_SERVICIO</th>\n      <th>ANIOMES</th>\n      <th>Tipo fuente</th>\n    </tr>\n  </thead>\n  <tbody>\n    <tr>\n      <th>0</th>\n      <td>601180ac1d4f1829b8fafa90</td>\n      <td>PQR_202012_1</td>\n      <td>verbal</td>\n      <td>1093221111</td>\n      <td>JHONATAN SILVA</td>\n      <td>CRA 16 22 29 - BARRIO SIN DEFINIR</td>\n      <td>peticion</td>\n      <td>101106357</td>\n      <td>2020/12/18</td>\n      <td>2021/01/12</td>\n      <td>...</td>\n      <td>Santa Rosa</td>\n      <td>3.65663e+06</td>\n      <td>3.2077e+09</td>\n      <td>NaN</td>\n      <td>HER23L15</td>\n      <td>D23516</td>\n      <td>U</td>\n      <td>Residencial</td>\n      <td>202012</td>\n      <td>PQR</td>\n    </tr>\n    <tr>\n      <th>1</th>\n      <td>601180ac1d4f1829b8fafa91</td>\n      <td>PQR_202012_2</td>\n      <td>verbal</td>\n      <td>206943</td>\n      <td>IDARRGA FERNANDI</td>\n      <td>CRA 16 22 29 - BARRIO SIN DEFINIR</td>\n      <td>peticion</td>\n      <td>101106357</td>\n      <td>2020/12/18</td>\n      <td>2021/01/12</td>\n      <td>...</td>\n      <td>Santa Rosa</td>\n      <td>3.65663e+06</td>\n      <td>3.2077e+09</td>\n      <td>NaN</td>\n      <td>HER23L15</td>\n      <td>D23516</td>\n      <td>U</td>\n      <td>Residencial</td>\n      <td>202012</td>\n      <td>PQR</td>\n    </tr>\n    <tr>\n      <th>2</th>\n      <td>601180ac1d4f1829b8fafa92</td>\n      <td>PQR_202012_3</td>\n      <td>verbal</td>\n      <td>52068043</td>\n      <td>ADRIANA GRANADA</td>\n      <td>CLL 33 12 16</td>\n      <td>peticion</td>\n      <td>101176660</td>\n      <td>2020/12/18</td>\n      <td>2021/01/12</td>\n      <td>...</td>\n      <td>Santa Rosa</td>\n      <td>NaN</td>\n      <td>3.17291e+09</td>\n      <td>NaN</td>\n      <td>HER23L15</td>\n      <td>D23537</td>\n      <td>U</td>\n      <td>Residencial</td>\n      <td>202012</td>\n      <td>PQR</td>\n    </tr>\n    <tr>\n      <th>3</th>\n      <td>601180ac1d4f1829b8fafa93</td>\n      <td>PQR_202012_4</td>\n      <td>verbal</td>\n      <td>18591705</td>\n      <td>DARIO MARTINEZ</td>\n      <td>CLL 18 15 10 P3 APT 301 - BARRIO SIN DEFINIR</td>\n      <td>peticion</td>\n      <td>101212965</td>\n      <td>2020/12/17</td>\n      <td>2021/01/11</td>\n      <td>...</td>\n      <td>Santa Rosa</td>\n      <td>3.65790e+06</td>\n      <td>NaN</td>\n      <td>NaN</td>\n      <td>HER23L12</td>\n      <td>D20303</td>\n      <td>U</td>\n      <td>Residencial</td>\n      <td>202012</td>\n      <td>PQR</td>\n    </tr>\n    <tr>\n      <th>4</th>\n      <td>601180ac1d4f1829b8fafa94</td>\n      <td>PQR_202012_5</td>\n      <td>telefonico</td>\n      <td>4583845</td>\n      <td>ANDRES FELIPE RAMIRES</td>\n      <td>CLL 18 15 10 P3 APT 301 - BARRIO SIN DEFINIR</td>\n      <td>peticion</td>\n      <td>101212965</td>\n      <td>2020/12/17</td>\n      <td>2021/01/11</td>\n      <td>...</td>\n      <td>Santa Rosa</td>\n      <td>3.65790e+06</td>\n      <td>NaN</td>\n      <td>NaN</td>\n      <td>HER23L12</td>\n      <td>D20303</td>\n      <td>U</td>\n      <td>Residencial</td>\n      <td>202012</td>\n      <td>PQR</td>\n    </tr>\n  </tbody>\n</table>\n<p>5 rows × 35 columns</p>\n</div>"
     },
     "metadata": {},
     "execution_count": 4
    }
   ],
   "source": [
    "df = pd.concat([data_dic, data_jan], ignore_index=True)\n",
    "df.head()"
   ]
  },
  {
   "cell_type": "code",
   "execution_count": 5,
   "metadata": {},
   "outputs": [
    {
     "output_type": "stream",
     "name": "stdout",
     "text": [
      "<class 'pandas.core.frame.DataFrame'>\nRangeIndex: 54128 entries, 0 to 54127\nData columns (total 35 columns):\n #   Column                 Non-Null Count  Dtype  \n---  ------                 --------------  -----  \n 0   _id                    54128 non-null  object \n 1   ID                     54128 non-null  object \n 2   forma_requerimiento    54128 non-null  object \n 3   identificacion         54128 non-null  int64  \n 4   solicitante            54128 non-null  object \n 5   dir_solicitante        54127 non-null  object \n 6   tipo_solicitud         54128 non-null  object \n 7   cuenta                 54128 non-null  int64  \n 8   fec_solicitud          54128 non-null  object \n 9   fec_vencmto            54128 non-null  object \n 10  fec_rpta               54128 non-null  object \n 11  clase_inicial          0 non-null      float64\n 12  estrato                54128 non-null  object \n 13  a_favor_de             54128 non-null  object \n 14  tipo_solicitud_1       54128 non-null  object \n 15  documento              0 non-null      float64\n 16  imputabilidad          54128 non-null  object \n 17  causa_final            54128 non-null  object \n 18  responde               54128 non-null  object \n 19  observacion_respuesta  0 non-null      float64\n 20  OBSERVACION USUARIO    54128 non-null  object \n 21  SEGMENTO               25069 non-null  object \n 22  TIPO_DOC               54128 non-null  object \n 23  NOMBRE                 54128 non-null  object \n 24  DIRECCION              54128 non-null  object \n 25  MUNICIPIO              54128 non-null  object \n 26  TELEFONO               34575 non-null  object \n 27  CELULAR                36632 non-null  object \n 28  EMAIL                  3163 non-null   object \n 29  CIRCUITO               53992 non-null  object \n 30  NODO                   54128 non-null  object \n 31  UBICACION              54128 non-null  object \n 32  CLASE_SERVICIO         54128 non-null  object \n 33  ANIOMES                54128 non-null  int64  \n 34  Tipo fuente            54128 non-null  object \ndtypes: float64(3), int64(3), object(29)\nmemory usage: 14.5+ MB\n"
     ]
    }
   ],
   "source": [
    "df.info()"
   ]
  },
  {
   "cell_type": "code",
   "execution_count": 6,
   "metadata": {},
   "outputs": [
    {
     "output_type": "execute_result",
     "data": {
      "text/plain": [
       "verbal             41173\n",
       "telefonico         11260\n",
       "pagina web           600\n",
       "escrito              477\n",
       "chat                 253\n",
       "asesor remoto        189\n",
       "e-mail               147\n",
       "terminal sirius       23\n",
       "portal sac             5\n",
       "app                    1\n",
       "Name: forma_requerimiento, dtype: int64"
      ]
     },
     "metadata": {},
     "execution_count": 6
    }
   ],
   "source": [
    "df['forma_requerimiento'].value_counts()"
   ]
  },
  {
   "cell_type": "code",
   "execution_count": 7,
   "metadata": {},
   "outputs": [
    {
     "output_type": "execute_result",
     "data": {
      "text/plain": [
       "                        _id              ID forma_requerimiento  \\\n",
       "0  601180ac1d4f1829b8fafab3   PQR_202012_36          pagina web   \n",
       "1  601180ae1d4f1829b8fafb1c  PQR_202012_141          pagina web   \n",
       "2  601180ae1d4f1829b8fafbe3  PQR_202012_340          pagina web   \n",
       "\n",
       "   identificacion                      solicitante  \\\n",
       "0        21482505  GLORIA PATRICIA CASTAÑO RAMIREZ   \n",
       "1        18594889    JOSE ALEXANDER RAMIREZ RIVERA   \n",
       "2      1093216909                 ALEXANDER CORREA   \n",
       "\n",
       "                             dir_solicitante tipo_solicitud     cuenta  \\\n",
       "0          CRA 14 29 01 - BARRIO SIN DEFINIR       peticion  102046035   \n",
       "1      CLL 16 10 35 SUB - BARRIO SIN DEFINIR       peticion  104369423   \n",
       "2  CLL 13 14 30 APT 201 - BARRIO SIN DEFINIR        reclamo  108084591   \n",
       "\n",
       "  fec_solicitud fec_vencmto  ...   MUNICIPIO     TELEFONO      CELULAR  EMAIL  \\\n",
       "0    2020/12/01  2020/12/22  ...  Santa Rosa          NaN  3.13508e+09    NaN   \n",
       "1    2020/11/25  2020/12/16  ...  Santa Rosa    6.365e+07   3.1044e+09  False   \n",
       "2    2020/11/12  2020/12/03  ...  Santa Rosa  6.36421e+07  3.13686e+09    NaN   \n",
       "\n",
       "   CIRCUITO    NODO UBICACION CLASE_SERVICIO ANIOMES  Tipo fuente  \n",
       "0  HER23L15  D23109         U      Comercial  202012          PQR  \n",
       "1  HER23L12  D20366         U      Comercial  202012          PQR  \n",
       "2  HER23L13  D20605         U      Comercial  202012          PQR  \n",
       "\n",
       "[3 rows x 35 columns]"
      ],
      "text/html": "<div>\n<style scoped>\n    .dataframe tbody tr th:only-of-type {\n        vertical-align: middle;\n    }\n\n    .dataframe tbody tr th {\n        vertical-align: top;\n    }\n\n    .dataframe thead th {\n        text-align: right;\n    }\n</style>\n<table border=\"1\" class=\"dataframe\">\n  <thead>\n    <tr style=\"text-align: right;\">\n      <th></th>\n      <th>_id</th>\n      <th>ID</th>\n      <th>forma_requerimiento</th>\n      <th>identificacion</th>\n      <th>solicitante</th>\n      <th>dir_solicitante</th>\n      <th>tipo_solicitud</th>\n      <th>cuenta</th>\n      <th>fec_solicitud</th>\n      <th>fec_vencmto</th>\n      <th>...</th>\n      <th>MUNICIPIO</th>\n      <th>TELEFONO</th>\n      <th>CELULAR</th>\n      <th>EMAIL</th>\n      <th>CIRCUITO</th>\n      <th>NODO</th>\n      <th>UBICACION</th>\n      <th>CLASE_SERVICIO</th>\n      <th>ANIOMES</th>\n      <th>Tipo fuente</th>\n    </tr>\n  </thead>\n  <tbody>\n    <tr>\n      <th>0</th>\n      <td>601180ac1d4f1829b8fafab3</td>\n      <td>PQR_202012_36</td>\n      <td>pagina web</td>\n      <td>21482505</td>\n      <td>GLORIA PATRICIA CASTAÑO RAMIREZ</td>\n      <td>CRA 14 29 01 - BARRIO SIN DEFINIR</td>\n      <td>peticion</td>\n      <td>102046035</td>\n      <td>2020/12/01</td>\n      <td>2020/12/22</td>\n      <td>...</td>\n      <td>Santa Rosa</td>\n      <td>NaN</td>\n      <td>3.13508e+09</td>\n      <td>NaN</td>\n      <td>HER23L15</td>\n      <td>D23109</td>\n      <td>U</td>\n      <td>Comercial</td>\n      <td>202012</td>\n      <td>PQR</td>\n    </tr>\n    <tr>\n      <th>1</th>\n      <td>601180ae1d4f1829b8fafb1c</td>\n      <td>PQR_202012_141</td>\n      <td>pagina web</td>\n      <td>18594889</td>\n      <td>JOSE ALEXANDER RAMIREZ RIVERA</td>\n      <td>CLL 16 10 35 SUB - BARRIO SIN DEFINIR</td>\n      <td>peticion</td>\n      <td>104369423</td>\n      <td>2020/11/25</td>\n      <td>2020/12/16</td>\n      <td>...</td>\n      <td>Santa Rosa</td>\n      <td>6.365e+07</td>\n      <td>3.1044e+09</td>\n      <td>False</td>\n      <td>HER23L12</td>\n      <td>D20366</td>\n      <td>U</td>\n      <td>Comercial</td>\n      <td>202012</td>\n      <td>PQR</td>\n    </tr>\n    <tr>\n      <th>2</th>\n      <td>601180ae1d4f1829b8fafbe3</td>\n      <td>PQR_202012_340</td>\n      <td>pagina web</td>\n      <td>1093216909</td>\n      <td>ALEXANDER CORREA</td>\n      <td>CLL 13 14 30 APT 201 - BARRIO SIN DEFINIR</td>\n      <td>reclamo</td>\n      <td>108084591</td>\n      <td>2020/11/12</td>\n      <td>2020/12/03</td>\n      <td>...</td>\n      <td>Santa Rosa</td>\n      <td>6.36421e+07</td>\n      <td>3.13686e+09</td>\n      <td>NaN</td>\n      <td>HER23L13</td>\n      <td>D20605</td>\n      <td>U</td>\n      <td>Comercial</td>\n      <td>202012</td>\n      <td>PQR</td>\n    </tr>\n  </tbody>\n</table>\n<p>3 rows × 35 columns</p>\n</div>"
     },
     "metadata": {},
     "execution_count": 7
    }
   ],
   "source": [
    "df_test = pd.concat([df[df['forma_requerimiento']=='pagina web'], df[df['forma_requerimiento']=='e-mail']], ignore_index=True)\n",
    "df_test.head(3)"
   ]
  },
  {
   "cell_type": "code",
   "execution_count": 8,
   "metadata": {},
   "outputs": [
    {
     "output_type": "execute_result",
     "data": {
      "text/plain": [
       "peticion                                       467\n",
       "reclamo                                        104\n",
       "pedidos/proyectos                              101\n",
       "queja                                           43\n",
       "recurso reposicion en subsidio de apelacion     19\n",
       "recurso de reposicion                            7\n",
       "programa de financiacion social                  6\n",
       "Name: tipo_solicitud, dtype: int64"
      ]
     },
     "metadata": {},
     "execution_count": 8
    }
   ],
   "source": [
    "df_test['tipo_solicitud'].value_counts()"
   ]
  },
  {
   "cell_type": "code",
   "execution_count": 9,
   "metadata": {},
   "outputs": [],
   "source": [
    "df_test['tipo_solicitud'] = df_test['tipo_solicitud'].map(lambda x: 'recurso' if x=='recurso reposicion en subsidio de apelacion' or x=='recurso de reposicion' else x)\n",
    "df_test['tipo_solicitud'] = df_test['tipo_solicitud'].map(lambda x: 'peticion' if x=='programa de financiacion social' or x=='autogestion' else x)"
   ]
  },
  {
   "cell_type": "code",
   "execution_count": 10,
   "metadata": {},
   "outputs": [
    {
     "output_type": "execute_result",
     "data": {
      "text/plain": [
       "5"
      ]
     },
     "metadata": {},
     "execution_count": 10
    }
   ],
   "source": [
    "df_test['OBSERVACION USUARIO'] = df_test['OBSERVACION USUARIO'].map(lambda x: str(x))\n",
    "df_test['OBSERVACION USUARIO'] = df_test['OBSERVACION USUARIO'].map(lambda x: x.lower())\n",
    "len_obs_usuario = [(i, len(o)) for i, o in enumerate(df_test['OBSERVACION USUARIO'])]\n",
    "len_menor_x = [(i,o) for i, o in sorted(len_obs_usuario, key=lambda t: t[1]) if o <=20]\n",
    "index_menor_x = [i for i, o in len_menor_x]\n",
    "len(index_menor_x)"
   ]
  },
  {
   "cell_type": "code",
   "execution_count": 11,
   "metadata": {},
   "outputs": [
    {
     "output_type": "execute_result",
     "data": {
      "text/plain": [
       "peticion             473\n",
       "reclamo              104\n",
       "pedidos/proyectos    101\n",
       "queja                 43\n",
       "recurso               26\n",
       "Name: tipo_solicitud, dtype: int64"
      ]
     },
     "metadata": {},
     "execution_count": 11
    }
   ],
   "source": [
    "df_test['tipo_solicitud'].value_counts()"
   ]
  },
  {
   "cell_type": "code",
   "execution_count": 12,
   "metadata": {},
   "outputs": [
    {
     "output_type": "stream",
     "name": "stderr",
     "text": [
      "[nltk_data] Downloading package stopwords to\n[nltk_data]     C:\\Users\\juand\\AppData\\Roaming\\nltk_data...\n[nltk_data]   Package stopwords is already up-to-date!\n"
     ]
    }
   ],
   "source": [
    "text_nomalization = exec(open(\"C:\\DataLab\\datasets\\PQR\\pqr\\_text_nomalization.py\", 'rb').read())"
   ]
  },
  {
   "cell_type": "code",
   "execution_count": 13,
   "metadata": {},
   "outputs": [
    {
     "output_type": "execute_result",
     "data": {
      "text/plain": [
       "0      observaciones: con el fin de acceder a la exen...\n",
       "1            observaciones: exoneracion de contribucion \n",
       "2                                        consumo elevado\n",
       "3      observaciones: exoneración de contribución de ...\n",
       "4      observaciones: solicito la exoneracion de cont...\n",
       "                             ...                        \n",
       "742    tan amable me comparten una copia de la factur...\n",
       "743    de acuerdo a las observaciones realizadas por ...\n",
       "744    amablemente notificamos que el usuario consoli...\n",
       "745    adjunto documento para solicitud de factibilid...\n",
       "746        usuario solicita recibo de pago de proyectos.\n",
       "Name: OBSERVACION USUARIO, Length: 747, dtype: object"
      ]
     },
     "metadata": {},
     "execution_count": 13
    }
   ],
   "source": [
    "df_test['OBSERVACION USUARIO']"
   ]
  },
  {
   "cell_type": "code",
   "execution_count": 14,
   "metadata": {},
   "outputs": [
    {
     "output_type": "execute_result",
     "data": {
      "text/plain": [
       "'correcciones solicitud idema'"
      ]
     },
     "metadata": {},
     "execution_count": 14
    }
   ],
   "source": [
    "text_normalization(df_test['OBSERVACION USUARIO'][737])"
   ]
  },
  {
   "cell_type": "markdown",
   "metadata": {},
   "source": [
    "## Testeo del modelo de Peticiones"
   ]
  },
  {
   "source": [
    "Se extraeran los registros relacionados con las peticiones"
   ],
   "cell_type": "markdown",
   "metadata": {}
  },
  {
   "cell_type": "code",
   "execution_count": 17,
   "metadata": {},
   "outputs": [
    {
     "output_type": "execute_result",
     "data": {
      "text/plain": [
       "                        _id              ID forma_requerimiento  \\\n",
       "0  601180ac1d4f1829b8fafab3   PQR_202012_36          pagina web   \n",
       "1  601180ae1d4f1829b8fafb1c  PQR_202012_141          pagina web   \n",
       "3  601180af1d4f1829b8fafcc0  PQR_202012_561          pagina web   \n",
       "\n",
       "   identificacion                      solicitante  \\\n",
       "0        21482505  GLORIA PATRICIA CASTAÑO RAMIREZ   \n",
       "1        18594889    JOSE ALEXANDER RAMIREZ RIVERA   \n",
       "3      1053833735        JUAN FELIPE RESTREPO PEÑA   \n",
       "\n",
       "                         dir_solicitante tipo_solicitud     cuenta  \\\n",
       "0      CRA 14 29 01 - BARRIO SIN DEFINIR       peticion  102046035   \n",
       "1  CLL 16 10 35 SUB - BARRIO SIN DEFINIR       peticion  104369423   \n",
       "3      CRA 5 13A 22 - BARRIO SIN DEFINIR       peticion  113683768   \n",
       "\n",
       "  fec_solicitud fec_vencmto  ...   MUNICIPIO     TELEFONO      CELULAR  EMAIL  \\\n",
       "0    2020/12/01  2020/12/22  ...  Santa Rosa          NaN  3.13508e+09    NaN   \n",
       "1    2020/11/25  2020/12/16  ...  Santa Rosa    6.365e+07   3.1044e+09  False   \n",
       "3    2020/12/17  2021/01/11  ...   Chinchina  8.40013e+06  3.01332e+09  False   \n",
       "\n",
       "   CIRCUITO    NODO UBICACION CLASE_SERVICIO ANIOMES  Tipo fuente  \n",
       "0  HER23L15  D23109         U      Comercial  202012          PQR  \n",
       "1  HER23L12  D20366         U      Comercial  202012          PQR  \n",
       "3  CHA23L17  C40345         U      Comercial  202012          PQR  \n",
       "\n",
       "[3 rows x 35 columns]"
      ],
      "text/html": "<div>\n<style scoped>\n    .dataframe tbody tr th:only-of-type {\n        vertical-align: middle;\n    }\n\n    .dataframe tbody tr th {\n        vertical-align: top;\n    }\n\n    .dataframe thead th {\n        text-align: right;\n    }\n</style>\n<table border=\"1\" class=\"dataframe\">\n  <thead>\n    <tr style=\"text-align: right;\">\n      <th></th>\n      <th>_id</th>\n      <th>ID</th>\n      <th>forma_requerimiento</th>\n      <th>identificacion</th>\n      <th>solicitante</th>\n      <th>dir_solicitante</th>\n      <th>tipo_solicitud</th>\n      <th>cuenta</th>\n      <th>fec_solicitud</th>\n      <th>fec_vencmto</th>\n      <th>...</th>\n      <th>MUNICIPIO</th>\n      <th>TELEFONO</th>\n      <th>CELULAR</th>\n      <th>EMAIL</th>\n      <th>CIRCUITO</th>\n      <th>NODO</th>\n      <th>UBICACION</th>\n      <th>CLASE_SERVICIO</th>\n      <th>ANIOMES</th>\n      <th>Tipo fuente</th>\n    </tr>\n  </thead>\n  <tbody>\n    <tr>\n      <th>0</th>\n      <td>601180ac1d4f1829b8fafab3</td>\n      <td>PQR_202012_36</td>\n      <td>pagina web</td>\n      <td>21482505</td>\n      <td>GLORIA PATRICIA CASTAÑO RAMIREZ</td>\n      <td>CRA 14 29 01 - BARRIO SIN DEFINIR</td>\n      <td>peticion</td>\n      <td>102046035</td>\n      <td>2020/12/01</td>\n      <td>2020/12/22</td>\n      <td>...</td>\n      <td>Santa Rosa</td>\n      <td>NaN</td>\n      <td>3.13508e+09</td>\n      <td>NaN</td>\n      <td>HER23L15</td>\n      <td>D23109</td>\n      <td>U</td>\n      <td>Comercial</td>\n      <td>202012</td>\n      <td>PQR</td>\n    </tr>\n    <tr>\n      <th>1</th>\n      <td>601180ae1d4f1829b8fafb1c</td>\n      <td>PQR_202012_141</td>\n      <td>pagina web</td>\n      <td>18594889</td>\n      <td>JOSE ALEXANDER RAMIREZ RIVERA</td>\n      <td>CLL 16 10 35 SUB - BARRIO SIN DEFINIR</td>\n      <td>peticion</td>\n      <td>104369423</td>\n      <td>2020/11/25</td>\n      <td>2020/12/16</td>\n      <td>...</td>\n      <td>Santa Rosa</td>\n      <td>6.365e+07</td>\n      <td>3.1044e+09</td>\n      <td>False</td>\n      <td>HER23L12</td>\n      <td>D20366</td>\n      <td>U</td>\n      <td>Comercial</td>\n      <td>202012</td>\n      <td>PQR</td>\n    </tr>\n    <tr>\n      <th>3</th>\n      <td>601180af1d4f1829b8fafcc0</td>\n      <td>PQR_202012_561</td>\n      <td>pagina web</td>\n      <td>1053833735</td>\n      <td>JUAN FELIPE RESTREPO PEÑA</td>\n      <td>CRA 5 13A 22 - BARRIO SIN DEFINIR</td>\n      <td>peticion</td>\n      <td>113683768</td>\n      <td>2020/12/17</td>\n      <td>2021/01/11</td>\n      <td>...</td>\n      <td>Chinchina</td>\n      <td>8.40013e+06</td>\n      <td>3.01332e+09</td>\n      <td>False</td>\n      <td>CHA23L17</td>\n      <td>C40345</td>\n      <td>U</td>\n      <td>Comercial</td>\n      <td>202012</td>\n      <td>PQR</td>\n    </tr>\n  </tbody>\n</table>\n<p>3 rows × 35 columns</p>\n</div>"
     },
     "metadata": {},
     "execution_count": 17
    }
   ],
   "source": [
    "df_test_pet = df_test[df_test['tipo_solicitud']=='peticion']\n",
    "df_test_pet.head(3)"
   ]
  },
  {
   "cell_type": "code",
   "execution_count": 18,
   "metadata": {},
   "outputs": [
    {
     "output_type": "execute_result",
     "data": {
      "text/plain": [
       "473"
      ]
     },
     "metadata": {},
     "execution_count": 18
    }
   ],
   "source": [
    "len(df_test_pet)"
   ]
  },
  {
   "cell_type": "code",
   "execution_count": 19,
   "metadata": {},
   "outputs": [
    {
     "output_type": "stream",
     "name": "stdout",
     "text": [
      "<class 'pandas.core.frame.DataFrame'>\nInt64Index: 473 entries, 0 to 742\nData columns (total 35 columns):\n #   Column                 Non-Null Count  Dtype  \n---  ------                 --------------  -----  \n 0   _id                    473 non-null    object \n 1   ID                     473 non-null    object \n 2   forma_requerimiento    473 non-null    object \n 3   identificacion         473 non-null    int64  \n 4   solicitante            473 non-null    object \n 5   dir_solicitante        473 non-null    object \n 6   tipo_solicitud         473 non-null    object \n 7   cuenta                 473 non-null    int64  \n 8   fec_solicitud          473 non-null    object \n 9   fec_vencmto            473 non-null    object \n 10  fec_rpta               473 non-null    object \n 11  clase_inicial          0 non-null      float64\n 12  estrato                473 non-null    object \n 13  a_favor_de             473 non-null    object \n 14  tipo_solicitud_1       473 non-null    object \n 15  documento              0 non-null      float64\n 16  imputabilidad          473 non-null    object \n 17  causa_final            473 non-null    object \n 18  responde               473 non-null    object \n 19  observacion_respuesta  0 non-null      float64\n 20  OBSERVACION USUARIO    473 non-null    object \n 21  SEGMENTO               240 non-null    object \n 22  TIPO_DOC               473 non-null    object \n 23  NOMBRE                 473 non-null    object \n 24  DIRECCION              473 non-null    object \n 25  MUNICIPIO              473 non-null    object \n 26  TELEFONO               368 non-null    object \n 27  CELULAR                357 non-null    object \n 28  EMAIL                  115 non-null    object \n 29  CIRCUITO               468 non-null    object \n 30  NODO                   473 non-null    object \n 31  UBICACION              473 non-null    object \n 32  CLASE_SERVICIO         473 non-null    object \n 33  ANIOMES                473 non-null    int64  \n 34  Tipo fuente            473 non-null    object \ndtypes: float64(3), int64(3), object(29)\nmemory usage: 153.0+ KB\n"
     ]
    }
   ],
   "source": [
    "df_test_pet.info()"
   ]
  },
  {
   "cell_type": "code",
   "execution_count": 20,
   "metadata": {},
   "outputs": [
    {
     "output_type": "execute_result",
     "data": {
      "text/plain": [
       "exencion contribucion                                 173\n",
       "informacion general                                   113\n",
       "cambio de datos basicos                                78\n",
       "trabajos tecnicos en medidores, transformadores, a     23\n",
       "perjuicios por falla en la prestacion del servicio     20\n",
       "terminacion del contrato                               16\n",
       "gestionar financiacion                                  9\n",
       "poda de arboles                                         6\n",
       "devolucion o traslado de saldo a favor                  6\n",
       "requerimiento competencia de otra empresa               5\n",
       "condicion especial solicitud propietario                5\n",
       "cambio de uso                                           3\n",
       "emision de documento para pago                          3\n",
       "inscripcion, retiro o bloqueo de tarjeta pfs            3\n",
       "pago parcial                                            2\n",
       "suspension del servicio                                 2\n",
       "requerimientos entes oficiales o entidades externa      2\n",
       "retiro deuda no solidaria pfs                           1\n",
       "normalizar instalacion                                  1\n",
       "paz y salvo pfs                                         1\n",
       "reconocimiento seguro de vida deuda pfs                 1\n",
       "Name: tipo_solicitud_1, dtype: int64"
      ]
     },
     "metadata": {},
     "execution_count": 20
    }
   ],
   "source": [
    "df_test_pet['tipo_solicitud_1'].value_counts()"
   ]
  },
  {
   "cell_type": "code",
   "execution_count": 21,
   "metadata": {},
   "outputs": [],
   "source": [
    "df_test_pet['tipo_solicitud_1'] = df_test_pet['tipo_solicitud_1'].map(lambda x: 'otro' if x not in ['emision de documento para pago', 'pago parcial'] else x)"
   ]
  },
  {
   "cell_type": "code",
   "execution_count": 22,
   "metadata": {},
   "outputs": [
    {
     "output_type": "execute_result",
     "data": {
      "text/plain": [
       "otro                              468\n",
       "emision de documento para pago      3\n",
       "pago parcial                        2\n",
       "Name: tipo_solicitud_1, dtype: int64"
      ]
     },
     "metadata": {},
     "execution_count": 22
    }
   ],
   "source": [
    "df_test_pet['tipo_solicitud_1'].value_counts()"
   ]
  },
  {
   "cell_type": "markdown",
   "metadata": {},
   "source": [
    "A continuación se hará el testeo del model, vale la pena aclarar la estructura de este modelo:\n",
    "pipeline compuesto por:\n",
    "- extracción de características: TF-IDF con unigramas con un limite del 90% de frecuencia de palabras en registros y minimo palabras que estuvieran en 10 registros.\n",
    "- reducción de dimensiones: SVD reducida a 200 componentes.\n",
    "- clasificador: SVM con kernel lineal y un parámetro de regularización C=10"
   ]
  },
  {
   "cell_type": "code",
   "execution_count": 23,
   "metadata": {},
   "outputs": [],
   "source": [
    "import pickle\n",
    "peticion_clf = pickle.load(open('C:\\DataLab\\datasets\\PQR\\pqr\\LinearSCV_PQR_2_peticion.sav', 'rb'))"
   ]
  },
  {
   "cell_type": "code",
   "execution_count": 26,
   "metadata": {},
   "outputs": [
    {
     "output_type": "stream",
     "name": "stdout",
     "text": [
      "El accuracy en validación es de 0.989\n"
     ]
    }
   ],
   "source": [
    "from sklearn import metrics\n",
    "\n",
    "y_test = df_test_pet['tipo_solicitud_1']\n",
    "predictions = peticion_clf.predict(df_test_pet['OBSERVACION USUARIO'])\n",
    "\n",
    "test_acc = metrics.accuracy_score(y_test, predictions)\n",
    "\n",
    "print(f\"El accuracy en validación es de {round(test_acc, 3)}\")"
   ]
  },
  {
   "cell_type": "code",
   "execution_count": 27,
   "metadata": {},
   "outputs": [
    {
     "output_type": "stream",
     "name": "stdout",
     "text": [
      "                                precision    recall  f1-score   support\n\nemision de documento para pago       0.50      0.33      0.40         3\n                          otro       0.99      1.00      0.99       468\n                  pago parcial       0.00      0.00      0.00         2\n\n                      accuracy                           0.99       473\n                     macro avg       0.50      0.44      0.46       473\n                  weighted avg       0.98      0.99      0.99       473\n\n"
     ]
    }
   ],
   "source": [
    "print(metrics.classification_report(y_test, predictions))"
   ]
  },
  {
   "cell_type": "code",
   "execution_count": 28,
   "metadata": {},
   "outputs": [
    {
     "output_type": "stream",
     "name": "stdout",
     "text": [
      "Precisión del clasificador: 98.94 \n\nMatriz de Confusión: \n [[  1   2   0]\n [  1 467   0]\n [  0   2   0]]\n"
     ]
    },
    {
     "output_type": "execute_result",
     "data": {
      "text/plain": [
       "<AxesSubplot:>"
      ]
     },
     "metadata": {},
     "execution_count": 28
    },
    {
     "output_type": "display_data",
     "data": {
      "text/plain": "<Figure size 432x288 with 1 Axes>",
      "image/svg+xml": "<?xml version=\"1.0\" encoding=\"utf-8\" standalone=\"no\"?>\r\n<!DOCTYPE svg PUBLIC \"-//W3C//DTD SVG 1.1//EN\"\r\n  \"http://www.w3.org/Graphics/SVG/1.1/DTD/svg11.dtd\">\r\n<!-- Created with matplotlib (https://matplotlib.org/) -->\r\n<svg height=\"248.518125pt\" version=\"1.1\" viewBox=\"0 0 248.518125 248.518125\" width=\"248.518125pt\" xmlns=\"http://www.w3.org/2000/svg\" xmlns:xlink=\"http://www.w3.org/1999/xlink\">\r\n <metadata>\r\n  <rdf:RDF xmlns:cc=\"http://creativecommons.org/ns#\" xmlns:dc=\"http://purl.org/dc/elements/1.1/\" xmlns:rdf=\"http://www.w3.org/1999/02/22-rdf-syntax-ns#\">\r\n   <cc:Work>\r\n    <dc:type rdf:resource=\"http://purl.org/dc/dcmitype/StillImage\"/>\r\n    <dc:date>2021-02-26T08:32:55.768791</dc:date>\r\n    <dc:format>image/svg+xml</dc:format>\r\n    <dc:creator>\r\n     <cc:Agent>\r\n      <dc:title>Matplotlib v3.3.2, https://matplotlib.org/</dc:title>\r\n     </cc:Agent>\r\n    </dc:creator>\r\n   </cc:Work>\r\n  </rdf:RDF>\r\n </metadata>\r\n <defs>\r\n  <style type=\"text/css\">*{stroke-linecap:butt;stroke-linejoin:round;}</style>\r\n </defs>\r\n <g id=\"figure_1\">\r\n  <g id=\"patch_1\">\r\n   <path d=\"M 0 248.518125 \r\nL 248.518125 248.518125 \r\nL 248.518125 0 \r\nL 0 0 \r\nz\r\n\" style=\"fill:none;\"/>\r\n  </g>\r\n  <g id=\"axes_1\">\r\n   <g id=\"patch_2\">\r\n    <path d=\"M 23.878125 224.64 \r\nL 241.318125 224.64 \r\nL 241.318125 7.2 \r\nL 23.878125 7.2 \r\nz\r\n\" style=\"fill:#ffffff;\"/>\r\n   </g>\r\n   <g id=\"QuadMesh_1\">\r\n    <path clip-path=\"url(#pf995793c2c)\" d=\"M 23.878125 7.2 \r\nL 96.358125 7.2 \r\nL 96.358125 79.68 \r\nL 23.878125 79.68 \r\nL 23.878125 7.2 \r\n\" style=\"fill:#f7fbff;\"/>\r\n    <path clip-path=\"url(#pf995793c2c)\" d=\"M 96.358125 7.2 \r\nL 168.838125 7.2 \r\nL 168.838125 79.68 \r\nL 96.358125 79.68 \r\nL 96.358125 7.2 \r\n\" style=\"fill:#f6faff;\"/>\r\n    <path clip-path=\"url(#pf995793c2c)\" d=\"M 168.838125 7.2 \r\nL 241.318125 7.2 \r\nL 241.318125 79.68 \r\nL 168.838125 79.68 \r\nL 168.838125 7.2 \r\n\" style=\"fill:#f7fbff;\"/>\r\n    <path clip-path=\"url(#pf995793c2c)\" d=\"M 23.878125 79.68 \r\nL 96.358125 79.68 \r\nL 96.358125 152.16 \r\nL 23.878125 152.16 \r\nL 23.878125 79.68 \r\n\" style=\"fill:#f7fbff;\"/>\r\n    <path clip-path=\"url(#pf995793c2c)\" d=\"M 96.358125 79.68 \r\nL 168.838125 79.68 \r\nL 168.838125 152.16 \r\nL 96.358125 152.16 \r\nL 96.358125 79.68 \r\n\" style=\"fill:#08306b;\"/>\r\n    <path clip-path=\"url(#pf995793c2c)\" d=\"M 168.838125 79.68 \r\nL 241.318125 79.68 \r\nL 241.318125 152.16 \r\nL 168.838125 152.16 \r\nL 168.838125 79.68 \r\n\" style=\"fill:#f7fbff;\"/>\r\n    <path clip-path=\"url(#pf995793c2c)\" d=\"M 23.878125 152.16 \r\nL 96.358125 152.16 \r\nL 96.358125 224.64 \r\nL 23.878125 224.64 \r\nL 23.878125 152.16 \r\n\" style=\"fill:#f7fbff;\"/>\r\n    <path clip-path=\"url(#pf995793c2c)\" d=\"M 96.358125 152.16 \r\nL 168.838125 152.16 \r\nL 168.838125 224.64 \r\nL 96.358125 224.64 \r\nL 96.358125 152.16 \r\n\" style=\"fill:#f6faff;\"/>\r\n    <path clip-path=\"url(#pf995793c2c)\" d=\"M 168.838125 152.16 \r\nL 241.318125 152.16 \r\nL 241.318125 224.64 \r\nL 168.838125 224.64 \r\nL 168.838125 152.16 \r\n\" style=\"fill:#f7fbff;\"/>\r\n   </g>\r\n   <g id=\"matplotlib.axis_1\">\r\n    <g id=\"xtick_1\">\r\n     <g id=\"line2d_1\">\r\n      <defs>\r\n       <path d=\"M 0 0 \r\nL 0 3.5 \r\n\" id=\"m0c1f985edc\" style=\"stroke:#000000;stroke-width:0.8;\"/>\r\n      </defs>\r\n      <g>\r\n       <use style=\"stroke:#000000;stroke-width:0.8;\" x=\"60.118125\" xlink:href=\"#m0c1f985edc\" y=\"224.64\"/>\r\n      </g>\r\n     </g>\r\n     <g id=\"text_1\">\r\n      <!-- 0 -->\r\n      <g transform=\"translate(56.936875 239.238437)scale(0.1 -0.1)\">\r\n       <defs>\r\n        <path d=\"M 31.78125 66.40625 \r\nQ 24.171875 66.40625 20.328125 58.90625 \r\nQ 16.5 51.421875 16.5 36.375 \r\nQ 16.5 21.390625 20.328125 13.890625 \r\nQ 24.171875 6.390625 31.78125 6.390625 \r\nQ 39.453125 6.390625 43.28125 13.890625 \r\nQ 47.125 21.390625 47.125 36.375 \r\nQ 47.125 51.421875 43.28125 58.90625 \r\nQ 39.453125 66.40625 31.78125 66.40625 \r\nz\r\nM 31.78125 74.21875 \r\nQ 44.046875 74.21875 50.515625 64.515625 \r\nQ 56.984375 54.828125 56.984375 36.375 \r\nQ 56.984375 17.96875 50.515625 8.265625 \r\nQ 44.046875 -1.421875 31.78125 -1.421875 \r\nQ 19.53125 -1.421875 13.0625 8.265625 \r\nQ 6.59375 17.96875 6.59375 36.375 \r\nQ 6.59375 54.828125 13.0625 64.515625 \r\nQ 19.53125 74.21875 31.78125 74.21875 \r\nz\r\n\" id=\"DejaVuSans-48\"/>\r\n       </defs>\r\n       <use xlink:href=\"#DejaVuSans-48\"/>\r\n      </g>\r\n     </g>\r\n    </g>\r\n    <g id=\"xtick_2\">\r\n     <g id=\"line2d_2\">\r\n      <g>\r\n       <use style=\"stroke:#000000;stroke-width:0.8;\" x=\"132.598125\" xlink:href=\"#m0c1f985edc\" y=\"224.64\"/>\r\n      </g>\r\n     </g>\r\n     <g id=\"text_2\">\r\n      <!-- 1 -->\r\n      <g transform=\"translate(129.416875 239.238437)scale(0.1 -0.1)\">\r\n       <defs>\r\n        <path d=\"M 12.40625 8.296875 \r\nL 28.515625 8.296875 \r\nL 28.515625 63.921875 \r\nL 10.984375 60.40625 \r\nL 10.984375 69.390625 \r\nL 28.421875 72.90625 \r\nL 38.28125 72.90625 \r\nL 38.28125 8.296875 \r\nL 54.390625 8.296875 \r\nL 54.390625 0 \r\nL 12.40625 0 \r\nz\r\n\" id=\"DejaVuSans-49\"/>\r\n       </defs>\r\n       <use xlink:href=\"#DejaVuSans-49\"/>\r\n      </g>\r\n     </g>\r\n    </g>\r\n    <g id=\"xtick_3\">\r\n     <g id=\"line2d_3\">\r\n      <g>\r\n       <use style=\"stroke:#000000;stroke-width:0.8;\" x=\"205.078125\" xlink:href=\"#m0c1f985edc\" y=\"224.64\"/>\r\n      </g>\r\n     </g>\r\n     <g id=\"text_3\">\r\n      <!-- 2 -->\r\n      <g transform=\"translate(201.896875 239.238437)scale(0.1 -0.1)\">\r\n       <defs>\r\n        <path d=\"M 19.1875 8.296875 \r\nL 53.609375 8.296875 \r\nL 53.609375 0 \r\nL 7.328125 0 \r\nL 7.328125 8.296875 \r\nQ 12.9375 14.109375 22.625 23.890625 \r\nQ 32.328125 33.6875 34.8125 36.53125 \r\nQ 39.546875 41.84375 41.421875 45.53125 \r\nQ 43.3125 49.21875 43.3125 52.78125 \r\nQ 43.3125 58.59375 39.234375 62.25 \r\nQ 35.15625 65.921875 28.609375 65.921875 \r\nQ 23.96875 65.921875 18.8125 64.3125 \r\nQ 13.671875 62.703125 7.8125 59.421875 \r\nL 7.8125 69.390625 \r\nQ 13.765625 71.78125 18.9375 73 \r\nQ 24.125 74.21875 28.421875 74.21875 \r\nQ 39.75 74.21875 46.484375 68.546875 \r\nQ 53.21875 62.890625 53.21875 53.421875 \r\nQ 53.21875 48.921875 51.53125 44.890625 \r\nQ 49.859375 40.875 45.40625 35.40625 \r\nQ 44.1875 33.984375 37.640625 27.21875 \r\nQ 31.109375 20.453125 19.1875 8.296875 \r\nz\r\n\" id=\"DejaVuSans-50\"/>\r\n       </defs>\r\n       <use xlink:href=\"#DejaVuSans-50\"/>\r\n      </g>\r\n     </g>\r\n    </g>\r\n   </g>\r\n   <g id=\"matplotlib.axis_2\">\r\n    <g id=\"ytick_1\">\r\n     <g id=\"line2d_4\">\r\n      <defs>\r\n       <path d=\"M 0 0 \r\nL -3.5 0 \r\n\" id=\"m86a103b7f0\" style=\"stroke:#000000;stroke-width:0.8;\"/>\r\n      </defs>\r\n      <g>\r\n       <use style=\"stroke:#000000;stroke-width:0.8;\" x=\"23.878125\" xlink:href=\"#m86a103b7f0\" y=\"43.44\"/>\r\n      </g>\r\n     </g>\r\n     <g id=\"text_4\">\r\n      <!-- 0 -->\r\n      <g transform=\"translate(14.798438 46.003281)rotate(-90)scale(0.1 -0.1)\">\r\n       <use xlink:href=\"#DejaVuSans-48\"/>\r\n      </g>\r\n     </g>\r\n    </g>\r\n    <g id=\"ytick_2\">\r\n     <g id=\"line2d_5\">\r\n      <g>\r\n       <use style=\"stroke:#000000;stroke-width:0.8;\" x=\"23.878125\" xlink:href=\"#m86a103b7f0\" y=\"115.92\"/>\r\n      </g>\r\n     </g>\r\n     <g id=\"text_5\">\r\n      <!-- 1 -->\r\n      <g transform=\"translate(14.798438 118.483281)rotate(-90)scale(0.1 -0.1)\">\r\n       <use xlink:href=\"#DejaVuSans-49\"/>\r\n      </g>\r\n     </g>\r\n    </g>\r\n    <g id=\"ytick_3\">\r\n     <g id=\"line2d_6\">\r\n      <g>\r\n       <use style=\"stroke:#000000;stroke-width:0.8;\" x=\"23.878125\" xlink:href=\"#m86a103b7f0\" y=\"188.4\"/>\r\n      </g>\r\n     </g>\r\n     <g id=\"text_6\">\r\n      <!-- 2 -->\r\n      <g transform=\"translate(14.798438 190.963281)rotate(-90)scale(0.1 -0.1)\">\r\n       <use xlink:href=\"#DejaVuSans-50\"/>\r\n      </g>\r\n     </g>\r\n    </g>\r\n   </g>\r\n   <g id=\"text_7\">\r\n    <!-- 1 -->\r\n    <g style=\"fill:#262626;\" transform=\"translate(56.936875 46.199375)scale(0.1 -0.1)\">\r\n     <use xlink:href=\"#DejaVuSans-49\"/>\r\n    </g>\r\n   </g>\r\n   <g id=\"text_8\">\r\n    <!-- 2 -->\r\n    <g style=\"fill:#262626;\" transform=\"translate(129.416875 46.199375)scale(0.1 -0.1)\">\r\n     <use xlink:href=\"#DejaVuSans-50\"/>\r\n    </g>\r\n   </g>\r\n   <g id=\"text_9\">\r\n    <!-- 0 -->\r\n    <g style=\"fill:#262626;\" transform=\"translate(201.896875 46.199375)scale(0.1 -0.1)\">\r\n     <use xlink:href=\"#DejaVuSans-48\"/>\r\n    </g>\r\n   </g>\r\n   <g id=\"text_10\">\r\n    <!-- 1 -->\r\n    <g style=\"fill:#262626;\" transform=\"translate(56.936875 118.679375)scale(0.1 -0.1)\">\r\n     <use xlink:href=\"#DejaVuSans-49\"/>\r\n    </g>\r\n   </g>\r\n   <g id=\"text_11\">\r\n    <!-- 467 -->\r\n    <g style=\"fill:#ffffff;\" transform=\"translate(123.054375 118.679375)scale(0.1 -0.1)\">\r\n     <defs>\r\n      <path d=\"M 37.796875 64.3125 \r\nL 12.890625 25.390625 \r\nL 37.796875 25.390625 \r\nz\r\nM 35.203125 72.90625 \r\nL 47.609375 72.90625 \r\nL 47.609375 25.390625 \r\nL 58.015625 25.390625 \r\nL 58.015625 17.1875 \r\nL 47.609375 17.1875 \r\nL 47.609375 0 \r\nL 37.796875 0 \r\nL 37.796875 17.1875 \r\nL 4.890625 17.1875 \r\nL 4.890625 26.703125 \r\nz\r\n\" id=\"DejaVuSans-52\"/>\r\n      <path d=\"M 33.015625 40.375 \r\nQ 26.375 40.375 22.484375 35.828125 \r\nQ 18.609375 31.296875 18.609375 23.390625 \r\nQ 18.609375 15.53125 22.484375 10.953125 \r\nQ 26.375 6.390625 33.015625 6.390625 \r\nQ 39.65625 6.390625 43.53125 10.953125 \r\nQ 47.40625 15.53125 47.40625 23.390625 \r\nQ 47.40625 31.296875 43.53125 35.828125 \r\nQ 39.65625 40.375 33.015625 40.375 \r\nz\r\nM 52.59375 71.296875 \r\nL 52.59375 62.3125 \r\nQ 48.875 64.0625 45.09375 64.984375 \r\nQ 41.3125 65.921875 37.59375 65.921875 \r\nQ 27.828125 65.921875 22.671875 59.328125 \r\nQ 17.53125 52.734375 16.796875 39.40625 \r\nQ 19.671875 43.65625 24.015625 45.921875 \r\nQ 28.375 48.1875 33.59375 48.1875 \r\nQ 44.578125 48.1875 50.953125 41.515625 \r\nQ 57.328125 34.859375 57.328125 23.390625 \r\nQ 57.328125 12.15625 50.6875 5.359375 \r\nQ 44.046875 -1.421875 33.015625 -1.421875 \r\nQ 20.359375 -1.421875 13.671875 8.265625 \r\nQ 6.984375 17.96875 6.984375 36.375 \r\nQ 6.984375 53.65625 15.1875 63.9375 \r\nQ 23.390625 74.21875 37.203125 74.21875 \r\nQ 40.921875 74.21875 44.703125 73.484375 \r\nQ 48.484375 72.75 52.59375 71.296875 \r\nz\r\n\" id=\"DejaVuSans-54\"/>\r\n      <path d=\"M 8.203125 72.90625 \r\nL 55.078125 72.90625 \r\nL 55.078125 68.703125 \r\nL 28.609375 0 \r\nL 18.3125 0 \r\nL 43.21875 64.59375 \r\nL 8.203125 64.59375 \r\nz\r\n\" id=\"DejaVuSans-55\"/>\r\n     </defs>\r\n     <use xlink:href=\"#DejaVuSans-52\"/>\r\n     <use x=\"63.623047\" xlink:href=\"#DejaVuSans-54\"/>\r\n     <use x=\"127.246094\" xlink:href=\"#DejaVuSans-55\"/>\r\n    </g>\r\n   </g>\r\n   <g id=\"text_12\">\r\n    <!-- 0 -->\r\n    <g style=\"fill:#262626;\" transform=\"translate(201.896875 118.679375)scale(0.1 -0.1)\">\r\n     <use xlink:href=\"#DejaVuSans-48\"/>\r\n    </g>\r\n   </g>\r\n   <g id=\"text_13\">\r\n    <!-- 0 -->\r\n    <g style=\"fill:#262626;\" transform=\"translate(56.936875 191.159375)scale(0.1 -0.1)\">\r\n     <use xlink:href=\"#DejaVuSans-48\"/>\r\n    </g>\r\n   </g>\r\n   <g id=\"text_14\">\r\n    <!-- 2 -->\r\n    <g style=\"fill:#262626;\" transform=\"translate(129.416875 191.159375)scale(0.1 -0.1)\">\r\n     <use xlink:href=\"#DejaVuSans-50\"/>\r\n    </g>\r\n   </g>\r\n   <g id=\"text_15\">\r\n    <!-- 0 -->\r\n    <g style=\"fill:#262626;\" transform=\"translate(201.896875 191.159375)scale(0.1 -0.1)\">\r\n     <use xlink:href=\"#DejaVuSans-48\"/>\r\n    </g>\r\n   </g>\r\n  </g>\r\n </g>\r\n <defs>\r\n  <clipPath id=\"pf995793c2c\">\r\n   <rect height=\"217.44\" width=\"217.44\" x=\"23.878125\" y=\"7.2\"/>\r\n  </clipPath>\r\n </defs>\r\n</svg>\r\n",
      "image/png": "[encoded data removed]"
     },
     "metadata": {
      "needs_background": "light"
     }
    }
   ],
   "source": [
    "import seaborn as sns\n",
    "\n",
    "#Calculamos la precisión y mostramos la matriz de confusión\n",
    "acc = metrics.accuracy_score(y_test, predictions)\n",
    "mat = metrics.confusion_matrix(y_test, predictions)\n",
    "\n",
    "print (\"Precisión del clasificador: %.2f \" %(acc*100.0) )\n",
    "print (\"\\nMatriz de Confusión: \\n\", mat)\n",
    "\n",
    "#Esta es otra forma de ver la matriz de confusión\n",
    "sns.heatmap(mat, square=True, annot=True, fmt=\"d\", cbar=False, cmap=\"Blues\")"
   ]
  },
  {
   "cell_type": "code",
   "execution_count": 30,
   "metadata": {},
   "outputs": [
    {
     "output_type": "stream",
     "name": "stdout",
     "text": [
      "solicito copia del ultimo recibo de energía ya que la bodega fue entregada por nosotros a la inmobiliaria y empapelaron el recibo que debe ser pagado por nosotros. agradezco gestión. quedo atenta  \n\nbuena tarde. atentamente solicito a ustedes una copia de la factura de chec correspondiente al servicio de abril 3/2020 a mayo 4/2020. agradezco su atención y colaboración.  \n\n* por favor corregir la última factura ya que me llegó doble y yo cancelé la anterior, para poder realizar el pago virtual. adjunto factura anterior y soportes de pago. muchas gracias.  \n\n"
     ]
    }
   ],
   "source": [
    "for r in df_test_pet[df_test_pet['tipo_solicitud_1']=='emision de documento para pago']['OBSERVACION USUARIO']:\n",
    "    print(r, '\\n')\n"
   ]
  },
  {
   "cell_type": "code",
   "execution_count": 31,
   "metadata": {},
   "outputs": [
    {
     "output_type": "execute_result",
     "data": {
      "text/plain": [
       "array(['otro'], dtype=object)"
      ]
     },
     "metadata": {},
     "execution_count": 31
    }
   ],
   "source": [
    "peticion_clf.predict([text_normalization('solicito copia del ultimo recibo de energía ya que la bodega fue entregada por nosotros a la inmobiliaria y empapelaron el recibo que debe ser pagado por nosotros. agradezco gestión. quedo atenta')])"
   ]
  },
  {
   "cell_type": "code",
   "execution_count": 33,
   "metadata": {},
   "outputs": [
    {
     "output_type": "execute_result",
     "data": {
      "text/plain": [
       "array(['otro'], dtype=object)"
      ]
     },
     "metadata": {},
     "execution_count": 33
    }
   ],
   "source": [
    "peticion_clf.predict([text_normalization('buena tarde. atentamente solicito a ustedes una copia de la factura de chec correspondiente al servicio de abril 3/2020 a mayo 4/2020. agradezco su atención y colaboración.')])"
   ]
  },
  {
   "cell_type": "code",
   "execution_count": 34,
   "metadata": {},
   "outputs": [
    {
     "output_type": "execute_result",
     "data": {
      "text/plain": [
       "array(['otro'], dtype=object)"
      ]
     },
     "metadata": {},
     "execution_count": 34
    }
   ],
   "source": [
    "peticion_clf.predict([text_normalization('* por favor corregir la última factura ya que me llegó doble y yo cancelé la anterior, para poder realizar el pago virtual. adjunto factura anterior y soportes de pago. muchas gracias.')])"
   ]
  },
  {
   "cell_type": "code",
   "execution_count": 36,
   "metadata": {},
   "outputs": [
    {
     "output_type": "stream",
     "name": "stdout",
     "text": [
      "de acuerdo a radicado no. 20200220051883 petición realizada por pagina web, usuario solicita abono de la fra. por valor de 30.000. \n\nbuenas tardes lo que pasa es que nosotros somos arrendatarios y necesitamos pagar el servicio pero la factura del mes pasado no la pudimos pagar por motivos monetarios y requerimos pagar solo una factura pero al realizar el pago nos cobran las dos juntas que pudieramos hacer para cancelar una sola?  \n\n"
     ]
    }
   ],
   "source": [
    "for r in df_test_pet[df_test_pet['tipo_solicitud_1']=='pago parcial']['OBSERVACION USUARIO']:\n",
    "    print(r, '\\n')"
   ]
  },
  {
   "cell_type": "code",
   "execution_count": 37,
   "metadata": {},
   "outputs": [
    {
     "output_type": "execute_result",
     "data": {
      "text/plain": [
       "array(['otro'], dtype=object)"
      ]
     },
     "metadata": {},
     "execution_count": 37
    }
   ],
   "source": [
    "peticion_clf.predict([text_normalization('buenas tardes lo que pasa es que nosotros somos arrendatarios y necesitamos pagar el servicio pero la factura del mes pasado no la pudimos pagar por motivos monetarios y requerimos pagar solo una factura pero al realizar el pago nos cobran las dos juntas que pudieramos hacer para cancelar una sola?')])"
   ]
  },
  {
   "cell_type": "markdown",
   "metadata": {},
   "source": [
    "### Comentarios\n",
    "\n",
    "A pesar que el rendimiento en el test diga que es del 98% no clasifica las prioridas bien, eso quiere decir que no cumple realmente con la función que se busca de primera mano, que es clasificar por lo menos las prioridades. Se buscará afinar el modelo entrenado usando únicamente las PQR web e email."
   ]
  }
 ],
 "metadata": {
  "kernelspec": {
   "display_name": "Python 3",
   "language": "python",
   "name": "python3"
  },
  "language_info": {
   "codemirror_mode": {
    "name": "ipython",
    "version": 3
   },
   "file_extension": ".py",
   "mimetype": "text/x-python",
   "name": "python",
   "nbconvert_exporter": "python",
   "pygments_lexer": "ipython3",
   "version": "3.8.5-final"
  }
 },
 "nbformat": 4,
 "nbformat_minor": 4
}