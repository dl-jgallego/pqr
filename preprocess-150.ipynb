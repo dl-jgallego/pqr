{
 "cells": [
  {
   "cell_type": "code",
   "execution_count": 1,
   "metadata": {},
   "outputs": [],
   "source": [
    "## importamos las librerias\n",
    "##\n",
    "import pandas as pd\n",
    "import numpy as np"
   ]
  },
  {
   "cell_type": "code",
   "execution_count": 2,
   "metadata": {},
   "outputs": [
    {
     "name": "stderr",
     "output_type": "stream",
     "text": [
      "C:\\Users\\juand\\Anaconda3\\lib\\site-packages\\IPython\\core\\interactiveshell.py:3146: DtypeWarning: Columns (2,10,11,14,15,18,19,20,25,26) have mixed types.Specify dtype option on import or set low_memory=False.\n",
      "  has_raised = await self.run_ast_nodes(code_ast.body, cell_name,\n"
     ]
    }
   ],
   "source": [
    "df = pd.read_csv('PQRs_2018-nov2020.csv', sep=';', encoding='utf-8')"
   ]
  },
  {
   "cell_type": "code",
   "execution_count": 3,
   "metadata": {},
   "outputs": [
    {
     "data": {
      "text/html": [
       "<div>\n",
       "<style scoped>\n",
       "    .dataframe tbody tr th:only-of-type {\n",
       "        vertical-align: middle;\n",
       "    }\n",
       "\n",
       "    .dataframe tbody tr th {\n",
       "        vertical-align: top;\n",
       "    }\n",
       "\n",
       "    .dataframe thead th {\n",
       "        text-align: right;\n",
       "    }\n",
       "</style>\n",
       "<table border=\"1\" class=\"dataframe\">\n",
       "  <thead>\n",
       "    <tr style=\"text-align: right;\">\n",
       "      <th></th>\n",
       "      <th>ID</th>\n",
       "      <th>forma_requerimiento</th>\n",
       "      <th>identificacion</th>\n",
       "      <th>solicitante</th>\n",
       "      <th>dir_solicitante</th>\n",
       "      <th>tipo_solicitud</th>\n",
       "      <th>cuenta</th>\n",
       "      <th>fec_solicitud</th>\n",
       "      <th>fec_vencmto</th>\n",
       "      <th>fec_rpta</th>\n",
       "      <th>...</th>\n",
       "      <th>TELEFONO</th>\n",
       "      <th>CELULAR</th>\n",
       "      <th>EMAIL</th>\n",
       "      <th>CIRCUITO</th>\n",
       "      <th>NODO</th>\n",
       "      <th>UBICACION</th>\n",
       "      <th>CLASE_SERVICIO</th>\n",
       "      <th>ANIOMES</th>\n",
       "      <th>Tipo fuente</th>\n",
       "      <th>DOCUMENTO</th>\n",
       "    </tr>\n",
       "  </thead>\n",
       "  <tbody>\n",
       "    <tr>\n",
       "      <th>0</th>\n",
       "      <td>PQR_201901_1</td>\n",
       "      <td>verbal</td>\n",
       "      <td>25161887</td>\n",
       "      <td>OFIR DE MARIA CORREA CORREA</td>\n",
       "      <td>CRA 16 18 06</td>\n",
       "      <td>peticion</td>\n",
       "      <td>101202096</td>\n",
       "      <td>8/01/2019</td>\n",
       "      <td>28/01/2019</td>\n",
       "      <td>8/01/2019</td>\n",
       "      <td>...</td>\n",
       "      <td>NaN</td>\n",
       "      <td>3.00981e+09</td>\n",
       "      <td>NaN</td>\n",
       "      <td>HER23L12</td>\n",
       "      <td>D20299</td>\n",
       "      <td>U</td>\n",
       "      <td>Residencial</td>\n",
       "      <td>201901</td>\n",
       "      <td>PQR</td>\n",
       "      <td>NaN</td>\n",
       "    </tr>\n",
       "    <tr>\n",
       "      <th>1</th>\n",
       "      <td>PQR_201901_2</td>\n",
       "      <td>verbal</td>\n",
       "      <td>25155655</td>\n",
       "      <td>AURA ALICIA MEJIA CUERVO</td>\n",
       "      <td>CLL 19 15 74</td>\n",
       "      <td>peticion</td>\n",
       "      <td>101249151</td>\n",
       "      <td>4/01/2019</td>\n",
       "      <td>25/01/2019</td>\n",
       "      <td>4/01/2019</td>\n",
       "      <td>...</td>\n",
       "      <td>3.64131e+06</td>\n",
       "      <td>NaN</td>\n",
       "      <td>NaN</td>\n",
       "      <td>HER23L15</td>\n",
       "      <td>D23538</td>\n",
       "      <td>U</td>\n",
       "      <td>Residencial</td>\n",
       "      <td>201901</td>\n",
       "      <td>PQR</td>\n",
       "      <td>NaN</td>\n",
       "    </tr>\n",
       "    <tr>\n",
       "      <th>2</th>\n",
       "      <td>PQR_201901_3</td>\n",
       "      <td>verbal</td>\n",
       "      <td>25161763</td>\n",
       "      <td>AMPARO  QUICENO GARCIA</td>\n",
       "      <td>CLL 20 15 15 PSO 2</td>\n",
       "      <td>peticion</td>\n",
       "      <td>101274963</td>\n",
       "      <td>16/01/2019</td>\n",
       "      <td>5/02/2019</td>\n",
       "      <td>16/01/2019</td>\n",
       "      <td>...</td>\n",
       "      <td>NaN</td>\n",
       "      <td>3.11739e+09</td>\n",
       "      <td>NaN</td>\n",
       "      <td>HER23L15</td>\n",
       "      <td>D23553</td>\n",
       "      <td>U</td>\n",
       "      <td>Residencial</td>\n",
       "      <td>201901</td>\n",
       "      <td>PQR</td>\n",
       "      <td>NaN</td>\n",
       "    </tr>\n",
       "  </tbody>\n",
       "</table>\n",
       "<p>3 rows × 35 columns</p>\n",
       "</div>"
      ],
      "text/plain": [
       "             ID forma_requerimiento identificacion  \\\n",
       "0  PQR_201901_1              verbal       25161887   \n",
       "1  PQR_201901_2              verbal       25155655   \n",
       "2  PQR_201901_3              verbal       25161763   \n",
       "\n",
       "                   solicitante     dir_solicitante tipo_solicitud     cuenta  \\\n",
       "0  OFIR DE MARIA CORREA CORREA        CRA 16 18 06       peticion  101202096   \n",
       "1     AURA ALICIA MEJIA CUERVO        CLL 19 15 74       peticion  101249151   \n",
       "2       AMPARO  QUICENO GARCIA  CLL 20 15 15 PSO 2       peticion  101274963   \n",
       "\n",
       "  fec_solicitud fec_vencmto    fec_rpta  ...     TELEFONO      CELULAR EMAIL  \\\n",
       "0     8/01/2019  28/01/2019   8/01/2019  ...          NaN  3.00981e+09   NaN   \n",
       "1     4/01/2019  25/01/2019   4/01/2019  ...  3.64131e+06          NaN   NaN   \n",
       "2    16/01/2019   5/02/2019  16/01/2019  ...          NaN  3.11739e+09   NaN   \n",
       "\n",
       "   CIRCUITO    NODO UBICACION CLASE_SERVICIO ANIOMES Tipo fuente DOCUMENTO  \n",
       "0  HER23L12  D20299         U    Residencial  201901         PQR       NaN  \n",
       "1  HER23L15  D23538         U    Residencial  201901         PQR       NaN  \n",
       "2  HER23L15  D23553         U    Residencial  201901         PQR       NaN  \n",
       "\n",
       "[3 rows x 35 columns]"
      ]
     },
     "execution_count": 3,
     "metadata": {},
     "output_type": "execute_result"
    }
   ],
   "source": [
    "df.head(3)"
   ]
  },
  {
   "cell_type": "code",
   "execution_count": 4,
   "metadata": {},
   "outputs": [
    {
     "name": "stdout",
     "output_type": "stream",
     "text": [
      "<class 'pandas.core.frame.DataFrame'>\n",
      "RangeIndex: 650175 entries, 0 to 650174\n",
      "Data columns (total 35 columns):\n",
      " #   Column                 Non-Null Count   Dtype  \n",
      "---  ------                 --------------   -----  \n",
      " 0   ID                     650175 non-null  object \n",
      " 1   forma_requerimiento    650174 non-null  object \n",
      " 2   identificacion         650153 non-null  object \n",
      " 3   solicitante            650098 non-null  object \n",
      " 4   dir_solicitante        650145 non-null  object \n",
      " 5   tipo_solicitud         650175 non-null  object \n",
      " 6   cuenta                 650175 non-null  int64  \n",
      " 7   fec_solicitud          650175 non-null  object \n",
      " 8   fec_vencmto            650175 non-null  object \n",
      " 9   fec_rpta               650175 non-null  object \n",
      " 10  clase_inicial          343509 non-null  object \n",
      " 11  estrato                650175 non-null  object \n",
      " 12  a_favor_de             650175 non-null  object \n",
      " 13  tipo_solicitud_1       650175 non-null  object \n",
      " 14  documento              262317 non-null  object \n",
      " 15  imputabilidad          543926 non-null  object \n",
      " 16  causa_final            648554 non-null  object \n",
      " 17  responde               649381 non-null  object \n",
      " 18  OBSERVACION USUARIO    486116 non-null  object \n",
      " 19  observacion_respuesta  343838 non-null  object \n",
      " 20  SEGMENTO               552506 non-null  object \n",
      " 21  TIPO_DOC               650139 non-null  object \n",
      " 22  NOMBRE                 650139 non-null  object \n",
      " 23  DIRECCION              650139 non-null  object \n",
      " 24  MUNICIPIO              650139 non-null  object \n",
      " 25  TELEFONO               410091 non-null  object \n",
      " 26  CELULAR                471157 non-null  object \n",
      " 27  EMAIL                  35446 non-null   object \n",
      " 28  CIRCUITO               649042 non-null  object \n",
      " 29  NODO                   650138 non-null  object \n",
      " 30  UBICACION              650138 non-null  object \n",
      " 31  CLASE_SERVICIO         650138 non-null  object \n",
      " 32  ANIOMES                650175 non-null  int64  \n",
      " 33  Tipo fuente            650175 non-null  object \n",
      " 34  DOCUMENTO              106239 non-null  float64\n",
      "dtypes: float64(1), int64(2), object(32)\n",
      "memory usage: 173.6+ MB\n"
     ]
    }
   ],
   "source": [
    "df.info()"
   ]
  },
  {
   "cell_type": "code",
   "execution_count": 5,
   "metadata": {},
   "outputs": [
    {
     "data": {
      "text/plain": [
       "650175"
      ]
     },
     "execution_count": 5,
     "metadata": {},
     "output_type": "execute_result"
    }
   ],
   "source": [
    "## cantidad total de filas\n",
    "## \n",
    "len(df)"
   ]
  },
  {
   "cell_type": "code",
   "execution_count": 6,
   "metadata": {},
   "outputs": [],
   "source": [
    "df_copy = df.copy()"
   ]
  },
  {
   "cell_type": "code",
   "execution_count": 7,
   "metadata": {},
   "outputs": [
    {
     "data": {
      "text/plain": [
       "False    486116\n",
       "True     164059\n",
       "Name: OBSERVACION USUARIO, dtype: int64"
      ]
     },
     "execution_count": 7,
     "metadata": {},
     "output_type": "execute_result"
    }
   ],
   "source": [
    "## Eliminacion de NaN\n",
    "## según esto no hay na\n",
    "df_copy['OBSERVACION USUARIO'].isna().value_counts()"
   ]
  },
  {
   "cell_type": "code",
   "execution_count": 9,
   "metadata": {},
   "outputs": [],
   "source": [
    "## Eliminacion de elementos sin sentido\n",
    "##\n",
    "df_copy['OBSERVACION USUARIO'] = df_copy['OBSERVACION USUARIO'].map(lambda x: str(x))\n",
    "df_copy['OBSERVACION USUARIO'] = df_copy['OBSERVACION USUARIO'].map(lambda x: x.lower())\n",
    "len_obs_usuario = [(i, len(o)) for i, o in enumerate(df_copy['OBSERVACION USUARIO'])]"
   ]
  },
  {
   "cell_type": "code",
   "execution_count": 11,
   "metadata": {},
   "outputs": [],
   "source": [
    "#sorted(len_obs_usuario, key= lambda t: t[1],reverse=True)"
   ]
  },
  {
   "cell_type": "code",
   "execution_count": 10,
   "metadata": {},
   "outputs": [
    {
     "data": {
      "text/plain": [
       "'yo jorge hernán jaramillo identificado con cc 9845387 y en mi calidad de abogado defensor del señor gilberto díaz mendieta identificado con cc 1209029 les informo el señor mencionado anteriormente está en un proceso ante la defensoría por ser un adulto mayor de 92 años en pobreza extrema quién tiene un nivel de sisben 1 y recibe un subsidio del gobierno con el sudsisye ya que no posse ningún otro tipo de ingreso, el señor está a la espera de una visita para una reestratificacion, para bajar su nivel socioeconómico ya que figura por el barrio pero el señor en realidad no debe tener este estrato poreso la defensoría quién fue al inmueble y verifico la situación encontró 2 personas en pobreza extrema uno de ellos paciente oxigeno dependiente y con un proceso de demanda por fraude y abuso de confianza de su vecino, el fallo de esta demanda está para el 10 de noviembre, la defensoría decide que por ningún motivo pueden suspender servicio en este predio ya que sería buena liar un derecho de '"
      ]
     },
     "execution_count": 10,
     "metadata": {},
     "output_type": "execute_result"
    }
   ],
   "source": [
    "## ejemplo de una de las observaciones mas largas (incluso está cortada)\n",
    "## es posible que solo esten habilitados a tomar PQR con max len = 1000\n",
    "df_copy['OBSERVACION USUARIO'][201189]"
   ]
  },
  {
   "cell_type": "code",
   "execution_count": 11,
   "metadata": {},
   "outputs": [
    {
     "data": {
      "text/plain": [
       "'traslado por competencia de la superintendencia de servicios públicos domiciliarios radicada bajo el número 20205291453942 del 21/07/2020 presentada por el señor jeferzzon sebastián donde manifiesta su inconformidad por los cobros tan excesivos durante este año periodos de feb (03/02/20 - 03/03/20) mar (03/03/20-02/04/20) abr (02/04/20-04/05/20) may (04/05/20-03/06/20) jun (03/06/20-03/07/20)  dice que le parece injusto pagar tres valores más alto de lo que normalmente pagaban, solicita que le revisen el contador, el servicio y así mismo que se realice el respectivo descuento por la alzas, autoriza notificación al correo electrónico henaojeferzzon@gmail.com'"
      ]
     },
     "execution_count": 11,
     "metadata": {},
     "output_type": "execute_result"
    }
   ],
   "source": [
    "## ejemplo de una observacion larga completa\n",
    "##\n",
    "df_copy['OBSERVACION USUARIO'][569518]"
   ]
  },
  {
   "cell_type": "code",
   "execution_count": 12,
   "metadata": {},
   "outputs": [],
   "source": [
    "df_copy['len_obs'] = df_copy['OBSERVACION USUARIO'].map(lambda x: len(x))"
   ]
  },
  {
   "cell_type": "code",
   "execution_count": 13,
   "metadata": {},
   "outputs": [
    {
     "data": {
      "text/plain": [
       "count    650175.000000\n",
       "mean         51.912857\n",
       "std          60.619666\n",
       "min           1.000000\n",
       "25%           3.000000\n",
       "50%          41.000000\n",
       "75%          76.000000\n",
       "max        1000.000000\n",
       "Name: len_obs, dtype: float64"
      ]
     },
     "execution_count": 13,
     "metadata": {},
     "output_type": "execute_result"
    }
   ],
   "source": [
    "df_copy['len_obs'].describe()"
   ]
  },
  {
   "cell_type": "code",
   "execution_count": null,
   "metadata": {},
   "outputs": [],
   "source": [
    "## ------> PLOT HERE <-------"
   ]
  },
  {
   "cell_type": "code",
   "execution_count": 14,
   "metadata": {},
   "outputs": [
    {
     "name": "stdout",
     "output_type": "stream",
     "text": [
      "954 es el numero de observaciones se sobrepasan los 500 caracteres, equivalente a un 0.0015%\n"
     ]
    }
   ],
   "source": [
    "count = 0\n",
    "for l in df_copy['len_obs']:\n",
    "    if l >=500:\n",
    "        count += 1\n",
    "print(f\"{count} es el numero de observaciones se sobrepasan los 500 caracteres, equivalente a un \"\n",
    "     f\"{round(count/len(df_copy), 4)}%\")"
   ]
  },
  {
   "cell_type": "code",
   "execution_count": 15,
   "metadata": {},
   "outputs": [],
   "source": [
    "## Eliminacion de elementos sin sentido\n",
    "## lista con las observaciones que tengan una longitud de observación menor a\n",
    "## x caracteres.\n",
    "##\n",
    "len_menor_x = [(i,o) for i, o in sorted(len_obs_usuario, key=lambda t: t[1]) if o <=4]\n",
    "index_menor_x = [i for i, o in len_menor_x]"
   ]
  },
  {
   "cell_type": "code",
   "execution_count": 16,
   "metadata": {},
   "outputs": [
    {
     "data": {
      "text/plain": [
       "164505"
      ]
     },
     "execution_count": 16,
     "metadata": {},
     "output_type": "execute_result"
    }
   ],
   "source": [
    "len(index_menor_x)"
   ]
  },
  {
   "cell_type": "code",
   "execution_count": 17,
   "metadata": {},
   "outputs": [],
   "source": [
    "## Eliminacion elementos sin sentido\n",
    "## se guardan las observaciones para ver de que se tratan\n",
    "##\n",
    "len_menor_x_obs = [df_copy['OBSERVACION USUARIO'][i] for i, o in len_menor_x]"
   ]
  },
  {
   "cell_type": "code",
   "execution_count": 18,
   "metadata": {},
   "outputs": [],
   "source": [
    "## Eliminacion elementos sin sentido\n",
    "## se procede a eliminarlas\n",
    "##\n",
    "df_copy.drop(index_menor_x, inplace=True)"
   ]
  },
  {
   "cell_type": "code",
   "execution_count": 19,
   "metadata": {},
   "outputs": [],
   "source": [
    "## Eliminacion elementos sin sentido\n",
    "## Se comprueba que se hayan eliminado\n",
    "##\n",
    "len(df_copy)\n",
    "df_copy = df_copy.reset_index(drop=True)\n",
    "len_obs_usuario = [(i, len(o)) for i, o in enumerate(df_copy['OBSERVACION USUARIO'])]"
   ]
  },
  {
   "cell_type": "code",
   "execution_count": 20,
   "metadata": {},
   "outputs": [],
   "source": [
    "## exploremos las observaciones \"significativas\" que tengan un len >= 150\n",
    "##\n",
    "obs_significativas = []\n",
    "for t, o in len_obs_usuario:\n",
    "    if o >= 150:\n",
    "        obs_significativas.append((t, o))"
   ]
  },
  {
   "cell_type": "code",
   "execution_count": 21,
   "metadata": {},
   "outputs": [
    {
     "name": "stdout",
     "output_type": "stream",
     "text": [
      "Se hará un primer acercamiento considerando unicamente observacions con 150 caracteres delongitud. Esto arroja un total de 31096 observaciones\n"
     ]
    }
   ],
   "source": [
    "print(f\"Se hará un primer acercamiento considerando unicamente observacions con 150 caracteres de\"\n",
    "     f\"longitud. Esto arroja un total de {len(obs_significativas)} observaciones\")\n",
    "# sorted(obs_significativas, key=lambda x: x[1])\n",
    "# df_copy['OBSERVACION USUARIO'][10472]"
   ]
  },
  {
   "cell_type": "code",
   "execution_count": 32,
   "metadata": {},
   "outputs": [],
   "source": [
    "## Se crea un nuevo df con las observaciones de len 150\n",
    "##\n",
    "tipo_solicitud = []\n",
    "for t, o in obs_significativas:\n",
    "    tipo_solicitud.append(df_copy['tipo_solicitud'][t])\n",
    "tipo_solicitud_1 = []\n",
    "for t, o in obs_significativas:\n",
    "    tipo_solicitud_1.append(df_copy['tipo_solicitud_1'][t])\n",
    "obs = []\n",
    "for t, o in obs_significativas:\n",
    "    obs.append(df_copy['OBSERVACION USUARIO'][t])\n",
    "\n",
    "df_150 = pd.DataFrame(list(zip(tipo_solicitud,tipo_solicitud_1,obs)),\n",
    "                     columns=['tipo_solicitud','tipo_solicitud_1', 'obs'])"
   ]
  },
  {
   "cell_type": "code",
   "execution_count": 33,
   "metadata": {},
   "outputs": [
    {
     "data": {
      "text/html": [
       "<div>\n",
       "<style scoped>\n",
       "    .dataframe tbody tr th:only-of-type {\n",
       "        vertical-align: middle;\n",
       "    }\n",
       "\n",
       "    .dataframe tbody tr th {\n",
       "        vertical-align: top;\n",
       "    }\n",
       "\n",
       "    .dataframe thead th {\n",
       "        text-align: right;\n",
       "    }\n",
       "</style>\n",
       "<table border=\"1\" class=\"dataframe\">\n",
       "  <thead>\n",
       "    <tr style=\"text-align: right;\">\n",
       "      <th></th>\n",
       "      <th>tipo_solicitud</th>\n",
       "      <th>tipo_solicitud_1</th>\n",
       "      <th>obs</th>\n",
       "    </tr>\n",
       "  </thead>\n",
       "  <tbody>\n",
       "    <tr>\n",
       "      <th>0</th>\n",
       "      <td>reclamo</td>\n",
       "      <td>inconformidad con el consumo o produccion fact...</td>\n",
       "      <td>revisión completa. coordinar visita a el cel: ...</td>\n",
       "    </tr>\n",
       "    <tr>\n",
       "      <th>1</th>\n",
       "      <td>reclamo</td>\n",
       "      <td>inconformidad con el consumo o produccion fact...</td>\n",
       "      <td>revisión completa. acuerdo de cita al 31322364...</td>\n",
       "    </tr>\n",
       "    <tr>\n",
       "      <th>2</th>\n",
       "      <td>peticion</td>\n",
       "      <td>informacion general</td>\n",
       "      <td>mercurio 20180220019743-registrador municipal ...</td>\n",
       "    </tr>\n",
       "    <tr>\n",
       "      <th>3</th>\n",
       "      <td>peticion</td>\n",
       "      <td>poda de arboles</td>\n",
       "      <td>realizar poda // coordinar visita al cel:30061...</td>\n",
       "    </tr>\n",
       "    <tr>\n",
       "      <th>4</th>\n",
       "      <td>peticion</td>\n",
       "      <td>pago de la factura de otro usuario</td>\n",
       "      <td>solicita que el valor de $22920 pagados en la ...</td>\n",
       "    </tr>\n",
       "    <tr>\n",
       "      <th>...</th>\n",
       "      <td>...</td>\n",
       "      <td>...</td>\n",
       "      <td>...</td>\n",
       "    </tr>\n",
       "    <tr>\n",
       "      <th>31091</th>\n",
       "      <td>reclamo</td>\n",
       "      <td>inconformidad con el consumo o produccion factura</td>\n",
       "      <td>* oficio anexo...solicito se de  una explicaci...</td>\n",
       "    </tr>\n",
       "    <tr>\n",
       "      <th>31092</th>\n",
       "      <td>peticion</td>\n",
       "      <td>trabajos tecnicos en medidores, transformadore...</td>\n",
       "      <td>leer oficio. usuario solicita retiro separació...</td>\n",
       "    </tr>\n",
       "    <tr>\n",
       "      <th>31093</th>\n",
       "      <td>reclamo</td>\n",
       "      <td>inconformidad con el consumo o produccion factura</td>\n",
       "      <td>usuaria solicita revisión de la factura compre...</td>\n",
       "    </tr>\n",
       "    <tr>\n",
       "      <th>31094</th>\n",
       "      <td>reclamo</td>\n",
       "      <td>inconformidad con el consumo o produccion factura</td>\n",
       "      <td>solicita revisión por incremento en el consumo...</td>\n",
       "    </tr>\n",
       "    <tr>\n",
       "      <th>31095</th>\n",
       "      <td>reclamo</td>\n",
       "      <td>inconformidad con el consumo o produccion factura</td>\n",
       "      <td>solicita verificación pues considera que los c...</td>\n",
       "    </tr>\n",
       "  </tbody>\n",
       "</table>\n",
       "<p>31096 rows × 3 columns</p>\n",
       "</div>"
      ],
      "text/plain": [
       "      tipo_solicitud                                   tipo_solicitud_1  \\\n",
       "0            reclamo  inconformidad con el consumo o produccion fact...   \n",
       "1            reclamo  inconformidad con el consumo o produccion fact...   \n",
       "2           peticion                                informacion general   \n",
       "3           peticion                                    poda de arboles   \n",
       "4           peticion                 pago de la factura de otro usuario   \n",
       "...              ...                                                ...   \n",
       "31091        reclamo  inconformidad con el consumo o produccion factura   \n",
       "31092       peticion  trabajos tecnicos en medidores, transformadore...   \n",
       "31093        reclamo  inconformidad con el consumo o produccion factura   \n",
       "31094        reclamo  inconformidad con el consumo o produccion factura   \n",
       "31095        reclamo  inconformidad con el consumo o produccion factura   \n",
       "\n",
       "                                                     obs  \n",
       "0      revisión completa. coordinar visita a el cel: ...  \n",
       "1      revisión completa. acuerdo de cita al 31322364...  \n",
       "2      mercurio 20180220019743-registrador municipal ...  \n",
       "3      realizar poda // coordinar visita al cel:30061...  \n",
       "4      solicita que el valor de $22920 pagados en la ...  \n",
       "...                                                  ...  \n",
       "31091  * oficio anexo...solicito se de  una explicaci...  \n",
       "31092  leer oficio. usuario solicita retiro separació...  \n",
       "31093  usuaria solicita revisión de la factura compre...  \n",
       "31094  solicita revisión por incremento en el consumo...  \n",
       "31095  solicita verificación pues considera que los c...  \n",
       "\n",
       "[31096 rows x 3 columns]"
      ]
     },
     "execution_count": 33,
     "metadata": {},
     "output_type": "execute_result"
    }
   ],
   "source": [
    "## Tenemos el df nuevo\n",
    "df_150"
   ]
  },
  {
   "cell_type": "code",
   "execution_count": 35,
   "metadata": {},
   "outputs": [
    {
     "data": {
      "text/plain": [
       "reclamo                                        14821\n",
       "peticion                                       11157\n",
       "queja                                           2995\n",
       "pedidos/proyectos                               1465\n",
       "programa de financiacion social                  343\n",
       "recurso reposicion en subsidio de apelacion      219\n",
       "recurso de reposicion                             96\n",
       "Name: tipo_solicitud, dtype: int64"
      ]
     },
     "execution_count": 35,
     "metadata": {},
     "output_type": "execute_result"
    }
   ],
   "source": [
    "## Veamos los tipos de solicitudes nivel 1\n",
    "##\n",
    "df_150['tipo_solicitud'].value_counts()"
   ]
  },
  {
   "cell_type": "code",
   "execution_count": 36,
   "metadata": {},
   "outputs": [],
   "source": [
    "## Vamos a depurar estos tipos de solicitudes.\n",
    "##\n",
    "df_150['tipo_solicitud'] = df_150['tipo_solicitud'].map(lambda x: 'recurso' if x=='recurso reposicion en subsidio de apelacion' or x=='recurso de reposicion' else x)\n",
    "df_150['tipo_solicitud'] = df_150['tipo_solicitud'].map(lambda x: 'peticion' if x=='programa de financiacion social' or x=='autogestion' else x)"
   ]
  },
  {
   "cell_type": "code",
   "execution_count": 37,
   "metadata": {},
   "outputs": [
    {
     "data": {
      "text/plain": [
       "reclamo              14821\n",
       "peticion             11500\n",
       "queja                 2995\n",
       "pedidos/proyectos     1465\n",
       "recurso                315\n",
       "Name: tipo_solicitud, dtype: int64"
      ]
     },
     "execution_count": 37,
     "metadata": {},
     "output_type": "execute_result"
    }
   ],
   "source": [
    "## Validamos el cambio\n",
    "##\n",
    "df_150['tipo_solicitud'].value_counts()"
   ]
  },
  {
   "cell_type": "code",
   "execution_count": 40,
   "metadata": {},
   "outputs": [
    {
     "name": "stdout",
     "output_type": "stream",
     "text": [
      "reclamo: \n",
      "\n",
      "tipo_solicitud_1                                      \n",
      "inconformidad con el consumo o produccion factura         10655\n",
      "inconformidad con el consumo o produccion facturado        2765\n",
      "cobros por conexion, reconexion, reinstalacion              295\n",
      "cobro de cargos relacionados con el servicio publi          216\n",
      "pago sin abono a cuenta                                     190\n",
      "cobros por promedio                                         176\n",
      "cobro por recuperacion de consumos                           67\n",
      "cobro de otros bienes o servicios en la factura              59\n",
      "cobro de cargos relacionados con el servicio publico         45\n",
      "cobro desconocido                                            42\n",
      "cobro multiple y/o acumulado                                 40\n",
      "subsidios y contribuciones                                   40\n",
      "estrato incorrecto                                           32\n",
      "tarifa incorrecta                                            29\n",
      "cobro de otros bienes y servicios en la factura              25\n",
      "cobro de acuerdo de pago o financiacion                      20\n",
      "cobros inoportunos                                           18\n",
      "cobro de medidor                                             18\n",
      "cobro de revisiones                                          17\n",
      "clase de uso incorrecto                                      16\n",
      "solicitud de rompimiento de solidaridad                      15\n",
      "cobros por servicios no prestados                            14\n",
      "inconformidad con el aforo                                   10\n",
      "inconformidad por cobros por normalizacion del ser           10\n",
      "inconformidad por cobros por normalizacion del sevicio        7\n",
      "dtype: int64\n",
      "\n",
      "\n",
      "peticion: \n",
      "\n",
      "tipo_solicitud_1                                            \n",
      "cambio de datos basicos                                         2248\n",
      "informacion general                                             1503\n",
      "trabajos tecnicos en med, trafos, acometidas o en infraestr.    1488\n",
      "cambio datos basicos                                            1193\n",
      "trabajos tecnicos en medidores, transformadores, a               894\n",
      "                                                                ... \n",
      "tramite recurso de queja sspd                                      3\n",
      "modificar cobros de terceros                                       2\n",
      "certificado deuda pfs                                              1\n",
      "restitucion de tierras                                             1\n",
      "actualizacion por habeas data                                      1\n",
      "Length: 63, dtype: int64\n",
      "\n",
      "\n",
      "queja: \n",
      "\n",
      "tipo_solicitud_1                                                \n",
      "entrega inoportuna o no entrega de la factura                       561\n",
      "falla en la prestacion del servicio por continuida                  495\n",
      "inconformidad trabajos                                              422\n",
      "falla en la prestacion del servicio por calidad                     268\n",
      "falla en la prestacion del servicio por continuidad                 224\n",
      "demora en reparar dano                                              195\n",
      "inconformidad con la informacion                                    179\n",
      "inconformidad con el canal de atencion                              122\n",
      "comportamiento funcionario (trabajador-contra)                       95\n",
      "suspension o corte del servicio                                      89\n",
      "comportamiento funcionario, trabajador o contratista                 64\n",
      "demora en atender peticion                                           55\n",
      "incumplimiento de la revision en las fechas establecidas             48\n",
      "incumplimiento revision en las fechas establ                         43\n",
      "inconformidad por la programacion de interrupciones del servicio     32\n",
      "inconformidad punto de venta y/o recaudo                             30\n",
      "inconformidad por la programacion de interrupcione                   19\n",
      "no conexion del servicio                                             15\n",
      "inadecuada disposicion de residuos                                   10\n",
      "levantamiento de desechos vegetales                                   8\n",
      "estado de la infraestructura                                          7\n",
      "afectacion ambiental                                                  4\n",
      "inconformidad venta portafolio                                        2\n",
      "no se genera factura para una instalacion                             2\n",
      "inconformidad en la atencion de condiciones de seg                    2\n",
      "cambio de medidor o equipo de medida                                  2\n",
      "manejo de fauna y flora                                               1\n",
      "inconformidad en la atencion de condiciones de seguridad o riesg      1\n",
      "dtype: int64\n",
      "\n",
      "\n",
      "recurso: \n",
      "\n",
      "tipo_solicitud_1                                  \n",
      "inconformidad con el consumo o produccion facturad    263\n",
      "envio de expedientes sspd                              10\n",
      "cobro por recuperacion de consumos                     10\n",
      "otros motivos de recurso                                5\n",
      "cobro de otros bienes o servicios en la factura         5\n",
      "negacion del servicio                                   4\n",
      "cobros inoportunos                                      4\n",
      "solicitud de rompimiento de solidaridad                 3\n",
      "subsidios y contribuciones                              2\n",
      "pago sin abono a cuenta                                 2\n",
      "inconformidad por cobros por normalizacion del ser      2\n",
      "cobro de cargos relacionados con el servicio publi      2\n",
      "tarifa incorrecta                                       1\n",
      "cobros por promedio                                     1\n",
      "clase de uso incorrecto                                 1\n",
      "dtype: int64\n",
      "\n",
      "\n",
      "pedidos/proyectos: \n",
      "\n",
      "tipo_solicitud_1                               \n",
      "portafolio trabajos a terceros con cotizacion      559\n",
      "portafolio instalaciones sin cotizacion            546\n",
      "provisional a definitivo                           131\n",
      "solicitud factibilidad del servicio                 67\n",
      "cambio de sistema                                   38\n",
      "seguimiento de provisionales                        30\n",
      "solicitud de interventoria                          24\n",
      "revision de proyectos electricos nivel ii y iii     12\n",
      "solicitud viabilidad compra/donacion activos        11\n",
      "solicitud cambio de comercializador (exporta)       11\n",
      "solicitudes otc                                      6\n",
      "portafolio mantenimiento con cotizacion              6\n",
      "solicitud participacion expansion                    5\n",
      "cancelacion de provisional                           4\n",
      "portafolio habilitacion vivienda                     3\n",
      "conexion del servicio                                2\n",
      "visita puesta en servicio                            2\n",
      "reformas                                             2\n",
      "observacion a la factibilidad                        1\n",
      "liquidacion de conexos proyectos                     1\n",
      "contrato compra / donacion activos                   1\n",
      "portafolio diseno y construccion con cotizacion      1\n",
      "revision de proyectos electricos nivel i             1\n",
      "cambio de comercializador                            1\n",
      "dtype: int64\n",
      "\n",
      "\n"
     ]
    }
   ],
   "source": [
    "tipos_solicitud_unicos = df_150['tipo_solicitud'].unique().tolist()\n",
    "for s in tipos_solicitud_unicos:\n",
    "    print(f\"{s}: \\n\")\n",
    "    print(df_150[df_150['tipo_solicitud']==s][['tipo_solicitud_1']].value_counts())\n",
    "    print(\"\\n\")\n",
    "    \n",
    "## Con esta mochada de caracteres no se tiene encuenta otro tipo de solicitudes que \n",
    "## tambien eran muy comunes "
   ]
  },
  {
   "cell_type": "code",
   "execution_count": 41,
   "metadata": {},
   "outputs": [
    {
     "data": {
      "text/plain": [
       "['actualizacion por habeas data',\n",
       " 'aplicacion beneficio propiedad o venta de activos',\n",
       " 'cambio datos basicos',\n",
       " 'cambio de datos basicos',\n",
       " 'cambio de plazo en la financiacion pfs',\n",
       " 'cambio de uso',\n",
       " 'certificado deuda pfs',\n",
       " 'condicion especial por solicitud del propietario',\n",
       " 'condicion especial solicitud propietario',\n",
       " 'dano en equipo electrico',\n",
       " 'danos en equipo electrico',\n",
       " 'descongelados covid-19',\n",
       " 'desenergizacion de infraestructura',\n",
       " 'devolucion o traslado de saldo a favor',\n",
       " 'devolucion y/o copia de documentos',\n",
       " 'direccion incorrecta',\n",
       " 'direccion incorrecta ',\n",
       " 'emision de documento para pago',\n",
       " 'estado deuda pfs',\n",
       " 'exencion contribucion',\n",
       " 'facturacion a la fecha',\n",
       " 'garantias pfs',\n",
       " 'gestionar financiacion',\n",
       " 'informacion general',\n",
       " 'inscripcion, retiro o bloqueo de tarjeta pfs',\n",
       " 'instalacion con consumos bajos',\n",
       " 'liquidacion de conexos',\n",
       " 'modificacion de infraest por incumplimiento de distancias de seg',\n",
       " 'modificacion de infraestructura por incumplimiento',\n",
       " 'modificar cobros de terceros',\n",
       " 'normalizar instalacion',\n",
       " 'normalizar instalacion consumos bajos',\n",
       " 'pago de la factura de otro usuario',\n",
       " 'pago parcial',\n",
       " 'paz y salvo pfs',\n",
       " 'perjuicios por falla en la prestacion del servicio',\n",
       " 'plazo para pago',\n",
       " 'poda de arboles',\n",
       " 'reclamacion extemporanea o agotada la via administ',\n",
       " 'reconexion',\n",
       " 'reconocimiento seguro de vida deuda pfs',\n",
       " 'refinanciacion por mora pfs',\n",
       " 'reinstalacion',\n",
       " 'requerimiento competencia de otra empresa',\n",
       " 'requerimientos entes oficiales o entidades externa',\n",
       " 'requerimientos entes oficiales o entidades externas',\n",
       " 'requerimientos sspd o sic',\n",
       " 'restitucion de tierras',\n",
       " 'retiro deuda no solidaria pfs',\n",
       " 'revision presunto sap',\n",
       " 'revision, mtto, remodelacion o expansion a.p',\n",
       " 'separacion temporal o pago dirigido',\n",
       " 'solicitud constancia lectura',\n",
       " 'soportes de la financiacion pfs',\n",
       " 'suspension del servicio',\n",
       " 'tarjeta somos (pfs)',\n",
       " 'terminacion del contrato',\n",
       " 'trabajos tecnicos en med, trafos, acometidas o en infraestr.',\n",
       " 'trabajos tecnicos en medidores, transformadores, a',\n",
       " 'tramite recurso de queja sspd',\n",
       " 'traslado de deuda',\n",
       " 'traslado deuda\\xa0 pfs',\n",
       " 'valores congelados']"
      ]
     },
     "execution_count": 41,
     "metadata": {},
     "output_type": "execute_result"
    }
   ],
   "source": [
    "sorted(df_150[df_150['tipo_solicitud']=='peticion']['tipo_solicitud_1'].unique().tolist())"
   ]
  },
  {
   "cell_type": "code",
   "execution_count": 124,
   "metadata": {},
   "outputs": [],
   "source": [
    "## hay un monton de tipos de solicitudes nivel 2 que realmente son las mismas\n",
    "## ej: 'revision, mntto, remodelacion o expansion infraestruc. a.p.' ==  'revision, mtto, remodelacion o expansion a.p'\n",
    "## vamos a estandarizar esto.\n",
    "##"
   ]
  },
  {
   "cell_type": "code",
   "execution_count": 43,
   "metadata": {},
   "outputs": [],
   "source": [
    "import Levenshtein as lev"
   ]
  },
  {
   "cell_type": "code",
   "execution_count": 126,
   "metadata": {},
   "outputs": [],
   "source": [
    "## -- ERASE THIS --\n",
    "ensayo = sorted(df_copy[df_copy['tipo_solicitud']=='peticion']['tipo_solicitud_1'].unique().tolist())"
   ]
  },
  {
   "cell_type": "code",
   "execution_count": 127,
   "metadata": {},
   "outputs": [
    {
     "name": "stdout",
     "output_type": "stream",
     "text": [
      "('actualizacion por habeas data', 'aplicacion beneficio propiedad de activos')\n",
      "('aplicacion beneficio propiedad de activos', 'aplicacion beneficio propiedad o venta de activos')\n",
      "('aplicacion beneficio propiedad o venta de activos', 'caducar financiacion')\n",
      "('caducar financiacion', 'cambio datos basicos')\n",
      "('cambio datos basicos', 'cambio de datos basicos')\n",
      "('cambio de datos basicos', 'cambio de plazo en la financiacion pfs')\n",
      "('cambio de plazo en la financiacion pfs', 'cambio de uso')\n",
      "('cambio de uso', 'certificado deuda pfs')\n",
      "('certificado deuda pfs', 'condicion especial por solicitud del propietario')\n",
      "('condicion especial por solicitud del propietario', 'condicion especial solicitud propietario')\n",
      "('condicion especial solicitud propietario', 'dano en equipo electrico')\n",
      "('dano en equipo electrico', 'danos en equipo electrico')\n",
      "('danos en equipo electrico', 'datos basicos')\n",
      "('datos basicos', 'denuncia de contrato de arrendamiento')\n",
      "('denuncia de contrato de arrendamiento', 'descongelados covid-19')\n",
      "('descongelados covid-19', 'desenergizacion de infraestructura')\n",
      "('desenergizacion de infraestructura', 'devolucion o traslado de saldo a favor')\n",
      "('devolucion o traslado de saldo a favor', 'devolucion y/o copia de documentos')\n",
      "('devolucion y/o copia de documentos', 'direccion incorrecta')\n",
      "('direccion incorrecta', 'direccion incorrecta ')\n",
      "('direccion incorrecta ', 'emision de documento para pago')\n",
      "('emision de documento para pago', 'estado deuda pfs')\n",
      "('estado deuda pfs', 'exencion contribucion')\n",
      "('exencion contribucion', 'facturacion a la fecha')\n",
      "('facturacion a la fecha', 'garantias pfs')\n",
      "('garantias pfs', 'gestion interna')\n",
      "('gestion interna', 'gestionar financiacion')\n",
      "('gestionar financiacion', 'informacion general')\n",
      "('informacion general', 'inscripcion, retiro o bloqueo de tarjeta pfs')\n",
      "('inscripcion, retiro o bloqueo de tarjeta pfs', 'instalacion con consumos bajos')\n",
      "('instalacion con consumos bajos', 'liquidacion de conexos')\n",
      "('liquidacion de conexos', 'modificacion de infraest por incumplimiento de distancias de seg')\n",
      "('modificacion de infraest por incumplimiento de distancias de seg', 'modificacion de infraestructura por incumplimiento')\n",
      "('modificacion de infraestructura por incumplimiento', 'modificar cobros de terceros')\n",
      "('modificar cobros de terceros', 'normalizar instalacion')\n",
      "('normalizar instalacion', 'normalizar instalacion consumos bajos')\n",
      "('normalizar instalacion consumos bajos', 'notificacion decision y/o descargos')\n",
      "('notificacion decision y/o descargos', 'notificaciones y/o descargos')\n",
      "('notificaciones y/o descargos', 'pago de la factura de otro usuario')\n",
      "('pago de la factura de otro usuario', 'pago parcial')\n",
      "('pago parcial', 'paz y salvo pfs')\n",
      "('paz y salvo pfs', 'perjuicios por falla en la prestacion del servicio')\n",
      "('perjuicios por falla en la prestacion del servicio', 'plazo para pago')\n",
      "('plazo para pago', 'poda de arboles')\n",
      "('poda de arboles', 'portafolio instalaciones sin cotizacion')\n",
      "('portafolio instalaciones sin cotizacion', 'reclamacion extemporanea o agotada la via administ')\n",
      "('reclamacion extemporanea o agotada la via administ', 'reconexion')\n",
      "('reconexion', 'reconocimiento seguro de vida deuda pfs')\n",
      "('reconocimiento seguro de vida deuda pfs', 'refinanciacion por mora pfs')\n",
      "('refinanciacion por mora pfs', 'reinstalacion')\n",
      "('reinstalacion', 'requerimiento competencia de otra empresa')\n",
      "('requerimiento competencia de otra empresa', 'requerimientos entes oficiales o entidades externa')\n",
      "('requerimientos entes oficiales o entidades externa', 'requerimientos entes oficiales o entidades externas')\n",
      "('requerimientos entes oficiales o entidades externas', 'requerimientos sspd o sic')\n",
      "('requerimientos sspd o sic', 'restitucion de tierras')\n",
      "('restitucion de tierras', 'retiro deuda no solidaria pfs')\n",
      "('retiro deuda no solidaria pfs', 'revision presunto sap')\n",
      "('revision presunto sap', 'revision, mntto, remodelacion o expansion infraestruc. a.p.')\n",
      "('revision, mntto, remodelacion o expansion infraestruc. a.p.', 'revision, mtto, remodelacion o expansion a.p')\n",
      "('revision, mtto, remodelacion o expansion a.p', 'separacion temporal o pago dirigido')\n",
      "('separacion temporal o pago dirigido', 'solicitud constancia lectura')\n",
      "('solicitud constancia lectura', 'soportes de la financiacion pfs')\n",
      "('soportes de la financiacion pfs', 'suspension del servicio')\n",
      "('suspension del servicio', 'tarjeta somos (pfs)')\n",
      "('tarjeta somos (pfs)', 'terminacion del contrato')\n",
      "('terminacion del contrato', 'trabajos tecnicos en med, trafos, acometidas o en infraestr.')\n",
      "('trabajos tecnicos en med, trafos, acometidas o en infraestr.', 'trabajos tecnicos en medidores, transformadores, a')\n",
      "('trabajos tecnicos en medidores, transformadores, a', 'tramite recurso de queja sspd')\n",
      "('tramite recurso de queja sspd', 'traslado de deuda')\n",
      "('traslado de deuda', 'traslado deuda\\xa0 pfs')\n",
      "('traslado deuda\\xa0 pfs', 'valores congelados')\n"
     ]
    }
   ],
   "source": [
    "## -- ERASE THIS --\n",
    "for i in range(len(ensayo)-1):\n",
    "    a = ensayo[i]\n",
    "    b = ensayo[i+1]\n",
    "    print((a, b))"
   ]
  },
  {
   "cell_type": "code",
   "execution_count": 128,
   "metadata": {},
   "outputs": [
    {
     "data": {
      "text/plain": [
       "['aplicacion beneficio propiedad de activos',\n",
       " 'caducar financiacion',\n",
       " 'cambio datos basicos',\n",
       " 'cambio de plazo en la financiacion pfs',\n",
       " 'cambio de uso',\n",
       " 'certificado deuda pfs',\n",
       " 'condicion especial por solicitud del propietario',\n",
       " 'dano en equipo electrico',\n",
       " 'datos basicos',\n",
       " 'denuncia de contrato de arrendamiento',\n",
       " 'descongelados covid-19',\n",
       " 'desenergizacion de infraestructura',\n",
       " 'devolucion o traslado de saldo a favor',\n",
       " 'devolucion y/o copia de documentos',\n",
       " 'direccion incorrecta',\n",
       " 'emision de documento para pago',\n",
       " 'estado deuda pfs',\n",
       " 'exencion contribucion',\n",
       " 'facturacion a la fecha',\n",
       " 'garantias pfs',\n",
       " 'gestion interna',\n",
       " 'gestionar financiacion',\n",
       " 'informacion general',\n",
       " 'inscripcion, retiro o bloqueo de tarjeta pfs',\n",
       " 'instalacion con consumos bajos',\n",
       " 'liquidacion de conexos',\n",
       " 'modificacion de infraest por incumplimiento de distancias de seg',\n",
       " 'modificar cobros de terceros',\n",
       " 'normalizar instalacion',\n",
       " 'normalizar instalacion consumos bajos',\n",
       " 'notificacion decision y/o descargos',\n",
       " 'pago de la factura de otro usuario',\n",
       " 'pago parcial',\n",
       " 'paz y salvo pfs',\n",
       " 'perjuicios por falla en la prestacion del servicio',\n",
       " 'plazo para pago',\n",
       " 'poda de arboles',\n",
       " 'portafolio instalaciones sin cotizacion',\n",
       " 'reclamacion extemporanea o agotada la via administ',\n",
       " 'reconexion',\n",
       " 'reconocimiento seguro de vida deuda pfs',\n",
       " 'refinanciacion por mora pfs',\n",
       " 'reinstalacion',\n",
       " 'requerimiento competencia de otra empresa',\n",
       " 'requerimientos entes oficiales o entidades externa',\n",
       " 'requerimientos sspd o sic',\n",
       " 'restitucion de tierras',\n",
       " 'retiro deuda no solidaria pfs',\n",
       " 'revision presunto sap',\n",
       " 'revision, mntto, remodelacion o expansion infraestruc. a.p.',\n",
       " 'separacion temporal o pago dirigido',\n",
       " 'solicitud constancia lectura',\n",
       " 'soportes de la financiacion pfs',\n",
       " 'suspension del servicio',\n",
       " 'tarjeta somos (pfs)',\n",
       " 'terminacion del contrato',\n",
       " 'trabajos tecnicos en med, trafos, acometidas o en infraestr.',\n",
       " 'trabajos tecnicos en medidores, transformadores, a',\n",
       " 'tramite recurso de queja sspd',\n",
       " 'traslado de deuda',\n",
       " 'valores congelados']"
      ]
     },
     "execution_count": 128,
     "metadata": {},
     "output_type": "execute_result"
    }
   ],
   "source": [
    "## -- ERASE THIS --\n",
    "## Primer paso\n",
    "##\n",
    "xyz = []\n",
    "for i in range(len(ensayo) - 1):\n",
    "        a = ensayo[i]\n",
    "        b = ensayo[i+1]\n",
    "        ratio = lev.ratio(a, b)\n",
    "        if ratio >= 0.75:\n",
    "            if a not in xyz:\n",
    "                xyz.append(a)\n",
    "        else:\n",
    "            if b not in xyz:\n",
    "                xyz.append(b)\n",
    "xyz"
   ]
  },
  {
   "cell_type": "code",
   "execution_count": 44,
   "metadata": {},
   "outputs": [],
   "source": [
    "tipo_sol_nv2_p = []\n",
    "tipo_sol_nv2_r = []\n",
    "tipo_sol_nv2_pro = []\n",
    "tipo_sol_nv2_q = []\n",
    "tipo_sol_nv2_rso = []\n",
    "for s in tipos_solicitud_unicos:\n",
    "    temp = sorted(df_150[df_150['tipo_solicitud']==s]['tipo_solicitud_1'].unique().tolist())\n",
    "    for i in range(len(temp) - 1):\n",
    "        a = temp[i]\n",
    "        b = temp[i+1]\n",
    "        ratio = lev.ratio(a, b)\n",
    "        if ratio >= 0.75:\n",
    "            if s == 'peticion':\n",
    "                if a not in tipo_sol_nv2_p:\n",
    "                    tipo_sol_nv2_p.append(a)\n",
    "            elif s == 'reclamo':\n",
    "                if a not in tipo_sol_nv2_r:\n",
    "                    tipo_sol_nv2_r.append(a)\n",
    "            elif s == 'pedidos/proyectos':\n",
    "                if a not in tipo_sol_nv2_pro:\n",
    "                    tipo_sol_nv2_pro.append(a)\n",
    "            elif s == 'queja':\n",
    "                if a not in tipo_sol_nv2_q:\n",
    "                    tipo_sol_nv2_q.append(a)\n",
    "            else:\n",
    "                if a not in tipo_sol_nv2_rso:\n",
    "                    tipo_sol_nv2_rso.append(a)\n",
    "        else:\n",
    "            if s == 'peticion':\n",
    "                if b not in tipo_sol_nv2_p:\n",
    "                    tipo_sol_nv2_p.append(b)\n",
    "            elif s == 'reclamo':\n",
    "                if b not in tipo_sol_nv2_r:\n",
    "                    tipo_sol_nv2_r.append(b)\n",
    "            elif s == 'pedidos/proyectos':\n",
    "                if b not in tipo_sol_nv2_pro:\n",
    "                    tipo_sol_nv2_pro.append(b)\n",
    "            elif s == 'queja':\n",
    "                if b not in tipo_sol_nv2_q:\n",
    "                    tipo_sol_nv2_q.append(b)\n",
    "            else:\n",
    "                if b not in tipo_sol_nv2_rso:\n",
    "                    tipo_sol_nv2_rso.append(b)"
   ]
  },
  {
   "cell_type": "code",
   "execution_count": 59,
   "metadata": {},
   "outputs": [
    {
     "data": {
      "text/plain": [
       "63"
      ]
     },
     "execution_count": 59,
     "metadata": {},
     "output_type": "execute_result"
    }
   ],
   "source": [
    "len(sorted(df_150[df_150['tipo_solicitud']=='peticion']['tipo_solicitud_1'].unique().tolist()))"
   ]
  },
  {
   "cell_type": "code",
   "execution_count": 60,
   "metadata": {},
   "outputs": [
    {
     "data": {
      "text/plain": [
       "55"
      ]
     },
     "execution_count": 60,
     "metadata": {},
     "output_type": "execute_result"
    }
   ],
   "source": [
    "len(tipo_sol_nv2_p)"
   ]
  },
  {
   "cell_type": "code",
   "execution_count": 47,
   "metadata": {},
   "outputs": [
    {
     "data": {
      "text/plain": [
       "['actualizacion por habeas data',\n",
       " 'aplicacion beneficio propiedad o venta de activos',\n",
       " 'cambio datos basicos',\n",
       " 'cambio de plazo en la financiacion pfs',\n",
       " 'cambio de uso',\n",
       " 'certificado deuda pfs',\n",
       " 'condicion especial por solicitud del propietario',\n",
       " 'dano en equipo electrico',\n",
       " 'descongelados covid-19',\n",
       " 'desenergizacion de infraestructura',\n",
       " 'devolucion o traslado de saldo a favor',\n",
       " 'devolucion y/o copia de documentos',\n",
       " 'direccion incorrecta',\n",
       " 'emision de documento para pago',\n",
       " 'estado deuda pfs',\n",
       " 'exencion contribucion',\n",
       " 'facturacion a la fecha',\n",
       " 'garantias pfs',\n",
       " 'gestionar financiacion',\n",
       " 'informacion general',\n",
       " 'inscripcion, retiro o bloqueo de tarjeta pfs',\n",
       " 'instalacion con consumos bajos',\n",
       " 'liquidacion de conexos',\n",
       " 'modificacion de infraest por incumplimiento de distancias de seg',\n",
       " 'modificar cobros de terceros',\n",
       " 'normalizar instalacion',\n",
       " 'normalizar instalacion consumos bajos',\n",
       " 'pago de la factura de otro usuario',\n",
       " 'pago parcial',\n",
       " 'paz y salvo pfs',\n",
       " 'perjuicios por falla en la prestacion del servicio',\n",
       " 'plazo para pago',\n",
       " 'poda de arboles',\n",
       " 'reclamacion extemporanea o agotada la via administ',\n",
       " 'reconexion',\n",
       " 'reconocimiento seguro de vida deuda pfs',\n",
       " 'refinanciacion por mora pfs',\n",
       " 'reinstalacion',\n",
       " 'requerimiento competencia de otra empresa',\n",
       " 'requerimientos entes oficiales o entidades externa',\n",
       " 'requerimientos sspd o sic',\n",
       " 'restitucion de tierras',\n",
       " 'retiro deuda no solidaria pfs',\n",
       " 'revision presunto sap',\n",
       " 'revision, mtto, remodelacion o expansion a.p',\n",
       " 'separacion temporal o pago dirigido',\n",
       " 'solicitud constancia lectura',\n",
       " 'soportes de la financiacion pfs',\n",
       " 'suspension del servicio',\n",
       " 'tarjeta somos (pfs)',\n",
       " 'terminacion del contrato',\n",
       " 'trabajos tecnicos en med, trafos, acometidas o en infraestr.',\n",
       " 'trabajos tecnicos en medidores, transformadores, a',\n",
       " 'tramite recurso de queja sspd',\n",
       " 'traslado de deuda',\n",
       " 'valores congelados']"
      ]
     },
     "execution_count": 47,
     "metadata": {},
     "output_type": "execute_result"
    }
   ],
   "source": [
    "tipo_sol_nv2_p.append('actualizacion por habeas data')\n",
    "tipo_sol_nv2_p = sorted(tipo_sol_nv2_p)\n",
    "tipo_sol_nv2_p"
   ]
  },
  {
   "cell_type": "code",
   "execution_count": 48,
   "metadata": {},
   "outputs": [],
   "source": [
    "tipo_sol_nv2_p.remove('trabajos tecnicos en med, trafos, acometidas o en infraestr.')"
   ]
  },
  {
   "cell_type": "code",
   "execution_count": 61,
   "metadata": {},
   "outputs": [
    {
     "data": {
      "text/plain": [
       "25"
      ]
     },
     "execution_count": 61,
     "metadata": {},
     "output_type": "execute_result"
    }
   ],
   "source": [
    "len(sorted(df_150[df_150['tipo_solicitud']=='reclamo']['tipo_solicitud_1'].unique().tolist()))"
   ]
  },
  {
   "cell_type": "code",
   "execution_count": 62,
   "metadata": {},
   "outputs": [
    {
     "data": {
      "text/plain": [
       "21"
      ]
     },
     "execution_count": 62,
     "metadata": {},
     "output_type": "execute_result"
    }
   ],
   "source": [
    "len(tipo_sol_nv2_r)"
   ]
  },
  {
   "cell_type": "code",
   "execution_count": 51,
   "metadata": {},
   "outputs": [
    {
     "data": {
      "text/plain": [
       "['clase de uso incorrecto',\n",
       " 'cobro de acuerdo de pago o financiacion',\n",
       " 'cobro de cargos relacionados con el servicio publi',\n",
       " 'cobro de medidor',\n",
       " 'cobro de otros bienes o servicios en la factura',\n",
       " 'cobro de revisiones',\n",
       " 'cobro desconocido',\n",
       " 'cobro multiple y/o acumulado',\n",
       " 'cobro por recuperacion de consumos',\n",
       " 'cobros inoportunos',\n",
       " 'cobros por conexion, reconexion, reinstalacion',\n",
       " 'cobros por promedio',\n",
       " 'cobros por servicios no prestados',\n",
       " 'estrato incorrecto',\n",
       " 'inconformidad con el aforo',\n",
       " 'inconformidad con el consumo o produccion factura',\n",
       " 'inconformidad por cobros por normalizacion del ser',\n",
       " 'pago sin abono a cuenta',\n",
       " 'solicitud de rompimiento de solidaridad',\n",
       " 'subsidios y contribuciones',\n",
       " 'tarifa incorrecta']"
      ]
     },
     "execution_count": 51,
     "metadata": {},
     "output_type": "execute_result"
    }
   ],
   "source": [
    "tipo_sol_nv2_r.append('clase de uso incorrecto')\n",
    "tipo_sol_nv2_r = sorted(tipo_sol_nv2_r)\n",
    "tipo_sol_nv2_r"
   ]
  },
  {
   "cell_type": "code",
   "execution_count": 63,
   "metadata": {},
   "outputs": [
    {
     "data": {
      "text/plain": [
       "24"
      ]
     },
     "execution_count": 63,
     "metadata": {},
     "output_type": "execute_result"
    }
   ],
   "source": [
    "len(sorted(df_150[df_150['tipo_solicitud']=='pedidos/proyectos']['tipo_solicitud_1'].unique().tolist()))"
   ]
  },
  {
   "cell_type": "code",
   "execution_count": 64,
   "metadata": {},
   "outputs": [
    {
     "data": {
      "text/plain": [
       "24"
      ]
     },
     "execution_count": 64,
     "metadata": {},
     "output_type": "execute_result"
    }
   ],
   "source": [
    "len(tipo_sol_nv2_pro)"
   ]
  },
  {
   "cell_type": "code",
   "execution_count": 54,
   "metadata": {},
   "outputs": [
    {
     "data": {
      "text/plain": [
       "['asesoria de proyectos',\n",
       " 'cambio de sistema',\n",
       " 'cancelacion de provisional',\n",
       " 'conexion del servicio',\n",
       " 'contrato compra / donacion activos',\n",
       " 'liquidacion de conexos proyectos',\n",
       " 'observacion a la factibilidad',\n",
       " 'portafolio diseno y construccion con cotizacion',\n",
       " 'portafolio habilitacion vivienda',\n",
       " 'portafolio instalaciones sin cotizacion',\n",
       " 'portafolio mantenimiento con cotizacion',\n",
       " 'portafolio trabajos a terceros con cotizacion',\n",
       " 'provisional a definitivo',\n",
       " 'reformas',\n",
       " 'revision de proyectos electricos nivel i',\n",
       " 'revision de proyectos electricos nivel ii y iii',\n",
       " 'seguimiento de provisionales',\n",
       " 'solicitud cambio de comercializador (exporta)',\n",
       " 'solicitud de interventoria',\n",
       " 'solicitud factibilidad del servicio',\n",
       " 'solicitud participacion expansion',\n",
       " 'solicitud viabilidad compra/donacion activos',\n",
       " 'solicitudes otc',\n",
       " 'visita puesta en servicio']"
      ]
     },
     "execution_count": 54,
     "metadata": {},
     "output_type": "execute_result"
    }
   ],
   "source": [
    "tipo_sol_nv2_pro.append('asesoria de proyectos')\n",
    "tipo_sol_nv2_pro.append('revision de proyectos electricos nivel ii y iii')\n",
    "tipo_sol_nv2_pro = sorted(tipo_sol_nv2_pro)\n",
    "tipo_sol_nv2_pro"
   ]
  },
  {
   "cell_type": "code",
   "execution_count": 65,
   "metadata": {},
   "outputs": [
    {
     "data": {
      "text/plain": [
       "28"
      ]
     },
     "execution_count": 65,
     "metadata": {},
     "output_type": "execute_result"
    }
   ],
   "source": [
    "len(sorted(df_150[df_150['tipo_solicitud']=='queja']['tipo_solicitud_1'].unique().tolist()))"
   ]
  },
  {
   "cell_type": "code",
   "execution_count": 66,
   "metadata": {},
   "outputs": [
    {
     "data": {
      "text/plain": [
       "23"
      ]
     },
     "execution_count": 66,
     "metadata": {},
     "output_type": "execute_result"
    }
   ],
   "source": [
    "len(tipo_sol_nv2_q)"
   ]
  },
  {
   "cell_type": "code",
   "execution_count": 57,
   "metadata": {},
   "outputs": [
    {
     "data": {
      "text/plain": [
       "['afectacion ambiental',\n",
       " 'cambio de medidor o equipo de medida',\n",
       " 'comportamiento funcionario (trabajador-contra)',\n",
       " 'demora en atender peticion',\n",
       " 'demora en reparar dano',\n",
       " 'entrega inoportuna o no entrega de la factura',\n",
       " 'estado de la infraestructura',\n",
       " 'falla en la prestacion del servicio por calidad',\n",
       " 'falla en la prestacion del servicio por continuida',\n",
       " 'inadecuada disposicion de residuos',\n",
       " 'inconformidad con el canal de atencion',\n",
       " 'inconformidad con la informacion',\n",
       " 'inconformidad en la atencion de condiciones de seg',\n",
       " 'inconformidad por la programacion de interrupcione',\n",
       " 'inconformidad punto de venta y/o recaudo',\n",
       " 'inconformidad trabajos',\n",
       " 'inconformidad venta portafolio',\n",
       " 'incumplimiento de la revision en las fechas establecidas',\n",
       " 'levantamiento de desechos vegetales',\n",
       " 'manejo de fauna y flora',\n",
       " 'no conexion del servicio',\n",
       " 'no se genera factura para una instalacion',\n",
       " 'suspension o corte del servicio']"
      ]
     },
     "execution_count": 57,
     "metadata": {},
     "output_type": "execute_result"
    }
   ],
   "source": [
    "tipo_sol_nv2_q.append('afectacion ambiental')\n",
    "tipo_sol_nv2_q = sorted(tipo_sol_nv2_q)\n",
    "tipo_sol_nv2_q"
   ]
  },
  {
   "cell_type": "code",
   "execution_count": 67,
   "metadata": {},
   "outputs": [
    {
     "data": {
      "text/plain": [
       "15"
      ]
     },
     "execution_count": 67,
     "metadata": {},
     "output_type": "execute_result"
    }
   ],
   "source": [
    "len(sorted(df_150[df_150['tipo_solicitud']=='recurso']['tipo_solicitud_1'].unique().tolist()))"
   ]
  },
  {
   "cell_type": "code",
   "execution_count": 68,
   "metadata": {},
   "outputs": [
    {
     "data": {
      "text/plain": [
       "['clase de uso incorrecto',\n",
       " 'cobro de cargos relacionados con el servicio publi',\n",
       " 'cobro de otros bienes o servicios en la factura',\n",
       " 'cobro por recuperacion de consumos',\n",
       " 'cobros inoportunos',\n",
       " 'cobros por promedio',\n",
       " 'envio de expedientes sspd',\n",
       " 'inconformidad con el consumo o produccion facturad',\n",
       " 'inconformidad por cobros por normalizacion del ser',\n",
       " 'negacion del servicio',\n",
       " 'otros motivos de recurso',\n",
       " 'pago sin abono a cuenta',\n",
       " 'solicitud de rompimiento de solidaridad',\n",
       " 'subsidios y contribuciones',\n",
       " 'tarifa incorrecta']"
      ]
     },
     "execution_count": 68,
     "metadata": {},
     "output_type": "execute_result"
    }
   ],
   "source": [
    "tipo_sol_nv2_rso = sorted(df_150[df_150['tipo_solicitud']=='recurso']['tipo_solicitud_1'].unique().tolist())\n",
    "tipo_sol_nv2_rso"
   ]
  },
  {
   "cell_type": "code",
   "execution_count": 69,
   "metadata": {},
   "outputs": [],
   "source": [
    "## Los siguientes tipos de solicitudes nivel 1 si tuvieron cambion en los\n",
    "## niveles 2: peticion, reclamo, pedidos/proyectos, queja\n",
    "## estos se procederan a estadarizarce.\n",
    "##\n",
    "def nv2_replacements(solicitud_nv2):\n",
    "    s = tipo_sol_nv2_p + tipo_sol_nv2_r + tipo_sol_nv2_pro + tipo_sol_nv2_q + tipo_sol_nv2_rso\n",
    "    s.remove('revision de proyectos electricos nivel i')\n",
    "    s.remove('revision de proyectos electricos nivel ii y iii')\n",
    "    s.remove('falla en la prestacion del servicio por calidad')\n",
    "    s.remove('falla en la prestacion del servicio por continuida')\n",
    "    for element in s:\n",
    "        if lev.ratio(element, solicitud_nv2) >= 0.75:\n",
    "            solicitud_nv2 = element\n",
    "        else:\n",
    "            solicitud_nv2\n",
    "    return solicitud_nv2"
   ]
  },
  {
   "cell_type": "code",
   "execution_count": 70,
   "metadata": {},
   "outputs": [],
   "source": [
    "df_150['tipo_solicitud_1'] = df_150['tipo_solicitud_1'].map(nv2_replacements)"
   ]
  },
  {
   "cell_type": "code",
   "execution_count": 71,
   "metadata": {},
   "outputs": [
    {
     "data": {
      "text/plain": [
       "['actualizacion por habeas data',\n",
       " 'afectacion ambiental',\n",
       " 'aplicacion beneficio propiedad o venta de activos',\n",
       " 'cambio datos basicos',\n",
       " 'cambio de comercializador',\n",
       " 'cambio de medidor o equipo de medida',\n",
       " 'cambio de plazo en la financiacion pfs',\n",
       " 'cambio de sistema',\n",
       " 'cambio de uso',\n",
       " 'cancelacion de provisional',\n",
       " 'clase de uso incorrecto',\n",
       " 'cobro de acuerdo de pago o financiacion',\n",
       " 'cobro de cargos relacionados con el servicio publi',\n",
       " 'cobro de medidor',\n",
       " 'cobro de otros bienes o servicios en la factura',\n",
       " 'cobro de revisiones',\n",
       " 'cobro desconocido',\n",
       " 'cobro multiple y/o acumulado',\n",
       " 'cobro por recuperacion de consumos',\n",
       " 'cobros inoportunos',\n",
       " 'cobros por conexion, reconexion, reinstalacion',\n",
       " 'cobros por promedio',\n",
       " 'cobros por servicios no prestados',\n",
       " 'comportamiento funcionario (trabajador-contra)',\n",
       " 'condicion especial por solicitud del propietario',\n",
       " 'contrato compra / donacion activos',\n",
       " 'dano en equipo electrico',\n",
       " 'demora en atender peticion',\n",
       " 'demora en reparar dano',\n",
       " 'descongelados covid-19',\n",
       " 'desenergizacion de infraestructura',\n",
       " 'devolucion o traslado de saldo a favor',\n",
       " 'devolucion y/o copia de documentos',\n",
       " 'direccion incorrecta',\n",
       " 'emision de documento para pago',\n",
       " 'entrega inoportuna o no entrega de la factura',\n",
       " 'envio de expedientes sspd',\n",
       " 'estado de la infraestructura',\n",
       " 'estado deuda pfs',\n",
       " 'estrato incorrecto',\n",
       " 'exencion contribucion',\n",
       " 'facturacion a la fecha',\n",
       " 'falla en la prestacion del servicio por calidad',\n",
       " 'falla en la prestacion del servicio por continuida',\n",
       " 'falla en la prestacion del servicio por continuidad',\n",
       " 'garantias pfs',\n",
       " 'gestionar financiacion',\n",
       " 'inadecuada disposicion de residuos',\n",
       " 'inconformidad con el canal de atencion',\n",
       " 'inconformidad con el consumo o produccion facturad',\n",
       " 'inconformidad con la informacion',\n",
       " 'inconformidad en la atencion de condiciones de seg',\n",
       " 'inconformidad por cobros por normalizacion del ser',\n",
       " 'inconformidad por la programacion de interrupcione',\n",
       " 'inconformidad punto de venta y/o recaudo',\n",
       " 'inconformidad trabajos',\n",
       " 'inconformidad venta portafolio',\n",
       " 'incumplimiento de la revision en las fechas establecidas',\n",
       " 'informacion general',\n",
       " 'inscripcion, retiro o bloqueo de tarjeta pfs',\n",
       " 'levantamiento de desechos vegetales',\n",
       " 'liquidacion de conexos proyectos',\n",
       " 'manejo de fauna y flora',\n",
       " 'modificacion de infraest por incumplimiento de distancias de seg',\n",
       " 'modificar cobros de terceros',\n",
       " 'negacion del servicio',\n",
       " 'no se genera factura para una instalacion',\n",
       " 'normalizar instalacion',\n",
       " 'normalizar instalacion consumos bajos',\n",
       " 'observacion a la factibilidad',\n",
       " 'otros motivos de recurso',\n",
       " 'pago de la factura de otro usuario',\n",
       " 'pago parcial',\n",
       " 'pago sin abono a cuenta',\n",
       " 'paz y salvo pfs',\n",
       " 'perjuicios por falla en la prestacion del servicio',\n",
       " 'plazo para pago',\n",
       " 'poda de arboles',\n",
       " 'portafolio diseno y construccion con cotizacion',\n",
       " 'portafolio habilitacion vivienda',\n",
       " 'portafolio instalaciones sin cotizacion',\n",
       " 'portafolio mantenimiento con cotizacion',\n",
       " 'portafolio trabajos a terceros con cotizacion',\n",
       " 'provisional a definitivo',\n",
       " 'reclamacion extemporanea o agotada la via administ',\n",
       " 'reconexion',\n",
       " 'reconocimiento seguro de vida deuda pfs',\n",
       " 'refinanciacion por mora pfs',\n",
       " 'reformas',\n",
       " 'reinstalacion',\n",
       " 'requerimiento competencia de otra empresa',\n",
       " 'requerimientos entes oficiales o entidades externa',\n",
       " 'requerimientos sspd o sic',\n",
       " 'restitucion de tierras',\n",
       " 'retiro deuda no solidaria pfs',\n",
       " 'revision de proyectos electricos nivel i',\n",
       " 'revision de proyectos electricos nivel ii y iii',\n",
       " 'revision presunto sap',\n",
       " 'revision, mtto, remodelacion o expansion a.p',\n",
       " 'seguimiento de provisionales',\n",
       " 'separacion temporal o pago dirigido',\n",
       " 'solicitud cambio de comercializador (exporta)',\n",
       " 'solicitud constancia lectura',\n",
       " 'solicitud de interventoria',\n",
       " 'solicitud de rompimiento de solidaridad',\n",
       " 'solicitud factibilidad del servicio',\n",
       " 'solicitud participacion expansion',\n",
       " 'solicitud viabilidad compra/donacion activos',\n",
       " 'solicitudes otc',\n",
       " 'soportes de la financiacion pfs',\n",
       " 'subsidios y contribuciones',\n",
       " 'tarifa incorrecta',\n",
       " 'tarjeta somos (pfs)',\n",
       " 'terminacion del contrato',\n",
       " 'trabajos tecnicos en med, trafos, acometidas o en infraestr.',\n",
       " 'trabajos tecnicos en medidores, transformadores, a',\n",
       " 'tramite recurso de queja sspd',\n",
       " 'traslado de deuda',\n",
       " 'valores congelados',\n",
       " 'visita puesta en servicio']"
      ]
     },
     "execution_count": 71,
     "metadata": {},
     "output_type": "execute_result"
    }
   ],
   "source": [
    "sorted(df_150['tipo_solicitud_1'].unique().tolist())"
   ]
  },
  {
   "cell_type": "code",
   "execution_count": 72,
   "metadata": {},
   "outputs": [],
   "source": [
    "df_150['tipo_solicitud_1'] = df_150['tipo_solicitud_1'].map(lambda x: 'falla en la prestacion del servicio por continuidad' if x=='falla en la prestacion del servicio por continuida' else x)\n",
    "df_150['tipo_solicitud_1'] = df_150['tipo_solicitud_1'].map(lambda x: 'trabajos tecnicos en med, trafos, acometidas o en infraestr.' if x=='trabajos tecnicos en medidores, transformadores, a' else x)"
   ]
  },
  {
   "cell_type": "code",
   "execution_count": 73,
   "metadata": {},
   "outputs": [
    {
     "data": {
      "text/plain": [
       "['actualizacion por habeas data',\n",
       " 'afectacion ambiental',\n",
       " 'aplicacion beneficio propiedad o venta de activos',\n",
       " 'cambio datos basicos',\n",
       " 'cambio de comercializador',\n",
       " 'cambio de medidor o equipo de medida',\n",
       " 'cambio de plazo en la financiacion pfs',\n",
       " 'cambio de sistema',\n",
       " 'cambio de uso',\n",
       " 'cancelacion de provisional',\n",
       " 'clase de uso incorrecto',\n",
       " 'cobro de acuerdo de pago o financiacion',\n",
       " 'cobro de cargos relacionados con el servicio publi',\n",
       " 'cobro de medidor',\n",
       " 'cobro de otros bienes o servicios en la factura',\n",
       " 'cobro de revisiones',\n",
       " 'cobro desconocido',\n",
       " 'cobro multiple y/o acumulado',\n",
       " 'cobro por recuperacion de consumos',\n",
       " 'cobros inoportunos',\n",
       " 'cobros por conexion, reconexion, reinstalacion',\n",
       " 'cobros por promedio',\n",
       " 'cobros por servicios no prestados',\n",
       " 'comportamiento funcionario (trabajador-contra)',\n",
       " 'condicion especial por solicitud del propietario',\n",
       " 'contrato compra / donacion activos',\n",
       " 'dano en equipo electrico',\n",
       " 'demora en atender peticion',\n",
       " 'demora en reparar dano',\n",
       " 'descongelados covid-19',\n",
       " 'desenergizacion de infraestructura',\n",
       " 'devolucion o traslado de saldo a favor',\n",
       " 'devolucion y/o copia de documentos',\n",
       " 'direccion incorrecta',\n",
       " 'emision de documento para pago',\n",
       " 'entrega inoportuna o no entrega de la factura',\n",
       " 'envio de expedientes sspd',\n",
       " 'estado de la infraestructura',\n",
       " 'estado deuda pfs',\n",
       " 'estrato incorrecto',\n",
       " 'exencion contribucion',\n",
       " 'facturacion a la fecha',\n",
       " 'falla en la prestacion del servicio por calidad',\n",
       " 'falla en la prestacion del servicio por continuidad',\n",
       " 'garantias pfs',\n",
       " 'gestionar financiacion',\n",
       " 'inadecuada disposicion de residuos',\n",
       " 'inconformidad con el canal de atencion',\n",
       " 'inconformidad con el consumo o produccion facturad',\n",
       " 'inconformidad con la informacion',\n",
       " 'inconformidad en la atencion de condiciones de seg',\n",
       " 'inconformidad por cobros por normalizacion del ser',\n",
       " 'inconformidad por la programacion de interrupcione',\n",
       " 'inconformidad punto de venta y/o recaudo',\n",
       " 'inconformidad trabajos',\n",
       " 'inconformidad venta portafolio',\n",
       " 'incumplimiento de la revision en las fechas establecidas',\n",
       " 'informacion general',\n",
       " 'inscripcion, retiro o bloqueo de tarjeta pfs',\n",
       " 'levantamiento de desechos vegetales',\n",
       " 'liquidacion de conexos proyectos',\n",
       " 'manejo de fauna y flora',\n",
       " 'modificacion de infraest por incumplimiento de distancias de seg',\n",
       " 'modificar cobros de terceros',\n",
       " 'negacion del servicio',\n",
       " 'no se genera factura para una instalacion',\n",
       " 'normalizar instalacion',\n",
       " 'normalizar instalacion consumos bajos',\n",
       " 'observacion a la factibilidad',\n",
       " 'otros motivos de recurso',\n",
       " 'pago de la factura de otro usuario',\n",
       " 'pago parcial',\n",
       " 'pago sin abono a cuenta',\n",
       " 'paz y salvo pfs',\n",
       " 'perjuicios por falla en la prestacion del servicio',\n",
       " 'plazo para pago',\n",
       " 'poda de arboles',\n",
       " 'portafolio diseno y construccion con cotizacion',\n",
       " 'portafolio habilitacion vivienda',\n",
       " 'portafolio instalaciones sin cotizacion',\n",
       " 'portafolio mantenimiento con cotizacion',\n",
       " 'portafolio trabajos a terceros con cotizacion',\n",
       " 'provisional a definitivo',\n",
       " 'reclamacion extemporanea o agotada la via administ',\n",
       " 'reconexion',\n",
       " 'reconocimiento seguro de vida deuda pfs',\n",
       " 'refinanciacion por mora pfs',\n",
       " 'reformas',\n",
       " 'reinstalacion',\n",
       " 'requerimiento competencia de otra empresa',\n",
       " 'requerimientos entes oficiales o entidades externa',\n",
       " 'requerimientos sspd o sic',\n",
       " 'restitucion de tierras',\n",
       " 'retiro deuda no solidaria pfs',\n",
       " 'revision de proyectos electricos nivel i',\n",
       " 'revision de proyectos electricos nivel ii y iii',\n",
       " 'revision presunto sap',\n",
       " 'revision, mtto, remodelacion o expansion a.p',\n",
       " 'seguimiento de provisionales',\n",
       " 'separacion temporal o pago dirigido',\n",
       " 'solicitud cambio de comercializador (exporta)',\n",
       " 'solicitud constancia lectura',\n",
       " 'solicitud de interventoria',\n",
       " 'solicitud de rompimiento de solidaridad',\n",
       " 'solicitud factibilidad del servicio',\n",
       " 'solicitud participacion expansion',\n",
       " 'solicitud viabilidad compra/donacion activos',\n",
       " 'solicitudes otc',\n",
       " 'soportes de la financiacion pfs',\n",
       " 'subsidios y contribuciones',\n",
       " 'tarifa incorrecta',\n",
       " 'tarjeta somos (pfs)',\n",
       " 'terminacion del contrato',\n",
       " 'trabajos tecnicos en med, trafos, acometidas o en infraestr.',\n",
       " 'tramite recurso de queja sspd',\n",
       " 'traslado de deuda',\n",
       " 'valores congelados',\n",
       " 'visita puesta en servicio']"
      ]
     },
     "execution_count": 73,
     "metadata": {},
     "output_type": "execute_result"
    }
   ],
   "source": [
    "sorted(df_150['tipo_solicitud_1'].unique().tolist())"
   ]
  },
  {
   "cell_type": "code",
   "execution_count": 74,
   "metadata": {},
   "outputs": [
    {
     "name": "stdout",
     "output_type": "stream",
     "text": [
      "Se pasó de tener 163 solicitudes nivel 2 a 118\n"
     ]
    }
   ],
   "source": [
    "## los resultados de estos cambios\n",
    "##\n",
    "print(f\"Se pasó de tener {len(df['tipo_solicitud_1'].unique())} solicitudes nivel 2 a {len(df_150['tipo_solicitud_1'].unique())}\")"
   ]
  },
  {
   "cell_type": "code",
   "execution_count": 75,
   "metadata": {},
   "outputs": [
    {
     "name": "stderr",
     "output_type": "stream",
     "text": [
      "[nltk_data] Downloading package stopwords to\n",
      "[nltk_data]     C:\\Users\\juand\\AppData\\Roaming\\nltk_data...\n",
      "[nltk_data]   Package stopwords is already up-to-date!\n"
     ]
    }
   ],
   "source": [
    "## normalización de los textos.\n",
    "##\n",
    "import re\n",
    "import spacy\n",
    "import nltk\n",
    "nltk.download('stopwords')\n",
    "from nltk import RegexpTokenizer\n",
    "from nltk.corpus import stopwords\n",
    "from nltk import word_tokenize\n",
    "from nltk.collocations import *\n",
    "nlp = spacy.load('es_core_news_md')"
   ]
  },
  {
   "cell_type": "code",
   "execution_count": 76,
   "metadata": {},
   "outputs": [],
   "source": [
    "def text_normalization(text):\n",
    "    stop_words = list(stopwords.words('spanish'))\n",
    "    no_value_words = ['fecha', 'valor']\n",
    "    for w in no_value_words:\n",
    "        stop_words.append(w)\n",
    "    text = str(text)\n",
    "    text = text.lower()\n",
    "    text = ' '.join(re.findall(r'[a-záéíóúñ]{2,}', text))\n",
    "    text = word_tokenize(text)\n",
    "    for w in stop_words:\n",
    "        while w in text: text.remove(w)\n",
    "    return ' '.join(list(dict.fromkeys(text)))"
   ]
  },
  {
   "cell_type": "code",
   "execution_count": 77,
   "metadata": {},
   "outputs": [
    {
     "data": {
      "text/plain": [
       "0        revisión completa. coordinar visita a el cel: ...\n",
       "1        revisión completa. acuerdo de cita al 31322364...\n",
       "2        mercurio 20180220019743-registrador municipal ...\n",
       "3        realizar poda // coordinar visita al cel:30061...\n",
       "4        solicita que el valor de $22920 pagados en la ...\n",
       "                               ...                        \n",
       "31091    * oficio anexo...solicito se de  una explicaci...\n",
       "31092    leer oficio. usuario solicita retiro separació...\n",
       "31093    usuaria solicita revisión de la factura compre...\n",
       "31094    solicita revisión por incremento en el consumo...\n",
       "31095    solicita verificación pues considera que los c...\n",
       "Name: obs, Length: 31096, dtype: object"
      ]
     },
     "execution_count": 77,
     "metadata": {},
     "output_type": "execute_result"
    }
   ],
   "source": [
    "df_150['obs']"
   ]
  },
  {
   "cell_type": "code",
   "execution_count": 78,
   "metadata": {},
   "outputs": [
    {
     "data": {
      "text/plain": [
       "0        revisión completa coordinar visita cel usuario...\n",
       "1        revisión completa acuerdo cita usuaria solicit...\n",
       "2        mercurio registrador municipal santa rosa cala...\n",
       "3        realizar poda coordinar visita cel usuario sol...\n",
       "4        solicita pagados instalacion periodo error pre...\n",
       "                               ...                        \n",
       "31091    oficio anexo solicito explicación lógica razón...\n",
       "31092    leer oficio usuario solicita retiro separación...\n",
       "31093    usuaria solicita revisión factura comprendida ...\n",
       "31094    solicita revisión incremento consumo período j...\n",
       "31095    solicita verificación pues considera consumos ...\n",
       "Name: obs, Length: 31096, dtype: object"
      ]
     },
     "execution_count": 78,
     "metadata": {},
     "output_type": "execute_result"
    }
   ],
   "source": [
    "df_150['obs'] = df_150['obs'].map(text_normalization)\n",
    "df_150['obs']"
   ]
  },
  {
   "cell_type": "code",
   "execution_count": 79,
   "metadata": {},
   "outputs": [],
   "source": [
    "## hay que resetear los indices.\n",
    "df_150 = df_150.reset_index(drop=True)"
   ]
  },
  {
   "cell_type": "code",
   "execution_count": 80,
   "metadata": {},
   "outputs": [],
   "source": [
    "## despues de la normalizacion se volvera a buscar textos sin\n",
    "## sentido\n",
    "##\n",
    "len_obs_usuario = [(i, len(o)) for i, o in enumerate(df_150['obs'])]\n",
    "len_menor_x = [(i,o) for i, o in sorted(len_obs_usuario, key=lambda t: t[1]) if o <=4]\n",
    "index_menor_x = [i for i, o in len_menor_x]\n",
    "df_150.drop(index_menor_x, inplace=True)"
   ]
  },
  {
   "cell_type": "code",
   "execution_count": 81,
   "metadata": {},
   "outputs": [],
   "source": [
    "## hay que resetear los indices de nuevo.\n",
    "df_150 = df_150.reset_index(drop=True)"
   ]
  },
  {
   "cell_type": "code",
   "execution_count": 82,
   "metadata": {},
   "outputs": [
    {
     "data": {
      "text/plain": [
       "[('manifiesta', 'inconformidad'),\n",
       " ('revisión', 'completa'),\n",
       " ('acuerdo', 'cita'),\n",
       " ('buen', 'uso'),\n",
       " ('consumo', 'facturado'),\n",
       " ('inconformidad', 'consumo'),\n",
       " ('coordinar', 'visita'),\n",
       " ('uso', 'servicio'),\n",
       " ('gmail', 'com'),\n",
       " ('usuario', 'solicita'),\n",
       " ('alto', 'consumo'),\n",
       " ('hacen', 'buen'),\n",
       " ('usuario', 'manifiesta'),\n",
       " ('correo', 'electrónico'),\n",
       " ('facturado', 'periodo'),\n",
       " ('hotmail', 'com'),\n",
       " ('certificado', 'tradición'),\n",
       " ('cambio', 'suscriptor'),\n",
       " ('inconforme', 'consumo'),\n",
       " ('usuaria', 'manifiesta')]"
      ]
     },
     "execution_count": 82,
     "metadata": {},
     "output_type": "execute_result"
    }
   ],
   "source": [
    "## Remocion de los bi-gramas frecuentes sin valor semantico.\n",
    "\n",
    "bigram_measures = nltk.collocations.BigramAssocMeasures()\n",
    "trigram_measures = nltk.collocations.TrigramAssocMeasures()\n",
    "\n",
    "tokens = []\n",
    "for o in df_150['obs']:\n",
    "    for token in word_tokenize(o):\n",
    "        tokens.append(token)\n",
    "        \n",
    "finder = BigramCollocationFinder.from_words(tokens)\n",
    "finder.nbest(bigram_measures.likelihood_ratio, 20)"
   ]
  },
  {
   "cell_type": "code",
   "execution_count": 83,
   "metadata": {},
   "outputs": [],
   "source": [
    "## solo se identifica un bi-grama que no genera valor: ('autogest', 'autogestión')\n",
    "##\n",
    "df_150['obs'] = df_150['obs'].map(lambda x: x.replace('gmail com', ''))"
   ]
  },
  {
   "cell_type": "code",
   "execution_count": 84,
   "metadata": {},
   "outputs": [],
   "source": [
    "df_150['obs'] = df_150['obs'].map(lambda x: x.replace('hotmail com', ''))"
   ]
  },
  {
   "cell_type": "code",
   "execution_count": 85,
   "metadata": {},
   "outputs": [],
   "source": [
    "## Se eliminan espacios dobles\n",
    "##\n",
    "df_150['obs'] = df_150['obs'].map(lambda x: x.replace('  ', ' '))"
   ]
  },
  {
   "cell_type": "code",
   "execution_count": 86,
   "metadata": {},
   "outputs": [
    {
     "data": {
      "text/plain": [
       "0        revisión completa coordinar visita cel usuario...\n",
       "1        revisión completa acuerdo cita usuaria solicit...\n",
       "2        mercurio registrador municipal santa rosa cala...\n",
       "3        realizar poda coordinar visita cel usuario sol...\n",
       "4        solicita pagados instalacion periodo error pre...\n",
       "                               ...                        \n",
       "31091    oficio anexo solicito explicación lógica razón...\n",
       "31092    leer oficio usuario solicita retiro separación...\n",
       "31093    usuaria solicita revisión factura comprendida ...\n",
       "31094    solicita revisión incremento consumo período j...\n",
       "31095    solicita verificación pues considera consumos ...\n",
       "Name: obs, Length: 31096, dtype: object"
      ]
     },
     "execution_count": 86,
     "metadata": {},
     "output_type": "execute_result"
    }
   ],
   "source": [
    "## en lineas generales los textos han quedado así\n",
    "df_150['obs']"
   ]
  },
  {
   "cell_type": "code",
   "execution_count": 87,
   "metadata": {},
   "outputs": [
    {
     "data": {
      "text/html": [
       "<div>\n",
       "<style scoped>\n",
       "    .dataframe tbody tr th:only-of-type {\n",
       "        vertical-align: middle;\n",
       "    }\n",
       "\n",
       "    .dataframe tbody tr th {\n",
       "        vertical-align: top;\n",
       "    }\n",
       "\n",
       "    .dataframe thead th {\n",
       "        text-align: right;\n",
       "    }\n",
       "</style>\n",
       "<table border=\"1\" class=\"dataframe\">\n",
       "  <thead>\n",
       "    <tr style=\"text-align: right;\">\n",
       "      <th></th>\n",
       "      <th>tipo_solicitud</th>\n",
       "      <th>tipo_solicitud_1</th>\n",
       "      <th>obs</th>\n",
       "    </tr>\n",
       "  </thead>\n",
       "  <tbody>\n",
       "    <tr>\n",
       "      <th>0</th>\n",
       "      <td>reclamo</td>\n",
       "      <td>inconformidad con el consumo o produccion fact...</td>\n",
       "      <td>revisión completa coordinar visita cel usuario...</td>\n",
       "    </tr>\n",
       "    <tr>\n",
       "      <th>1</th>\n",
       "      <td>reclamo</td>\n",
       "      <td>inconformidad con el consumo o produccion fact...</td>\n",
       "      <td>revisión completa acuerdo cita usuaria solicit...</td>\n",
       "    </tr>\n",
       "    <tr>\n",
       "      <th>2</th>\n",
       "      <td>peticion</td>\n",
       "      <td>informacion general</td>\n",
       "      <td>mercurio registrador municipal santa rosa cala...</td>\n",
       "    </tr>\n",
       "  </tbody>\n",
       "</table>\n",
       "</div>"
      ],
      "text/plain": [
       "  tipo_solicitud                                   tipo_solicitud_1  \\\n",
       "0        reclamo  inconformidad con el consumo o produccion fact...   \n",
       "1        reclamo  inconformidad con el consumo o produccion fact...   \n",
       "2       peticion                                informacion general   \n",
       "\n",
       "                                                 obs  \n",
       "0  revisión completa coordinar visita cel usuario...  \n",
       "1  revisión completa acuerdo cita usuaria solicit...  \n",
       "2  mercurio registrador municipal santa rosa cala...  "
      ]
     },
     "execution_count": 87,
     "metadata": {},
     "output_type": "execute_result"
    }
   ],
   "source": [
    "df_150.head(3)"
   ]
  },
  {
   "cell_type": "code",
   "execution_count": 88,
   "metadata": {},
   "outputs": [
    {
     "data": {
      "text/plain": [
       "reclamo              14821\n",
       "peticion             11500\n",
       "queja                 2995\n",
       "pedidos/proyectos     1465\n",
       "recurso                315\n",
       "Name: tipo_solicitud, dtype: int64"
      ]
     },
     "execution_count": 88,
     "metadata": {},
     "output_type": "execute_result"
    }
   ],
   "source": [
    "df_150['tipo_solicitud'].value_counts()"
   ]
  },
  {
   "cell_type": "code",
   "execution_count": 89,
   "metadata": {},
   "outputs": [
    {
     "data": {
      "text/plain": [
       "{'inconformidad con el consumo o produccion facturad': 13683,\n",
       " 'cambio datos basicos': 3441,\n",
       " 'trabajos tecnicos en med, trafos, acometidas o en infraestr.': 2382,\n",
       " 'informacion general': 1503,\n",
       " 'falla en la prestacion del servicio por continuidad': 719,\n",
       " 'entrega inoportuna o no entrega de la factura': 561,\n",
       " 'portafolio trabajos a terceros con cotizacion': 559,\n",
       " 'portafolio instalaciones sin cotizacion': 546,\n",
       " 'inconformidad trabajos': 422,\n",
       " 'poda de arboles': 413,\n",
       " 'exencion contribucion': 335,\n",
       " 'gestionar financiacion': 310,\n",
       " 'pago de la factura de otro usuario': 305,\n",
       " 'cobros por conexion, reconexion, reinstalacion': 295,\n",
       " 'falla en la prestacion del servicio por calidad': 268,\n",
       " 'cobro de cargos relacionados con el servicio publi': 263,\n",
       " 'terminacion del contrato': 242,\n",
       " 'reconexion': 206,\n",
       " 'demora en reparar dano': 195,\n",
       " 'pago sin abono a cuenta': 192,\n",
       " 'condicion especial por solicitud del propietario': 190,\n",
       " 'inconformidad con la informacion': 189,\n",
       " 'requerimiento competencia de otra empresa': 187,\n",
       " 'separacion temporal o pago dirigido': 180,\n",
       " 'perjuicios por falla en la prestacion del servicio': 178,\n",
       " 'cobros por promedio': 177,\n",
       " 'cambio de uso': 166,\n",
       " 'comportamiento funcionario (trabajador-contra)': 159,\n",
       " 'negacion del servicio': 152,\n",
       " 'devolucion o traslado de saldo a favor': 151,\n",
       " 'dano en equipo electrico': 135,\n",
       " 'provisional a definitivo': 131,\n",
       " 'inconformidad con el canal de atencion': 122,\n",
       " 'normalizar instalacion': 106,\n",
       " 'cambio de plazo en la financiacion pfs': 104,\n",
       " 'normalizar instalacion consumos bajos': 104,\n",
       " 'incumplimiento de la revision en las fechas establecidas': 91,\n",
       " 'cobro de otros bienes o servicios en la factura': 89,\n",
       " 'traslado de deuda': 86,\n",
       " 'cobro por recuperacion de consumos': 77,\n",
       " 'inscripcion, retiro o bloqueo de tarjeta pfs': 77,\n",
       " 'solicitud factibilidad del servicio': 67,\n",
       " 'direccion incorrecta': 58,\n",
       " 'demora en atender peticion': 55,\n",
       " 'inconformidad por la programacion de interrupcione': 51,\n",
       " 'emision de documento para pago': 47,\n",
       " 'reconocimiento seguro de vida deuda pfs': 46,\n",
       " 'estado deuda pfs': 45,\n",
       " 'solicitud constancia lectura': 43,\n",
       " 'cobro desconocido': 42,\n",
       " 'subsidios y contribuciones': 42,\n",
       " 'cobro multiple y/o acumulado': 40,\n",
       " 'modificacion de infraest por incumplimiento de distancias de seg': 40,\n",
       " 'cambio de sistema': 38,\n",
       " 'pago parcial': 36,\n",
       " 'desenergizacion de infraestructura': 35,\n",
       " 'estrato incorrecto': 32,\n",
       " 'descongelados covid-19': 32,\n",
       " 'tarjeta somos (pfs)': 32,\n",
       " 'seguimiento de provisionales': 30,\n",
       " 'tarifa incorrecta': 30,\n",
       " 'inconformidad punto de venta y/o recaudo': 30,\n",
       " 'plazo para pago': 30,\n",
       " 'requerimientos entes oficiales o entidades externa': 29,\n",
       " 'retiro deuda no solidaria pfs': 28,\n",
       " 'solicitud de interventoria': 24,\n",
       " 'refinanciacion por mora pfs': 23,\n",
       " 'cobros inoportunos': 22,\n",
       " 'cobro de acuerdo de pago o financiacion': 20,\n",
       " 'requerimientos sspd o sic': 20,\n",
       " 'inconformidad por cobros por normalizacion del ser': 19,\n",
       " 'cobro de medidor': 18,\n",
       " 'solicitud de rompimiento de solidaridad': 18,\n",
       " 'cobro de revisiones': 17,\n",
       " 'aplicacion beneficio propiedad o venta de activos': 17,\n",
       " 'clase de uso incorrecto': 17,\n",
       " 'cobros por servicios no prestados': 14,\n",
       " 'reclamacion extemporanea o agotada la via administ': 14,\n",
       " 'liquidacion de conexos proyectos': 13,\n",
       " 'revision de proyectos electricos nivel ii y iii': 12,\n",
       " 'revision, mtto, remodelacion o expansion a.p': 12,\n",
       " 'solicitud cambio de comercializador (exporta)': 11,\n",
       " 'solicitud viabilidad compra/donacion activos': 11,\n",
       " 'inadecuada disposicion de residuos': 10,\n",
       " 'reinstalacion': 10,\n",
       " 'envio de expedientes sspd': 10,\n",
       " 'soportes de la financiacion pfs': 8,\n",
       " 'levantamiento de desechos vegetales': 8,\n",
       " 'garantias pfs': 7,\n",
       " 'estado de la infraestructura': 7,\n",
       " 'facturacion a la fecha': 7,\n",
       " 'devolucion y/o copia de documentos': 7,\n",
       " 'portafolio mantenimiento con cotizacion': 6,\n",
       " 'solicitudes otc': 6,\n",
       " 'otros motivos de recurso': 5,\n",
       " 'paz y salvo pfs': 5,\n",
       " 'solicitud participacion expansion': 5,\n",
       " 'revision presunto sap': 4,\n",
       " 'afectacion ambiental': 4,\n",
       " 'cancelacion de provisional': 4,\n",
       " 'inconformidad en la atencion de condiciones de seg': 3,\n",
       " 'valores congelados': 3,\n",
       " 'tramite recurso de queja sspd': 3,\n",
       " 'portafolio habilitacion vivienda': 3,\n",
       " 'modificar cobros de terceros': 2,\n",
       " 'no se genera factura para una instalacion': 2,\n",
       " 'inconformidad venta portafolio': 2,\n",
       " 'reformas': 2,\n",
       " 'cambio de medidor o equipo de medida': 2,\n",
       " 'visita puesta en servicio': 2,\n",
       " 'cambio de comercializador': 1,\n",
       " 'manejo de fauna y flora': 1,\n",
       " 'portafolio diseno y construccion con cotizacion': 1,\n",
       " 'revision de proyectos electricos nivel i': 1,\n",
       " 'contrato compra / donacion activos': 1,\n",
       " 'actualizacion por habeas data': 1,\n",
       " 'restitucion de tierras': 1,\n",
       " 'observacion a la factibilidad': 1}"
      ]
     },
     "execution_count": 89,
     "metadata": {},
     "output_type": "execute_result"
    }
   ],
   "source": [
    "df_150['tipo_solicitud_1'].value_counts().to_dict()\n",
    "\n",
    "## hay muchas solicitudes nivel 2 que no alcanzan a tener una cantidad considerable de\n",
    "## registros, entoncesesto no creo que se logre clasificar. Podrían haber varias opciones\n",
    "## o se agrupan como 'otros' o como 'contactar a asesor' o podrían imputarse registros para nutrir\n",
    "## la cantidad existente."
   ]
  },
  {
   "cell_type": "code",
   "execution_count": 91,
   "metadata": {},
   "outputs": [],
   "source": [
    "## Se introduce el modelo desarrollado por Jorge para realizar un primer\n",
    "## acercamiento al clasificador supervisado.\n",
    "from sklearn.model_selection import train_test_split\n",
    "\n",
    "x = df_150['obs']\n",
    "y = df_150['tipo_solicitud']\n",
    "\n",
    "x_train, x_test, y_train, y_test = train_test_split(x, y, test_size=0.2, random_state=26012021)"
   ]
  },
  {
   "cell_type": "code",
   "execution_count": 92,
   "metadata": {},
   "outputs": [
    {
     "name": "stdout",
     "output_type": "stream",
     "text": [
      "El accuracy en entrenamiento es de 0.988\n"
     ]
    }
   ],
   "source": [
    "from sklearn.feature_extraction.text import TfidfVectorizer\n",
    "from sklearn.svm import LinearSVC\n",
    "from sklearn.pipeline import Pipeline\n",
    "\n",
    "text_clf = Pipeline([('tfidf', TfidfVectorizer()), ('svm', LinearSVC())])\n",
    "\n",
    "train_acc = text_clf.fit(x_train, y_train).score(x_train, y_train)\n",
    "print(f\"El accuracy en entrenamiento es de {round(train_acc, 3)}\")"
   ]
  },
  {
   "cell_type": "code",
   "execution_count": 93,
   "metadata": {},
   "outputs": [
    {
     "name": "stdout",
     "output_type": "stream",
     "text": [
      "El accuracy en validación es de 0.911\n",
      "En comparación con el accuracy de entrenamiento se tiene una diferencia de 0.077 lo cual es positivo ya que el modelo no muestra sobre-entrenamiento\n"
     ]
    }
   ],
   "source": [
    "from sklearn import metrics\n",
    "\n",
    "predictions = text_clf.predict(x_test)\n",
    "test_acc = metrics.accuracy_score(y_test, predictions)\n",
    "\n",
    "print(f\"El accuracy en validación es de {round(test_acc, 3)}\")\n",
    "print(f\"En comparación con el accuracy de entrenamiento se tiene una diferencia de \" \n",
    "      f\"{round(train_acc-test_acc, 3)} lo cual es positivo \"\n",
    "     f\"ya que el modelo no muestra sobre-entrenamiento\")"
   ]
  },
  {
   "cell_type": "code",
   "execution_count": 94,
   "metadata": {},
   "outputs": [
    {
     "name": "stdout",
     "output_type": "stream",
     "text": [
      "                   precision    recall  f1-score   support\n",
      "\n",
      "pedidos/proyectos       0.71      0.54      0.61       301\n",
      "         peticion       0.88      0.92      0.90      2287\n",
      "            queja       0.90      0.86      0.88       621\n",
      "          reclamo       0.95      0.97      0.96      2940\n",
      "          recurso       0.84      0.30      0.44        71\n",
      "\n",
      "         accuracy                           0.91      6220\n",
      "        macro avg       0.86      0.72      0.76      6220\n",
      "     weighted avg       0.91      0.91      0.91      6220\n",
      "\n"
     ]
    }
   ],
   "source": [
    "print(metrics.classification_report(y_test, predictions))"
   ]
  }
 ],
 "metadata": {
  "kernelspec": {
   "display_name": "Python 3",
   "language": "python",
   "name": "python3"
  },
  "language_info": {
   "codemirror_mode": {
    "name": "ipython",
    "version": 3
   },
   "file_extension": ".py",
   "mimetype": "text/x-python",
   "name": "python",
   "nbconvert_exporter": "python",
   "pygments_lexer": "ipython3",
   "version": "3.8.5"
  }
 },
 "nbformat": 4,
 "nbformat_minor": 4
}
