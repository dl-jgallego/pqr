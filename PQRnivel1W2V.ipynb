{
 "cells": [
  {
   "cell_type": "markdown",
   "metadata": {},
   "source": [
    "# Modelo de Clasificación PQR nivel 1 con Word2Vec"
   ]
  },
  {
   "cell_type": "markdown",
   "metadata": {},
   "source": [
    "Este libro aborda el preprocesamiento, y el entrenamiento de un modelo de clasificación para PQRs"
   ]
  },
  {
   "cell_type": "markdown",
   "metadata": {},
   "source": [
    "### Exploración y Preprocesamiento"
   ]
  },
  {
   "cell_type": "markdown",
   "metadata": {},
   "source": [
    "En esta primera sección se explorará el set de datos y se preprocesarán los textos con los cuales se entrenará el modelo"
   ]
  },
  {
   "cell_type": "code",
   "execution_count": 1,
   "metadata": {},
   "outputs": [],
   "source": [
    "## importamos las librerias\n",
    "##\n",
    "import pandas as pd\n",
    "import numpy as np\n",
    "import re\n",
    "import gensim\n",
    "import matplotlib.pyplot as plt\n",
    "import seaborn as sns\n",
    "%matplotlib inline"
   ]
  },
  {
   "cell_type": "code",
   "execution_count": 2,
   "metadata": {},
   "outputs": [
    {
     "name": "stderr",
     "output_type": "stream",
     "text": [
      "C:\\Users\\juand\\Anaconda3\\lib\\site-packages\\IPython\\core\\interactiveshell.py:3146: DtypeWarning: Columns (2,10,11,14,15,18,19,20,25,26) have mixed types.Specify dtype option on import or set low_memory=False.\n",
      "  has_raised = await self.run_ast_nodes(code_ast.body, cell_name,\n"
     ]
    }
   ],
   "source": [
    "df = pd.read_csv('PQRs_2018-nov2020.csv', sep=';', encoding='utf-8')"
   ]
  },
  {
   "cell_type": "code",
   "execution_count": 3,
   "metadata": {},
   "outputs": [
    {
     "data": {
      "text/html": [
       "<div>\n",
       "<style scoped>\n",
       "    .dataframe tbody tr th:only-of-type {\n",
       "        vertical-align: middle;\n",
       "    }\n",
       "\n",
       "    .dataframe tbody tr th {\n",
       "        vertical-align: top;\n",
       "    }\n",
       "\n",
       "    .dataframe thead th {\n",
       "        text-align: right;\n",
       "    }\n",
       "</style>\n",
       "<table border=\"1\" class=\"dataframe\">\n",
       "  <thead>\n",
       "    <tr style=\"text-align: right;\">\n",
       "      <th></th>\n",
       "      <th>ID</th>\n",
       "      <th>forma_requerimiento</th>\n",
       "      <th>identificacion</th>\n",
       "      <th>solicitante</th>\n",
       "      <th>dir_solicitante</th>\n",
       "      <th>tipo_solicitud</th>\n",
       "      <th>cuenta</th>\n",
       "      <th>fec_solicitud</th>\n",
       "      <th>fec_vencmto</th>\n",
       "      <th>fec_rpta</th>\n",
       "      <th>...</th>\n",
       "      <th>TELEFONO</th>\n",
       "      <th>CELULAR</th>\n",
       "      <th>EMAIL</th>\n",
       "      <th>CIRCUITO</th>\n",
       "      <th>NODO</th>\n",
       "      <th>UBICACION</th>\n",
       "      <th>CLASE_SERVICIO</th>\n",
       "      <th>ANIOMES</th>\n",
       "      <th>Tipo fuente</th>\n",
       "      <th>DOCUMENTO</th>\n",
       "    </tr>\n",
       "  </thead>\n",
       "  <tbody>\n",
       "    <tr>\n",
       "      <th>0</th>\n",
       "      <td>PQR_201901_1</td>\n",
       "      <td>verbal</td>\n",
       "      <td>25161887</td>\n",
       "      <td>OFIR DE MARIA CORREA CORREA</td>\n",
       "      <td>CRA 16 18 06</td>\n",
       "      <td>peticion</td>\n",
       "      <td>101202096</td>\n",
       "      <td>8/01/2019</td>\n",
       "      <td>28/01/2019</td>\n",
       "      <td>8/01/2019</td>\n",
       "      <td>...</td>\n",
       "      <td>NaN</td>\n",
       "      <td>3.00981e+09</td>\n",
       "      <td>NaN</td>\n",
       "      <td>HER23L12</td>\n",
       "      <td>D20299</td>\n",
       "      <td>U</td>\n",
       "      <td>Residencial</td>\n",
       "      <td>201901</td>\n",
       "      <td>PQR</td>\n",
       "      <td>NaN</td>\n",
       "    </tr>\n",
       "    <tr>\n",
       "      <th>1</th>\n",
       "      <td>PQR_201901_2</td>\n",
       "      <td>verbal</td>\n",
       "      <td>25155655</td>\n",
       "      <td>AURA ALICIA MEJIA CUERVO</td>\n",
       "      <td>CLL 19 15 74</td>\n",
       "      <td>peticion</td>\n",
       "      <td>101249151</td>\n",
       "      <td>4/01/2019</td>\n",
       "      <td>25/01/2019</td>\n",
       "      <td>4/01/2019</td>\n",
       "      <td>...</td>\n",
       "      <td>3.64131e+06</td>\n",
       "      <td>NaN</td>\n",
       "      <td>NaN</td>\n",
       "      <td>HER23L15</td>\n",
       "      <td>D23538</td>\n",
       "      <td>U</td>\n",
       "      <td>Residencial</td>\n",
       "      <td>201901</td>\n",
       "      <td>PQR</td>\n",
       "      <td>NaN</td>\n",
       "    </tr>\n",
       "    <tr>\n",
       "      <th>2</th>\n",
       "      <td>PQR_201901_3</td>\n",
       "      <td>verbal</td>\n",
       "      <td>25161763</td>\n",
       "      <td>AMPARO  QUICENO GARCIA</td>\n",
       "      <td>CLL 20 15 15 PSO 2</td>\n",
       "      <td>peticion</td>\n",
       "      <td>101274963</td>\n",
       "      <td>16/01/2019</td>\n",
       "      <td>5/02/2019</td>\n",
       "      <td>16/01/2019</td>\n",
       "      <td>...</td>\n",
       "      <td>NaN</td>\n",
       "      <td>3.11739e+09</td>\n",
       "      <td>NaN</td>\n",
       "      <td>HER23L15</td>\n",
       "      <td>D23553</td>\n",
       "      <td>U</td>\n",
       "      <td>Residencial</td>\n",
       "      <td>201901</td>\n",
       "      <td>PQR</td>\n",
       "      <td>NaN</td>\n",
       "    </tr>\n",
       "  </tbody>\n",
       "</table>\n",
       "<p>3 rows × 35 columns</p>\n",
       "</div>"
      ],
      "text/plain": [
       "             ID forma_requerimiento identificacion  \\\n",
       "0  PQR_201901_1              verbal       25161887   \n",
       "1  PQR_201901_2              verbal       25155655   \n",
       "2  PQR_201901_3              verbal       25161763   \n",
       "\n",
       "                   solicitante     dir_solicitante tipo_solicitud     cuenta  \\\n",
       "0  OFIR DE MARIA CORREA CORREA        CRA 16 18 06       peticion  101202096   \n",
       "1     AURA ALICIA MEJIA CUERVO        CLL 19 15 74       peticion  101249151   \n",
       "2       AMPARO  QUICENO GARCIA  CLL 20 15 15 PSO 2       peticion  101274963   \n",
       "\n",
       "  fec_solicitud fec_vencmto    fec_rpta  ...     TELEFONO      CELULAR EMAIL  \\\n",
       "0     8/01/2019  28/01/2019   8/01/2019  ...          NaN  3.00981e+09   NaN   \n",
       "1     4/01/2019  25/01/2019   4/01/2019  ...  3.64131e+06          NaN   NaN   \n",
       "2    16/01/2019   5/02/2019  16/01/2019  ...          NaN  3.11739e+09   NaN   \n",
       "\n",
       "   CIRCUITO    NODO UBICACION CLASE_SERVICIO ANIOMES Tipo fuente DOCUMENTO  \n",
       "0  HER23L12  D20299         U    Residencial  201901         PQR       NaN  \n",
       "1  HER23L15  D23538         U    Residencial  201901         PQR       NaN  \n",
       "2  HER23L15  D23553         U    Residencial  201901         PQR       NaN  \n",
       "\n",
       "[3 rows x 35 columns]"
      ]
     },
     "execution_count": 3,
     "metadata": {},
     "output_type": "execute_result"
    }
   ],
   "source": [
    "df.head(3)"
   ]
  },
  {
   "cell_type": "code",
   "execution_count": 4,
   "metadata": {},
   "outputs": [
    {
     "data": {
      "text/plain": [
       "verbal                       575254\n",
       "telefonico                    57263\n",
       "escrito                        8530\n",
       "pagina web                     6238\n",
       "e-mail                         1607\n",
       "asesor remoto                   762\n",
       "chat                            408\n",
       "otros medios electronicos        92\n",
       "sspd                             17\n",
       "interventoria                     3\n",
       "Name: forma_requerimiento, dtype: int64"
      ]
     },
     "execution_count": 4,
     "metadata": {},
     "output_type": "execute_result"
    }
   ],
   "source": [
    "df['forma_requerimiento'].value_counts()"
   ]
  },
  {
   "cell_type": "code",
   "execution_count": 5,
   "metadata": {},
   "outputs": [
    {
     "name": "stdout",
     "output_type": "stream",
     "text": [
      "2019022000003 - REVISIÓN COMPLETA AL MEDIDOR -  EL NÚMERO DE CUENTA 120210036, EN DONDE INEXPLICABLEMENTE SE PRESENTÓ UN INCREMENTO EN LA FACTURA POR UN SUPUESTO INCREMENTO DE CONSUMO, EXPUESTO POR USTEDES DE LA MISMA MANERA QUE EL PRESENTE INCIDENTE, LO CUAL ME LLEVA A PENS\n",
      "\n",
      "\n",
      "RAD 20190220000530 - ADJUNTO DOCUMENTO PARA MANTENER LA EXENCIÓN A LA CONTRIBUCIÓN, TENIENDO EN CUENTA NUESTRA ACTIVIDAD PRINCIPAL.\n",
      "\n",
      "\n",
      "RAD - 20180220019579 - REALIZAR VISITA PARA VERIFICAR ESTADO DEL SISTEMA E IDENTIFICAR EL POR QUE DEL INCREMENTO DE LA FACTURACIÓN Y HACER\n",
      "\n",
      "\n",
      "RAD - 20180220020853-,  ADJUNTO RUT ACTUALIZADO PARA BENEFICIO DE EXONERACIÓN DE CONTRIBUCIÓN POR SER INDUSTRIA\n",
      "\n",
      "\n",
      "RAD - 20180220020853 - ADJUNTO RUT ACTUALIZADO PARA BENEFICIO DE EXONERACIÓN DE CONTRIBUCIÓN POR SER INDUSTRIA\n",
      "\n",
      "\n",
      "RAD - 20190220000329 - BUENAS TARDES EL DÍA 10 DEL MES EN CURSO A LA VECINA DESAFORTUNADAMENTE SE LE ENCIENDE LA CASA, COMO EL CABLE DE LA ENERGÍA QUE USTEDES PUSIERON PASA POR EL TECHO ESTE CABLE QUE ALIMENTA MI CASA SE QUEMA. AL DÍA SIGUIENTE LLEGA UN SEÑOR FUNCIONARIO DE LA EMPRESA QUIEN MANIFIESTA QUE HAY Q CAMBIAR EL CABLE SI QUIEREN EL SERVICIO DE ENERGÍA NUEVAMENTE HAY QUE CANCELAR UN VALOR\n",
      "\n",
      "\n",
      "RAD - 20180220020281 - SE REQUIERE SE COTICE SERVICIO DE MANTENIMIENTO A TODO COSTO\n",
      "\n",
      "\n",
      "REVISION COMPLETA-  MEDIO DE LA PRESENTE SOLICITO SEA REVISADO EL CONTADOR DE ENERGÍA Y DISPLAY DE LA GRANJA SANTA ANA, YA QUE EN DÍAS ANTERIORES PRESENTO UNA FALLA, NO PERMITIENDO LA LECTURA DEL CONSUMO REAL, EN EL MOMENTO LA CORRIENTE EN DICHO PREDIO SOBREPASO LA CAPACIDAD NOMINAL DEL LECTOR, LO QUE PUDO OCASIONAR EL DAÑO YA MENCIONADO.  SOLICITO LA VISITA TÉCNICA TENDIENTES A LA DETECCIÓN DE AN\n",
      "\n",
      "\n",
      "20190220000531 - ANEXO RUT ACTUALIZADO DE LA EMPRESA FRUGY S.A  IDENTIFICADA CON EL NIT 890.806.646-7\n",
      "\n",
      "\n",
      "POR FAVOR ME PEDES ENVIAR LA FACTURA PARA PAGAR NUMERO DE CUENTA:422700507\n",
      "\n",
      "\n",
      "SOLICITA CAMBIO DE NOMBRE, SOLICITUD ANTERIOR 274401, FALTABA DOCUMENTACION\n",
      "\n",
      "\n",
      "QUISIERA QUE ME ATENDIERAN UNA SOLICITUD O MÁS BIEN UNA SUGERENCIA RESULTA QUE A LA EMPRESA SUSUERTE S.A UBICADA EN LA CRA 21 22-16 LLEGA LA MAYORÍA DE LA FACTURAS DE LA ENERGÍA DE TODOS LOS PUNTOS QUE TENEMOS EN LA CIUDAD DE MANIZALES , ENEA Y VILLAMARÍA, ÚLTIMAMENTE MÁS EXACTOS LAS FACTURAS DE VILLAMARIA LAS TRAE LA PERSONA QUE REPARTE LA CORRESPONDENCIA DE LA FACTURAS VENCIDAS, Y HOY POR EJEMPL\n",
      "\n",
      "\n",
      "RAD - 20180220019887 - AMABLEMENTE LE SOLICITO REFINANCIAR EL PLAZO DE MIS CRÉDITOS A 60 MESES, NÚMERO DE CUENTA 449494462\n",
      "\n",
      "\n",
      "ENVIÓ RUT ACTUALIZADO PARA LA EXENCIÓN DE CONTRIBUCIÓN NOMBRE DE PLASTIQ SAS NIT 900539190-0 NÚMERO DE CUENTA 464803601\n",
      "\n",
      "\n",
      "RAD - 20190220000027 - POR MEDIO DE LA PRESENTE SOLICITAMOS LA RENOVACIÓN DE EXENCIÓN DE CONTRIBUCIÓN ADJUNTO ENVIAMOS RUT Y CARTA DE SOLICITUD\n",
      "\n",
      "\n"
     ]
    }
   ],
   "source": [
    "for i in range(15):\n",
    "    print(df[df['forma_requerimiento']=='e-mail']['OBSERVACION USUARIO'].iloc[i])\n",
    "    print('\\n')\n",
    "\n",
    "#df_copy[df_copy['tipo_solicitud']==s]['tipo_solicitud_1']"
   ]
  },
  {
   "cell_type": "code",
   "execution_count": 6,
   "metadata": {},
   "outputs": [
    {
     "name": "stdout",
     "output_type": "stream",
     "text": [
      "<class 'pandas.core.frame.DataFrame'>\n",
      "RangeIndex: 650175 entries, 0 to 650174\n",
      "Data columns (total 35 columns):\n",
      " #   Column                 Non-Null Count   Dtype  \n",
      "---  ------                 --------------   -----  \n",
      " 0   ID                     650175 non-null  object \n",
      " 1   forma_requerimiento    650174 non-null  object \n",
      " 2   identificacion         650153 non-null  object \n",
      " 3   solicitante            650098 non-null  object \n",
      " 4   dir_solicitante        650145 non-null  object \n",
      " 5   tipo_solicitud         650175 non-null  object \n",
      " 6   cuenta                 650175 non-null  int64  \n",
      " 7   fec_solicitud          650175 non-null  object \n",
      " 8   fec_vencmto            650175 non-null  object \n",
      " 9   fec_rpta               650175 non-null  object \n",
      " 10  clase_inicial          343509 non-null  object \n",
      " 11  estrato                650175 non-null  object \n",
      " 12  a_favor_de             650175 non-null  object \n",
      " 13  tipo_solicitud_1       650175 non-null  object \n",
      " 14  documento              262317 non-null  object \n",
      " 15  imputabilidad          543926 non-null  object \n",
      " 16  causa_final            648554 non-null  object \n",
      " 17  responde               649381 non-null  object \n",
      " 18  OBSERVACION USUARIO    486116 non-null  object \n",
      " 19  observacion_respuesta  343838 non-null  object \n",
      " 20  SEGMENTO               552506 non-null  object \n",
      " 21  TIPO_DOC               650139 non-null  object \n",
      " 22  NOMBRE                 650139 non-null  object \n",
      " 23  DIRECCION              650139 non-null  object \n",
      " 24  MUNICIPIO              650139 non-null  object \n",
      " 25  TELEFONO               410091 non-null  object \n",
      " 26  CELULAR                471157 non-null  object \n",
      " 27  EMAIL                  35446 non-null   object \n",
      " 28  CIRCUITO               649042 non-null  object \n",
      " 29  NODO                   650138 non-null  object \n",
      " 30  UBICACION              650138 non-null  object \n",
      " 31  CLASE_SERVICIO         650138 non-null  object \n",
      " 32  ANIOMES                650175 non-null  int64  \n",
      " 33  Tipo fuente            650175 non-null  object \n",
      " 34  DOCUMENTO              106239 non-null  float64\n",
      "dtypes: float64(1), int64(2), object(32)\n",
      "memory usage: 173.6+ MB\n"
     ]
    }
   ],
   "source": [
    "df.info()"
   ]
  },
  {
   "cell_type": "code",
   "execution_count": 7,
   "metadata": {},
   "outputs": [
    {
     "data": {
      "text/plain": [
       "650175"
      ]
     },
     "execution_count": 7,
     "metadata": {},
     "output_type": "execute_result"
    }
   ],
   "source": [
    "## cantidad total de filas\n",
    "## \n",
    "len(df)"
   ]
  },
  {
   "cell_type": "code",
   "execution_count": 8,
   "metadata": {},
   "outputs": [
    {
     "data": {
      "text/html": [
       "<div>\n",
       "<style scoped>\n",
       "    .dataframe tbody tr th:only-of-type {\n",
       "        vertical-align: middle;\n",
       "    }\n",
       "\n",
       "    .dataframe tbody tr th {\n",
       "        vertical-align: top;\n",
       "    }\n",
       "\n",
       "    .dataframe thead th {\n",
       "        text-align: right;\n",
       "    }\n",
       "</style>\n",
       "<table border=\"1\" class=\"dataframe\">\n",
       "  <thead>\n",
       "    <tr style=\"text-align: right;\">\n",
       "      <th></th>\n",
       "      <th>ID</th>\n",
       "      <th>forma_requerimiento</th>\n",
       "      <th>identificacion</th>\n",
       "      <th>solicitante</th>\n",
       "      <th>dir_solicitante</th>\n",
       "      <th>tipo_solicitud</th>\n",
       "      <th>cuenta</th>\n",
       "      <th>fec_solicitud</th>\n",
       "      <th>fec_vencmto</th>\n",
       "      <th>fec_rpta</th>\n",
       "      <th>...</th>\n",
       "      <th>TELEFONO</th>\n",
       "      <th>CELULAR</th>\n",
       "      <th>EMAIL</th>\n",
       "      <th>CIRCUITO</th>\n",
       "      <th>NODO</th>\n",
       "      <th>UBICACION</th>\n",
       "      <th>CLASE_SERVICIO</th>\n",
       "      <th>ANIOMES</th>\n",
       "      <th>Tipo fuente</th>\n",
       "      <th>DOCUMENTO</th>\n",
       "    </tr>\n",
       "  </thead>\n",
       "  <tbody>\n",
       "    <tr>\n",
       "      <th>0</th>\n",
       "      <td>PQR_201901_1887</td>\n",
       "      <td>pagina web</td>\n",
       "      <td>10082846</td>\n",
       "      <td>DIEGO  FRANCO BARCO</td>\n",
       "      <td>BRR MARACAY MNZ B CAS 4</td>\n",
       "      <td>peticion</td>\n",
       "      <td>152991693</td>\n",
       "      <td>28/01/2019</td>\n",
       "      <td>15/02/2019</td>\n",
       "      <td>31/01/2019</td>\n",
       "      <td>...</td>\n",
       "      <td>3.30308e+06</td>\n",
       "      <td>NaN</td>\n",
       "      <td>NaN</td>\n",
       "      <td>CAM23L12</td>\n",
       "      <td>D12071</td>\n",
       "      <td>U</td>\n",
       "      <td>Residencial</td>\n",
       "      <td>201901</td>\n",
       "      <td>PQR</td>\n",
       "      <td>NaN</td>\n",
       "    </tr>\n",
       "    <tr>\n",
       "      <th>1</th>\n",
       "      <td>PQR_201901_1912</td>\n",
       "      <td>pagina web</td>\n",
       "      <td>51655066</td>\n",
       "      <td>LUZ MARINA REYES</td>\n",
       "      <td>MNZ 27 CAS 40 CAMPESTRE D</td>\n",
       "      <td>queja</td>\n",
       "      <td>153997234</td>\n",
       "      <td>28/12/2018</td>\n",
       "      <td>21/01/2019</td>\n",
       "      <td>10/01/2019</td>\n",
       "      <td>...</td>\n",
       "      <td>6.88633e+07</td>\n",
       "      <td>3.18304e+09</td>\n",
       "      <td>NaN</td>\n",
       "      <td>CAM23L12</td>\n",
       "      <td>D12032</td>\n",
       "      <td>U</td>\n",
       "      <td>Residencial</td>\n",
       "      <td>201901</td>\n",
       "      <td>PQR</td>\n",
       "      <td>NaN</td>\n",
       "    </tr>\n",
       "    <tr>\n",
       "      <th>2</th>\n",
       "      <td>PQR_201901_1936</td>\n",
       "      <td>pagina web</td>\n",
       "      <td>30285814</td>\n",
       "      <td>AMPARO  CASTRO OSORIO</td>\n",
       "      <td>DIG 19A 8T 31 CAMPESTRE B</td>\n",
       "      <td>peticion</td>\n",
       "      <td>154952692</td>\n",
       "      <td>4/01/2019</td>\n",
       "      <td>25/01/2019</td>\n",
       "      <td>16/01/2019</td>\n",
       "      <td>...</td>\n",
       "      <td>6.32201e+07</td>\n",
       "      <td>3.14475e+09</td>\n",
       "      <td>NaN</td>\n",
       "      <td>CAM23L12</td>\n",
       "      <td>D12150</td>\n",
       "      <td>U</td>\n",
       "      <td>Residencial</td>\n",
       "      <td>201901</td>\n",
       "      <td>PQR</td>\n",
       "      <td>NaN</td>\n",
       "    </tr>\n",
       "  </tbody>\n",
       "</table>\n",
       "<p>3 rows × 35 columns</p>\n",
       "</div>"
      ],
      "text/plain": [
       "                ID forma_requerimiento identificacion            solicitante  \\\n",
       "0  PQR_201901_1887          pagina web       10082846    DIEGO  FRANCO BARCO   \n",
       "1  PQR_201901_1912          pagina web       51655066       LUZ MARINA REYES   \n",
       "2  PQR_201901_1936          pagina web       30285814  AMPARO  CASTRO OSORIO   \n",
       "\n",
       "             dir_solicitante tipo_solicitud     cuenta fec_solicitud  \\\n",
       "0    BRR MARACAY MNZ B CAS 4       peticion  152991693    28/01/2019   \n",
       "1  MNZ 27 CAS 40 CAMPESTRE D          queja  153997234    28/12/2018   \n",
       "2  DIG 19A 8T 31 CAMPESTRE B       peticion  154952692     4/01/2019   \n",
       "\n",
       "  fec_vencmto    fec_rpta  ...     TELEFONO      CELULAR EMAIL  CIRCUITO  \\\n",
       "0  15/02/2019  31/01/2019  ...  3.30308e+06          NaN   NaN  CAM23L12   \n",
       "1  21/01/2019  10/01/2019  ...  6.88633e+07  3.18304e+09   NaN  CAM23L12   \n",
       "2  25/01/2019  16/01/2019  ...  6.32201e+07  3.14475e+09   NaN  CAM23L12   \n",
       "\n",
       "     NODO UBICACION CLASE_SERVICIO ANIOMES Tipo fuente DOCUMENTO  \n",
       "0  D12071         U    Residencial  201901         PQR       NaN  \n",
       "1  D12032         U    Residencial  201901         PQR       NaN  \n",
       "2  D12150         U    Residencial  201901         PQR       NaN  \n",
       "\n",
       "[3 rows x 35 columns]"
      ]
     },
     "execution_count": 8,
     "metadata": {},
     "output_type": "execute_result"
    }
   ],
   "source": [
    "df = pd.concat([df[df['forma_requerimiento']=='pagina web'], df[df['forma_requerimiento']=='e-mail']], ignore_index=True)\n",
    "df.head(3)"
   ]
  },
  {
   "cell_type": "code",
   "execution_count": 9,
   "metadata": {},
   "outputs": [],
   "source": [
    "df['tipo_solicitud'] = df['tipo_solicitud'].map(lambda x: 'recurso' if x=='recurso reposicion en subsidio de apelacion' or x=='recurso de reposicion' else x)"
   ]
  },
  {
   "cell_type": "code",
   "execution_count": 10,
   "metadata": {},
   "outputs": [],
   "source": [
    "df_copy = df.copy()"
   ]
  },
  {
   "cell_type": "code",
   "execution_count": 11,
   "metadata": {},
   "outputs": [
    {
     "data": {
      "text/plain": [
       "False    7164\n",
       "True      681\n",
       "Name: OBSERVACION USUARIO, dtype: int64"
      ]
     },
     "execution_count": 11,
     "metadata": {},
     "output_type": "execute_result"
    }
   ],
   "source": [
    "## Eliminacion de NaN\n",
    "## \n",
    "df_copy['OBSERVACION USUARIO'].isna().value_counts()"
   ]
  },
  {
   "cell_type": "code",
   "execution_count": 12,
   "metadata": {},
   "outputs": [],
   "source": [
    "## Eliminacion de elementos sin sentido\n",
    "##\n",
    "df_copy['OBSERVACION USUARIO'] = df_copy['OBSERVACION USUARIO'].map(lambda x: str(x))\n",
    "df_copy['OBSERVACION USUARIO'] = df_copy['OBSERVACION USUARIO'].map(lambda x: x.lower())\n",
    "len_obs_usuario = [(i, len(o)) for i, o in enumerate(df_copy['OBSERVACION USUARIO'])]"
   ]
  },
  {
   "cell_type": "code",
   "execution_count": 13,
   "metadata": {},
   "outputs": [],
   "source": [
    "## Eliminacion de elementos sin sentido\n",
    "## lista con las observaciones que tengan una longitud de observación menor a\n",
    "## x caracteres.\n",
    "##\n",
    "len_menor_x = [(i,o) for i, o in sorted(len_obs_usuario, key=lambda t: t[1]) if o <=20]\n",
    "index_menor_x = [i for i, o in len_menor_x]"
   ]
  },
  {
   "cell_type": "code",
   "execution_count": 14,
   "metadata": {},
   "outputs": [
    {
     "data": {
      "text/plain": [
       "766"
      ]
     },
     "execution_count": 14,
     "metadata": {},
     "output_type": "execute_result"
    }
   ],
   "source": [
    "len(index_menor_x)"
   ]
  },
  {
   "cell_type": "code",
   "execution_count": 15,
   "metadata": {},
   "outputs": [],
   "source": [
    "# sorted(len_obs_usuario, key= lambda t: t[1])"
   ]
  },
  {
   "cell_type": "code",
   "execution_count": 16,
   "metadata": {},
   "outputs": [],
   "source": [
    "## Eliminacion elementos sin sentido\n",
    "## se procede a eliminarlas\n",
    "##\n",
    "df_copy.drop(index_menor_x, inplace=True)"
   ]
  },
  {
   "cell_type": "code",
   "execution_count": 17,
   "metadata": {},
   "outputs": [],
   "source": [
    "df_copy = df_copy.reset_index(drop=True)\n",
    "#len_obs_usuario = [(i, len(o)) for i, o in enumerate(df_copy['OBSERVACION USUARIO'])]\n",
    "#sorted(len_obs_usuario, key= lambda t: t[1])"
   ]
  },
  {
   "cell_type": "code",
   "execution_count": 18,
   "metadata": {},
   "outputs": [],
   "source": [
    "df_copy['len_obs'] = df_copy['OBSERVACION USUARIO'].map(lambda x: len(x))"
   ]
  },
  {
   "cell_type": "code",
   "execution_count": 19,
   "metadata": {},
   "outputs": [
    {
     "data": {
      "text/plain": [
       "count    7079.000000\n",
       "mean      209.921034\n",
       "std       155.858657\n",
       "min        21.000000\n",
       "25%       100.000000\n",
       "50%       180.000000\n",
       "75%       286.000000\n",
       "max      1000.000000\n",
       "Name: len_obs, dtype: float64"
      ]
     },
     "execution_count": 19,
     "metadata": {},
     "output_type": "execute_result"
    }
   ],
   "source": [
    "df_copy['len_obs'].describe()"
   ]
  },
  {
   "cell_type": "code",
   "execution_count": 20,
   "metadata": {},
   "outputs": [],
   "source": [
    "#sns.set_theme()\n",
    "\n",
    "#sns.relplot(data=df_copy['len_obs'], kind='line')\n",
    "\n",
    "#df_copy.plot(y='len_obs', kind='line')\n",
    "#plt.show()"
   ]
  },
  {
   "cell_type": "code",
   "execution_count": 21,
   "metadata": {},
   "outputs": [
    {
     "name": "stdout",
     "output_type": "stream",
     "text": [
      "309 es el numero de observaciones se sobrepasan los 500 caracteres, equivalente a un 0.0437%\n"
     ]
    }
   ],
   "source": [
    "count = 0\n",
    "for l in df_copy['len_obs']:\n",
    "    if l >=500:\n",
    "        count += 1\n",
    "print(f\"{count} es el numero de observaciones se sobrepasan los 500 caracteres, equivalente a un \"\n",
    "     f\"{round(count/len(df_copy), 4)}%\")"
   ]
  },
  {
   "cell_type": "code",
   "execution_count": 22,
   "metadata": {},
   "outputs": [],
   "source": [
    "## Eliminacion elementos sin sentido\n",
    "## se guardan las observaciones para ver de que se tratan\n",
    "##\n",
    "# len_menor_x_obs = [df_copy['OBSERVACION USUARIO'][i] for i, o in len_menor_x]"
   ]
  },
  {
   "cell_type": "code",
   "execution_count": 23,
   "metadata": {},
   "outputs": [
    {
     "data": {
      "text/plain": [
       "peticion                           3991\n",
       "reclamo                            1941\n",
       "queja                               587\n",
       "pedidos/proyectos                   278\n",
       "recurso                             277\n",
       "programa de financiacion social       5\n",
       "Name: tipo_solicitud, dtype: int64"
      ]
     },
     "execution_count": 23,
     "metadata": {},
     "output_type": "execute_result"
    }
   ],
   "source": [
    "## Veamos los tipos de solicitudes nivel 1\n",
    "##\n",
    "df_copy['tipo_solicitud'].value_counts()"
   ]
  },
  {
   "cell_type": "code",
   "execution_count": 24,
   "metadata": {},
   "outputs": [],
   "source": [
    "## Vamos a depurar estos tipos de solicitudes.\n",
    "##\n",
    "df_copy['tipo_solicitud'] = df_copy['tipo_solicitud'].map(lambda x: 'peticion' if x=='programa de financiacion social' or x=='autogestion' else x)"
   ]
  },
  {
   "cell_type": "code",
   "execution_count": 25,
   "metadata": {},
   "outputs": [
    {
     "data": {
      "text/plain": [
       "peticion             3996\n",
       "reclamo              1941\n",
       "queja                 587\n",
       "pedidos/proyectos     278\n",
       "recurso               277\n",
       "Name: tipo_solicitud, dtype: int64"
      ]
     },
     "execution_count": 25,
     "metadata": {},
     "output_type": "execute_result"
    }
   ],
   "source": [
    "## Validamos el cambio\n",
    "##\n",
    "df_copy['tipo_solicitud'].value_counts()"
   ]
  },
  {
   "cell_type": "code",
   "execution_count": 26,
   "metadata": {},
   "outputs": [
    {
     "name": "stdout",
     "output_type": "stream",
     "text": [
      "peticion: \n",
      "\n",
      "tipo_solicitud_1                                            \n",
      "exencion contribucion                                           1591\n",
      "informacion general                                              764\n",
      "cambio de datos basicos                                          413\n",
      "terminacion del contrato                                         161\n",
      "gestionar financiacion                                           130\n",
      "perjuicios por falla en la prestacion del servicio               120\n",
      "trabajos tecnicos en medidores, transformadores, a               111\n",
      "cambio datos basicos                                             108\n",
      "requerimiento competencia de otra empresa                         92\n",
      "devolucion o traslado de saldo a favor                            67\n",
      "trabajos tecnicos en med, trafos, acometidas o en infraestr.      58\n",
      "traslado de deuda                                                 57\n",
      "emision de documento para pago                                    42\n",
      "separacion temporal o pago dirigido                               34\n",
      "requerimientos sspd o sic                                         29\n",
      "cambio de uso                                                     27\n",
      "poda de arboles                                                   21\n",
      "suspension del servicio                                           19\n",
      "requerimientos entes oficiales o entidades externa                15\n",
      "reclamacion extemporanea o agotada la via administ                13\n",
      "valores congelados                                                13\n",
      "dano en equipo electrico                                          12\n",
      "condicion especial solicitud propietario                          11\n",
      "reconexion                                                         9\n",
      "danos en equipo electrico                                          8\n",
      "pago de la factura de otro usuario                                 8\n",
      "direccion incorrecta                                               8\n",
      "pago parcial                                                       7\n",
      "aplicacion beneficio propiedad o venta de activos                  6\n",
      "devolucion y/o copia de documentos                                 5\n",
      "modificacion de infraestructura por incumplimiento                 5\n",
      "normalizar instalacion                                             5\n",
      "reinstalacion                                                      5\n",
      "solicitud constancia lectura                                       3\n",
      "facturacion a la fecha                                             2\n",
      "inscripcion, retiro o bloqueo de tarjeta pfs                       2\n",
      "descongelados covid-19                                             2\n",
      "condicion especial por solicitud del propietario                   2\n",
      "requerimientos entes oficiales o entidades externas                2\n",
      "cambio de plazo en la financiacion pfs                             2\n",
      "tramite recurso de queja sspd                                      2\n",
      "estado deuda pfs                                                   1\n",
      "desenergizacion de infraestructura                                 1\n",
      "modificar cobros de terceros                                       1\n",
      "revision presunto sap                                              1\n",
      "actualizacion por habeas data                                      1\n",
      "dtype: int64\n",
      "\n",
      "\n",
      "queja: \n",
      "\n",
      "tipo_solicitud_1                                                \n",
      "falla en la prestacion del servicio por continuida                  250\n",
      "inconformidad con el canal de atencion                              108\n",
      "falla en la prestacion del servicio por calidad                      66\n",
      "entrega inoportuna o no entrega de la factura                        38\n",
      "inconformidad con la informacion                                     36\n",
      "inconformidad trabajos                                               18\n",
      "inconformidad punto de venta y/o recaudo                             16\n",
      "comportamiento funcionario (trabajador-contra)                       14\n",
      "demora en atender peticion                                           10\n",
      "falla en la prestacion del servicio por continuidad                   8\n",
      "incumplimiento revision en las fechas establ                          5\n",
      "demora en reparar dano                                                4\n",
      "suspension o corte del servicio                                       4\n",
      "inconformidad por la programacion de interrupciones del servicio      3\n",
      "comportamiento funcionario, trabajador o contratista                  2\n",
      "levantamiento de desechos vegetales                                   1\n",
      "inconformidad en la atencion de condiciones de seg                    1\n",
      "inconformidad por la programacion de interrupcione                    1\n",
      "inconformidad venta portafolio                                        1\n",
      "afectacion ambiental                                                  1\n",
      "dtype: int64\n",
      "\n",
      "\n",
      "reclamo: \n",
      "\n",
      "tipo_solicitud_1                                      \n",
      "inconformidad con el consumo o produccion factura         1530\n",
      "inconformidad con el consumo o produccion facturado        100\n",
      "cobro de cargos relacionados con el servicio publi          84\n",
      "pago sin abono a cuenta                                     75\n",
      "cobros por promedio                                         25\n",
      "subsidios y contribuciones                                  22\n",
      "cobros por conexion, reconexion, reinstalacion              19\n",
      "cobro de otros bienes o servicios en la factura             14\n",
      "estrato incorrecto                                          13\n",
      "cobro multiple y/o acumulado                                10\n",
      "cobro de cargos relacionados con el servicio publico         9\n",
      "tarifa incorrecta                                            7\n",
      "cobro de acuerdo de pago o financiacion                      6\n",
      "solicitud de rompimiento de solidaridad                      5\n",
      "clase de uso incorrecto                                      5\n",
      "cobro desconocido                                            4\n",
      "cobro por recuperacion de consumos                           3\n",
      "inconformidad con el aforo                                   2\n",
      "cobro de revisiones                                          2\n",
      "inconformidad por cobros por normalizacion del ser           2\n",
      "inconformidad por cobros por normalizacion del sevicio       2\n",
      "cobros inoportunos                                           1\n",
      "cobro de otros bienes y servicios en la factura              1\n",
      "dtype: int64\n",
      "\n",
      "\n",
      "recurso: \n",
      "\n",
      "tipo_solicitud_1                                  \n",
      "inconformidad con el consumo o produccion facturad    258\n",
      "cobro de otros bienes o servicios en la factura         3\n",
      "subsidios y contribuciones                              2\n",
      "solicitud de rompimiento de solidaridad                 2\n",
      "pago sin abono a cuenta                                 2\n",
      "negacion del servicio                                   2\n",
      "cobros por promedio                                     2\n",
      "cobros inoportunos                                      2\n",
      "tarifa incorrecta                                       1\n",
      "otros motivos de recurso                                1\n",
      "cobro de cargos relacionados con el servicio publi      1\n",
      "clase de uso incorrecto                                 1\n",
      "dtype: int64\n",
      "\n",
      "\n",
      "pedidos/proyectos: \n",
      "\n",
      "tipo_solicitud_1                               \n",
      "solicitud factibilidad del servicio                63\n",
      "portafolio trabajos a terceros con cotizacion      58\n",
      "revision de proyectos electricos nivel ii y iii    34\n",
      "cambio de sistema                                  29\n",
      "provisional a definitivo                           23\n",
      "portafolio instalaciones sin cotizacion            21\n",
      "solicitud cambio de comercializador (exporta)      13\n",
      "solicitud de interventoria                         11\n",
      "revision de proyectos electricos nivel i           10\n",
      "solicitud viabilidad compra/donacion activos        5\n",
      "liquidacion de conexos proyectos                    5\n",
      "solicitud participacion expansion                   2\n",
      "visita puesta en servicio                           1\n",
      "retiro de servicios temporales                      1\n",
      "cancelacion de provisional                          1\n",
      "cambio de comercializador                           1\n",
      "dtype: int64\n",
      "\n",
      "\n"
     ]
    }
   ],
   "source": [
    "tipos_solicitud = df_copy['tipo_solicitud'].unique().tolist()\n",
    "for s in tipos_solicitud:\n",
    "    print(f\"{s}: \\n\")\n",
    "    print(df_copy[df_copy['tipo_solicitud']==s][['tipo_solicitud_1']].value_counts())\n",
    "    print(\"\\n\")"
   ]
  },
  {
   "cell_type": "code",
   "execution_count": 27,
   "metadata": {},
   "outputs": [
    {
     "data": {
      "text/plain": [
       "['actualizacion por habeas data',\n",
       " 'aplicacion beneficio propiedad o venta de activos',\n",
       " 'cambio datos basicos',\n",
       " 'cambio de datos basicos',\n",
       " 'cambio de plazo en la financiacion pfs',\n",
       " 'cambio de uso',\n",
       " 'condicion especial por solicitud del propietario',\n",
       " 'condicion especial solicitud propietario',\n",
       " 'dano en equipo electrico',\n",
       " 'danos en equipo electrico',\n",
       " 'descongelados covid-19',\n",
       " 'desenergizacion de infraestructura',\n",
       " 'devolucion o traslado de saldo a favor',\n",
       " 'devolucion y/o copia de documentos',\n",
       " 'direccion incorrecta',\n",
       " 'emision de documento para pago',\n",
       " 'estado deuda pfs',\n",
       " 'exencion contribucion',\n",
       " 'facturacion a la fecha',\n",
       " 'gestionar financiacion',\n",
       " 'informacion general',\n",
       " 'inscripcion, retiro o bloqueo de tarjeta pfs',\n",
       " 'modificacion de infraestructura por incumplimiento',\n",
       " 'modificar cobros de terceros',\n",
       " 'normalizar instalacion',\n",
       " 'pago de la factura de otro usuario',\n",
       " 'pago parcial',\n",
       " 'perjuicios por falla en la prestacion del servicio',\n",
       " 'poda de arboles',\n",
       " 'reclamacion extemporanea o agotada la via administ',\n",
       " 'reconexion',\n",
       " 'reinstalacion',\n",
       " 'requerimiento competencia de otra empresa',\n",
       " 'requerimientos entes oficiales o entidades externa',\n",
       " 'requerimientos entes oficiales o entidades externas',\n",
       " 'requerimientos sspd o sic',\n",
       " 'revision presunto sap',\n",
       " 'separacion temporal o pago dirigido',\n",
       " 'solicitud constancia lectura',\n",
       " 'suspension del servicio',\n",
       " 'terminacion del contrato',\n",
       " 'trabajos tecnicos en med, trafos, acometidas o en infraestr.',\n",
       " 'trabajos tecnicos en medidores, transformadores, a',\n",
       " 'tramite recurso de queja sspd',\n",
       " 'traslado de deuda',\n",
       " 'valores congelados']"
      ]
     },
     "execution_count": 27,
     "metadata": {},
     "output_type": "execute_result"
    }
   ],
   "source": [
    "sorted(df_copy[df_copy['tipo_solicitud']=='peticion']['tipo_solicitud_1'].unique().tolist())"
   ]
  },
  {
   "cell_type": "code",
   "execution_count": 28,
   "metadata": {},
   "outputs": [],
   "source": [
    "## hay un monton de tipos de solicitudes nivel 2 que realmente son las mismas\n",
    "## ej: 'revision, mntto, remodelacion o expansion infraestruc. a.p.' ==  'revision, mtto, remodelacion o expansion a.p'\n",
    "## vamos a estandarizar esto.\n",
    "##"
   ]
  },
  {
   "cell_type": "code",
   "execution_count": 29,
   "metadata": {},
   "outputs": [],
   "source": [
    "import Levenshtein as lev"
   ]
  },
  {
   "cell_type": "code",
   "execution_count": 30,
   "metadata": {},
   "outputs": [],
   "source": [
    "tipo_sol_nv2_p = []\n",
    "tipo_sol_nv2_r = []\n",
    "tipo_sol_nv2_pro = []\n",
    "tipo_sol_nv2_q = []\n",
    "tipo_sol_nv2_rso = []\n",
    "for s in tipos_solicitud:\n",
    "    temp = sorted(df_copy[df_copy['tipo_solicitud']==s]['tipo_solicitud_1'].unique().tolist())\n",
    "    for i in range(len(temp) - 1):\n",
    "        a = temp[i]\n",
    "        b = temp[i+1]\n",
    "        ratio = lev.ratio(a, b)\n",
    "        if ratio >= 0.75:\n",
    "            if s == 'peticion':\n",
    "                if a not in tipo_sol_nv2_p:\n",
    "                    tipo_sol_nv2_p.append(a)\n",
    "            elif s == 'reclamo':\n",
    "                if a not in tipo_sol_nv2_r:\n",
    "                    tipo_sol_nv2_r.append(a)\n",
    "            elif s == 'pedidos/proyectos':\n",
    "                if a not in tipo_sol_nv2_pro:\n",
    "                    tipo_sol_nv2_pro.append(a)\n",
    "            elif s == 'queja':\n",
    "                if a not in tipo_sol_nv2_q:\n",
    "                    tipo_sol_nv2_q.append(a)\n",
    "            else:\n",
    "                if a not in tipo_sol_nv2_rso:\n",
    "                    tipo_sol_nv2_rso.append(a)\n",
    "        else:\n",
    "            if s == 'peticion':\n",
    "                if b not in tipo_sol_nv2_p:\n",
    "                    tipo_sol_nv2_p.append(b)\n",
    "            elif s == 'reclamo':\n",
    "                if b not in tipo_sol_nv2_r:\n",
    "                    tipo_sol_nv2_r.append(b)\n",
    "            elif s == 'pedidos/proyectos':\n",
    "                if b not in tipo_sol_nv2_pro:\n",
    "                    tipo_sol_nv2_pro.append(b)\n",
    "            elif s == 'queja':\n",
    "                if b not in tipo_sol_nv2_q:\n",
    "                    tipo_sol_nv2_q.append(b)\n",
    "            else:\n",
    "                if b not in tipo_sol_nv2_rso:\n",
    "                    tipo_sol_nv2_rso.append(b)"
   ]
  },
  {
   "cell_type": "code",
   "execution_count": 31,
   "metadata": {},
   "outputs": [
    {
     "data": {
      "text/plain": [
       "46"
      ]
     },
     "execution_count": 31,
     "metadata": {},
     "output_type": "execute_result"
    }
   ],
   "source": [
    "len(sorted(df_copy[df_copy['tipo_solicitud']=='peticion']['tipo_solicitud_1'].unique().tolist()))"
   ]
  },
  {
   "cell_type": "code",
   "execution_count": 32,
   "metadata": {},
   "outputs": [
    {
     "data": {
      "text/plain": [
       "41"
      ]
     },
     "execution_count": 32,
     "metadata": {},
     "output_type": "execute_result"
    }
   ],
   "source": [
    "len(tipo_sol_nv2_p)"
   ]
  },
  {
   "cell_type": "code",
   "execution_count": 33,
   "metadata": {},
   "outputs": [
    {
     "data": {
      "text/plain": [
       "['actualizacion por habeas data',\n",
       " 'aplicacion beneficio propiedad o venta de activos',\n",
       " 'cambio datos basicos',\n",
       " 'cambio de plazo en la financiacion pfs',\n",
       " 'cambio de uso',\n",
       " 'condicion especial por solicitud del propietario',\n",
       " 'dano en equipo electrico',\n",
       " 'descongelados covid-19',\n",
       " 'desenergizacion de infraestructura',\n",
       " 'devolucion o traslado de saldo a favor',\n",
       " 'devolucion y/o copia de documentos',\n",
       " 'direccion incorrecta',\n",
       " 'emision de documento para pago',\n",
       " 'estado deuda pfs',\n",
       " 'exencion contribucion',\n",
       " 'facturacion a la fecha',\n",
       " 'gestionar financiacion',\n",
       " 'informacion general',\n",
       " 'inscripcion, retiro o bloqueo de tarjeta pfs',\n",
       " 'modificacion de infraestructura por incumplimiento',\n",
       " 'modificar cobros de terceros',\n",
       " 'normalizar instalacion',\n",
       " 'pago de la factura de otro usuario',\n",
       " 'pago parcial',\n",
       " 'perjuicios por falla en la prestacion del servicio',\n",
       " 'poda de arboles',\n",
       " 'reclamacion extemporanea o agotada la via administ',\n",
       " 'reconexion',\n",
       " 'reinstalacion',\n",
       " 'requerimiento competencia de otra empresa',\n",
       " 'requerimientos entes oficiales o entidades externa',\n",
       " 'requerimientos sspd o sic',\n",
       " 'revision presunto sap',\n",
       " 'separacion temporal o pago dirigido',\n",
       " 'solicitud constancia lectura',\n",
       " 'suspension del servicio',\n",
       " 'terminacion del contrato',\n",
       " 'trabajos tecnicos en med, trafos, acometidas o en infraestr.',\n",
       " 'trabajos tecnicos en medidores, transformadores, a',\n",
       " 'tramite recurso de queja sspd',\n",
       " 'traslado de deuda',\n",
       " 'valores congelados']"
      ]
     },
     "execution_count": 33,
     "metadata": {},
     "output_type": "execute_result"
    }
   ],
   "source": [
    "tipo_sol_nv2_p.append('actualizacion por habeas data')\n",
    "tipo_sol_nv2_p = sorted(tipo_sol_nv2_p)\n",
    "tipo_sol_nv2_p"
   ]
  },
  {
   "cell_type": "code",
   "execution_count": 34,
   "metadata": {},
   "outputs": [],
   "source": [
    "tipo_sol_nv2_p.remove('trabajos tecnicos en med, trafos, acometidas o en infraestr.')"
   ]
  },
  {
   "cell_type": "code",
   "execution_count": 35,
   "metadata": {},
   "outputs": [
    {
     "data": {
      "text/plain": [
       "23"
      ]
     },
     "execution_count": 35,
     "metadata": {},
     "output_type": "execute_result"
    }
   ],
   "source": [
    "len(sorted(df_copy[df_copy['tipo_solicitud']=='reclamo']['tipo_solicitud_1'].unique().tolist()))"
   ]
  },
  {
   "cell_type": "code",
   "execution_count": 36,
   "metadata": {},
   "outputs": [
    {
     "data": {
      "text/plain": [
       "18"
      ]
     },
     "execution_count": 36,
     "metadata": {},
     "output_type": "execute_result"
    }
   ],
   "source": [
    "len(tipo_sol_nv2_r)"
   ]
  },
  {
   "cell_type": "code",
   "execution_count": 37,
   "metadata": {},
   "outputs": [
    {
     "data": {
      "text/plain": [
       "['clase de uso incorrecto',\n",
       " 'cobro de acuerdo de pago o financiacion',\n",
       " 'cobro de cargos relacionados con el servicio publi',\n",
       " 'cobro de otros bienes o servicios en la factura',\n",
       " 'cobro de revisiones',\n",
       " 'cobro desconocido',\n",
       " 'cobro multiple y/o acumulado',\n",
       " 'cobro por recuperacion de consumos',\n",
       " 'cobros inoportunos',\n",
       " 'cobros por conexion, reconexion, reinstalacion',\n",
       " 'cobros por promedio',\n",
       " 'estrato incorrecto',\n",
       " 'inconformidad con el aforo',\n",
       " 'inconformidad con el consumo o produccion factura',\n",
       " 'inconformidad por cobros por normalizacion del ser',\n",
       " 'pago sin abono a cuenta',\n",
       " 'solicitud de rompimiento de solidaridad',\n",
       " 'subsidios y contribuciones',\n",
       " 'tarifa incorrecta']"
      ]
     },
     "execution_count": 37,
     "metadata": {},
     "output_type": "execute_result"
    }
   ],
   "source": [
    "tipo_sol_nv2_r.append('clase de uso incorrecto')\n",
    "tipo_sol_nv2_r = sorted(tipo_sol_nv2_r)\n",
    "tipo_sol_nv2_r"
   ]
  },
  {
   "cell_type": "code",
   "execution_count": 38,
   "metadata": {},
   "outputs": [
    {
     "data": {
      "text/plain": [
       "16"
      ]
     },
     "execution_count": 38,
     "metadata": {},
     "output_type": "execute_result"
    }
   ],
   "source": [
    "len(sorted(df_copy[df_copy['tipo_solicitud']=='pedidos/proyectos']['tipo_solicitud_1'].unique().tolist()))"
   ]
  },
  {
   "cell_type": "code",
   "execution_count": 39,
   "metadata": {},
   "outputs": [
    {
     "data": {
      "text/plain": [
       "14"
      ]
     },
     "execution_count": 39,
     "metadata": {},
     "output_type": "execute_result"
    }
   ],
   "source": [
    "len(tipo_sol_nv2_pro)"
   ]
  },
  {
   "cell_type": "code",
   "execution_count": 40,
   "metadata": {},
   "outputs": [
    {
     "data": {
      "text/plain": [
       "['asesoria de proyectos',\n",
       " 'cambio de sistema',\n",
       " 'cancelacion de provisional',\n",
       " 'liquidacion de conexos proyectos',\n",
       " 'portafolio instalaciones sin cotizacion',\n",
       " 'portafolio trabajos a terceros con cotizacion',\n",
       " 'provisional a definitivo',\n",
       " 'retiro de servicios temporales',\n",
       " 'revision de proyectos electricos nivel i',\n",
       " 'revision de proyectos electricos nivel ii y iii',\n",
       " 'solicitud cambio de comercializador (exporta)',\n",
       " 'solicitud de interventoria',\n",
       " 'solicitud factibilidad del servicio',\n",
       " 'solicitud participacion expansion',\n",
       " 'solicitud viabilidad compra/donacion activos',\n",
       " 'visita puesta en servicio']"
      ]
     },
     "execution_count": 40,
     "metadata": {},
     "output_type": "execute_result"
    }
   ],
   "source": [
    "tipo_sol_nv2_pro.append('asesoria de proyectos')\n",
    "tipo_sol_nv2_pro.append('revision de proyectos electricos nivel ii y iii')\n",
    "tipo_sol_nv2_pro = sorted(tipo_sol_nv2_pro)\n",
    "tipo_sol_nv2_pro"
   ]
  },
  {
   "cell_type": "code",
   "execution_count": 41,
   "metadata": {},
   "outputs": [
    {
     "data": {
      "text/plain": [
       "20"
      ]
     },
     "execution_count": 41,
     "metadata": {},
     "output_type": "execute_result"
    }
   ],
   "source": [
    "len(sorted(df_copy[df_copy['tipo_solicitud']=='queja']['tipo_solicitud_1'].unique().tolist()))"
   ]
  },
  {
   "cell_type": "code",
   "execution_count": 42,
   "metadata": {},
   "outputs": [
    {
     "data": {
      "text/plain": [
       "16"
      ]
     },
     "execution_count": 42,
     "metadata": {},
     "output_type": "execute_result"
    }
   ],
   "source": [
    "len(tipo_sol_nv2_q)"
   ]
  },
  {
   "cell_type": "code",
   "execution_count": 43,
   "metadata": {},
   "outputs": [
    {
     "data": {
      "text/plain": [
       "['afectacion ambiental',\n",
       " 'comportamiento funcionario (trabajador-contra)',\n",
       " 'demora en atender peticion',\n",
       " 'demora en reparar dano',\n",
       " 'entrega inoportuna o no entrega de la factura',\n",
       " 'falla en la prestacion del servicio por calidad',\n",
       " 'falla en la prestacion del servicio por continuida',\n",
       " 'inconformidad con el canal de atencion',\n",
       " 'inconformidad con la informacion',\n",
       " 'inconformidad en la atencion de condiciones de seg',\n",
       " 'inconformidad por la programacion de interrupcione',\n",
       " 'inconformidad punto de venta y/o recaudo',\n",
       " 'inconformidad trabajos',\n",
       " 'inconformidad venta portafolio',\n",
       " 'incumplimiento revision en las fechas establ',\n",
       " 'levantamiento de desechos vegetales',\n",
       " 'suspension o corte del servicio']"
      ]
     },
     "execution_count": 43,
     "metadata": {},
     "output_type": "execute_result"
    }
   ],
   "source": [
    "tipo_sol_nv2_q.append('afectacion ambiental')\n",
    "tipo_sol_nv2_q = sorted(tipo_sol_nv2_q)\n",
    "tipo_sol_nv2_q"
   ]
  },
  {
   "cell_type": "code",
   "execution_count": 44,
   "metadata": {},
   "outputs": [
    {
     "data": {
      "text/plain": [
       "12"
      ]
     },
     "execution_count": 44,
     "metadata": {},
     "output_type": "execute_result"
    }
   ],
   "source": [
    "len(sorted(df_copy[df_copy['tipo_solicitud']=='recurso']['tipo_solicitud_1'].unique().tolist()))"
   ]
  },
  {
   "cell_type": "code",
   "execution_count": 45,
   "metadata": {},
   "outputs": [
    {
     "data": {
      "text/plain": [
       "['clase de uso incorrecto',\n",
       " 'cobro de cargos relacionados con el servicio publi',\n",
       " 'cobro de otros bienes o servicios en la factura',\n",
       " 'cobros inoportunos',\n",
       " 'cobros por promedio',\n",
       " 'inconformidad con el consumo o produccion facturad',\n",
       " 'negacion del servicio',\n",
       " 'otros motivos de recurso',\n",
       " 'pago sin abono a cuenta',\n",
       " 'solicitud de rompimiento de solidaridad',\n",
       " 'subsidios y contribuciones',\n",
       " 'tarifa incorrecta']"
      ]
     },
     "execution_count": 45,
     "metadata": {},
     "output_type": "execute_result"
    }
   ],
   "source": [
    "tipo_sol_nv2_rso = sorted(df_copy[df_copy['tipo_solicitud']=='recurso']['tipo_solicitud_1'].unique().tolist())\n",
    "tipo_sol_nv2_rso"
   ]
  },
  {
   "cell_type": "code",
   "execution_count": 46,
   "metadata": {},
   "outputs": [],
   "source": [
    "## Los siguientes tipos de solicitudes nivel 1 si tuvieron cambion en los\n",
    "## niveles 2: peticion, reclamo, pedidos/proyectos, queja\n",
    "## estos se procederan a estadarizarce.\n",
    "##\n",
    "def nv2_replacements(solicitud_nv2):\n",
    "    s = tipo_sol_nv2_p + tipo_sol_nv2_r + tipo_sol_nv2_pro + tipo_sol_nv2_q + tipo_sol_nv2_rso\n",
    "    s.remove('revision de proyectos electricos nivel i')\n",
    "    s.remove('revision de proyectos electricos nivel ii y iii')\n",
    "    s.remove('falla en la prestacion del servicio por calidad')\n",
    "    s.remove('falla en la prestacion del servicio por continuida')\n",
    "    for element in s:\n",
    "        if lev.ratio(element, solicitud_nv2) >= 0.75:\n",
    "            solicitud_nv2 = element\n",
    "        else:\n",
    "            solicitud_nv2\n",
    "    return solicitud_nv2"
   ]
  },
  {
   "cell_type": "code",
   "execution_count": 47,
   "metadata": {},
   "outputs": [],
   "source": [
    "df_copy['tipo_solicitud_1'] = df_copy['tipo_solicitud_1'].map(nv2_replacements)"
   ]
  },
  {
   "cell_type": "code",
   "execution_count": 48,
   "metadata": {},
   "outputs": [
    {
     "data": {
      "text/plain": [
       "['actualizacion por habeas data',\n",
       " 'afectacion ambiental',\n",
       " 'aplicacion beneficio propiedad o venta de activos',\n",
       " 'cambio datos basicos',\n",
       " 'cambio de comercializador',\n",
       " 'cambio de plazo en la financiacion pfs',\n",
       " 'cambio de sistema',\n",
       " 'cambio de uso',\n",
       " 'cancelacion de provisional',\n",
       " 'clase de uso incorrecto',\n",
       " 'cobro de acuerdo de pago o financiacion',\n",
       " 'cobro de cargos relacionados con el servicio publi',\n",
       " 'cobro de otros bienes o servicios en la factura',\n",
       " 'cobro de revisiones',\n",
       " 'cobro desconocido',\n",
       " 'cobro multiple y/o acumulado',\n",
       " 'cobro por recuperacion de consumos',\n",
       " 'cobros inoportunos',\n",
       " 'cobros por conexion, reconexion, reinstalacion',\n",
       " 'cobros por promedio',\n",
       " 'comportamiento funcionario (trabajador-contra)',\n",
       " 'condicion especial por solicitud del propietario',\n",
       " 'dano en equipo electrico',\n",
       " 'demora en atender peticion',\n",
       " 'demora en reparar dano',\n",
       " 'descongelados covid-19',\n",
       " 'desenergizacion de infraestructura',\n",
       " 'devolucion o traslado de saldo a favor',\n",
       " 'devolucion y/o copia de documentos',\n",
       " 'direccion incorrecta',\n",
       " 'emision de documento para pago',\n",
       " 'entrega inoportuna o no entrega de la factura',\n",
       " 'estado deuda pfs',\n",
       " 'estrato incorrecto',\n",
       " 'exencion contribucion',\n",
       " 'facturacion a la fecha',\n",
       " 'falla en la prestacion del servicio por calidad',\n",
       " 'falla en la prestacion del servicio por continuida',\n",
       " 'falla en la prestacion del servicio por continuidad',\n",
       " 'gestionar financiacion',\n",
       " 'inconformidad con el canal de atencion',\n",
       " 'inconformidad con el consumo o produccion facturad',\n",
       " 'inconformidad con la informacion',\n",
       " 'inconformidad en la atencion de condiciones de seg',\n",
       " 'inconformidad por cobros por normalizacion del ser',\n",
       " 'inconformidad por la programacion de interrupcione',\n",
       " 'inconformidad punto de venta y/o recaudo',\n",
       " 'inconformidad trabajos',\n",
       " 'inconformidad venta portafolio',\n",
       " 'incumplimiento revision en las fechas establ',\n",
       " 'informacion general',\n",
       " 'inscripcion, retiro o bloqueo de tarjeta pfs',\n",
       " 'levantamiento de desechos vegetales',\n",
       " 'liquidacion de conexos proyectos',\n",
       " 'modificacion de infraestructura por incumplimiento',\n",
       " 'modificar cobros de terceros',\n",
       " 'normalizar instalacion',\n",
       " 'otros motivos de recurso',\n",
       " 'pago de la factura de otro usuario',\n",
       " 'pago parcial',\n",
       " 'pago sin abono a cuenta',\n",
       " 'perjuicios por falla en la prestacion del servicio',\n",
       " 'poda de arboles',\n",
       " 'portafolio instalaciones sin cotizacion',\n",
       " 'portafolio trabajos a terceros con cotizacion',\n",
       " 'provisional a definitivo',\n",
       " 'reclamacion extemporanea o agotada la via administ',\n",
       " 'reconexion',\n",
       " 'reinstalacion',\n",
       " 'requerimiento competencia de otra empresa',\n",
       " 'requerimientos entes oficiales o entidades externa',\n",
       " 'requerimientos sspd o sic',\n",
       " 'retiro de servicios temporales',\n",
       " 'revision de proyectos electricos nivel i',\n",
       " 'revision de proyectos electricos nivel ii y iii',\n",
       " 'revision presunto sap',\n",
       " 'separacion temporal o pago dirigido',\n",
       " 'solicitud cambio de comercializador (exporta)',\n",
       " 'solicitud constancia lectura',\n",
       " 'solicitud de interventoria',\n",
       " 'solicitud de rompimiento de solidaridad',\n",
       " 'solicitud factibilidad del servicio',\n",
       " 'solicitud participacion expansion',\n",
       " 'solicitud viabilidad compra/donacion activos',\n",
       " 'subsidios y contribuciones',\n",
       " 'suspension o corte del servicio',\n",
       " 'tarifa incorrecta',\n",
       " 'terminacion del contrato',\n",
       " 'trabajos tecnicos en med, trafos, acometidas o en infraestr.',\n",
       " 'trabajos tecnicos en medidores, transformadores, a',\n",
       " 'tramite recurso de queja sspd',\n",
       " 'traslado de deuda',\n",
       " 'valores congelados',\n",
       " 'visita puesta en servicio']"
      ]
     },
     "execution_count": 48,
     "metadata": {},
     "output_type": "execute_result"
    }
   ],
   "source": [
    "sorted(df_copy['tipo_solicitud_1'].unique().tolist())"
   ]
  },
  {
   "cell_type": "code",
   "execution_count": 49,
   "metadata": {},
   "outputs": [],
   "source": [
    "df_copy['tipo_solicitud_1'] = df_copy['tipo_solicitud_1'].map(lambda x: 'falla en la prestacion del servicio por continuidad' if x=='falla en la prestacion del servicio por continuida' else x)\n",
    "df_copy['tipo_solicitud_1'] = df_copy['tipo_solicitud_1'].map(lambda x: 'trabajos tecnicos en med, trafos, acometidas o en infraestr.' if x=='trabajos tecnicos en medidores, transformadores, a' else x)"
   ]
  },
  {
   "cell_type": "code",
   "execution_count": 50,
   "metadata": {},
   "outputs": [
    {
     "data": {
      "text/plain": [
       "['actualizacion por habeas data',\n",
       " 'afectacion ambiental',\n",
       " 'aplicacion beneficio propiedad o venta de activos',\n",
       " 'cambio datos basicos',\n",
       " 'cambio de comercializador',\n",
       " 'cambio de plazo en la financiacion pfs',\n",
       " 'cambio de sistema',\n",
       " 'cambio de uso',\n",
       " 'cancelacion de provisional',\n",
       " 'clase de uso incorrecto',\n",
       " 'cobro de acuerdo de pago o financiacion',\n",
       " 'cobro de cargos relacionados con el servicio publi',\n",
       " 'cobro de otros bienes o servicios en la factura',\n",
       " 'cobro de revisiones',\n",
       " 'cobro desconocido',\n",
       " 'cobro multiple y/o acumulado',\n",
       " 'cobro por recuperacion de consumos',\n",
       " 'cobros inoportunos',\n",
       " 'cobros por conexion, reconexion, reinstalacion',\n",
       " 'cobros por promedio',\n",
       " 'comportamiento funcionario (trabajador-contra)',\n",
       " 'condicion especial por solicitud del propietario',\n",
       " 'dano en equipo electrico',\n",
       " 'demora en atender peticion',\n",
       " 'demora en reparar dano',\n",
       " 'descongelados covid-19',\n",
       " 'desenergizacion de infraestructura',\n",
       " 'devolucion o traslado de saldo a favor',\n",
       " 'devolucion y/o copia de documentos',\n",
       " 'direccion incorrecta',\n",
       " 'emision de documento para pago',\n",
       " 'entrega inoportuna o no entrega de la factura',\n",
       " 'estado deuda pfs',\n",
       " 'estrato incorrecto',\n",
       " 'exencion contribucion',\n",
       " 'facturacion a la fecha',\n",
       " 'falla en la prestacion del servicio por calidad',\n",
       " 'falla en la prestacion del servicio por continuidad',\n",
       " 'gestionar financiacion',\n",
       " 'inconformidad con el canal de atencion',\n",
       " 'inconformidad con el consumo o produccion facturad',\n",
       " 'inconformidad con la informacion',\n",
       " 'inconformidad en la atencion de condiciones de seg',\n",
       " 'inconformidad por cobros por normalizacion del ser',\n",
       " 'inconformidad por la programacion de interrupcione',\n",
       " 'inconformidad punto de venta y/o recaudo',\n",
       " 'inconformidad trabajos',\n",
       " 'inconformidad venta portafolio',\n",
       " 'incumplimiento revision en las fechas establ',\n",
       " 'informacion general',\n",
       " 'inscripcion, retiro o bloqueo de tarjeta pfs',\n",
       " 'levantamiento de desechos vegetales',\n",
       " 'liquidacion de conexos proyectos',\n",
       " 'modificacion de infraestructura por incumplimiento',\n",
       " 'modificar cobros de terceros',\n",
       " 'normalizar instalacion',\n",
       " 'otros motivos de recurso',\n",
       " 'pago de la factura de otro usuario',\n",
       " 'pago parcial',\n",
       " 'pago sin abono a cuenta',\n",
       " 'perjuicios por falla en la prestacion del servicio',\n",
       " 'poda de arboles',\n",
       " 'portafolio instalaciones sin cotizacion',\n",
       " 'portafolio trabajos a terceros con cotizacion',\n",
       " 'provisional a definitivo',\n",
       " 'reclamacion extemporanea o agotada la via administ',\n",
       " 'reconexion',\n",
       " 'reinstalacion',\n",
       " 'requerimiento competencia de otra empresa',\n",
       " 'requerimientos entes oficiales o entidades externa',\n",
       " 'requerimientos sspd o sic',\n",
       " 'retiro de servicios temporales',\n",
       " 'revision de proyectos electricos nivel i',\n",
       " 'revision de proyectos electricos nivel ii y iii',\n",
       " 'revision presunto sap',\n",
       " 'separacion temporal o pago dirigido',\n",
       " 'solicitud cambio de comercializador (exporta)',\n",
       " 'solicitud constancia lectura',\n",
       " 'solicitud de interventoria',\n",
       " 'solicitud de rompimiento de solidaridad',\n",
       " 'solicitud factibilidad del servicio',\n",
       " 'solicitud participacion expansion',\n",
       " 'solicitud viabilidad compra/donacion activos',\n",
       " 'subsidios y contribuciones',\n",
       " 'suspension o corte del servicio',\n",
       " 'tarifa incorrecta',\n",
       " 'terminacion del contrato',\n",
       " 'trabajos tecnicos en med, trafos, acometidas o en infraestr.',\n",
       " 'tramite recurso de queja sspd',\n",
       " 'traslado de deuda',\n",
       " 'valores congelados',\n",
       " 'visita puesta en servicio']"
      ]
     },
     "execution_count": 50,
     "metadata": {},
     "output_type": "execute_result"
    }
   ],
   "source": [
    "sorted(df_copy['tipo_solicitud_1'].unique().tolist())"
   ]
  },
  {
   "cell_type": "code",
   "execution_count": 51,
   "metadata": {},
   "outputs": [
    {
     "name": "stdout",
     "output_type": "stream",
     "text": [
      "Se pasó de tener 113 solicitudes nivel 2 a 92\n"
     ]
    }
   ],
   "source": [
    "## los resultados de estos cambios\n",
    "##\n",
    "print(f\"Se pasó de tener {len(df['tipo_solicitud_1'].unique())} solicitudes nivel 2 a {len(df_copy['tipo_solicitud_1'].unique())}\")"
   ]
  },
  {
   "cell_type": "markdown",
   "metadata": {},
   "source": [
    "Esta primer parte de exploración dejó como resultado una depuración de registros sin sentido y con poco valor semántico, además de una depuración de clasificaciones nivel 2.\n",
    "\n",
    "A continuación, se procede con el preprocesamiento"
   ]
  },
  {
   "cell_type": "code",
   "execution_count": 52,
   "metadata": {},
   "outputs": [],
   "source": [
    "## solo se identifica un bi-grama que no genera valor: ('autogest', 'autogestión')\n",
    "##\n",
    "df_copy['OBSERVACION USUARIO'] = df_copy['OBSERVACION USUARIO'].map(lambda x: x.replace('autogest autogestion', ''))"
   ]
  },
  {
   "cell_type": "code",
   "execution_count": 53,
   "metadata": {},
   "outputs": [],
   "source": [
    "df_copy['OBSERVACION USUARIO'] = df_copy['OBSERVACION USUARIO'].map(lambda x: x.replace('autogest autogestión', ''))"
   ]
  },
  {
   "cell_type": "code",
   "execution_count": 54,
   "metadata": {},
   "outputs": [],
   "source": [
    "## Se eliminan espacios dobles\n",
    "##\n",
    "df_copy['OBSERVACION USUARIO'] = df_copy['OBSERVACION USUARIO'].map(lambda x: x.replace('  ', ' '))"
   ]
  },
  {
   "cell_type": "code",
   "execution_count": 55,
   "metadata": {},
   "outputs": [
    {
     "data": {
      "text/plain": [
       "peticion             3996\n",
       "reclamo              1941\n",
       "queja                 587\n",
       "pedidos/proyectos     278\n",
       "recurso               277\n",
       "Name: tipo_solicitud, dtype: int64"
      ]
     },
     "execution_count": 55,
     "metadata": {},
     "output_type": "execute_result"
    }
   ],
   "source": [
    "df_copy['tipo_solicitud'].value_counts()"
   ]
  },
  {
   "cell_type": "code",
   "execution_count": 56,
   "metadata": {},
   "outputs": [],
   "source": [
    "## ----- A partir de aquí nos centraremos en equilibrar los tipos de solicitudes -----\n",
    "## la idea acá es balancear un poco la cantidad de registros entre categorias\n",
    "## las peticiones hay que reducirlas lo máximo posible podemos quedar al menos con\n",
    "## unas 10,000 al igual que los reclamos tener unos 10,000. Por el lado de los recursos\n",
    "## se ensayará creando unos registros sintéticos con LSTM."
   ]
  },
  {
   "cell_type": "code",
   "execution_count": 57,
   "metadata": {},
   "outputs": [],
   "source": [
    "datos = df_copy[['tipo_solicitud', 'tipo_solicitud_1', 'OBSERVACION USUARIO']]"
   ]
  },
  {
   "cell_type": "code",
   "execution_count": 58,
   "metadata": {},
   "outputs": [
    {
     "data": {
      "text/plain": [
       "peticion             3996\n",
       "reclamo              1941\n",
       "queja                 587\n",
       "pedidos/proyectos     278\n",
       "recurso               277\n",
       "Name: tipo_solicitud, dtype: int64"
      ]
     },
     "execution_count": 58,
     "metadata": {},
     "output_type": "execute_result"
    }
   ],
   "source": [
    "datos['tipo_solicitud'].value_counts()"
   ]
  },
  {
   "cell_type": "code",
   "execution_count": 59,
   "metadata": {},
   "outputs": [],
   "source": [
    "## Exploremos las peticiones y miremos como hacemos para depurarlas"
   ]
  },
  {
   "cell_type": "code",
   "execution_count": 60,
   "metadata": {},
   "outputs": [
    {
     "data": {
      "text/html": [
       "<div>\n",
       "<style scoped>\n",
       "    .dataframe tbody tr th:only-of-type {\n",
       "        vertical-align: middle;\n",
       "    }\n",
       "\n",
       "    .dataframe tbody tr th {\n",
       "        vertical-align: top;\n",
       "    }\n",
       "\n",
       "    .dataframe thead th {\n",
       "        text-align: right;\n",
       "    }\n",
       "</style>\n",
       "<table border=\"1\" class=\"dataframe\">\n",
       "  <thead>\n",
       "    <tr style=\"text-align: right;\">\n",
       "      <th></th>\n",
       "      <th>tipo_solicitud</th>\n",
       "      <th>tipo_solicitud_1</th>\n",
       "      <th>OBSERVACION USUARIO</th>\n",
       "    </tr>\n",
       "  </thead>\n",
       "  <tbody>\n",
       "    <tr>\n",
       "      <th>0</th>\n",
       "      <td>peticion</td>\n",
       "      <td>requerimiento competencia de otra empresa</td>\n",
       "      <td>rad - 20190220001010 - señores chec , en el ba...</td>\n",
       "    </tr>\n",
       "    <tr>\n",
       "      <th>2</th>\n",
       "      <td>peticion</td>\n",
       "      <td>informacion general</td>\n",
       "      <td>20190220000106 - hechos yo amparo castro osori...</td>\n",
       "    </tr>\n",
       "    <tr>\n",
       "      <th>3</th>\n",
       "      <td>peticion</td>\n",
       "      <td>emision de documento para pago</td>\n",
       "      <td>rad -+ 20190220000876 - duplicado de factura</td>\n",
       "    </tr>\n",
       "  </tbody>\n",
       "</table>\n",
       "</div>"
      ],
      "text/plain": [
       "  tipo_solicitud                           tipo_solicitud_1  \\\n",
       "0       peticion  requerimiento competencia de otra empresa   \n",
       "2       peticion                        informacion general   \n",
       "3       peticion             emision de documento para pago   \n",
       "\n",
       "                                 OBSERVACION USUARIO  \n",
       "0  rad - 20190220001010 - señores chec , en el ba...  \n",
       "2  20190220000106 - hechos yo amparo castro osori...  \n",
       "3       rad -+ 20190220000876 - duplicado de factura  "
      ]
     },
     "execution_count": 60,
     "metadata": {},
     "output_type": "execute_result"
    }
   ],
   "source": [
    "datos_peticiones = datos[datos['tipo_solicitud']=='peticion'][['tipo_solicitud', 'tipo_solicitud_1', 'OBSERVACION USUARIO']]\n",
    "datos_peticiones.head(3)"
   ]
  },
  {
   "cell_type": "code",
   "execution_count": 61,
   "metadata": {},
   "outputs": [
    {
     "data": {
      "text/plain": [
       "exencion contribucion                                           1591\n",
       "informacion general                                              764\n",
       "cambio datos basicos                                             521\n",
       "trabajos tecnicos en med, trafos, acometidas o en infraestr.     169\n",
       "terminacion del contrato                                         161\n",
       "gestionar financiacion                                           130\n",
       "perjuicios por falla en la prestacion del servicio               120\n",
       "requerimiento competencia de otra empresa                         92\n",
       "devolucion o traslado de saldo a favor                            67\n",
       "traslado de deuda                                                 57\n",
       "emision de documento para pago                                    42\n",
       "separacion temporal o pago dirigido                               34\n",
       "requerimientos sspd o sic                                         29\n",
       "cambio de uso                                                     27\n",
       "poda de arboles                                                   21\n",
       "dano en equipo electrico                                          20\n",
       "suspension o corte del servicio                                   19\n",
       "requerimientos entes oficiales o entidades externa                17\n",
       "condicion especial por solicitud del propietario                  13\n",
       "valores congelados                                                13\n",
       "reclamacion extemporanea o agotada la via administ                13\n",
       "reconexion                                                         9\n",
       "pago de la factura de otro usuario                                 8\n",
       "direccion incorrecta                                               8\n",
       "pago parcial                                                       7\n",
       "aplicacion beneficio propiedad o venta de activos                  6\n",
       "normalizar instalacion                                             5\n",
       "reinstalacion                                                      5\n",
       "devolucion y/o copia de documentos                                 5\n",
       "modificacion de infraestructura por incumplimiento                 5\n",
       "solicitud constancia lectura                                       3\n",
       "tramite recurso de queja sspd                                      2\n",
       "descongelados covid-19                                             2\n",
       "inscripcion, retiro o bloqueo de tarjeta pfs                       2\n",
       "facturacion a la fecha                                             2\n",
       "cambio de plazo en la financiacion pfs                             2\n",
       "revision presunto sap                                              1\n",
       "actualizacion por habeas data                                      1\n",
       "desenergizacion de infraestructura                                 1\n",
       "estado deuda pfs                                                   1\n",
       "modificar cobros de terceros                                       1\n",
       "Name: tipo_solicitud_1, dtype: int64"
      ]
     },
     "execution_count": 61,
     "metadata": {},
     "output_type": "execute_result"
    }
   ],
   "source": [
    "datos_peticiones['tipo_solicitud_1'].value_counts()\n",
    "\n",
    "## para las siguientes categorías se dejan unicamente 1,000 registros por\n",
    "## categoría:\n",
    "## emision de documento para pago                                      \n",
    "## pago parcial                                                        \n",
    "## separacion temporal o pago dirigido                                  \n",
    "## informacion general                                                  \n",
    "## trabajos tecnicos en med, trafos, acometidas o en infraestr.         \n",
    "## datos basicos                                                        \n",
    "## reconexion                                                           \n",
    "## gestionar financiacion                                               \n",
    "## descongelados covid-19                                               \n",
    "## exencion contribucion                                                 \n",
    "## notificacion decision y/o descargos     "
   ]
  },
  {
   "cell_type": "code",
   "execution_count": 62,
   "metadata": {},
   "outputs": [
    {
     "data": {
      "text/plain": [
       "\"peticiones_depurar = ['emision de documento para pago',\\n                      'pago parcial',\\n                      'separacion temporal o pago dirigido',\\n                      'informacion general',\\n                      'trabajos tecnicos en med, trafos, acometidas o en infraestr.',\\n                      'datos basicos',\\n                      'reconexion',\\n                      'gestionar financiacion',\\n                      'descongelados covid-19',\\n                      'exencion contribucion',\\n                      'notificacion decision y/o descargos',\\n                      'inscripcion, retiro o bloqueo de tarjeta pfs',\\n                      'poda de arboles',\\n                      'cambio de plazo en la financiacion pfs',\\n                      'terminacion del contrato',\\n                      'pago de la factura de otro usuario',\\n                      'condicion especial por solicitud del propietario',\\n                      'direccion incorrecta',\\n                      'tarjeta somos (pfs)',\\n                      'requerimiento competencia de otra empresa',\\n                      'perjuicios por falla en la prestacion del servicio',\\n                      'dano en equipo electrico',\\n                      'devolucion o traslado de saldo a favor']\""
      ]
     },
     "execution_count": 62,
     "metadata": {},
     "output_type": "execute_result"
    }
   ],
   "source": [
    "'''peticiones_depurar = ['emision de documento para pago',\n",
    "                      'pago parcial',\n",
    "                      'separacion temporal o pago dirigido',\n",
    "                      'informacion general',\n",
    "                      'trabajos tecnicos en med, trafos, acometidas o en infraestr.',\n",
    "                      'datos basicos',\n",
    "                      'reconexion',\n",
    "                      'gestionar financiacion',\n",
    "                      'descongelados covid-19',\n",
    "                      'exencion contribucion',\n",
    "                      'notificacion decision y/o descargos',\n",
    "                      'inscripcion, retiro o bloqueo de tarjeta pfs',\n",
    "                      'poda de arboles',\n",
    "                      'cambio de plazo en la financiacion pfs',\n",
    "                      'terminacion del contrato',\n",
    "                      'pago de la factura de otro usuario',\n",
    "                      'condicion especial por solicitud del propietario',\n",
    "                      'direccion incorrecta',\n",
    "                      'tarjeta somos (pfs)',\n",
    "                      'requerimiento competencia de otra empresa',\n",
    "                      'perjuicios por falla en la prestacion del servicio',\n",
    "                      'dano en equipo electrico',\n",
    "                      'devolucion o traslado de saldo a favor']'''"
   ]
  },
  {
   "cell_type": "code",
   "execution_count": 63,
   "metadata": {},
   "outputs": [],
   "source": [
    "peticiones_depurar = ['exencion contribucion',\n",
    "                     'informacion general',\n",
    "                     'cambio datos basicos']"
   ]
  },
  {
   "cell_type": "code",
   "execution_count": 64,
   "metadata": {},
   "outputs": [],
   "source": [
    "import random\n",
    "\n",
    "for p in peticiones_depurar:\n",
    "    temp = datos_peticiones[datos_peticiones['tipo_solicitud_1']==p]\n",
    "    indexes = temp.index\n",
    "    index_sample = random.sample(list(indexes), len(temp)-180)\n",
    "    datos_peticiones.drop(index_sample, inplace=True)"
   ]
  },
  {
   "cell_type": "code",
   "execution_count": 65,
   "metadata": {},
   "outputs": [
    {
     "data": {
      "text/plain": [
       "informacion general                                             180\n",
       "cambio datos basicos                                            180\n",
       "exencion contribucion                                           180\n",
       "trabajos tecnicos en med, trafos, acometidas o en infraestr.    169\n",
       "terminacion del contrato                                        161\n",
       "gestionar financiacion                                          130\n",
       "perjuicios por falla en la prestacion del servicio              120\n",
       "requerimiento competencia de otra empresa                        92\n",
       "devolucion o traslado de saldo a favor                           67\n",
       "traslado de deuda                                                57\n",
       "emision de documento para pago                                   42\n",
       "separacion temporal o pago dirigido                              34\n",
       "requerimientos sspd o sic                                        29\n",
       "cambio de uso                                                    27\n",
       "poda de arboles                                                  21\n",
       "dano en equipo electrico                                         20\n",
       "suspension o corte del servicio                                  19\n",
       "requerimientos entes oficiales o entidades externa               17\n",
       "valores congelados                                               13\n",
       "reclamacion extemporanea o agotada la via administ               13\n",
       "condicion especial por solicitud del propietario                 13\n",
       "reconexion                                                        9\n",
       "pago de la factura de otro usuario                                8\n",
       "direccion incorrecta                                              8\n",
       "pago parcial                                                      7\n",
       "aplicacion beneficio propiedad o venta de activos                 6\n",
       "reinstalacion                                                     5\n",
       "modificacion de infraestructura por incumplimiento                5\n",
       "devolucion y/o copia de documentos                                5\n",
       "normalizar instalacion                                            5\n",
       "solicitud constancia lectura                                      3\n",
       "tramite recurso de queja sspd                                     2\n",
       "facturacion a la fecha                                            2\n",
       "descongelados covid-19                                            2\n",
       "inscripcion, retiro o bloqueo de tarjeta pfs                      2\n",
       "cambio de plazo en la financiacion pfs                            2\n",
       "modificar cobros de terceros                                      1\n",
       "estado deuda pfs                                                  1\n",
       "actualizacion por habeas data                                     1\n",
       "revision presunto sap                                             1\n",
       "desenergizacion de infraestructura                                1\n",
       "Name: tipo_solicitud_1, dtype: int64"
      ]
     },
     "execution_count": 65,
     "metadata": {},
     "output_type": "execute_result"
    }
   ],
   "source": [
    "datos_peticiones['tipo_solicitud_1'].value_counts()"
   ]
  },
  {
   "cell_type": "code",
   "execution_count": 66,
   "metadata": {},
   "outputs": [
    {
     "data": {
      "text/plain": [
       "1660"
      ]
     },
     "execution_count": 66,
     "metadata": {},
     "output_type": "execute_result"
    }
   ],
   "source": [
    "len(datos_peticiones)"
   ]
  },
  {
   "cell_type": "code",
   "execution_count": 67,
   "metadata": {},
   "outputs": [],
   "source": [
    "## Exploremos los reclamos y miremos como hacemos para depurarlas"
   ]
  },
  {
   "cell_type": "code",
   "execution_count": 68,
   "metadata": {},
   "outputs": [
    {
     "data": {
      "text/html": [
       "<div>\n",
       "<style scoped>\n",
       "    .dataframe tbody tr th:only-of-type {\n",
       "        vertical-align: middle;\n",
       "    }\n",
       "\n",
       "    .dataframe tbody tr th {\n",
       "        vertical-align: top;\n",
       "    }\n",
       "\n",
       "    .dataframe thead th {\n",
       "        text-align: right;\n",
       "    }\n",
       "</style>\n",
       "<table border=\"1\" class=\"dataframe\">\n",
       "  <thead>\n",
       "    <tr style=\"text-align: right;\">\n",
       "      <th></th>\n",
       "      <th>tipo_solicitud</th>\n",
       "      <th>tipo_solicitud_1</th>\n",
       "      <th>OBSERVACION USUARIO</th>\n",
       "    </tr>\n",
       "  </thead>\n",
       "  <tbody>\n",
       "    <tr>\n",
       "      <th>5</th>\n",
       "      <td>reclamo</td>\n",
       "      <td>inconformidad con el consumo o produccion fact...</td>\n",
       "      <td>20180220021018 - en esta factura se está cobrn...</td>\n",
       "    </tr>\n",
       "    <tr>\n",
       "      <th>6</th>\n",
       "      <td>reclamo</td>\n",
       "      <td>cobros por conexion, reconexion, reinstalacion</td>\n",
       "      <td>20180220020704 - es legal en colombia el cobro...</td>\n",
       "    </tr>\n",
       "    <tr>\n",
       "      <th>23</th>\n",
       "      <td>reclamo</td>\n",
       "      <td>inconformidad con el consumo o produccion fact...</td>\n",
       "      <td>20190220000145 - regularmente se paga la factu...</td>\n",
       "    </tr>\n",
       "  </tbody>\n",
       "</table>\n",
       "</div>"
      ],
      "text/plain": [
       "   tipo_solicitud                                   tipo_solicitud_1  \\\n",
       "5         reclamo  inconformidad con el consumo o produccion fact...   \n",
       "6         reclamo     cobros por conexion, reconexion, reinstalacion   \n",
       "23        reclamo  inconformidad con el consumo o produccion fact...   \n",
       "\n",
       "                                  OBSERVACION USUARIO  \n",
       "5   20180220021018 - en esta factura se está cobrn...  \n",
       "6   20180220020704 - es legal en colombia el cobro...  \n",
       "23  20190220000145 - regularmente se paga la factu...  "
      ]
     },
     "execution_count": 68,
     "metadata": {},
     "output_type": "execute_result"
    }
   ],
   "source": [
    "datos_reclamo = datos[datos['tipo_solicitud']=='reclamo'][['tipo_solicitud', 'tipo_solicitud_1', 'OBSERVACION USUARIO']]\n",
    "datos_reclamo.head(3)"
   ]
  },
  {
   "cell_type": "code",
   "execution_count": 69,
   "metadata": {},
   "outputs": [
    {
     "data": {
      "text/plain": [
       "inconformidad con el consumo o produccion facturad    1630\n",
       "cobro de cargos relacionados con el servicio publi      93\n",
       "pago sin abono a cuenta                                 75\n",
       "cobros por promedio                                     25\n",
       "subsidios y contribuciones                              22\n",
       "cobros por conexion, reconexion, reinstalacion          19\n",
       "cobro de otros bienes o servicios en la factura         15\n",
       "estrato incorrecto                                      13\n",
       "cobro multiple y/o acumulado                            10\n",
       "tarifa incorrecta                                        7\n",
       "cobro de acuerdo de pago o financiacion                  6\n",
       "solicitud de rompimiento de solidaridad                  5\n",
       "clase de uso incorrecto                                  5\n",
       "cobro desconocido                                        4\n",
       "inconformidad por cobros por normalizacion del ser       4\n",
       "cobro por recuperacion de consumos                       3\n",
       "inconformidad con la informacion                         2\n",
       "cobro de revisiones                                      2\n",
       "cobros inoportunos                                       1\n",
       "Name: tipo_solicitud_1, dtype: int64"
      ]
     },
     "execution_count": 69,
     "metadata": {},
     "output_type": "execute_result"
    }
   ],
   "source": [
    "datos_reclamo['tipo_solicitud_1'].value_counts()"
   ]
  },
  {
   "cell_type": "code",
   "execution_count": 70,
   "metadata": {},
   "outputs": [],
   "source": [
    "temp = datos_reclamo[datos_reclamo['tipo_solicitud_1']=='inconformidad con el consumo o produccion facturad']\n",
    "indexes = temp.index\n",
    "index_sample = random.sample(list(indexes), len(temp)-1300)\n",
    "datos_reclamo.drop(index_sample, inplace=True)"
   ]
  },
  {
   "cell_type": "code",
   "execution_count": 71,
   "metadata": {},
   "outputs": [
    {
     "data": {
      "text/plain": [
       "inconformidad con el consumo o produccion facturad    1300\n",
       "cobro de cargos relacionados con el servicio publi      93\n",
       "pago sin abono a cuenta                                 75\n",
       "cobros por promedio                                     25\n",
       "subsidios y contribuciones                              22\n",
       "cobros por conexion, reconexion, reinstalacion          19\n",
       "cobro de otros bienes o servicios en la factura         15\n",
       "estrato incorrecto                                      13\n",
       "cobro multiple y/o acumulado                            10\n",
       "tarifa incorrecta                                        7\n",
       "cobro de acuerdo de pago o financiacion                  6\n",
       "solicitud de rompimiento de solidaridad                  5\n",
       "clase de uso incorrecto                                  5\n",
       "cobro desconocido                                        4\n",
       "inconformidad por cobros por normalizacion del ser       4\n",
       "cobro por recuperacion de consumos                       3\n",
       "inconformidad con la informacion                         2\n",
       "cobro de revisiones                                      2\n",
       "cobros inoportunos                                       1\n",
       "Name: tipo_solicitud_1, dtype: int64"
      ]
     },
     "execution_count": 71,
     "metadata": {},
     "output_type": "execute_result"
    }
   ],
   "source": [
    "datos_reclamo['tipo_solicitud_1'].value_counts()"
   ]
  },
  {
   "cell_type": "code",
   "execution_count": 72,
   "metadata": {},
   "outputs": [
    {
     "data": {
      "text/plain": [
       "1611"
      ]
     },
     "execution_count": 72,
     "metadata": {},
     "output_type": "execute_result"
    }
   ],
   "source": [
    "len(datos_reclamo)"
   ]
  },
  {
   "cell_type": "code",
   "execution_count": 73,
   "metadata": {},
   "outputs": [],
   "source": [
    "## Ahora sobre los recuros.\n",
    "## se ensayará creando unos registros sintéticos con LSTM"
   ]
  },
  {
   "cell_type": "code",
   "execution_count": 74,
   "metadata": {},
   "outputs": [
    {
     "data": {
      "text/html": [
       "<div>\n",
       "<style scoped>\n",
       "    .dataframe tbody tr th:only-of-type {\n",
       "        vertical-align: middle;\n",
       "    }\n",
       "\n",
       "    .dataframe tbody tr th {\n",
       "        vertical-align: top;\n",
       "    }\n",
       "\n",
       "    .dataframe thead th {\n",
       "        text-align: right;\n",
       "    }\n",
       "</style>\n",
       "<table border=\"1\" class=\"dataframe\">\n",
       "  <thead>\n",
       "    <tr style=\"text-align: right;\">\n",
       "      <th></th>\n",
       "      <th>tipo_solicitud</th>\n",
       "      <th>tipo_solicitud_1</th>\n",
       "      <th>OBSERVACION USUARIO</th>\n",
       "    </tr>\n",
       "  </thead>\n",
       "  <tbody>\n",
       "    <tr>\n",
       "      <th>921</th>\n",
       "      <td>recurso</td>\n",
       "      <td>solicitud de rompimiento de solidaridad</td>\n",
       "      <td>* el recurrente interpone recurso, manifestand...</td>\n",
       "    </tr>\n",
       "    <tr>\n",
       "      <th>996</th>\n",
       "      <td>recurso</td>\n",
       "      <td>inconformidad con el consumo o produccion fact...</td>\n",
       "      <td>el cliente manifista inconformidad con la resp...</td>\n",
       "    </tr>\n",
       "    <tr>\n",
       "      <th>1015</th>\n",
       "      <td>recurso</td>\n",
       "      <td>inconformidad con el consumo o produccion fact...</td>\n",
       "      <td>el cliente manifiesta inconformidad con el con...</td>\n",
       "    </tr>\n",
       "  </tbody>\n",
       "</table>\n",
       "</div>"
      ],
      "text/plain": [
       "     tipo_solicitud                                   tipo_solicitud_1  \\\n",
       "921         recurso            solicitud de rompimiento de solidaridad   \n",
       "996         recurso  inconformidad con el consumo o produccion fact...   \n",
       "1015        recurso  inconformidad con el consumo o produccion fact...   \n",
       "\n",
       "                                    OBSERVACION USUARIO  \n",
       "921   * el recurrente interpone recurso, manifestand...  \n",
       "996   el cliente manifista inconformidad con la resp...  \n",
       "1015  el cliente manifiesta inconformidad con el con...  "
      ]
     },
     "execution_count": 74,
     "metadata": {},
     "output_type": "execute_result"
    }
   ],
   "source": [
    "datos_recurso = datos[datos['tipo_solicitud']=='recurso'][['tipo_solicitud', 'tipo_solicitud_1', 'OBSERVACION USUARIO']]\n",
    "datos_recurso.head(3)"
   ]
  },
  {
   "cell_type": "code",
   "execution_count": 75,
   "metadata": {},
   "outputs": [],
   "source": [
    "## vamos a remover la puntuacion y los valores numericos de estas observaciones.\n",
    "## se dejaran los stopwords.\n",
    "##\n",
    "datos_recurso['OBSERVACION USUARIO'] = datos_recurso['OBSERVACION USUARIO'].map(lambda x: str(x))\n",
    "datos_recurso['OBSERVACION USUARIO'] = datos_recurso['OBSERVACION USUARIO'].map(lambda x: x.lower())\n",
    "datos_recurso['OBSERVACION USUARIO'] = datos_recurso['OBSERVACION USUARIO'].map(lambda x: ' '.join(re.findall(r'[.,;]|[a-záéíóúñ]{2,}', x)))"
   ]
  },
  {
   "cell_type": "code",
   "execution_count": 76,
   "metadata": {},
   "outputs": [
    {
     "data": {
      "text/plain": [
       "count    277.000000\n",
       "mean     351.194946\n",
       "std      268.335729\n",
       "min       24.000000\n",
       "25%      154.000000\n",
       "50%      279.000000\n",
       "75%      459.000000\n",
       "max      981.000000\n",
       "Name: len_obs, dtype: float64"
      ]
     },
     "execution_count": 76,
     "metadata": {},
     "output_type": "execute_result"
    }
   ],
   "source": [
    "datos_recurso['len_obs'] = datos_recurso['OBSERVACION USUARIO'].map(lambda x: len(x))\n",
    "datos_recurso['len_obs'].describe()"
   ]
  },
  {
   "cell_type": "code",
   "execution_count": 77,
   "metadata": {},
   "outputs": [],
   "source": [
    "## Se eliminan los recursos con len < 50\n",
    "##\n",
    "datos_recurso = datos_recurso.reset_index(drop=True)\n",
    "len_obs_usuario = [(i, len(o)) for i, o in enumerate(datos_recurso['OBSERVACION USUARIO'])]\n",
    "len_menor_x = [(i,o) for i, o in sorted(len_obs_usuario, key=lambda t: t[1]) if o <=50]\n",
    "index_menor_x = [i for i, o in len_menor_x]"
   ]
  },
  {
   "cell_type": "code",
   "execution_count": 78,
   "metadata": {},
   "outputs": [],
   "source": [
    "datos_recurso.drop(index_menor_x, inplace=True)"
   ]
  },
  {
   "cell_type": "code",
   "execution_count": 79,
   "metadata": {},
   "outputs": [
    {
     "data": {
      "text/plain": [
       "count    271.000000\n",
       "mean     358.084871\n",
       "std      267.212421\n",
       "min       53.000000\n",
       "25%      160.000000\n",
       "50%      281.000000\n",
       "75%      474.500000\n",
       "max      981.000000\n",
       "Name: len_obs, dtype: float64"
      ]
     },
     "execution_count": 79,
     "metadata": {},
     "output_type": "execute_result"
    }
   ],
   "source": [
    "datos_recurso['len_obs'].describe()"
   ]
  },
  {
   "cell_type": "code",
   "execution_count": 80,
   "metadata": {},
   "outputs": [],
   "source": [
    "## vamos a crear un nuevo df con todos los df depurados. \n",
    "##\n",
    "datos_pedidos = datos[datos['tipo_solicitud']=='pedidos/proyectos'][['tipo_solicitud', 'tipo_solicitud_1', 'OBSERVACION USUARIO']]\n",
    "datos_quejas = datos[datos['tipo_solicitud']=='queja'][['tipo_solicitud', 'tipo_solicitud_1', 'OBSERVACION USUARIO']]"
   ]
  },
  {
   "cell_type": "code",
   "execution_count": 81,
   "metadata": {},
   "outputs": [],
   "source": [
    "datos_md = pd.concat([datos_peticiones, datos_reclamo, datos_recurso, datos_pedidos, datos_quejas],\n",
    "                    names=['tipo_solicitud', 'tipo_solicitud_1', 'OBSERVACION USUARIO'],\n",
    "                    ignore_index=True)"
   ]
  },
  {
   "cell_type": "code",
   "execution_count": 82,
   "metadata": {},
   "outputs": [
    {
     "data": {
      "text/plain": [
       "\"datos_md.to_csv('PQR_modelo.csv',\\n                sep=',',\\n                header=datos_md.columns,\\n                index=False)\""
      ]
     },
     "execution_count": 82,
     "metadata": {},
     "output_type": "execute_result"
    }
   ],
   "source": [
    "'''datos_md.to_csv('PQR_modelo.csv',\n",
    "                sep=',',\n",
    "                header=datos_md.columns,\n",
    "                index=False)'''"
   ]
  },
  {
   "cell_type": "code",
   "execution_count": 83,
   "metadata": {},
   "outputs": [
    {
     "data": {
      "text/plain": [
       "peticion             1660\n",
       "reclamo              1611\n",
       "queja                 587\n",
       "pedidos/proyectos     278\n",
       "recurso               271\n",
       "Name: tipo_solicitud, dtype: int64"
      ]
     },
     "execution_count": 83,
     "metadata": {},
     "output_type": "execute_result"
    }
   ],
   "source": [
    "## el data frame con el se ensayará el nuevo modelo luce entonces así\n",
    "##\n",
    "datos_md['tipo_solicitud'].value_counts()"
   ]
  },
  {
   "cell_type": "markdown",
   "metadata": {},
   "source": [
    "### Entrenamiento del modelo"
   ]
  },
  {
   "cell_type": "code",
   "execution_count": 84,
   "metadata": {},
   "outputs": [
    {
     "name": "stderr",
     "output_type": "stream",
     "text": [
      "[nltk_data] Downloading package stopwords to\n",
      "[nltk_data]     C:\\Users\\juand\\AppData\\Roaming\\nltk_data...\n",
      "[nltk_data]   Package stopwords is already up-to-date!\n"
     ]
    }
   ],
   "source": [
    "## normalización de los textos.\n",
    "##\n",
    "import re\n",
    "import spacy\n",
    "import nltk\n",
    "nltk.download('stopwords')\n",
    "from nltk import RegexpTokenizer\n",
    "from nltk.corpus import stopwords\n",
    "from nltk import sent_tokenize\n",
    "from nltk import word_tokenize\n",
    "from nltk.collocations import *\n",
    "from string import punctuation\n",
    "nlp = spacy.load('es_core_news_md')"
   ]
  },
  {
   "cell_type": "code",
   "execution_count": 85,
   "metadata": {},
   "outputs": [
    {
     "data": {
      "text/plain": [
       "'hola el reclamo es por el cobro exagerado para un predio que no está habitado por concepto de alumbrado público de 8589, si bien se que deben cobrar ese servicio me parece ilógico que uno que si está habitado pague por dicho concepto 2.600, pido una rebaja sustancial a dicho cobro porfavor'"
      ]
     },
     "execution_count": 85,
     "metadata": {},
     "output_type": "execute_result"
    }
   ],
   "source": [
    "#ensayo\n",
    "df_copy['OBSERVACION USUARIO'][1660]"
   ]
  },
  {
   "cell_type": "code",
   "execution_count": 86,
   "metadata": {},
   "outputs": [
    {
     "data": {
      "text/plain": [
       "['hola el reclamo es por el cobro exagerado para un predio que no está habitado por concepto de alumbrado público de , si bien se que deben cobrar ese servicio me parece ilógico que uno que si está habitado pague por dicho concepto .',\n",
       " ', pido una rebaja sustancial dicho cobro porfavor']"
      ]
     },
     "execution_count": 86,
     "metadata": {},
     "output_type": "execute_result"
    }
   ],
   "source": [
    "# ensayo\n",
    "sent_tokenize(' '.join(re.findall(r'[.,;]|[a-záéíóúñ]{2,}', df_copy['OBSERVACION USUARIO'][1660])))"
   ]
  },
  {
   "cell_type": "code",
   "execution_count": 87,
   "metadata": {},
   "outputs": [],
   "source": [
    "#def gensim_preprocess_data(text):\n",
    "#    stop_words = list(stopwords.words('spanish'))  \n",
    "#    no_value_words = ['fecha', 'valor']\n",
    "#    for w in no_value_words:\n",
    "#        stop_words.append(w)\n",
    "#    text = str(text)\n",
    "#    text = text.lower()\n",
    "#    text = ' '.join(re.findall(r'[.,;]|[a-záéíóúñ]{2,}', text))\n",
    "    \n",
    "#    sentences = sent_tokenize(text)\n",
    "#    tokenized_sentences = list([word_tokenize(sentence) for sentence in sentences])\n",
    "#    for i in range(0, len(tokenized_sentences)):\n",
    "#         tokenized_sentences[i] = [word for word in tokenized_sentences[i] if word not in punctuation]\n",
    "#    return tokenized_sentences"
   ]
  },
  {
   "cell_type": "code",
   "execution_count": 88,
   "metadata": {},
   "outputs": [],
   "source": [
    "# ensayo\n",
    "#rrr = gensim_preprocess_data(datos_md['OBSERVACION USUARIO'][369])\n",
    "#rrr"
   ]
  },
  {
   "cell_type": "code",
   "execution_count": 89,
   "metadata": {},
   "outputs": [],
   "source": [
    "## extraccion de tokens\n",
    "#tokens = datos_md['OBSERVACION USUARIO'].map(gensim_preprocess_data)\n",
    "#sentencias = []\n",
    "#for t in tokens:\n",
    "#    for s in t:\n",
    "#        sentencias.append(s)\n",
    "#sentencias"
   ]
  },
  {
   "cell_type": "code",
   "execution_count": 90,
   "metadata": {},
   "outputs": [],
   "source": [
    "# el argumento size se refiere a el tamaño de columnas de la matriz resultante\n",
    "#from gensim.models import Word2Vec\n",
    "#model = Word2Vec(sentencias, size=300, window=5, min_count=1, workers=4)"
   ]
  },
  {
   "cell_type": "code",
   "execution_count": 91,
   "metadata": {},
   "outputs": [],
   "source": [
    "## se define el vocabulario para entrenar\n",
    "#model.build_vocab(sentencias)"
   ]
  },
  {
   "cell_type": "code",
   "execution_count": 92,
   "metadata": {},
   "outputs": [],
   "source": [
    "## se entrena el modelo word2vec con las sentencias como insumo, y el número total \n",
    "## de ejemplos son las mismas sentencias. Se puede definir cualquier número de epochs\n",
    "##\n",
    "#model.train(sentences=sentencias, total_examples=len(sentencias), epochs=4000)"
   ]
  },
  {
   "cell_type": "code",
   "execution_count": 93,
   "metadata": {},
   "outputs": [],
   "source": [
    "#(model.wv.vectors).shape"
   ]
  },
  {
   "cell_type": "code",
   "execution_count": 94,
   "metadata": {},
   "outputs": [],
   "source": [
    "## se guarda el modelo. (este en particular demoró +/- 40m en el entrenamiento)\n",
    "##\n",
    "#model.save(\"word2vec.model\")"
   ]
  },
  {
   "cell_type": "code",
   "execution_count": 95,
   "metadata": {},
   "outputs": [],
   "source": [
    "## acá vemos el tamaño de la matriz resultante\n",
    "##\n",
    "#max_dataset_size = len(model.wv.vectors)"
   ]
  },
  {
   "cell_type": "code",
   "execution_count": 96,
   "metadata": {},
   "outputs": [],
   "source": [
    "def clean_text(text):\n",
    "    stop_words = list(stopwords.words('spanish'))  \n",
    "    no_value_words = ['fecha', 'valor']\n",
    "    for w in no_value_words:\n",
    "        stop_words.append(w)\n",
    "    text = str(text)\n",
    "    text = text.lower()\n",
    "    text = ' '.join(re.findall(r'[.,;]|[a-záéíóúñ]{2,}', text))\n",
    "    \n",
    "    text = word_tokenize(text)\n",
    "    for w in stop_words:\n",
    "        while w in text: text.remove(w)\n",
    "    return ' '.join(list(dict.fromkeys(text)))"
   ]
  },
  {
   "cell_type": "code",
   "execution_count": 97,
   "metadata": {},
   "outputs": [
    {
     "data": {
      "text/plain": [
       "'hola reclamo cobro exagerado predio habitado concepto alumbrado público , si bien deben cobrar servicio parece ilógico pague dicho . pido rebaja sustancial porfavor'"
      ]
     },
     "execution_count": 97,
     "metadata": {},
     "output_type": "execute_result"
    }
   ],
   "source": [
    "clean_text(df_copy['OBSERVACION USUARIO'][1660])"
   ]
  },
  {
   "cell_type": "code",
   "execution_count": 98,
   "metadata": {},
   "outputs": [],
   "source": [
    "datos_md['OBSERVACION USUARIO'] = datos_md['OBSERVACION USUARIO'].apply(clean_text)"
   ]
  },
  {
   "cell_type": "code",
   "execution_count": 99,
   "metadata": {},
   "outputs": [],
   "source": [
    "from sklearn.model_selection import train_test_split\n",
    "train, test = train_test_split(datos_md, test_size=0.2, random_state=42, stratify=datos_md['tipo_solicitud'])"
   ]
  },
  {
   "cell_type": "code",
   "execution_count": 100,
   "metadata": {},
   "outputs": [],
   "source": [
    "from gensim.models.doc2vec import TaggedDocument\n",
    "from nltk.corpus import stopwords\n",
    "\n",
    "def tokenize_text(text):\n",
    "    tokens = []\n",
    "    for sent in nltk.sent_tokenize(text):\n",
    "        for word in nltk.word_tokenize(sent):\n",
    "            if len(word) < 2:\n",
    "                continue\n",
    "            tokens.append(word.lower())\n",
    "    return tokens\n",
    "\n",
    "train_tagged = train.apply(\n",
    "    lambda r: TaggedDocument(words=tokenize_text(r['OBSERVACION USUARIO']), tags=[r.tipo_solicitud]), axis=1)\n",
    "test_tagged = test.apply(\n",
    "    lambda r: TaggedDocument(words=tokenize_text(r['OBSERVACION USUARIO']), tags=[r.tipo_solicitud]), axis=1)"
   ]
  },
  {
   "cell_type": "code",
   "execution_count": 101,
   "metadata": {},
   "outputs": [
    {
     "data": {
      "text/plain": [
       "TaggedDocument(words=['usuaria', 'solicita', 'explique', 'aumento', 'energía', 'factura', 'anterior', 'actual', 'manifiesta', 'exagerado', 'venido', 'aumentando', 'loca'], tags=['reclamo'])"
      ]
     },
     "execution_count": 101,
     "metadata": {},
     "output_type": "execute_result"
    }
   ],
   "source": [
    "train_tagged.values[30]"
   ]
  },
  {
   "cell_type": "code",
   "execution_count": 102,
   "metadata": {},
   "outputs": [],
   "source": [
    "whole_tagged = [*train_tagged.values, *test_tagged.values]"
   ]
  },
  {
   "cell_type": "code",
   "execution_count": 103,
   "metadata": {},
   "outputs": [],
   "source": [
    "import multiprocessing\n",
    "\n",
    "cores = multiprocessing.cpu_count()"
   ]
  },
  {
   "cell_type": "code",
   "execution_count": 198,
   "metadata": {},
   "outputs": [
    {
     "name": "stderr",
     "output_type": "stream",
     "text": [
      "100%|██████████████████████████████████████████████████████████████████████████| 3525/3525 [00:00<00:00, 874330.08it/s]\n"
     ]
    }
   ],
   "source": [
    "from tqdm import tqdm\n",
    "from gensim.models import Doc2Vec\n",
    "from gensim.models import Word2Vec\n",
    "\n",
    "#sents = [registro[0] for registro in train_tagged.values]\n",
    "#sents = [registro[0] for registro in whole_tagged]\n",
    "#model_w2v = Word2Vec(sents, size=300, window=5, min_count=0, workers=cores, sg=1)\n",
    "#model_w2v.build_vocab(sents)\n",
    "\n",
    "model_dbow = Doc2Vec(dm=0, vector_size=300, negative=5, hs=0, min_count=1, sample = 0, workers=cores)\n",
    "model_dbow.build_vocab([x for x in tqdm(train_tagged.values)])"
   ]
  },
  {
   "cell_type": "code",
   "execution_count": 199,
   "metadata": {},
   "outputs": [
    {
     "data": {
      "text/plain": [
       "(8368, 300)"
      ]
     },
     "execution_count": 199,
     "metadata": {},
     "output_type": "execute_result"
    }
   ],
   "source": [
    "model_dbow.wv.vectors.shape"
   ]
  },
  {
   "cell_type": "code",
   "execution_count": 105,
   "metadata": {},
   "outputs": [
    {
     "name": "stdout",
     "output_type": "stream",
     "text": [
      "la cantidad total de palabras es 81022\n",
      "la cantidad total de sentencias es 4407\n"
     ]
    }
   ],
   "source": [
    "## Esto basicamente es la cantidad de palabras con las que cuenta el corpus\n",
    "##\n",
    "\n",
    "print(f\"la cantidad total de palabras es {model_w2v.corpus_total_words}\")\n",
    "print(f\"la cantidad total de sentencias es {len(sents)}\")\n",
    "#model_dbow.corpus_total_words"
   ]
  },
  {
   "cell_type": "code",
   "execution_count": 146,
   "metadata": {},
   "outputs": [],
   "source": [
    "## Entrenamiento de los modelos\n",
    "##\n",
    "\n",
    "from sklearn import utils\n",
    "\n",
    "'''model_w2v.train(sents,\n",
    "                total_examples=model_w2v.corpus_count,\n",
    "                epochs=300)'''\n",
    "\n",
    "'''for epoch in range(300):\n",
    "    model_dbow.train(utils.shuffle([x for x in train_tagged.values]), total_examples=len(train_tagged.values), epochs=1)\n",
    "    model_dbow.alpha -= 0.002\n",
    "    model_dbow.min_alpha = model_dbow.alpha'''"
   ]
  },
  {
   "cell_type": "code",
   "execution_count": 200,
   "metadata": {},
   "outputs": [
    {
     "data": {
      "text/plain": [
       "'def vec_for_learning(model, tagged_docs):\\n    sents = tagged_docs.values\\n    targets, regressors = zip(*[(doc[1], model.wv[doc[0]]) for doc in sents])\\n    return targets, regressors'"
      ]
     },
     "execution_count": 200,
     "metadata": {},
     "output_type": "execute_result"
    }
   ],
   "source": [
    "# for Doc2Vec\n",
    "def vec_for_learning(model, tagged_docs):\n",
    "    sents = tagged_docs.values\n",
    "    targets, regressors = zip(*[(doc.tags[0], model.infer_vector(doc.words, steps=20)) for doc in sents])\n",
    "    return targets, regressors\n",
    "\n",
    "# for Word2Vec\n",
    "'''def vec_for_learning(model, tagged_docs):\n",
    "    sents = tagged_docs.values\n",
    "    targets, regressors = zip(*[(doc[1], model.wv[doc[0]]) for doc in sents])\n",
    "    return targets, regressors'''"
   ]
  },
  {
   "cell_type": "code",
   "execution_count": 201,
   "metadata": {},
   "outputs": [
    {
     "name": "stdout",
     "output_type": "stream",
     "text": [
      "Testing accuracy 0.3979591836734694\n",
      "Testing F1 score: 0.3307842095234457\n"
     ]
    }
   ],
   "source": [
    "from sklearn.svm import LinearSVC\n",
    "\n",
    "y_train, X_train = vec_for_learning(model_dbow, train_tagged)\n",
    "y_test, X_test = vec_for_learning(model_dbow, test_tagged)\n",
    "\n",
    "#y_train, X_train = vec_for_learning(model_w2v, train_tagged)\n",
    "#y_test, X_test = vec_for_learning(model_w2v, test_tagged)\n",
    "\n",
    "svml = LinearSVC(C=10, random_state=22022021, max_iter=5000)\n",
    "svml.fit(X_train, y_train)\n",
    "y_pred = svml.predict(X_test)\n",
    "\n",
    "from sklearn.metrics import accuracy_score, f1_score\n",
    "\n",
    "print('Testing accuracy %s' % accuracy_score(y_test, y_pred))\n",
    "print('Testing F1 score: {}'.format(f1_score(y_test, y_pred, average='weighted')))"
   ]
  },
  {
   "cell_type": "markdown",
   "metadata": {},
   "source": [
    "#### Conclusion\n",
    "\n",
    "Se aplicaron dos técnicas de extracción de características:\n",
    "* Distributed Bag of Words (Doc2Vec). La cual arrojó los resultados arriba mostrados.\n",
    "* Skip-N-Gram (Word2Vec). Con este método de extracción de características no veo como aplicarlo a un entrenamiento de un modelo supervisado, ya que por la representación de las palabras en vectores esto resulta en matrices de diferentes tamaños no procesables por métodos de machine learning. Por ejemplo: una petición que tiene 12 palabras se le pasa w2v para ver la representación numérica de las palabras en el contexto, y esto puede dar una matriz de 12x300 y así por cada PQR, entonces no veo una manera de hacer que esa matriz se represente por un vector de 300x1. A fin de cuentas no creo que sea un método que se use para clasificación supervisada."
   ]
  },
  {
   "cell_type": "code",
   "execution_count": null,
   "metadata": {},
   "outputs": [],
   "source": [
    " "
   ]
  },
  {
   "cell_type": "code",
   "execution_count": null,
   "metadata": {},
   "outputs": [],
   "source": []
  }
 ],
 "metadata": {
  "kernelspec": {
   "display_name": "Python 3",
   "language": "python",
   "name": "python3"
  },
  "language_info": {
   "codemirror_mode": {
    "name": "ipython",
    "version": 3
   },
   "file_extension": ".py",
   "mimetype": "text/x-python",
   "name": "python",
   "nbconvert_exporter": "python",
   "pygments_lexer": "ipython3",
   "version": "3.8.5"
  }
 },
 "nbformat": 4,
 "nbformat_minor": 4
}
