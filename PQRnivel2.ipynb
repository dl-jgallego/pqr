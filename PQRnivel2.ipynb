{
 "cells": [
  {
   "cell_type": "markdown",
   "metadata": {},
   "source": [
    "# Modelo de Clasificación PQR nivel 2"
   ]
  },
  {
   "cell_type": "markdown",
   "metadata": {},
   "source": [
    "Teniendo en cuenta que ya se tiene un primer nivel de clasificación entre PQR, ahora se pretende clasificar por cada tipo de PQR. A esto le llamamos nivel 2 de clasificación. \n",
    "Este libro aborda el preprocesamiento, y el entrenamiento de un modelo de clasificación para PQRs en el nivel 2\n",
    "\n",
    "Para este paso se tendrá en cuenta las siguientes prioridades por tipo de PQR:\n",
    "\n",
    "* Peticiones: emisión de documento para pago\n",
    "* Pedidos/Proyectos: conexión del servicio\n",
    "* Reclamos: inconformidad con el consumo o producción factura\n",
    "* Quejas: entrega inoportuna o no entrega de la factura\n",
    "* Recursos: inconformidad con el consumo o producción facturad"
   ]
  },
  {
   "cell_type": "code",
   "execution_count": 1,
   "metadata": {},
   "outputs": [],
   "source": [
    "## importamos las librerias\n",
    "##\n",
    "import pandas as pd\n",
    "import numpy as np\n",
    "import random\n",
    "import matplotlib.pyplot as plt\n",
    "import seaborn as sns\n",
    "%matplotlib inline"
   ]
  },
  {
   "cell_type": "code",
   "execution_count": 2,
   "metadata": {},
   "outputs": [
    {
     "data": {
      "text/html": [
       "<div>\n",
       "<style scoped>\n",
       "    .dataframe tbody tr th:only-of-type {\n",
       "        vertical-align: middle;\n",
       "    }\n",
       "\n",
       "    .dataframe tbody tr th {\n",
       "        vertical-align: top;\n",
       "    }\n",
       "\n",
       "    .dataframe thead th {\n",
       "        text-align: right;\n",
       "    }\n",
       "</style>\n",
       "<table border=\"1\" class=\"dataframe\">\n",
       "  <thead>\n",
       "    <tr style=\"text-align: right;\">\n",
       "      <th></th>\n",
       "      <th>tipo_solicitud</th>\n",
       "      <th>tipo_solicitud_1</th>\n",
       "      <th>OBSERVACION USUARIO</th>\n",
       "    </tr>\n",
       "  </thead>\n",
       "  <tbody>\n",
       "    <tr>\n",
       "      <th>0</th>\n",
       "      <td>peticion</td>\n",
       "      <td>pago parcial</td>\n",
       "      <td>solicita pago parcial facturado</td>\n",
       "    </tr>\n",
       "    <tr>\n",
       "      <th>1</th>\n",
       "      <td>peticion</td>\n",
       "      <td>emision de documento para pago</td>\n",
       "      <td>cliente solicita copia factura</td>\n",
       "    </tr>\n",
       "    <tr>\n",
       "      <th>2</th>\n",
       "      <td>peticion</td>\n",
       "      <td>emision de documento para pago</td>\n",
       "      <td>cliente solicita copia factura</td>\n",
       "    </tr>\n",
       "    <tr>\n",
       "      <th>3</th>\n",
       "      <td>peticion</td>\n",
       "      <td>pago parcial</td>\n",
       "      <td>solicita pago parcial facturado</td>\n",
       "    </tr>\n",
       "    <tr>\n",
       "      <th>4</th>\n",
       "      <td>peticion</td>\n",
       "      <td>emision de documento para pago</td>\n",
       "      <td>cliente solicita copia factura</td>\n",
       "    </tr>\n",
       "  </tbody>\n",
       "</table>\n",
       "</div>"
      ],
      "text/plain": [
       "  tipo_solicitud                tipo_solicitud_1  \\\n",
       "0       peticion                    pago parcial   \n",
       "1       peticion  emision de documento para pago   \n",
       "2       peticion  emision de documento para pago   \n",
       "3       peticion                    pago parcial   \n",
       "4       peticion  emision de documento para pago   \n",
       "\n",
       "               OBSERVACION USUARIO  \n",
       "0  solicita pago parcial facturado  \n",
       "1   cliente solicita copia factura  \n",
       "2   cliente solicita copia factura  \n",
       "3  solicita pago parcial facturado  \n",
       "4   cliente solicita copia factura  "
      ]
     },
     "execution_count": 2,
     "metadata": {},
     "output_type": "execute_result"
    }
   ],
   "source": [
    "datos_md = pd.read_csv('PQR_modelo.csv', encoding='utf-8')\n",
    "datos_md.head()"
   ]
  },
  {
   "cell_type": "code",
   "execution_count": 3,
   "metadata": {},
   "outputs": [
    {
     "data": {
      "text/plain": [
       "453729"
      ]
     },
     "execution_count": 3,
     "metadata": {},
     "output_type": "execute_result"
    }
   ],
   "source": [
    "len(datos_md)"
   ]
  },
  {
   "cell_type": "code",
   "execution_count": 4,
   "metadata": {},
   "outputs": [
    {
     "name": "stdout",
     "output_type": "stream",
     "text": [
      "peticion\n",
      "\n",
      "emision de documento para pago                                      156593\n",
      "pago parcial                                                        134347\n",
      "separacion temporal o pago dirigido                                  30676\n",
      "trabajos tecnicos en med, trafos, acometidas o en infraestr.         20001\n",
      "datos basicos                                                        17596\n",
      "gestionar financiacion                                               15991\n",
      "reconexion                                                           13810\n",
      "descongelados covid-19                                               11054\n",
      "informacion general                                                   9138\n",
      "exencion contribucion                                                 2640\n",
      "notificacion decision y/o descargos                                   2178\n",
      "inscripcion, retiro o bloqueo de tarjeta pfs                           902\n",
      "poda de arboles                                                        762\n",
      "cambio de plazo en la financiacion pfs                                 750\n",
      "terminacion del contrato                                               690\n",
      "pago de la factura de otro usuario                                     590\n",
      "condicion especial por solicitud del propietario                       567\n",
      "cambio de uso                                                          461\n",
      "liquidacion conexos otc                                                386\n",
      "direccion incorrecta                                                   349\n",
      "tarjeta somos (pfs)                                                    325\n",
      "requerimiento competencia de otra empresa                              297\n",
      "perjuicios por falla en la prestacion del servicio                     266\n",
      "dano en equipo electrico                                               246\n",
      "devolucion o traslado de saldo a favor                                 223\n",
      "normalizar instalacion consumos bajos                                  180\n",
      "refinanciacion por mora pfs                                            161\n",
      "traslado de deuda                                                      159\n",
      "normalizar instalacion                                                 157\n",
      "solicitud constancia lectura                                           139\n",
      "negacion del servicio                                                  123\n",
      "estado deuda pfs                                                        86\n",
      "caducar financiacion                                                    79\n",
      "reconocimiento seguro de vida deuda pfs                                 71\n",
      "paz y salvo pfs                                                         68\n",
      "valores congelados                                                      66\n",
      "modificacion de infraest por incumplimiento de distancias de seg        66\n",
      "requerimientos entes oficiales o entidades externa                      57\n",
      "reinstalacion                                                           53\n",
      "retiro deuda no solidaria pfs                                           49\n",
      "desenergizacion de infraestructura                                      48\n",
      "plazo para pago                                                         42\n",
      "requerimientos sspd o sic                                               42\n",
      "revision, mntto, remodelacion o expansion infraestruc. a.p.             30\n",
      "aplicacion beneficio propiedad o venta de activos                       29\n",
      "reclamacion extemporanea o agotada la via administ                      17\n",
      "modificar cobros de terceros                                            15\n",
      "devolucion y/o copia de documentos                                      14\n",
      "soportes de la financiacion pfs                                         11\n",
      "facturacion a la fecha                                                   8\n",
      "revision presunto sap                                                    7\n",
      "garantias pfs                                                            7\n",
      "gestion interna                                                          7\n",
      "tramite recurso de queja sspd                                            3\n",
      "portafolio instalaciones sin cotizacion                                  3\n",
      "restitucion de tierras                                                   2\n",
      "denuncia de contrato de arrendamiento                                    1\n",
      "actualizacion por habeas data                                            1\n",
      "Name: tipo_solicitud_1, dtype: int64\n",
      "\n",
      "\n",
      "reclamo\n",
      "\n",
      "inconformidad con el consumo o produccion facturad                  19295\n",
      "cobros por conexion, reconexion, reinstalacion                        529\n",
      "cobro de cargos relacionados con el servicio publi                    304\n",
      "pago sin abono a cuenta                                               236\n",
      "cobros por promedio                                                   209\n",
      "cobro de otros bienes o servicios en la factura                       110\n",
      "cobro por recuperacion de consumos                                     95\n",
      "cobro desconocido                                                      62\n",
      "estrato incorrecto                                                     59\n",
      "cobro multiple y/o acumulado                                           57\n",
      "subsidios y contribuciones                                             49\n",
      "tarifa incorrecta                                                      34\n",
      "cobros inoportunos                                                     33\n",
      "cobro de medidor                                                       26\n",
      "cobro de acuerdo de pago o financiacion                                26\n",
      "clase de uso incorrecto                                                26\n",
      "cobro de revisiones                                                    20\n",
      "inconformidad por cobros por normalizacion del ser                     20\n",
      "solicitud de rompimiento de solidaridad                                19\n",
      "inconformidad con la informacion                                       18\n",
      "cobros por servicios no prestados                                      15\n",
      "cobro por consumos dejados de facturar o recuperacion de energia        2\n",
      "verificacion contrato integral                                          1\n",
      "Name: tipo_solicitud_1, dtype: int64\n",
      "\n",
      "\n",
      "queja\n",
      "\n",
      "falla en la prestacion del servicio por continuidad         882\n",
      "entrega inoportuna o no entrega de la factura               761\n",
      "inconformidad trabajos                                      454\n",
      "falla en la prestacion del servicio por calidad             333\n",
      "demora en reparar dano                                      220\n",
      "inconformidad con la informacion                            202\n",
      "comportamiento funcionario (trabajador-contra)              169\n",
      "inconformidad con el canal de atencion                      141\n",
      "negacion del servicio                                       127\n",
      "incumplimiento de la revision en las fechas establecidas     99\n",
      "demora en atender peticion                                   64\n",
      "inconformidad por la programacion de interrupcione           62\n",
      "inconformidad punto de venta y/o recaudo                     33\n",
      "inadecuada disposicion de residuos                           13\n",
      "levantamiento de desechos vegetales                          11\n",
      "estado de la infraestructura                                  8\n",
      "inconformidad en la atencion de condiciones de seg            5\n",
      "afectacion ambiental                                          4\n",
      "cambio de medidor o equipo de medida                          3\n",
      "no se genera factura para una instalacion                     3\n",
      "inconformidad venta portafolio                                2\n",
      "manejo de fauna y flora                                       1\n",
      "derrame de aceite                                             1\n",
      "Name: tipo_solicitud_1, dtype: int64\n",
      "\n",
      "\n",
      "recurso\n",
      "\n",
      "inconformidad con el consumo o produccion facturad    476\n",
      "envio de expedientes sspd                              18\n",
      "otros motivos de recurso                               13\n",
      "cobro por recuperacion de consumos                     13\n",
      "cobro de otros bienes o servicios en la factura         8\n",
      "solicitud de rompimiento de solidaridad                 6\n",
      "cobros inoportunos                                      5\n",
      "subsidios y contribuciones                              5\n",
      "cobros por conexion, reconexion, reinstalacion          4\n",
      "negacion del servicio                                   4\n",
      "cobro de cargos relacionados con el servicio publi      3\n",
      "cobros por promedio                                     2\n",
      "tarifa incorrecta                                       2\n",
      "pago sin abono a cuenta                                 2\n",
      "clase de uso incorrecto                                 2\n",
      "inconformidad por cobros por normalizacion del ser      2\n",
      "cobros por servicios no prestados                       1\n",
      "Name: tipo_solicitud_1, dtype: int64\n",
      "\n",
      "\n",
      "pedidos/proyectos\n",
      "\n",
      "portafolio instalaciones sin cotizacion            2358\n",
      "portafolio trabajos a terceros con cotizacion      1092\n",
      "provisional a definitivo                            521\n",
      "cambio de sistema                                   390\n",
      "seguimiento de provisionales                        347\n",
      "solicitud factibilidad del servicio                 305\n",
      "solicitud de interventoria                          170\n",
      "liquidacion conexos otc                             110\n",
      "ejecucion tt                                        103\n",
      "cobro legalizacion particulares                      97\n",
      "revision de proyectos electricos nivel ii y iii      39\n",
      "negacion del servicio                                18\n",
      "cancelacion de provisional                           17\n",
      "solicitud cambio de comercializador (exporta)        13\n",
      "solicitud viabilidad compra/donacion activos         13\n",
      "asesoria de proyectos                                12\n",
      "visita puesta en servicio                            12\n",
      "reformas                                             10\n",
      "revision de proyectos electricos nivel i             10\n",
      "portafolio mantenimiento con cotizacion               9\n",
      "solicitudes otc                                       7\n",
      "solicitud participacion expansion                     7\n",
      "construccion de redes sn                              6\n",
      "portafolio habilitacion vivienda                      4\n",
      "contrato compra / donacion activos                    3\n",
      "observacion a la factibilidad                         2\n",
      "visita posterior                                      2\n",
      "cambio de comercializador                             1\n",
      "retiro de servicios temporales                        1\n",
      "oferta cbf                                            1\n",
      "portafolio diseno y construccion con cotizacion       1\n",
      "Name: tipo_solicitud_1, dtype: int64\n",
      "\n",
      "\n"
     ]
    }
   ],
   "source": [
    "for t in datos_md['tipo_solicitud'].unique():\n",
    "    print(t+'\\n')\n",
    "    print(datos_md[datos_md['tipo_solicitud']==t]['tipo_solicitud_1'].value_counts())\n",
    "    print('\\n')"
   ]
  },
  {
   "cell_type": "markdown",
   "metadata": {},
   "source": [
    "## Peticiones\n",
    "### Exploración y Preprocesamiento "
   ]
  },
  {
   "cell_type": "markdown",
   "metadata": {},
   "source": [
    "En esta primera sección se explorará el set de peticiones y se preprocesarán los textos con los cuales se entrenará el modelo de peticiones"
   ]
  },
  {
   "cell_type": "code",
   "execution_count": 5,
   "metadata": {},
   "outputs": [
    {
     "data": {
      "text/plain": [
       "\"a = datos_md[datos_md['tipo_solicitud']=='peticion'][['tipo_solicitud_1', 'OBSERVACION USUARIO']]\\nd = dict(datos_md[datos_md['tipo_solicitud']=='peticion']['tipo_solicitud_1'].value_counts())\\n\\nfor index, item in enumerate(a['tipo_solicitud_1']):\\n    if item not in ['emision de documento para pago', 'pago parcial']:\\n        a[index] = 'otro'\\nprint(a['tipo_solicitud_1'].value_counts())\""
      ]
     },
     "execution_count": 5,
     "metadata": {},
     "output_type": "execute_result"
    }
   ],
   "source": [
    "'''a = datos_md[datos_md['tipo_solicitud']=='peticion'][['tipo_solicitud_1', 'OBSERVACION USUARIO']]\n",
    "d = dict(datos_md[datos_md['tipo_solicitud']=='peticion']['tipo_solicitud_1'].value_counts())\n",
    "\n",
    "for index, item in enumerate(a['tipo_solicitud_1']):\n",
    "    if item not in ['emision de documento para pago', 'pago parcial']:\n",
    "        a[index] = 'otro'\n",
    "print(a['tipo_solicitud_1'].value_counts())'''"
   ]
  },
  {
   "cell_type": "code",
   "execution_count": 6,
   "metadata": {},
   "outputs": [
    {
     "name": "stdout",
     "output_type": "stream",
     "text": [
      "emision de documento para pago    156593\n",
      "pago parcial                      134347\n",
      "otro                              131699\n",
      "Name: tipo_solicitud_1, dtype: int64\n"
     ]
    }
   ],
   "source": [
    "a = datos_md[datos_md['tipo_solicitud']=='peticion'][['tipo_solicitud_1', 'OBSERVACION USUARIO']]\n",
    "a['tipo_solicitud_1'] = a['tipo_solicitud_1'].map(lambda x: 'otro' if x not in ['emision de documento para pago', 'pago parcial'] else x)\n",
    "print(a['tipo_solicitud_1'].value_counts())"
   ]
  },
  {
   "cell_type": "code",
   "execution_count": 7,
   "metadata": {},
   "outputs": [
    {
     "data": {
      "text/plain": [
       "\"temp = a[a['tipo_solicitud_1']=='otro']['tipo_solicitud_1']\\nindexes = temp.index\\nindex_sample = random.sample(list(indexes), len(temp)-130)\\na.drop(index_sample, inplace=True)\\na['tipo_solicitud_1'].value_counts()\""
      ]
     },
     "execution_count": 7,
     "metadata": {},
     "output_type": "execute_result"
    }
   ],
   "source": [
    "'''temp = a[a['tipo_solicitud_1']=='otro']['tipo_solicitud_1']\n",
    "indexes = temp.index\n",
    "index_sample = random.sample(list(indexes), len(temp)-130)\n",
    "a.drop(index_sample, inplace=True)\n",
    "a['tipo_solicitud_1'].value_counts()'''"
   ]
  },
  {
   "cell_type": "code",
   "execution_count": 8,
   "metadata": {},
   "outputs": [],
   "source": [
    "possible_labels = a['tipo_solicitud_1'].unique()\n",
    "\n",
    "label_dict = {}\n",
    "for index, possible_label in enumerate(possible_labels):\n",
    "    label_dict[possible_label] = index\n",
    "a['tipo_sol_1_int'] = a['tipo_solicitud_1'].replace(label_dict)"
   ]
  },
  {
   "cell_type": "code",
   "execution_count": 9,
   "metadata": {},
   "outputs": [
    {
     "data": {
      "text/plain": [
       "422639"
      ]
     },
     "execution_count": 9,
     "metadata": {},
     "output_type": "execute_result"
    }
   ],
   "source": [
    "len(a)"
   ]
  },
  {
   "cell_type": "markdown",
   "metadata": {},
   "source": [
    "La fase de exploración dejó como resultado una depuración de categorías que tenían muy pocos registros, contando con un total de 3 tipos de solicitud nivel 1 y 422639 registros. Yo pienso que deben haber muchas menos categorias por ahora, esto tendría que depurarse con base al pareto de las peticiones."
   ]
  },
  {
   "cell_type": "markdown",
   "metadata": {},
   "source": [
    "### Entrenamiento del modelo de peticiones"
   ]
  },
  {
   "cell_type": "code",
   "execution_count": 10,
   "metadata": {},
   "outputs": [
    {
     "name": "stdout",
     "output_type": "stream",
     "text": [
      "El accuracy en entrenamiento es de 0.974\n"
     ]
    }
   ],
   "source": [
    "## Acá se entrena una SVC con kernel lineal.\n",
    "##\n",
    "from sklearn.feature_extraction.text import TfidfVectorizer\n",
    "from sklearn.model_selection import train_test_split\n",
    "from sklearn.svm import LinearSVC\n",
    "from sklearn.svm import SVC\n",
    "from sklearn.pipeline import Pipeline\n",
    "from sklearn.decomposition import TruncatedSVD\n",
    "\n",
    "x = a['OBSERVACION USUARIO']\n",
    "y = a['tipo_solicitud_1']\n",
    "\n",
    "x_train, x_test, y_train, y_test = train_test_split(x, y, test_size=0.33, random_state=2022021, stratify=a['tipo_solicitud_1'])\n",
    "\n",
    "peticion_clf = Pipeline([('tfidf', TfidfVectorizer(max_df=0.90, min_df=10)),\n",
    "                         ('svd', TruncatedSVD(n_components=200)),\n",
    "                         ('svm', LinearSVC(C=10, random_state=1022021, max_iter=2000))])\n",
    "#peticion_clf = Pipeline([('tfidf', TfidfVectorizer()), ('scl', preprocessing.StandardScaler(with_mean=False)),\n",
    "#                         ('svm', SVC(C=10, kernel='rbf', random_state=10022021, max_iter=2000))])\n",
    "\n",
    "train_acc = peticion_clf.fit(x_train, y_train).score(x_train, y_train)\n",
    "print(f\"El accuracy en entrenamiento es de {round(train_acc, 3)}\")"
   ]
  },
  {
   "cell_type": "code",
   "execution_count": 11,
   "metadata": {},
   "outputs": [
    {
     "name": "stdout",
     "output_type": "stream",
     "text": [
      "El accuracy en validación es de 0.973 (dif: 0.09%)\n"
     ]
    }
   ],
   "source": [
    "from sklearn import metrics\n",
    "\n",
    "predictions = peticion_clf.predict(x_test)\n",
    "test_acc = metrics.accuracy_score(y_test, predictions)\n",
    "\n",
    "print(f\"El accuracy en validación es de {round(test_acc, 3)} (dif: {round((train_acc-test_acc)*100, 2)}%)\")\n",
    "if train_acc-test_acc > 0.10:\n",
    "    print(\"Warning: peligro de sobre-entrenamiento\")"
   ]
  },
  {
   "cell_type": "code",
   "execution_count": 12,
   "metadata": {},
   "outputs": [
    {
     "name": "stdout",
     "output_type": "stream",
     "text": [
      "Precisión del clasificador: 97.32 \n",
      "\n",
      "Matriz de Confusión: \n",
      " [[50833   655   188]\n",
      " [   29 42370  1062]\n",
      " [    8  1790 42536]]\n"
     ]
    },
    {
     "data": {
      "text/plain": [
       "<AxesSubplot:>"
      ]
     },
     "execution_count": 12,
     "metadata": {},
     "output_type": "execute_result"
    },
    {
     "data": {
      "image/png": "[encoded data removed]",
      "text/plain": [
       "<Figure size 432x288 with 1 Axes>"
      ]
     },
     "metadata": {
      "needs_background": "light"
     },
     "output_type": "display_data"
    }
   ],
   "source": [
    "import seaborn as sns\n",
    "\n",
    "#Calculamos la precisión y mostramos la matriz de confusión\n",
    "acc = metrics.accuracy_score(y_test, predictions)\n",
    "mat = metrics.confusion_matrix(y_test, predictions)\n",
    "\n",
    "print (\"Precisión del clasificador: %.2f \" %(acc*100.0) )\n",
    "print (\"\\nMatriz de Confusión: \\n\", mat)\n",
    "\n",
    "#Esta es otra forma de ver la matriz de confusión\n",
    "sns.heatmap(mat, square=True, annot=True, fmt=\"d\", cbar=False, cmap=\"Blues\")"
   ]
  },
  {
   "cell_type": "code",
   "execution_count": 13,
   "metadata": {},
   "outputs": [
    {
     "name": "stdout",
     "output_type": "stream",
     "text": [
      "                                precision    recall  f1-score   support\n",
      "\n",
      "emision de documento para pago       1.00      0.98      0.99     51676\n",
      "                          otro       0.95      0.97      0.96     43461\n",
      "                  pago parcial       0.97      0.96      0.97     44334\n",
      "\n",
      "                      accuracy                           0.97    139471\n",
      "                     macro avg       0.97      0.97      0.97    139471\n",
      "                  weighted avg       0.97      0.97      0.97    139471\n",
      "\n"
     ]
    }
   ],
   "source": [
    "print(metrics.classification_report(y_test, predictions))"
   ]
  },
  {
   "cell_type": "code",
   "execution_count": 14,
   "metadata": {},
   "outputs": [
    {
     "data": {
      "text/plain": [
       "'from sklearn import model_selection\\nx_train_tfidf = TfidfVectorizer(max_df=0.90, min_df=10).fit_transform(x_train)\\n\\nx_train_tfidf = TruncatedSVD(n_components=200).fit_transform(x_train_tfidf)\\n\\nkfold = model_selection.StratifiedKFold(n_splits=10000)\\nscore = model_selection.cross_val_score(LinearSVC(C=10, random_state=1022021, max_iter=2000), x_train_tfidf, y_train, cv=kfold, scoring=\\'accuracy\\')\\n#score = model_selection.cross_val_score(SVC(C=10, kernel=\\'rbf\\', random_state=10022021, max_iter=5000), x_train_tfidf, y_train, cv=kfold, scoring=\\'accuracy\\')\\nprint(f\"Accuracy: {round(score.mean()*100, 2)} (+/-{round(score.std()*100, 2)})\")'"
      ]
     },
     "execution_count": 14,
     "metadata": {},
     "output_type": "execute_result"
    }
   ],
   "source": [
    "## Validación cruzada.\n",
    "#\n",
    "'''from sklearn import model_selection\n",
    "x_train_tfidf = TfidfVectorizer(max_df=0.90, min_df=10).fit_transform(x_train)\n",
    "\n",
    "x_train_tfidf = TruncatedSVD(n_components=200).fit_transform(x_train_tfidf)\n",
    "\n",
    "kfold = model_selection.StratifiedKFold(n_splits=10000)\n",
    "score = model_selection.cross_val_score(LinearSVC(C=10, random_state=1022021, max_iter=2000), x_train_tfidf, y_train, cv=kfold, scoring='accuracy')\n",
    "#score = model_selection.cross_val_score(SVC(C=10, kernel='rbf', random_state=10022021, max_iter=5000), x_train_tfidf, y_train, cv=kfold, scoring='accuracy')\n",
    "print(f\"Accuracy: {round(score.mean()*100, 2)} (+/-{round(score.std()*100, 2)})\")'''"
   ]
  },
  {
   "cell_type": "code",
   "execution_count": 15,
   "metadata": {},
   "outputs": [
    {
     "data": {
      "text/plain": [
       "(422639, 3763)"
      ]
     },
     "execution_count": 15,
     "metadata": {},
     "output_type": "execute_result"
    }
   ],
   "source": [
    "M = TfidfVectorizer(max_df=0.90, min_df=10).fit_transform(a['OBSERVACION USUARIO'])\n",
    "M.shape"
   ]
  },
  {
   "cell_type": "code",
   "execution_count": 16,
   "metadata": {},
   "outputs": [
    {
     "data": {
      "text/plain": [
       "array([[1, 0, 0],\n",
       "       [0, 1, 0],\n",
       "       [0, 1, 0],\n",
       "       ...,\n",
       "       [1, 0, 0],\n",
       "       [0, 0, 1],\n",
       "       [1, 0, 0]])"
      ]
     },
     "execution_count": 16,
     "metadata": {},
     "output_type": "execute_result"
    }
   ],
   "source": [
    "from sklearn.preprocessing import label_binarize\n",
    "\n",
    "label_binarize(a['tipo_sol_1_int'], classes=[0,1,2])"
   ]
  },
  {
   "cell_type": "code",
   "execution_count": 17,
   "metadata": {},
   "outputs": [
    {
     "name": "stdout",
     "output_type": "stream",
     "text": [
      "Average precision score, micro-averaged over all classes: 1.00\n"
     ]
    },
    {
     "data": {
      "image/png": "[encoded data removed]",
      "text/plain": [
       "<Figure size 504x576 with 1 Axes>"
      ]
     },
     "metadata": {
      "needs_background": "light"
     },
     "output_type": "display_data"
    }
   ],
   "source": [
    "from sklearn.multiclass import OneVsRestClassifier\n",
    "from itertools import cycle\n",
    "from sklearn.preprocessing import label_binarize\n",
    "from sklearn.metrics import precision_recall_curve\n",
    "from sklearn.metrics import average_precision_score\n",
    "\n",
    "x = TfidfVectorizer(max_df=0.90, min_df=10).fit_transform(a['OBSERVACION USUARIO'])\n",
    "x = TruncatedSVD(n_components=200).fit_transform(x)\n",
    "\n",
    "y = label_binarize(a['tipo_sol_1_int'], classes=[0,1,2])\n",
    "n_classes = 3\n",
    "\n",
    "# shuffle and split training and test sets\n",
    "x_train, x_test, y_train, y_test =\\\n",
    "    train_test_split(x, y, test_size=0.33, random_state=0, stratify=y)\n",
    "\n",
    "# ROC y AUC solo sirven en espacios de clasificacion binarios, por esta razon se \n",
    "# entrena un clasificador binario uno vs todos\n",
    "clf = OneVsRestClassifier(LinearSVC(C=10, random_state=1022021, max_iter=2000))\n",
    "#clf = OneVsRestClassifier(SVC(C=10, kernel='rbf', random_state=10022021, max_iter=5000))\n",
    "y_score = clf.fit(x_train, y_train).decision_function(x_test)\n",
    "\n",
    "# For each class\n",
    "precision = dict()\n",
    "recall = dict()\n",
    "average_precision = dict()\n",
    "for i in range(n_classes):\n",
    "    precision[i], recall[i], _ = precision_recall_curve(y_test[:, i],\n",
    "                                                        y_score[:, i])\n",
    "    average_precision[i] = average_precision_score(y_test[:, i], y_score[:, i])\n",
    "\n",
    "# A \"micro-average\": quantifying score on all classes jointly\n",
    "precision[\"micro\"], recall[\"micro\"], _ = precision_recall_curve(y_test.ravel(),\n",
    "    y_score.ravel())\n",
    "average_precision[\"micro\"] = average_precision_score(y_test, y_score,\n",
    "                                                     average=\"micro\")\n",
    "print('Average precision score, micro-averaged over all classes: {0:0.2f}'\n",
    "      .format(average_precision[\"micro\"]))\n",
    "\n",
    "# setup plot details\n",
    "colors = cycle(['navy', 'turquoise', 'darkorange', 'cornflowerblue', 'teal'])\n",
    "\n",
    "plt.figure(figsize=(7, 8))\n",
    "f_scores = np.linspace(0.2, 0.8, num=4)\n",
    "lines = []\n",
    "labels = []\n",
    "for f_score in f_scores:\n",
    "    x = np.linspace(0.01, 1)\n",
    "    y = f_score * x / (2 * x - f_score)\n",
    "    l, = plt.plot(x[y >= 0], y[y >= 0], color='gray', alpha=0.2)\n",
    "    plt.annotate('f1={0:0.1f}'.format(f_score), xy=(0.9, y[45] + 0.02))\n",
    "\n",
    "lines.append(l)\n",
    "labels.append('iso-f1 curves')\n",
    "l, = plt.plot(recall[\"micro\"], precision[\"micro\"], color='gold', lw=2)\n",
    "lines.append(l)\n",
    "labels.append('micro-average Precision-recall (area = {0:0.2f})'\n",
    "              ''.format(average_precision[\"micro\"]))\n",
    "\n",
    "for i, color in zip(range(n_classes), colors):\n",
    "    l, = plt.plot(recall[i], precision[i], color=color, lw=2)\n",
    "    lines.append(l)\n",
    "    labels.append('Precision-recall for class {0} (area = {1:0.2f})'\n",
    "                  ''.format(i, average_precision[i]))\n",
    "\n",
    "fig = plt.gcf()\n",
    "fig.subplots_adjust(bottom=0.25)\n",
    "plt.xlim([0.0, 1.0])\n",
    "plt.ylim([0.0, 1.05])\n",
    "plt.xlabel('Recall')\n",
    "plt.ylabel('Precision')\n",
    "plt.title('Extension of Precision-Recall curve to multi-class')\n",
    "plt.legend(lines, labels, loc=(0, -.38), prop=dict(size=10))\n",
    "\n",
    "\n",
    "plt.show()"
   ]
  },
  {
   "cell_type": "code",
   "execution_count": 18,
   "metadata": {},
   "outputs": [
    {
     "name": "stderr",
     "output_type": "stream",
     "text": [
      "[nltk_data] Downloading package stopwords to\n",
      "[nltk_data]     C:\\Users\\juand\\AppData\\Roaming\\nltk_data...\n",
      "[nltk_data]   Package stopwords is already up-to-date!\n"
     ]
    }
   ],
   "source": [
    "exec(open('text_nomalization.py', 'rb').read())"
   ]
  },
  {
   "cell_type": "code",
   "execution_count": 19,
   "metadata": {},
   "outputs": [
    {
     "data": {
      "text/plain": [
       "'texto prueba escribiendo quiero ver si funciona fíncíón'"
      ]
     },
     "execution_count": 19,
     "metadata": {},
     "output_type": "execute_result"
    }
   ],
   "source": [
    "text_normalization('este es un texto de prueba que estoy escribiendo porque quiero ver si funciona la fíncíón')"
   ]
  },
  {
   "cell_type": "code",
   "execution_count": 20,
   "metadata": {},
   "outputs": [
    {
     "data": {
      "text/plain": [
       "'buenas esque quiero saber si pueden enviar copia factura parece marido mojó'"
      ]
     },
     "execution_count": 20,
     "metadata": {},
     "output_type": "execute_result"
    }
   ],
   "source": [
    "## Ensayo\n",
    "text_ensayo = text_normalization('Buenas, esque quiero saber si me pueden enviar una copia de la factura porque como le parece que a mi marido se le mojó')\n",
    "text_ensayo"
   ]
  },
  {
   "cell_type": "code",
   "execution_count": 21,
   "metadata": {},
   "outputs": [
    {
     "data": {
      "text/plain": [
       "array(['emision de documento para pago'], dtype=object)"
      ]
     },
     "execution_count": 21,
     "metadata": {},
     "output_type": "execute_result"
    }
   ],
   "source": [
    "peticion_clf.predict([text_ensayo])"
   ]
  },
  {
   "cell_type": "markdown",
   "metadata": {},
   "source": [
    "## Reclamo"
   ]
  },
  {
   "cell_type": "markdown",
   "metadata": {},
   "source": [
    "En esta primera sección se explorará el set de peticiones y se preprocesarán los textos con los cuales se entrenará el modelo de peticiones"
   ]
  },
  {
   "cell_type": "code",
   "execution_count": 22,
   "metadata": {},
   "outputs": [
    {
     "name": "stdout",
     "output_type": "stream",
     "text": [
      "inconformidad con el consumo o produccion facturad    19295\n",
      "otro                                                   1950\n",
      "Name: tipo_solicitud_1, dtype: int64\n"
     ]
    }
   ],
   "source": [
    "a = datos_md[datos_md['tipo_solicitud']=='reclamo'][['tipo_solicitud_1', 'OBSERVACION USUARIO']]\n",
    "a['tipo_solicitud_1'] = a['tipo_solicitud_1'].map(lambda x: 'otro' if x != 'inconformidad con el consumo o produccion facturad' else x)\n",
    "print(a['tipo_solicitud_1'].value_counts())"
   ]
  },
  {
   "cell_type": "code",
   "execution_count": 23,
   "metadata": {},
   "outputs": [
    {
     "data": {
      "text/plain": [
       "otro                                                  1950\n",
       "inconformidad con el consumo o produccion facturad    1950\n",
       "Name: tipo_solicitud_1, dtype: int64"
      ]
     },
     "execution_count": 23,
     "metadata": {},
     "output_type": "execute_result"
    }
   ],
   "source": [
    "temp = a[a['tipo_solicitud_1']=='inconformidad con el consumo o produccion facturad']['tipo_solicitud_1']\n",
    "indexes = temp.index\n",
    "index_sample = random.sample(list(indexes), len(temp)-1950)\n",
    "a.drop(index_sample, inplace=True)\n",
    "a['tipo_solicitud_1'].value_counts()"
   ]
  },
  {
   "cell_type": "code",
   "execution_count": 24,
   "metadata": {},
   "outputs": [],
   "source": [
    "possible_labels = a['tipo_solicitud_1'].unique()\n",
    "\n",
    "label_dict = {}\n",
    "for index, possible_label in enumerate(possible_labels):\n",
    "    label_dict[possible_label] = index\n",
    "a['tipo_sol_1_int'] = a['tipo_solicitud_1'].replace(label_dict)"
   ]
  },
  {
   "cell_type": "code",
   "execution_count": 25,
   "metadata": {},
   "outputs": [
    {
     "data": {
      "text/plain": [
       "3900"
      ]
     },
     "execution_count": 25,
     "metadata": {},
     "output_type": "execute_result"
    }
   ],
   "source": [
    "len(a)"
   ]
  },
  {
   "cell_type": "markdown",
   "metadata": {},
   "source": [
    "### Entrenamiento del modelo de Reclamos"
   ]
  },
  {
   "cell_type": "code",
   "execution_count": null,
   "metadata": {},
   "outputs": [],
   "source": []
  }
 ],
 "metadata": {
  "kernelspec": {
   "display_name": "Python 3",
   "language": "python",
   "name": "python3"
  },
  "language_info": {
   "codemirror_mode": {
    "name": "ipython",
    "version": 3
   },
   "file_extension": ".py",
   "mimetype": "text/x-python",
   "name": "python",
   "nbconvert_exporter": "python",
   "pygments_lexer": "ipython3",
   "version": "3.8.5"
  }
 },
 "nbformat": 4,
 "nbformat_minor": 4
}
