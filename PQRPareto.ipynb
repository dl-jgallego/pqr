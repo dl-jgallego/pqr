{
 "cells": [
  {
   "cell_type": "code",
   "execution_count": 1,
   "metadata": {},
   "outputs": [],
   "source": [
    "import pandas as pd\n",
    "import numpy as np\n",
    "import matplotlib.pyplot as plt\n",
    "import seaborn as sns\n",
    "%matplotlib inline"
   ]
  },
  {
   "cell_type": "code",
   "execution_count": 2,
   "metadata": {},
   "outputs": [],
   "source": [
    "df = pd.read_excel('PQRPareto.xlsx', sheet_name='Hoja1')"
   ]
  },
  {
   "cell_type": "code",
   "execution_count": 3,
   "metadata": {},
   "outputs": [
    {
     "data": {
      "text/html": [
       "<div>\n",
       "<style scoped>\n",
       "    .dataframe tbody tr th:only-of-type {\n",
       "        vertical-align: middle;\n",
       "    }\n",
       "\n",
       "    .dataframe tbody tr th {\n",
       "        vertical-align: top;\n",
       "    }\n",
       "\n",
       "    .dataframe thead th {\n",
       "        text-align: right;\n",
       "    }\n",
       "</style>\n",
       "<table border=\"1\" class=\"dataframe\">\n",
       "  <thead>\n",
       "    <tr style=\"text-align: right;\">\n",
       "      <th></th>\n",
       "      <th>CUENTA</th>\n",
       "      <th>TIP_SOLICITUD</th>\n",
       "      <th>TIP_SOLICITUD2</th>\n",
       "    </tr>\n",
       "  </thead>\n",
       "  <tbody>\n",
       "    <tr>\n",
       "      <th>0</th>\n",
       "      <td>148366</td>\n",
       "      <td>PETICIONES</td>\n",
       "      <td>Emisión de documento para pago</td>\n",
       "    </tr>\n",
       "    <tr>\n",
       "      <th>1</th>\n",
       "      <td>69000</td>\n",
       "      <td>PETICIONES</td>\n",
       "      <td>Pago Parcial</td>\n",
       "    </tr>\n",
       "    <tr>\n",
       "      <th>2</th>\n",
       "      <td>65631</td>\n",
       "      <td>Peticion</td>\n",
       "      <td>PAGO PARCIAL</td>\n",
       "    </tr>\n",
       "    <tr>\n",
       "      <th>3</th>\n",
       "      <td>36875</td>\n",
       "      <td>PETICIONES</td>\n",
       "      <td>Separación temporal o pago dirigido</td>\n",
       "    </tr>\n",
       "    <tr>\n",
       "      <th>4</th>\n",
       "      <td>22983</td>\n",
       "      <td>Peticion</td>\n",
       "      <td>EMISION DE DOCUMENTO PARA PAGO</td>\n",
       "    </tr>\n",
       "  </tbody>\n",
       "</table>\n",
       "</div>"
      ],
      "text/plain": [
       "   CUENTA TIP_SOLICITUD                       TIP_SOLICITUD2\n",
       "0  148366    PETICIONES       Emisión de documento para pago\n",
       "1   69000    PETICIONES                         Pago Parcial\n",
       "2   65631      Peticion                         PAGO PARCIAL\n",
       "3   36875    PETICIONES  Separación temporal o pago dirigido\n",
       "4   22983      Peticion       EMISION DE DOCUMENTO PARA PAGO"
      ]
     },
     "execution_count": 3,
     "metadata": {},
     "output_type": "execute_result"
    }
   ],
   "source": [
    "df.head()"
   ]
  },
  {
   "cell_type": "code",
   "execution_count": 4,
   "metadata": {},
   "outputs": [
    {
     "name": "stdout",
     "output_type": "stream",
     "text": [
      "<class 'pandas.core.frame.DataFrame'>\n",
      "RangeIndex: 255 entries, 0 to 254\n",
      "Data columns (total 3 columns):\n",
      " #   Column          Non-Null Count  Dtype \n",
      "---  ------          --------------  ----- \n",
      " 0   CUENTA          255 non-null    int64 \n",
      " 1   TIP_SOLICITUD   254 non-null    object\n",
      " 2   TIP_SOLICITUD2  254 non-null    object\n",
      "dtypes: int64(1), object(2)\n",
      "memory usage: 6.1+ KB\n"
     ]
    }
   ],
   "source": [
    "df.info()"
   ]
  },
  {
   "cell_type": "code",
   "execution_count": 5,
   "metadata": {},
   "outputs": [
    {
     "data": {
      "text/plain": [
       "peticiones                                     55\n",
       "pedidos/proyectos                              45\n",
       "peticion                                       35\n",
       "queja                                          31\n",
       "reclamos                                       22\n",
       "reclamo                                        21\n",
       "recurso reposición en subsidio de apelación    18\n",
       "recurso de reposición                          12\n",
       "programa de financiación social                11\n",
       "autogestion                                     4\n",
       "Name: TIP_SOLICITUD, dtype: int64"
      ]
     },
     "execution_count": 5,
     "metadata": {},
     "output_type": "execute_result"
    }
   ],
   "source": [
    "df.dropna(inplace=True)\n",
    "df['TIP_SOLICITUD'] = df['TIP_SOLICITUD'].map(lambda x: str(x).lower())\n",
    "df['TIP_SOLICITUD'].value_counts()"
   ]
  },
  {
   "cell_type": "code",
   "execution_count": 6,
   "metadata": {},
   "outputs": [
    {
     "data": {
      "text/plain": [
       "peticion             105\n",
       "pedidos/proyectos     45\n",
       "reclamo               43\n",
       "queja                 31\n",
       "recurso               30\n",
       "Name: TIP_SOLICITUD, dtype: int64"
      ]
     },
     "execution_count": 6,
     "metadata": {},
     "output_type": "execute_result"
    }
   ],
   "source": [
    "df['TIP_SOLICITUD'] = df['TIP_SOLICITUD'].map(lambda x: 'peticion' if (x == 'peticiones' or x == 'autogestion' or x == 'programa de financiación social') else x)\n",
    "df['TIP_SOLICITUD'] = df['TIP_SOLICITUD'].map(lambda x: 'reclamo' if x == 'reclamos' else x)\n",
    "df['TIP_SOLICITUD'] = df['TIP_SOLICITUD'].map(lambda x: 'recurso' if (x == 'recurso reposición en subsidio de apelación' or x == 'recurso de reposición') else x)\n",
    "df['TIP_SOLICITUD'].value_counts()"
   ]
  },
  {
   "cell_type": "code",
   "execution_count": 7,
   "metadata": {
    "scrolled": true
   },
   "outputs": [
    {
     "name": "stderr",
     "output_type": "stream",
     "text": [
      "<ipython-input-7-8571749c218f>:3: SettingWithCopyWarning: \n",
      "A value is trying to be set on a copy of a slice from a DataFrame.\n",
      "Try using .loc[row_indexer,col_indexer] = value instead\n",
      "\n",
      "See the caveats in the documentation: https://pandas.pydata.org/pandas-docs/stable/user_guide/indexing.html#returning-a-view-versus-a-copy\n",
      "  df_pet['TIP_SOLICITUD2'] = df_pet['TIP_SOLICITUD2'].map(lambda x: x.lower())\n"
     ]
    },
    {
     "data": {
      "text/html": [
       "<div>\n",
       "<style scoped>\n",
       "    .dataframe tbody tr th:only-of-type {\n",
       "        vertical-align: middle;\n",
       "    }\n",
       "\n",
       "    .dataframe tbody tr th {\n",
       "        vertical-align: top;\n",
       "    }\n",
       "\n",
       "    .dataframe thead th {\n",
       "        text-align: right;\n",
       "    }\n",
       "</style>\n",
       "<table border=\"1\" class=\"dataframe\">\n",
       "  <thead>\n",
       "    <tr style=\"text-align: right;\">\n",
       "      <th></th>\n",
       "      <th>CUENTA</th>\n",
       "      <th>TIP_SOLICITUD</th>\n",
       "      <th>TIP_SOLICITUD2</th>\n",
       "    </tr>\n",
       "  </thead>\n",
       "  <tbody>\n",
       "    <tr>\n",
       "      <th>0</th>\n",
       "      <td>148366</td>\n",
       "      <td>peticion</td>\n",
       "      <td>emisión de documento para pago</td>\n",
       "    </tr>\n",
       "    <tr>\n",
       "      <th>1</th>\n",
       "      <td>69000</td>\n",
       "      <td>peticion</td>\n",
       "      <td>pago parcial</td>\n",
       "    </tr>\n",
       "    <tr>\n",
       "      <th>2</th>\n",
       "      <td>65631</td>\n",
       "      <td>peticion</td>\n",
       "      <td>pago parcial</td>\n",
       "    </tr>\n",
       "    <tr>\n",
       "      <th>3</th>\n",
       "      <td>36875</td>\n",
       "      <td>peticion</td>\n",
       "      <td>separación temporal o pago dirigido</td>\n",
       "    </tr>\n",
       "    <tr>\n",
       "      <th>4</th>\n",
       "      <td>22983</td>\n",
       "      <td>peticion</td>\n",
       "      <td>emision de documento para pago</td>\n",
       "    </tr>\n",
       "    <tr>\n",
       "      <th>...</th>\n",
       "      <td>...</td>\n",
       "      <td>...</td>\n",
       "      <td>...</td>\n",
       "    </tr>\n",
       "    <tr>\n",
       "      <th>100</th>\n",
       "      <td>1</td>\n",
       "      <td>peticion</td>\n",
       "      <td>no proceden recursos</td>\n",
       "    </tr>\n",
       "    <tr>\n",
       "      <th>101</th>\n",
       "      <td>1</td>\n",
       "      <td>peticion</td>\n",
       "      <td>gestionar financiación</td>\n",
       "    </tr>\n",
       "    <tr>\n",
       "      <th>102</th>\n",
       "      <td>1</td>\n",
       "      <td>peticion</td>\n",
       "      <td>actualización por habeas data</td>\n",
       "    </tr>\n",
       "    <tr>\n",
       "      <th>103</th>\n",
       "      <td>1</td>\n",
       "      <td>peticion</td>\n",
       "      <td>denuncia de contrato de arrendamiento</td>\n",
       "    </tr>\n",
       "    <tr>\n",
       "      <th>104</th>\n",
       "      <td>1</td>\n",
       "      <td>peticion</td>\n",
       "      <td>facturación a la fecha</td>\n",
       "    </tr>\n",
       "  </tbody>\n",
       "</table>\n",
       "<p>105 rows × 3 columns</p>\n",
       "</div>"
      ],
      "text/plain": [
       "     CUENTA TIP_SOLICITUD                         TIP_SOLICITUD2\n",
       "0    148366      peticion         emisión de documento para pago\n",
       "1     69000      peticion                           pago parcial\n",
       "2     65631      peticion                           pago parcial\n",
       "3     36875      peticion    separación temporal o pago dirigido\n",
       "4     22983      peticion         emision de documento para pago\n",
       "..      ...           ...                                    ...\n",
       "100       1      peticion                   no proceden recursos\n",
       "101       1      peticion                 gestionar financiación\n",
       "102       1      peticion          actualización por habeas data\n",
       "103       1      peticion  denuncia de contrato de arrendamiento\n",
       "104       1      peticion                 facturación a la fecha\n",
       "\n",
       "[105 rows x 3 columns]"
      ]
     },
     "execution_count": 7,
     "metadata": {},
     "output_type": "execute_result"
    }
   ],
   "source": [
    "df_pet = df[df['TIP_SOLICITUD']=='peticion']\n",
    "df_pet.reset_index(inplace=True, drop=True)\n",
    "df_pet['TIP_SOLICITUD2'] = df_pet['TIP_SOLICITUD2'].map(lambda x: x.lower())\n",
    "df_pet"
   ]
  },
  {
   "cell_type": "code",
   "execution_count": 8,
   "metadata": {},
   "outputs": [
    {
     "name": "stderr",
     "output_type": "stream",
     "text": [
      "<ipython-input-8-41e45cfb0efa>:3: SettingWithCopyWarning: \n",
      "A value is trying to be set on a copy of a slice from a DataFrame.\n",
      "Try using .loc[row_indexer,col_indexer] = value instead\n",
      "\n",
      "See the caveats in the documentation: https://pandas.pydata.org/pandas-docs/stable/user_guide/indexing.html#returning-a-view-versus-a-copy\n",
      "  df_pp['TIP_SOLICITUD2'] = df_pp['TIP_SOLICITUD2'].map(lambda x: x.lower())\n",
      "<ipython-input-8-41e45cfb0efa>:7: SettingWithCopyWarning: \n",
      "A value is trying to be set on a copy of a slice from a DataFrame.\n",
      "Try using .loc[row_indexer,col_indexer] = value instead\n",
      "\n",
      "See the caveats in the documentation: https://pandas.pydata.org/pandas-docs/stable/user_guide/indexing.html#returning-a-view-versus-a-copy\n",
      "  df_re['TIP_SOLICITUD2'] = df_re['TIP_SOLICITUD2'].map(lambda x: x.lower())\n",
      "<ipython-input-8-41e45cfb0efa>:11: SettingWithCopyWarning: \n",
      "A value is trying to be set on a copy of a slice from a DataFrame.\n",
      "Try using .loc[row_indexer,col_indexer] = value instead\n",
      "\n",
      "See the caveats in the documentation: https://pandas.pydata.org/pandas-docs/stable/user_guide/indexing.html#returning-a-view-versus-a-copy\n",
      "  df_qu['TIP_SOLICITUD2'] = df_qu['TIP_SOLICITUD2'].map(lambda x: x.lower())\n",
      "<ipython-input-8-41e45cfb0efa>:15: SettingWithCopyWarning: \n",
      "A value is trying to be set on a copy of a slice from a DataFrame.\n",
      "Try using .loc[row_indexer,col_indexer] = value instead\n",
      "\n",
      "See the caveats in the documentation: https://pandas.pydata.org/pandas-docs/stable/user_guide/indexing.html#returning-a-view-versus-a-copy\n",
      "  df_rs['TIP_SOLICITUD2'] = df_rs['TIP_SOLICITUD2'].map(lambda x: x.lower())\n"
     ]
    }
   ],
   "source": [
    "df_pp = df[df['TIP_SOLICITUD']=='pedidos/proyectos']\n",
    "df_pp.reset_index(inplace=True, drop=True)\n",
    "df_pp['TIP_SOLICITUD2'] = df_pp['TIP_SOLICITUD2'].map(lambda x: x.lower())\n",
    "\n",
    "df_re = df[df['TIP_SOLICITUD']=='reclamo']\n",
    "df_re.reset_index(inplace=True, drop=True)\n",
    "df_re['TIP_SOLICITUD2'] = df_re['TIP_SOLICITUD2'].map(lambda x: x.lower())\n",
    "\n",
    "df_qu = df[df['TIP_SOLICITUD']=='queja']\n",
    "df_qu.reset_index(inplace=True, drop=True)\n",
    "df_qu['TIP_SOLICITUD2'] = df_qu['TIP_SOLICITUD2'].map(lambda x: x.lower())\n",
    "\n",
    "df_rs = df[df['TIP_SOLICITUD']=='recurso']\n",
    "df_rs.reset_index(inplace=True, drop=True)\n",
    "df_rs['TIP_SOLICITUD2'] = df_rs['TIP_SOLICITUD2'].map(lambda x: x.lower())"
   ]
  },
  {
   "cell_type": "code",
   "execution_count": 10,
   "metadata": {},
   "outputs": [
    {
     "data": {
      "text/plain": [
       "{'emisión de documento para pago'}"
      ]
     },
     "execution_count": 10,
     "metadata": {},
     "output_type": "execute_result"
    }
   ],
   "source": [
    "pri_pet = []\n",
    "suma = 0\n",
    "for index, value in enumerate(df_pet['CUENTA']):\n",
    "    while suma <= df_pet['CUENTA'].sum()*0.8:\n",
    "        suma = value + suma\n",
    "        pri_pet.append(df_pet['TIP_SOLICITUD2'][index])\n",
    "set(pri_pet)"
   ]
  },
  {
   "cell_type": "code",
   "execution_count": 11,
   "metadata": {},
   "outputs": [
    {
     "data": {
      "text/plain": [
       "{'conexión del servicio'}"
      ]
     },
     "execution_count": 11,
     "metadata": {},
     "output_type": "execute_result"
    }
   ],
   "source": [
    "pri_pp = []\n",
    "suma = 0\n",
    "for index, value in enumerate(df_pp['CUENTA']):\n",
    "    while suma <= df_pp['CUENTA'].sum()*0.8:\n",
    "        suma = value + suma\n",
    "        pri_pp.append(df_pp['TIP_SOLICITUD2'][index])\n",
    "set(pri_pp)"
   ]
  },
  {
   "cell_type": "code",
   "execution_count": 12,
   "metadata": {},
   "outputs": [
    {
     "data": {
      "text/plain": [
       "{'inconformidad con el consumo o producción factura'}"
      ]
     },
     "execution_count": 12,
     "metadata": {},
     "output_type": "execute_result"
    }
   ],
   "source": [
    "pri_re = []\n",
    "suma = 0\n",
    "for index, value in enumerate(df_re['CUENTA']):\n",
    "    while suma <= df_re['CUENTA'].sum()*0.8:\n",
    "        suma = value + suma\n",
    "        pri_re.append(df_re['TIP_SOLICITUD2'][index])\n",
    "set(pri_re)"
   ]
  },
  {
   "cell_type": "code",
   "execution_count": 13,
   "metadata": {},
   "outputs": [
    {
     "data": {
      "text/plain": [
       "{'entrega inoportuna o no entrega de la factura'}"
      ]
     },
     "execution_count": 13,
     "metadata": {},
     "output_type": "execute_result"
    }
   ],
   "source": [
    "pri_qu = []\n",
    "suma = 0\n",
    "for index, value in enumerate(df_qu['CUENTA']):\n",
    "    while suma <= df_qu['CUENTA'].sum()*0.8:\n",
    "        suma = value + suma\n",
    "        pri_qu.append(df_qu['TIP_SOLICITUD2'][index])\n",
    "set(pri_qu)"
   ]
  },
  {
   "cell_type": "code",
   "execution_count": 14,
   "metadata": {},
   "outputs": [
    {
     "data": {
      "text/plain": [
       "{'inconformidad con el consumo o producción facturad'}"
      ]
     },
     "execution_count": 14,
     "metadata": {},
     "output_type": "execute_result"
    }
   ],
   "source": [
    "pri_rs = []\n",
    "suma = 0\n",
    "for index, value in enumerate(df_rs['CUENTA']):\n",
    "    while suma <= df_rs['CUENTA'].sum()*0.8:\n",
    "        suma = value + suma\n",
    "        pri_rs.append(df_rs['TIP_SOLICITUD2'][index])\n",
    "set(pri_rs)"
   ]
  },
  {
   "cell_type": "code",
   "execution_count": null,
   "metadata": {},
   "outputs": [],
   "source": []
  }
 ],
 "metadata": {
  "kernelspec": {
   "display_name": "Python 3",
   "language": "python",
   "name": "python3"
  },
  "language_info": {
   "codemirror_mode": {
    "name": "ipython",
    "version": 3
   },
   "file_extension": ".py",
   "mimetype": "text/x-python",
   "name": "python",
   "nbconvert_exporter": "python",
   "pygments_lexer": "ipython3",
   "version": "3.8.5"
  }
 },
 "nbformat": 4,
 "nbformat_minor": 4
}
