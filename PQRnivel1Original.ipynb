{
 "cells": [
  {
   "cell_type": "markdown",
   "metadata": {},
   "source": [
    "# Modelo de Clasificación PQR nivel 1"
   ]
  },
  {
   "cell_type": "markdown",
   "metadata": {},
   "source": [
    "Este libro aborda el preprocesamiento, y el entrenamiento de un modelo de clasificación para PQRs"
   ]
  },
  {
   "cell_type": "markdown",
   "metadata": {},
   "source": [
    "### Exploración y Preprocesamiento"
   ]
  },
  {
   "cell_type": "markdown",
   "metadata": {},
   "source": [
    "En esta primera sección se explorará el set de datos y se preprocesarán los textos con los cuales se entrenará el modelo"
   ]
  },
  {
   "cell_type": "code",
   "execution_count": 1,
   "metadata": {},
   "outputs": [],
   "source": [
    "## importamos las librerias\n",
    "##\n",
    "import pandas as pd\n",
    "import numpy as np\n",
    "import matplotlib.pyplot as plt\n",
    "import seaborn as sns\n",
    "%matplotlib inline"
   ]
  },
  {
   "cell_type": "code",
   "execution_count": 2,
   "metadata": {},
   "outputs": [
    {
     "name": "stderr",
     "output_type": "stream",
     "text": [
      "C:\\Users\\juand\\Anaconda3\\lib\\site-packages\\IPython\\core\\interactiveshell.py:3146: DtypeWarning: Columns (2,10,11,14,15,18,19,20,25,26) have mixed types.Specify dtype option on import or set low_memory=False.\n",
      "  has_raised = await self.run_ast_nodes(code_ast.body, cell_name,\n"
     ]
    }
   ],
   "source": [
    "df = pd.read_csv('PQRs_2018-nov2020.csv', sep=';', encoding='utf-8')"
   ]
  },
  {
   "cell_type": "code",
   "execution_count": 3,
   "metadata": {},
   "outputs": [
    {
     "data": {
      "text/html": [
       "<div>\n",
       "<style scoped>\n",
       "    .dataframe tbody tr th:only-of-type {\n",
       "        vertical-align: middle;\n",
       "    }\n",
       "\n",
       "    .dataframe tbody tr th {\n",
       "        vertical-align: top;\n",
       "    }\n",
       "\n",
       "    .dataframe thead th {\n",
       "        text-align: right;\n",
       "    }\n",
       "</style>\n",
       "<table border=\"1\" class=\"dataframe\">\n",
       "  <thead>\n",
       "    <tr style=\"text-align: right;\">\n",
       "      <th></th>\n",
       "      <th>ID</th>\n",
       "      <th>forma_requerimiento</th>\n",
       "      <th>identificacion</th>\n",
       "      <th>solicitante</th>\n",
       "      <th>dir_solicitante</th>\n",
       "      <th>tipo_solicitud</th>\n",
       "      <th>cuenta</th>\n",
       "      <th>fec_solicitud</th>\n",
       "      <th>fec_vencmto</th>\n",
       "      <th>fec_rpta</th>\n",
       "      <th>...</th>\n",
       "      <th>TELEFONO</th>\n",
       "      <th>CELULAR</th>\n",
       "      <th>EMAIL</th>\n",
       "      <th>CIRCUITO</th>\n",
       "      <th>NODO</th>\n",
       "      <th>UBICACION</th>\n",
       "      <th>CLASE_SERVICIO</th>\n",
       "      <th>ANIOMES</th>\n",
       "      <th>Tipo fuente</th>\n",
       "      <th>DOCUMENTO</th>\n",
       "    </tr>\n",
       "  </thead>\n",
       "  <tbody>\n",
       "    <tr>\n",
       "      <th>0</th>\n",
       "      <td>PQR_201901_1</td>\n",
       "      <td>verbal</td>\n",
       "      <td>25161887</td>\n",
       "      <td>OFIR DE MARIA CORREA CORREA</td>\n",
       "      <td>CRA 16 18 06</td>\n",
       "      <td>peticion</td>\n",
       "      <td>101202096</td>\n",
       "      <td>8/01/2019</td>\n",
       "      <td>28/01/2019</td>\n",
       "      <td>8/01/2019</td>\n",
       "      <td>...</td>\n",
       "      <td>NaN</td>\n",
       "      <td>3.00981e+09</td>\n",
       "      <td>NaN</td>\n",
       "      <td>HER23L12</td>\n",
       "      <td>D20299</td>\n",
       "      <td>U</td>\n",
       "      <td>Residencial</td>\n",
       "      <td>201901</td>\n",
       "      <td>PQR</td>\n",
       "      <td>NaN</td>\n",
       "    </tr>\n",
       "    <tr>\n",
       "      <th>1</th>\n",
       "      <td>PQR_201901_2</td>\n",
       "      <td>verbal</td>\n",
       "      <td>25155655</td>\n",
       "      <td>AURA ALICIA MEJIA CUERVO</td>\n",
       "      <td>CLL 19 15 74</td>\n",
       "      <td>peticion</td>\n",
       "      <td>101249151</td>\n",
       "      <td>4/01/2019</td>\n",
       "      <td>25/01/2019</td>\n",
       "      <td>4/01/2019</td>\n",
       "      <td>...</td>\n",
       "      <td>3.64131e+06</td>\n",
       "      <td>NaN</td>\n",
       "      <td>NaN</td>\n",
       "      <td>HER23L15</td>\n",
       "      <td>D23538</td>\n",
       "      <td>U</td>\n",
       "      <td>Residencial</td>\n",
       "      <td>201901</td>\n",
       "      <td>PQR</td>\n",
       "      <td>NaN</td>\n",
       "    </tr>\n",
       "    <tr>\n",
       "      <th>2</th>\n",
       "      <td>PQR_201901_3</td>\n",
       "      <td>verbal</td>\n",
       "      <td>25161763</td>\n",
       "      <td>AMPARO  QUICENO GARCIA</td>\n",
       "      <td>CLL 20 15 15 PSO 2</td>\n",
       "      <td>peticion</td>\n",
       "      <td>101274963</td>\n",
       "      <td>16/01/2019</td>\n",
       "      <td>5/02/2019</td>\n",
       "      <td>16/01/2019</td>\n",
       "      <td>...</td>\n",
       "      <td>NaN</td>\n",
       "      <td>3.11739e+09</td>\n",
       "      <td>NaN</td>\n",
       "      <td>HER23L15</td>\n",
       "      <td>D23553</td>\n",
       "      <td>U</td>\n",
       "      <td>Residencial</td>\n",
       "      <td>201901</td>\n",
       "      <td>PQR</td>\n",
       "      <td>NaN</td>\n",
       "    </tr>\n",
       "  </tbody>\n",
       "</table>\n",
       "<p>3 rows × 35 columns</p>\n",
       "</div>"
      ],
      "text/plain": [
       "             ID forma_requerimiento identificacion  \\\n",
       "0  PQR_201901_1              verbal       25161887   \n",
       "1  PQR_201901_2              verbal       25155655   \n",
       "2  PQR_201901_3              verbal       25161763   \n",
       "\n",
       "                   solicitante     dir_solicitante tipo_solicitud     cuenta  \\\n",
       "0  OFIR DE MARIA CORREA CORREA        CRA 16 18 06       peticion  101202096   \n",
       "1     AURA ALICIA MEJIA CUERVO        CLL 19 15 74       peticion  101249151   \n",
       "2       AMPARO  QUICENO GARCIA  CLL 20 15 15 PSO 2       peticion  101274963   \n",
       "\n",
       "  fec_solicitud fec_vencmto    fec_rpta  ...     TELEFONO      CELULAR EMAIL  \\\n",
       "0     8/01/2019  28/01/2019   8/01/2019  ...          NaN  3.00981e+09   NaN   \n",
       "1     4/01/2019  25/01/2019   4/01/2019  ...  3.64131e+06          NaN   NaN   \n",
       "2    16/01/2019   5/02/2019  16/01/2019  ...          NaN  3.11739e+09   NaN   \n",
       "\n",
       "   CIRCUITO    NODO UBICACION CLASE_SERVICIO ANIOMES Tipo fuente DOCUMENTO  \n",
       "0  HER23L12  D20299         U    Residencial  201901         PQR       NaN  \n",
       "1  HER23L15  D23538         U    Residencial  201901         PQR       NaN  \n",
       "2  HER23L15  D23553         U    Residencial  201901         PQR       NaN  \n",
       "\n",
       "[3 rows x 35 columns]"
      ]
     },
     "execution_count": 3,
     "metadata": {},
     "output_type": "execute_result"
    }
   ],
   "source": [
    "df.head(3)"
   ]
  },
  {
   "cell_type": "code",
   "execution_count": 4,
   "metadata": {},
   "outputs": [
    {
     "data": {
      "text/plain": [
       "verbal                       575254\n",
       "telefonico                    57263\n",
       "escrito                        8530\n",
       "pagina web                     6238\n",
       "e-mail                         1607\n",
       "asesor remoto                   762\n",
       "chat                            408\n",
       "otros medios electronicos        92\n",
       "sspd                             17\n",
       "interventoria                     3\n",
       "Name: forma_requerimiento, dtype: int64"
      ]
     },
     "execution_count": 4,
     "metadata": {},
     "output_type": "execute_result"
    }
   ],
   "source": [
    "df['forma_requerimiento'].value_counts()"
   ]
  },
  {
   "cell_type": "code",
   "execution_count": 5,
   "metadata": {},
   "outputs": [
    {
     "name": "stdout",
     "output_type": "stream",
     "text": [
      "2019022000003 - REVISIÓN COMPLETA AL MEDIDOR -  EL NÚMERO DE CUENTA 120210036, EN DONDE INEXPLICABLEMENTE SE PRESENTÓ UN INCREMENTO EN LA FACTURA POR UN SUPUESTO INCREMENTO DE CONSUMO, EXPUESTO POR USTEDES DE LA MISMA MANERA QUE EL PRESENTE INCIDENTE, LO CUAL ME LLEVA A PENS\n",
      "\n",
      "\n",
      "RAD 20190220000530 - ADJUNTO DOCUMENTO PARA MANTENER LA EXENCIÓN A LA CONTRIBUCIÓN, TENIENDO EN CUENTA NUESTRA ACTIVIDAD PRINCIPAL.\n",
      "\n",
      "\n",
      "RAD - 20180220019579 - REALIZAR VISITA PARA VERIFICAR ESTADO DEL SISTEMA E IDENTIFICAR EL POR QUE DEL INCREMENTO DE LA FACTURACIÓN Y HACER\n",
      "\n",
      "\n",
      "RAD - 20180220020853-,  ADJUNTO RUT ACTUALIZADO PARA BENEFICIO DE EXONERACIÓN DE CONTRIBUCIÓN POR SER INDUSTRIA\n",
      "\n",
      "\n",
      "RAD - 20180220020853 - ADJUNTO RUT ACTUALIZADO PARA BENEFICIO DE EXONERACIÓN DE CONTRIBUCIÓN POR SER INDUSTRIA\n",
      "\n",
      "\n",
      "RAD - 20190220000329 - BUENAS TARDES EL DÍA 10 DEL MES EN CURSO A LA VECINA DESAFORTUNADAMENTE SE LE ENCIENDE LA CASA, COMO EL CABLE DE LA ENERGÍA QUE USTEDES PUSIERON PASA POR EL TECHO ESTE CABLE QUE ALIMENTA MI CASA SE QUEMA. AL DÍA SIGUIENTE LLEGA UN SEÑOR FUNCIONARIO DE LA EMPRESA QUIEN MANIFIESTA QUE HAY Q CAMBIAR EL CABLE SI QUIEREN EL SERVICIO DE ENERGÍA NUEVAMENTE HAY QUE CANCELAR UN VALOR\n",
      "\n",
      "\n",
      "RAD - 20180220020281 - SE REQUIERE SE COTICE SERVICIO DE MANTENIMIENTO A TODO COSTO\n",
      "\n",
      "\n",
      "REVISION COMPLETA-  MEDIO DE LA PRESENTE SOLICITO SEA REVISADO EL CONTADOR DE ENERGÍA Y DISPLAY DE LA GRANJA SANTA ANA, YA QUE EN DÍAS ANTERIORES PRESENTO UNA FALLA, NO PERMITIENDO LA LECTURA DEL CONSUMO REAL, EN EL MOMENTO LA CORRIENTE EN DICHO PREDIO SOBREPASO LA CAPACIDAD NOMINAL DEL LECTOR, LO QUE PUDO OCASIONAR EL DAÑO YA MENCIONADO.  SOLICITO LA VISITA TÉCNICA TENDIENTES A LA DETECCIÓN DE AN\n",
      "\n",
      "\n",
      "20190220000531 - ANEXO RUT ACTUALIZADO DE LA EMPRESA FRUGY S.A  IDENTIFICADA CON EL NIT 890.806.646-7\n",
      "\n",
      "\n",
      "POR FAVOR ME PEDES ENVIAR LA FACTURA PARA PAGAR NUMERO DE CUENTA:422700507\n",
      "\n",
      "\n",
      "SOLICITA CAMBIO DE NOMBRE, SOLICITUD ANTERIOR 274401, FALTABA DOCUMENTACION\n",
      "\n",
      "\n",
      "QUISIERA QUE ME ATENDIERAN UNA SOLICITUD O MÁS BIEN UNA SUGERENCIA RESULTA QUE A LA EMPRESA SUSUERTE S.A UBICADA EN LA CRA 21 22-16 LLEGA LA MAYORÍA DE LA FACTURAS DE LA ENERGÍA DE TODOS LOS PUNTOS QUE TENEMOS EN LA CIUDAD DE MANIZALES , ENEA Y VILLAMARÍA, ÚLTIMAMENTE MÁS EXACTOS LAS FACTURAS DE VILLAMARIA LAS TRAE LA PERSONA QUE REPARTE LA CORRESPONDENCIA DE LA FACTURAS VENCIDAS, Y HOY POR EJEMPL\n",
      "\n",
      "\n",
      "RAD - 20180220019887 - AMABLEMENTE LE SOLICITO REFINANCIAR EL PLAZO DE MIS CRÉDITOS A 60 MESES, NÚMERO DE CUENTA 449494462\n",
      "\n",
      "\n",
      "ENVIÓ RUT ACTUALIZADO PARA LA EXENCIÓN DE CONTRIBUCIÓN NOMBRE DE PLASTIQ SAS NIT 900539190-0 NÚMERO DE CUENTA 464803601\n",
      "\n",
      "\n",
      "RAD - 20190220000027 - POR MEDIO DE LA PRESENTE SOLICITAMOS LA RENOVACIÓN DE EXENCIÓN DE CONTRIBUCIÓN ADJUNTO ENVIAMOS RUT Y CARTA DE SOLICITUD\n",
      "\n",
      "\n"
     ]
    }
   ],
   "source": [
    "for i in range(15):\n",
    "    print(df[df['forma_requerimiento']=='e-mail']['OBSERVACION USUARIO'].iloc[i])\n",
    "    print('\\n')\n",
    "\n",
    "#df_copy[df_copy['tipo_solicitud']==s]['tipo_solicitud_1']"
   ]
  },
  {
   "cell_type": "code",
   "execution_count": 6,
   "metadata": {},
   "outputs": [
    {
     "name": "stdout",
     "output_type": "stream",
     "text": [
      "<class 'pandas.core.frame.DataFrame'>\n",
      "RangeIndex: 650175 entries, 0 to 650174\n",
      "Data columns (total 35 columns):\n",
      " #   Column                 Non-Null Count   Dtype  \n",
      "---  ------                 --------------   -----  \n",
      " 0   ID                     650175 non-null  object \n",
      " 1   forma_requerimiento    650174 non-null  object \n",
      " 2   identificacion         650153 non-null  object \n",
      " 3   solicitante            650098 non-null  object \n",
      " 4   dir_solicitante        650145 non-null  object \n",
      " 5   tipo_solicitud         650175 non-null  object \n",
      " 6   cuenta                 650175 non-null  int64  \n",
      " 7   fec_solicitud          650175 non-null  object \n",
      " 8   fec_vencmto            650175 non-null  object \n",
      " 9   fec_rpta               650175 non-null  object \n",
      " 10  clase_inicial          343509 non-null  object \n",
      " 11  estrato                650175 non-null  object \n",
      " 12  a_favor_de             650175 non-null  object \n",
      " 13  tipo_solicitud_1       650175 non-null  object \n",
      " 14  documento              262317 non-null  object \n",
      " 15  imputabilidad          543926 non-null  object \n",
      " 16  causa_final            648554 non-null  object \n",
      " 17  responde               649381 non-null  object \n",
      " 18  OBSERVACION USUARIO    486116 non-null  object \n",
      " 19  observacion_respuesta  343838 non-null  object \n",
      " 20  SEGMENTO               552506 non-null  object \n",
      " 21  TIPO_DOC               650139 non-null  object \n",
      " 22  NOMBRE                 650139 non-null  object \n",
      " 23  DIRECCION              650139 non-null  object \n",
      " 24  MUNICIPIO              650139 non-null  object \n",
      " 25  TELEFONO               410091 non-null  object \n",
      " 26  CELULAR                471157 non-null  object \n",
      " 27  EMAIL                  35446 non-null   object \n",
      " 28  CIRCUITO               649042 non-null  object \n",
      " 29  NODO                   650138 non-null  object \n",
      " 30  UBICACION              650138 non-null  object \n",
      " 31  CLASE_SERVICIO         650138 non-null  object \n",
      " 32  ANIOMES                650175 non-null  int64  \n",
      " 33  Tipo fuente            650175 non-null  object \n",
      " 34  DOCUMENTO              106239 non-null  float64\n",
      "dtypes: float64(1), int64(2), object(32)\n",
      "memory usage: 173.6+ MB\n"
     ]
    }
   ],
   "source": [
    "df.info()"
   ]
  },
  {
   "cell_type": "code",
   "execution_count": 7,
   "metadata": {},
   "outputs": [
    {
     "data": {
      "text/plain": [
       "650175"
      ]
     },
     "execution_count": 7,
     "metadata": {},
     "output_type": "execute_result"
    }
   ],
   "source": [
    "## cantidad total de filas\n",
    "## \n",
    "len(df)"
   ]
  },
  {
   "cell_type": "code",
   "execution_count": 8,
   "metadata": {},
   "outputs": [],
   "source": [
    "df['tipo_solicitud'] = df['tipo_solicitud'].map(lambda x: 'recurso' if x=='recurso reposicion en subsidio de apelacion' or x=='recurso de reposicion' else x)"
   ]
  },
  {
   "cell_type": "code",
   "execution_count": 9,
   "metadata": {},
   "outputs": [],
   "source": [
    "df_copy = df.copy()"
   ]
  },
  {
   "cell_type": "code",
   "execution_count": 10,
   "metadata": {},
   "outputs": [
    {
     "data": {
      "text/plain": [
       "False    486116\n",
       "True     164059\n",
       "Name: OBSERVACION USUARIO, dtype: int64"
      ]
     },
     "execution_count": 10,
     "metadata": {},
     "output_type": "execute_result"
    }
   ],
   "source": [
    "## Eliminacion de NaN\n",
    "## \n",
    "df_copy['OBSERVACION USUARIO'].isna().value_counts()"
   ]
  },
  {
   "cell_type": "code",
   "execution_count": 11,
   "metadata": {},
   "outputs": [],
   "source": [
    "## Eliminacion de elementos sin sentido\n",
    "##\n",
    "df_copy['OBSERVACION USUARIO'] = df_copy['OBSERVACION USUARIO'].map(lambda x: str(x))\n",
    "df_copy['OBSERVACION USUARIO'] = df_copy['OBSERVACION USUARIO'].map(lambda x: x.lower())\n",
    "len_obs_usuario = [(i, len(o)) for i, o in enumerate(df_copy['OBSERVACION USUARIO'])]"
   ]
  },
  {
   "cell_type": "code",
   "execution_count": 12,
   "metadata": {},
   "outputs": [],
   "source": [
    "## Eliminacion de elementos sin sentido\n",
    "## lista con las observaciones que tengan una longitud de observación menor a\n",
    "## x caracteres.\n",
    "##\n",
    "len_menor_x = [(i,o) for i, o in sorted(len_obs_usuario, key=lambda t: t[1]) if o <=20]\n",
    "index_menor_x = [i for i, o in len_menor_x]"
   ]
  },
  {
   "cell_type": "code",
   "execution_count": 13,
   "metadata": {},
   "outputs": [
    {
     "data": {
      "text/plain": [
       "196438"
      ]
     },
     "execution_count": 13,
     "metadata": {},
     "output_type": "execute_result"
    }
   ],
   "source": [
    "len(index_menor_x)"
   ]
  },
  {
   "cell_type": "code",
   "execution_count": 14,
   "metadata": {},
   "outputs": [],
   "source": [
    "# sorted(len_obs_usuario, key= lambda t: t[1])"
   ]
  },
  {
   "cell_type": "code",
   "execution_count": 15,
   "metadata": {},
   "outputs": [],
   "source": [
    "## Eliminacion elementos sin sentido\n",
    "## se procede a eliminarlas\n",
    "##\n",
    "df_copy.drop(index_menor_x, inplace=True)"
   ]
  },
  {
   "cell_type": "code",
   "execution_count": 16,
   "metadata": {},
   "outputs": [],
   "source": [
    "df_copy = df_copy.reset_index(drop=True)\n",
    "#len_obs_usuario = [(i, len(o)) for i, o in enumerate(df_copy['OBSERVACION USUARIO'])]\n",
    "#sorted(len_obs_usuario, key= lambda t: t[1])"
   ]
  },
  {
   "cell_type": "code",
   "execution_count": 17,
   "metadata": {},
   "outputs": [],
   "source": [
    "df_copy['len_obs'] = df_copy['OBSERVACION USUARIO'].map(lambda x: len(x))"
   ]
  },
  {
   "cell_type": "code",
   "execution_count": 18,
   "metadata": {},
   "outputs": [
    {
     "data": {
      "text/plain": [
       "count    453737.000000\n",
       "mean         72.165012\n",
       "std          62.424046\n",
       "min          21.000000\n",
       "25%          41.000000\n",
       "50%          60.000000\n",
       "75%          79.000000\n",
       "max        1000.000000\n",
       "Name: len_obs, dtype: float64"
      ]
     },
     "execution_count": 18,
     "metadata": {},
     "output_type": "execute_result"
    }
   ],
   "source": [
    "df_copy['len_obs'].describe()"
   ]
  },
  {
   "cell_type": "code",
   "execution_count": 19,
   "metadata": {},
   "outputs": [],
   "source": [
    "#sns.set_theme()\n",
    "\n",
    "#sns.relplot(data=df_copy['len_obs'], kind='line')\n",
    "\n",
    "#df_copy.plot(y='len_obs', kind='line')\n",
    "#plt.show()"
   ]
  },
  {
   "cell_type": "code",
   "execution_count": 20,
   "metadata": {},
   "outputs": [
    {
     "name": "stdout",
     "output_type": "stream",
     "text": [
      "954 es el numero de observaciones se sobrepasan los 500 caracteres, equivalente a un 0.0021%\n"
     ]
    }
   ],
   "source": [
    "count = 0\n",
    "for l in df_copy['len_obs']:\n",
    "    if l >=500:\n",
    "        count += 1\n",
    "print(f\"{count} es el numero de observaciones se sobrepasan los 500 caracteres, equivalente a un \"\n",
    "     f\"{round(count/len(df_copy), 4)}%\")"
   ]
  },
  {
   "cell_type": "code",
   "execution_count": 21,
   "metadata": {},
   "outputs": [],
   "source": [
    "## Eliminacion elementos sin sentido\n",
    "## se guardan las observaciones para ver de que se tratan\n",
    "##\n",
    "# len_menor_x_obs = [df_copy['OBSERVACION USUARIO'][i] for i, o in len_menor_x]"
   ]
  },
  {
   "cell_type": "code",
   "execution_count": 22,
   "metadata": {},
   "outputs": [
    {
     "data": {
      "text/plain": [
       "peticion                           415149\n",
       "reclamo                             21245\n",
       "pedidos/proyectos                    5682\n",
       "autogestion                          5392\n",
       "queja                                3598\n",
       "programa de financiacion social      2105\n",
       "recurso                               566\n",
       "Name: tipo_solicitud, dtype: int64"
      ]
     },
     "execution_count": 22,
     "metadata": {},
     "output_type": "execute_result"
    }
   ],
   "source": [
    "## Veamos los tipos de solicitudes nivel 1\n",
    "##\n",
    "df_copy['tipo_solicitud'].value_counts()"
   ]
  },
  {
   "cell_type": "code",
   "execution_count": 23,
   "metadata": {},
   "outputs": [],
   "source": [
    "## Vamos a depurar estos tipos de solicitudes.\n",
    "##\n",
    "df_copy['tipo_solicitud'] = df_copy['tipo_solicitud'].map(lambda x: 'peticion' if x=='programa de financiacion social' or x=='autogestion' else x)"
   ]
  },
  {
   "cell_type": "code",
   "execution_count": 24,
   "metadata": {},
   "outputs": [
    {
     "data": {
      "text/plain": [
       "peticion             422646\n",
       "reclamo               21245\n",
       "pedidos/proyectos      5682\n",
       "queja                  3598\n",
       "recurso                 566\n",
       "Name: tipo_solicitud, dtype: int64"
      ]
     },
     "execution_count": 24,
     "metadata": {},
     "output_type": "execute_result"
    }
   ],
   "source": [
    "## Validamos el cambio\n",
    "##\n",
    "df_copy['tipo_solicitud'].value_counts()"
   ]
  },
  {
   "cell_type": "code",
   "execution_count": 25,
   "metadata": {},
   "outputs": [
    {
     "name": "stdout",
     "output_type": "stream",
     "text": [
      "peticion: \n",
      "\n",
      "tipo_solicitud_1                                            \n",
      "emision de documento para pago                                  156593\n",
      "pago parcial                                                    134351\n",
      "separacion temporal o pago dirigido                              30676\n",
      "trabajos tecnicos en med, trafos, acometidas o en infraestr.     18512\n",
      "gestionar financiacion                                           15991\n",
      "                                                                 ...  \n",
      "tramite recurso de queja sspd                                        3\n",
      "datos basicos                                                        2\n",
      "restitucion de tierras                                               2\n",
      "denuncia de contrato de arrendamiento                                1\n",
      "actualizacion por habeas data                                        1\n",
      "Length: 71, dtype: int64\n",
      "\n",
      "\n",
      "reclamo: \n",
      "\n",
      "tipo_solicitud_1                                                \n",
      "inconformidad con el consumo o produccion factura                   14067\n",
      "inconformidad con el consumo o produccion facturado                  5228\n",
      "cobros por conexion, reconexion, reinstalacion                        529\n",
      "cobro de cargos relacionados con el servicio publi                    246\n",
      "pago sin abono a cuenta                                               236\n",
      "cobros por promedio                                                   209\n",
      "cobro por recuperacion de consumos                                     95\n",
      "cobro de otros bienes o servicios en la factura                        70\n",
      "cobro desconocido                                                      62\n",
      "estrato incorrecto                                                     59\n",
      "cobro de cargos relacionados con el servicio publico                   58\n",
      "cobro multiple y/o acumulado                                           57\n",
      "subsidios y contribuciones                                             49\n",
      "cobro de otros bienes y servicios en la factura                        40\n",
      "tarifa incorrecta                                                      34\n",
      "cobros inoportunos                                                     33\n",
      "cobro de acuerdo de pago o financiacion                                26\n",
      "cobro de medidor                                                       26\n",
      "clase de uso incorrecto                                                26\n",
      "cobro de revisiones                                                    20\n",
      "solicitud de rompimiento de solidaridad                                19\n",
      "inconformidad con el aforo                                             18\n",
      "cobros por servicios no prestados                                      15\n",
      "inconformidad por cobros por normalizacion del ser                     13\n",
      "inconformidad por cobros por normalizacion del sevicio                  7\n",
      "cobro por consumos dejados de facturar o recuperacion de energia        2\n",
      "verificacion contrato integral                                          1\n",
      "dtype: int64\n",
      "\n",
      "\n",
      "queja: \n",
      "\n",
      "tipo_solicitud_1                                                \n",
      "entrega inoportuna o no entrega de la factura                       761\n",
      "falla en la prestacion del servicio por continuida                  592\n",
      "inconformidad trabajos                                              454\n",
      "falla en la prestacion del servicio por calidad                     333\n",
      "falla en la prestacion del servicio por continuidad                 290\n",
      "demora en reparar dano                                              220\n",
      "inconformidad con la informacion                                    202\n",
      "inconformidad con el canal de atencion                              141\n",
      "suspension o corte del servicio                                     109\n",
      "comportamiento funcionario (trabajador-contra)                      100\n",
      "comportamiento funcionario, trabajador o contratista                 69\n",
      "demora en atender peticion                                           64\n",
      "incumplimiento de la revision en las fechas establecidas             56\n",
      "incumplimiento revision en las fechas establ                         43\n",
      "inconformidad por la programacion de interrupciones del servicio     40\n",
      "inconformidad punto de venta y/o recaudo                             33\n",
      "inconformidad por la programacion de interrupcione                   22\n",
      "no conexion del servicio                                             18\n",
      "inadecuada disposicion de residuos                                   13\n",
      "levantamiento de desechos vegetales                                  11\n",
      "estado de la infraestructura                                          8\n",
      "afectacion ambiental                                                  4\n",
      "no se genera factura para una instalacion                             3\n",
      "inconformidad en la atencion de condiciones de seg                    3\n",
      "cambio de medidor o equipo de medida                                  3\n",
      "inconformidad venta portafolio                                        2\n",
      "inconformidad en la atencion de condiciones de seguridad o riesg      2\n",
      "manejo de fauna y flora                                               1\n",
      "derrame de aceite                                                     1\n",
      "dtype: int64\n",
      "\n",
      "\n",
      "recurso: \n",
      "\n",
      "tipo_solicitud_1                                  \n",
      "inconformidad con el consumo o produccion facturad    476\n",
      "envio de expedientes sspd                              18\n",
      "otros motivos de recurso                               13\n",
      "cobro por recuperacion de consumos                     13\n",
      "cobro de otros bienes o servicios en la factura         8\n",
      "solicitud de rompimiento de solidaridad                 6\n",
      "subsidios y contribuciones                              5\n",
      "cobros inoportunos                                      5\n",
      "cobros por conexion, reconexion, reinstalacion          4\n",
      "negacion del servicio                                   4\n",
      "cobro de cargos relacionados con el servicio publi      3\n",
      "tarifa incorrecta                                       2\n",
      "cobros por promedio                                     2\n",
      "inconformidad por cobros por normalizacion del ser      2\n",
      "pago sin abono a cuenta                                 2\n",
      "clase de uso incorrecto                                 2\n",
      "cobros por servicios no prestados                       1\n",
      "dtype: int64\n",
      "\n",
      "\n",
      "pedidos/proyectos: \n",
      "\n",
      "tipo_solicitud_1                               \n",
      "portafolio instalaciones sin cotizacion            2358\n",
      "portafolio trabajos a terceros con cotizacion      1092\n",
      "provisional a definitivo                            522\n",
      "cambio de sistema                                   390\n",
      "seguimiento de provisionales                        347\n",
      "solicitud factibilidad del servicio                 305\n",
      "solicitud de interventoria                          170\n",
      "liquidacion de conexos proyectos                    109\n",
      "ejecucion tt                                        103\n",
      "cobro legalizacion particulares                      97\n",
      "revision de proyectos electricos nivel ii y iii      39\n",
      "conexion del servicio                                18\n",
      "cancelacion de provisional                           17\n",
      "solicitud viabilidad compra/donacion activos         13\n",
      "solicitud cambio de comercializador (exporta)        13\n",
      "visita puesta en servicio                            12\n",
      "asesoria de proyectos                                12\n",
      "reformas                                             10\n",
      "revision de proyectos electricos nivel i             10\n",
      "portafolio mantenimiento con cotizacion               9\n",
      "solicitud participacion expansion                     7\n",
      "solicitudes otc                                       7\n",
      "construccion de redes sn                              6\n",
      "portafolio habilitacion vivienda                      4\n",
      "contrato compra / donacion activos                    3\n",
      "visita posterior                                      2\n",
      "observacion a la factibilidad                         2\n",
      "portafolio diseno y construccion con cotizacion       1\n",
      "oferta cbf                                            1\n",
      "liquidacion conexos otc                               1\n",
      "retiro de servicios temporales                        1\n",
      "cambio de comercializador                             1\n",
      "dtype: int64\n",
      "\n",
      "\n"
     ]
    }
   ],
   "source": [
    "tipos_solicitud = df_copy['tipo_solicitud'].unique().tolist()\n",
    "for s in tipos_solicitud:\n",
    "    print(f\"{s}: \\n\")\n",
    "    print(df_copy[df_copy['tipo_solicitud']==s][['tipo_solicitud_1']].value_counts())\n",
    "    print(\"\\n\")"
   ]
  },
  {
   "cell_type": "code",
   "execution_count": 26,
   "metadata": {},
   "outputs": [
    {
     "data": {
      "text/plain": [
       "['actualizacion por habeas data',\n",
       " 'aplicacion beneficio propiedad o venta de activos',\n",
       " 'caducar financiacion',\n",
       " 'cambio datos basicos',\n",
       " 'cambio de datos basicos',\n",
       " 'cambio de plazo en la financiacion pfs',\n",
       " 'cambio de uso',\n",
       " 'certificado deuda pfs',\n",
       " 'condicion especial por solicitud del propietario',\n",
       " 'condicion especial solicitud propietario',\n",
       " 'dano en equipo electrico',\n",
       " 'danos en equipo electrico',\n",
       " 'datos basicos',\n",
       " 'denuncia de contrato de arrendamiento',\n",
       " 'descongelados covid-19',\n",
       " 'desenergizacion de infraestructura',\n",
       " 'devolucion o traslado de saldo a favor',\n",
       " 'devolucion y/o copia de documentos',\n",
       " 'direccion incorrecta',\n",
       " 'direccion incorrecta ',\n",
       " 'emision de documento para pago',\n",
       " 'estado deuda pfs',\n",
       " 'exencion contribucion',\n",
       " 'facturacion a la fecha',\n",
       " 'garantias pfs',\n",
       " 'gestion interna',\n",
       " 'gestionar financiacion',\n",
       " 'informacion general',\n",
       " 'inscripcion, retiro o bloqueo de tarjeta pfs',\n",
       " 'instalacion con consumos bajos',\n",
       " 'liquidacion de conexos',\n",
       " 'modificacion de infraest por incumplimiento de distancias de seg',\n",
       " 'modificacion de infraestructura por incumplimiento',\n",
       " 'modificar cobros de terceros',\n",
       " 'normalizar instalacion',\n",
       " 'normalizar instalacion consumos bajos',\n",
       " 'notificacion decision y/o descargos',\n",
       " 'notificaciones y/o descargos',\n",
       " 'pago de la factura de otro usuario',\n",
       " 'pago parcial',\n",
       " 'paz y salvo pfs',\n",
       " 'perjuicios por falla en la prestacion del servicio',\n",
       " 'plazo para pago',\n",
       " 'poda de arboles',\n",
       " 'portafolio instalaciones sin cotizacion',\n",
       " 'reclamacion extemporanea o agotada la via administ',\n",
       " 'reconexion',\n",
       " 'reconocimiento seguro de vida deuda pfs',\n",
       " 'refinanciacion por mora pfs',\n",
       " 'reinstalacion',\n",
       " 'requerimiento competencia de otra empresa',\n",
       " 'requerimientos entes oficiales o entidades externa',\n",
       " 'requerimientos entes oficiales o entidades externas',\n",
       " 'requerimientos sspd o sic',\n",
       " 'restitucion de tierras',\n",
       " 'retiro deuda no solidaria pfs',\n",
       " 'revision presunto sap',\n",
       " 'revision, mntto, remodelacion o expansion infraestruc. a.p.',\n",
       " 'revision, mtto, remodelacion o expansion a.p',\n",
       " 'separacion temporal o pago dirigido',\n",
       " 'solicitud constancia lectura',\n",
       " 'soportes de la financiacion pfs',\n",
       " 'suspension del servicio',\n",
       " 'tarjeta somos (pfs)',\n",
       " 'terminacion del contrato',\n",
       " 'trabajos tecnicos en med, trafos, acometidas o en infraestr.',\n",
       " 'trabajos tecnicos en medidores, transformadores, a',\n",
       " 'tramite recurso de queja sspd',\n",
       " 'traslado de deuda',\n",
       " 'traslado deuda\\xa0 pfs',\n",
       " 'valores congelados']"
      ]
     },
     "execution_count": 26,
     "metadata": {},
     "output_type": "execute_result"
    }
   ],
   "source": [
    "sorted(df_copy[df_copy['tipo_solicitud']=='peticion']['tipo_solicitud_1'].unique().tolist())"
   ]
  },
  {
   "cell_type": "code",
   "execution_count": 27,
   "metadata": {},
   "outputs": [],
   "source": [
    "## hay un monton de tipos de solicitudes nivel 2 que realmente son las mismas\n",
    "## ej: 'revision, mntto, remodelacion o expansion infraestruc. a.p.' ==  'revision, mtto, remodelacion o expansion a.p'\n",
    "## vamos a estandarizar esto.\n",
    "##"
   ]
  },
  {
   "cell_type": "code",
   "execution_count": 28,
   "metadata": {},
   "outputs": [],
   "source": [
    "import Levenshtein as lev"
   ]
  },
  {
   "cell_type": "code",
   "execution_count": 29,
   "metadata": {},
   "outputs": [],
   "source": [
    "tipo_sol_nv2_p = []\n",
    "tipo_sol_nv2_r = []\n",
    "tipo_sol_nv2_pro = []\n",
    "tipo_sol_nv2_q = []\n",
    "tipo_sol_nv2_rso = []\n",
    "for s in tipos_solicitud:\n",
    "    temp = sorted(df_copy[df_copy['tipo_solicitud']==s]['tipo_solicitud_1'].unique().tolist())\n",
    "    for i in range(len(temp) - 1):\n",
    "        a = temp[i]\n",
    "        b = temp[i+1]\n",
    "        ratio = lev.ratio(a, b)\n",
    "        if ratio >= 0.75:\n",
    "            if s == 'peticion':\n",
    "                if a not in tipo_sol_nv2_p:\n",
    "                    tipo_sol_nv2_p.append(a)\n",
    "            elif s == 'reclamo':\n",
    "                if a not in tipo_sol_nv2_r:\n",
    "                    tipo_sol_nv2_r.append(a)\n",
    "            elif s == 'pedidos/proyectos':\n",
    "                if a not in tipo_sol_nv2_pro:\n",
    "                    tipo_sol_nv2_pro.append(a)\n",
    "            elif s == 'queja':\n",
    "                if a not in tipo_sol_nv2_q:\n",
    "                    tipo_sol_nv2_q.append(a)\n",
    "            else:\n",
    "                if a not in tipo_sol_nv2_rso:\n",
    "                    tipo_sol_nv2_rso.append(a)\n",
    "        else:\n",
    "            if s == 'peticion':\n",
    "                if b not in tipo_sol_nv2_p:\n",
    "                    tipo_sol_nv2_p.append(b)\n",
    "            elif s == 'reclamo':\n",
    "                if b not in tipo_sol_nv2_r:\n",
    "                    tipo_sol_nv2_r.append(b)\n",
    "            elif s == 'pedidos/proyectos':\n",
    "                if b not in tipo_sol_nv2_pro:\n",
    "                    tipo_sol_nv2_pro.append(b)\n",
    "            elif s == 'queja':\n",
    "                if b not in tipo_sol_nv2_q:\n",
    "                    tipo_sol_nv2_q.append(b)\n",
    "            else:\n",
    "                if b not in tipo_sol_nv2_rso:\n",
    "                    tipo_sol_nv2_rso.append(b)"
   ]
  },
  {
   "cell_type": "code",
   "execution_count": 30,
   "metadata": {},
   "outputs": [
    {
     "data": {
      "text/plain": [
       "71"
      ]
     },
     "execution_count": 30,
     "metadata": {},
     "output_type": "execute_result"
    }
   ],
   "source": [
    "len(sorted(df_copy[df_copy['tipo_solicitud']=='peticion']['tipo_solicitud_1'].unique().tolist()))"
   ]
  },
  {
   "cell_type": "code",
   "execution_count": 31,
   "metadata": {},
   "outputs": [
    {
     "data": {
      "text/plain": [
       "61"
      ]
     },
     "execution_count": 31,
     "metadata": {},
     "output_type": "execute_result"
    }
   ],
   "source": [
    "len(tipo_sol_nv2_p)"
   ]
  },
  {
   "cell_type": "code",
   "execution_count": 32,
   "metadata": {},
   "outputs": [
    {
     "data": {
      "text/plain": [
       "['actualizacion por habeas data',\n",
       " 'aplicacion beneficio propiedad o venta de activos',\n",
       " 'caducar financiacion',\n",
       " 'cambio datos basicos',\n",
       " 'cambio de plazo en la financiacion pfs',\n",
       " 'cambio de uso',\n",
       " 'certificado deuda pfs',\n",
       " 'condicion especial por solicitud del propietario',\n",
       " 'dano en equipo electrico',\n",
       " 'datos basicos',\n",
       " 'denuncia de contrato de arrendamiento',\n",
       " 'descongelados covid-19',\n",
       " 'desenergizacion de infraestructura',\n",
       " 'devolucion o traslado de saldo a favor',\n",
       " 'devolucion y/o copia de documentos',\n",
       " 'direccion incorrecta',\n",
       " 'emision de documento para pago',\n",
       " 'estado deuda pfs',\n",
       " 'exencion contribucion',\n",
       " 'facturacion a la fecha',\n",
       " 'garantias pfs',\n",
       " 'gestion interna',\n",
       " 'gestionar financiacion',\n",
       " 'informacion general',\n",
       " 'inscripcion, retiro o bloqueo de tarjeta pfs',\n",
       " 'instalacion con consumos bajos',\n",
       " 'liquidacion de conexos',\n",
       " 'modificacion de infraest por incumplimiento de distancias de seg',\n",
       " 'modificar cobros de terceros',\n",
       " 'normalizar instalacion',\n",
       " 'normalizar instalacion consumos bajos',\n",
       " 'notificacion decision y/o descargos',\n",
       " 'pago de la factura de otro usuario',\n",
       " 'pago parcial',\n",
       " 'paz y salvo pfs',\n",
       " 'perjuicios por falla en la prestacion del servicio',\n",
       " 'plazo para pago',\n",
       " 'poda de arboles',\n",
       " 'portafolio instalaciones sin cotizacion',\n",
       " 'reclamacion extemporanea o agotada la via administ',\n",
       " 'reconexion',\n",
       " 'reconocimiento seguro de vida deuda pfs',\n",
       " 'refinanciacion por mora pfs',\n",
       " 'reinstalacion',\n",
       " 'requerimiento competencia de otra empresa',\n",
       " 'requerimientos entes oficiales o entidades externa',\n",
       " 'requerimientos sspd o sic',\n",
       " 'restitucion de tierras',\n",
       " 'retiro deuda no solidaria pfs',\n",
       " 'revision presunto sap',\n",
       " 'revision, mntto, remodelacion o expansion infraestruc. a.p.',\n",
       " 'separacion temporal o pago dirigido',\n",
       " 'solicitud constancia lectura',\n",
       " 'soportes de la financiacion pfs',\n",
       " 'suspension del servicio',\n",
       " 'tarjeta somos (pfs)',\n",
       " 'terminacion del contrato',\n",
       " 'trabajos tecnicos en med, trafos, acometidas o en infraestr.',\n",
       " 'trabajos tecnicos en medidores, transformadores, a',\n",
       " 'tramite recurso de queja sspd',\n",
       " 'traslado de deuda',\n",
       " 'valores congelados']"
      ]
     },
     "execution_count": 32,
     "metadata": {},
     "output_type": "execute_result"
    }
   ],
   "source": [
    "tipo_sol_nv2_p.append('actualizacion por habeas data')\n",
    "tipo_sol_nv2_p = sorted(tipo_sol_nv2_p)\n",
    "tipo_sol_nv2_p"
   ]
  },
  {
   "cell_type": "code",
   "execution_count": 33,
   "metadata": {},
   "outputs": [],
   "source": [
    "tipo_sol_nv2_p.remove('trabajos tecnicos en med, trafos, acometidas o en infraestr.')"
   ]
  },
  {
   "cell_type": "code",
   "execution_count": 34,
   "metadata": {},
   "outputs": [
    {
     "data": {
      "text/plain": [
       "27"
      ]
     },
     "execution_count": 34,
     "metadata": {},
     "output_type": "execute_result"
    }
   ],
   "source": [
    "len(sorted(df_copy[df_copy['tipo_solicitud']=='reclamo']['tipo_solicitud_1'].unique().tolist()))"
   ]
  },
  {
   "cell_type": "code",
   "execution_count": 35,
   "metadata": {},
   "outputs": [
    {
     "data": {
      "text/plain": [
       "22"
      ]
     },
     "execution_count": 35,
     "metadata": {},
     "output_type": "execute_result"
    }
   ],
   "source": [
    "len(tipo_sol_nv2_r)"
   ]
  },
  {
   "cell_type": "code",
   "execution_count": 36,
   "metadata": {},
   "outputs": [
    {
     "data": {
      "text/plain": [
       "['clase de uso incorrecto',\n",
       " 'cobro de acuerdo de pago o financiacion',\n",
       " 'cobro de cargos relacionados con el servicio publi',\n",
       " 'cobro de medidor',\n",
       " 'cobro de otros bienes o servicios en la factura',\n",
       " 'cobro de revisiones',\n",
       " 'cobro desconocido',\n",
       " 'cobro multiple y/o acumulado',\n",
       " 'cobro por consumos dejados de facturar o recuperacion de energia',\n",
       " 'cobro por recuperacion de consumos',\n",
       " 'cobros inoportunos',\n",
       " 'cobros por conexion, reconexion, reinstalacion',\n",
       " 'cobros por promedio',\n",
       " 'cobros por servicios no prestados',\n",
       " 'estrato incorrecto',\n",
       " 'inconformidad con el aforo',\n",
       " 'inconformidad con el consumo o produccion factura',\n",
       " 'inconformidad por cobros por normalizacion del ser',\n",
       " 'pago sin abono a cuenta',\n",
       " 'solicitud de rompimiento de solidaridad',\n",
       " 'subsidios y contribuciones',\n",
       " 'tarifa incorrecta',\n",
       " 'verificacion contrato integral']"
      ]
     },
     "execution_count": 36,
     "metadata": {},
     "output_type": "execute_result"
    }
   ],
   "source": [
    "tipo_sol_nv2_r.append('clase de uso incorrecto')\n",
    "tipo_sol_nv2_r = sorted(tipo_sol_nv2_r)\n",
    "tipo_sol_nv2_r"
   ]
  },
  {
   "cell_type": "code",
   "execution_count": 37,
   "metadata": {},
   "outputs": [
    {
     "data": {
      "text/plain": [
       "32"
      ]
     },
     "execution_count": 37,
     "metadata": {},
     "output_type": "execute_result"
    }
   ],
   "source": [
    "len(sorted(df_copy[df_copy['tipo_solicitud']=='pedidos/proyectos']['tipo_solicitud_1'].unique().tolist()))"
   ]
  },
  {
   "cell_type": "code",
   "execution_count": 38,
   "metadata": {},
   "outputs": [
    {
     "data": {
      "text/plain": [
       "29"
      ]
     },
     "execution_count": 38,
     "metadata": {},
     "output_type": "execute_result"
    }
   ],
   "source": [
    "len(tipo_sol_nv2_pro)"
   ]
  },
  {
   "cell_type": "code",
   "execution_count": 39,
   "metadata": {},
   "outputs": [
    {
     "data": {
      "text/plain": [
       "['asesoria de proyectos',\n",
       " 'cambio de comercializador',\n",
       " 'cambio de sistema',\n",
       " 'cancelacion de provisional',\n",
       " 'cobro legalizacion particulares',\n",
       " 'conexion del servicio',\n",
       " 'construccion de redes sn',\n",
       " 'contrato compra / donacion activos',\n",
       " 'ejecucion tt',\n",
       " 'liquidacion conexos otc',\n",
       " 'observacion a la factibilidad',\n",
       " 'oferta cbf',\n",
       " 'portafolio diseno y construccion con cotizacion',\n",
       " 'portafolio habilitacion vivienda',\n",
       " 'portafolio instalaciones sin cotizacion',\n",
       " 'portafolio mantenimiento con cotizacion',\n",
       " 'portafolio trabajos a terceros con cotizacion',\n",
       " 'provisional a definitivo',\n",
       " 'reformas',\n",
       " 'retiro de servicios temporales',\n",
       " 'revision de proyectos electricos nivel i',\n",
       " 'revision de proyectos electricos nivel ii y iii',\n",
       " 'seguimiento de provisionales',\n",
       " 'solicitud cambio de comercializador (exporta)',\n",
       " 'solicitud de interventoria',\n",
       " 'solicitud factibilidad del servicio',\n",
       " 'solicitud participacion expansion',\n",
       " 'solicitud viabilidad compra/donacion activos',\n",
       " 'solicitudes otc',\n",
       " 'visita posterior',\n",
       " 'visita puesta en servicio']"
      ]
     },
     "execution_count": 39,
     "metadata": {},
     "output_type": "execute_result"
    }
   ],
   "source": [
    "tipo_sol_nv2_pro.append('asesoria de proyectos')\n",
    "tipo_sol_nv2_pro.append('revision de proyectos electricos nivel ii y iii')\n",
    "tipo_sol_nv2_pro = sorted(tipo_sol_nv2_pro)\n",
    "tipo_sol_nv2_pro"
   ]
  },
  {
   "cell_type": "code",
   "execution_count": 40,
   "metadata": {},
   "outputs": [
    {
     "data": {
      "text/plain": [
       "29"
      ]
     },
     "execution_count": 40,
     "metadata": {},
     "output_type": "execute_result"
    }
   ],
   "source": [
    "len(sorted(df_copy[df_copy['tipo_solicitud']=='queja']['tipo_solicitud_1'].unique().tolist()))"
   ]
  },
  {
   "cell_type": "code",
   "execution_count": 41,
   "metadata": {},
   "outputs": [
    {
     "data": {
      "text/plain": [
       "23"
      ]
     },
     "execution_count": 41,
     "metadata": {},
     "output_type": "execute_result"
    }
   ],
   "source": [
    "len(tipo_sol_nv2_q)"
   ]
  },
  {
   "cell_type": "code",
   "execution_count": 42,
   "metadata": {},
   "outputs": [
    {
     "data": {
      "text/plain": [
       "['afectacion ambiental',\n",
       " 'cambio de medidor o equipo de medida',\n",
       " 'comportamiento funcionario (trabajador-contra)',\n",
       " 'demora en atender peticion',\n",
       " 'demora en reparar dano',\n",
       " 'derrame de aceite',\n",
       " 'entrega inoportuna o no entrega de la factura',\n",
       " 'estado de la infraestructura',\n",
       " 'falla en la prestacion del servicio por calidad',\n",
       " 'falla en la prestacion del servicio por continuida',\n",
       " 'inadecuada disposicion de residuos',\n",
       " 'inconformidad con el canal de atencion',\n",
       " 'inconformidad con la informacion',\n",
       " 'inconformidad en la atencion de condiciones de seg',\n",
       " 'inconformidad por la programacion de interrupcione',\n",
       " 'inconformidad punto de venta y/o recaudo',\n",
       " 'inconformidad trabajos',\n",
       " 'inconformidad venta portafolio',\n",
       " 'incumplimiento de la revision en las fechas establecidas',\n",
       " 'levantamiento de desechos vegetales',\n",
       " 'manejo de fauna y flora',\n",
       " 'no conexion del servicio',\n",
       " 'no se genera factura para una instalacion',\n",
       " 'suspension o corte del servicio']"
      ]
     },
     "execution_count": 42,
     "metadata": {},
     "output_type": "execute_result"
    }
   ],
   "source": [
    "tipo_sol_nv2_q.append('afectacion ambiental')\n",
    "tipo_sol_nv2_q = sorted(tipo_sol_nv2_q)\n",
    "tipo_sol_nv2_q"
   ]
  },
  {
   "cell_type": "code",
   "execution_count": 43,
   "metadata": {},
   "outputs": [
    {
     "data": {
      "text/plain": [
       "17"
      ]
     },
     "execution_count": 43,
     "metadata": {},
     "output_type": "execute_result"
    }
   ],
   "source": [
    "len(sorted(df_copy[df_copy['tipo_solicitud']=='recurso']['tipo_solicitud_1'].unique().tolist()))"
   ]
  },
  {
   "cell_type": "code",
   "execution_count": 44,
   "metadata": {},
   "outputs": [
    {
     "data": {
      "text/plain": [
       "['clase de uso incorrecto',\n",
       " 'cobro de cargos relacionados con el servicio publi',\n",
       " 'cobro de otros bienes o servicios en la factura',\n",
       " 'cobro por recuperacion de consumos',\n",
       " 'cobros inoportunos',\n",
       " 'cobros por conexion, reconexion, reinstalacion',\n",
       " 'cobros por promedio',\n",
       " 'cobros por servicios no prestados',\n",
       " 'envio de expedientes sspd',\n",
       " 'inconformidad con el consumo o produccion facturad',\n",
       " 'inconformidad por cobros por normalizacion del ser',\n",
       " 'negacion del servicio',\n",
       " 'otros motivos de recurso',\n",
       " 'pago sin abono a cuenta',\n",
       " 'solicitud de rompimiento de solidaridad',\n",
       " 'subsidios y contribuciones',\n",
       " 'tarifa incorrecta']"
      ]
     },
     "execution_count": 44,
     "metadata": {},
     "output_type": "execute_result"
    }
   ],
   "source": [
    "tipo_sol_nv2_rso = sorted(df_copy[df_copy['tipo_solicitud']=='recurso']['tipo_solicitud_1'].unique().tolist())\n",
    "tipo_sol_nv2_rso"
   ]
  },
  {
   "cell_type": "code",
   "execution_count": 45,
   "metadata": {},
   "outputs": [],
   "source": [
    "## Los siguientes tipos de solicitudes nivel 1 si tuvieron cambion en los\n",
    "## niveles 2: peticion, reclamo, pedidos/proyectos, queja\n",
    "## estos se procederan a estadarizarce.\n",
    "##\n",
    "def nv2_replacements(solicitud_nv2):\n",
    "    s = tipo_sol_nv2_p + tipo_sol_nv2_r + tipo_sol_nv2_pro + tipo_sol_nv2_q + tipo_sol_nv2_rso\n",
    "    s.remove('revision de proyectos electricos nivel i')\n",
    "    s.remove('revision de proyectos electricos nivel ii y iii')\n",
    "    s.remove('falla en la prestacion del servicio por calidad')\n",
    "    s.remove('falla en la prestacion del servicio por continuida')\n",
    "    for element in s:\n",
    "        if lev.ratio(element, solicitud_nv2) >= 0.75:\n",
    "            solicitud_nv2 = element\n",
    "        else:\n",
    "            solicitud_nv2\n",
    "    return solicitud_nv2"
   ]
  },
  {
   "cell_type": "code",
   "execution_count": 46,
   "metadata": {},
   "outputs": [],
   "source": [
    "df_copy['tipo_solicitud_1'] = df_copy['tipo_solicitud_1'].map(nv2_replacements)"
   ]
  },
  {
   "cell_type": "code",
   "execution_count": 47,
   "metadata": {},
   "outputs": [
    {
     "data": {
      "text/plain": [
       "['actualizacion por habeas data',\n",
       " 'afectacion ambiental',\n",
       " 'aplicacion beneficio propiedad o venta de activos',\n",
       " 'asesoria de proyectos',\n",
       " 'caducar financiacion',\n",
       " 'cambio de comercializador',\n",
       " 'cambio de medidor o equipo de medida',\n",
       " 'cambio de plazo en la financiacion pfs',\n",
       " 'cambio de sistema',\n",
       " 'cambio de uso',\n",
       " 'cancelacion de provisional',\n",
       " 'clase de uso incorrecto',\n",
       " 'cobro de acuerdo de pago o financiacion',\n",
       " 'cobro de cargos relacionados con el servicio publi',\n",
       " 'cobro de medidor',\n",
       " 'cobro de otros bienes o servicios en la factura',\n",
       " 'cobro de revisiones',\n",
       " 'cobro desconocido',\n",
       " 'cobro legalizacion particulares',\n",
       " 'cobro multiple y/o acumulado',\n",
       " 'cobro por consumos dejados de facturar o recuperacion de energia',\n",
       " 'cobro por recuperacion de consumos',\n",
       " 'cobros inoportunos',\n",
       " 'cobros por conexion, reconexion, reinstalacion',\n",
       " 'cobros por promedio',\n",
       " 'cobros por servicios no prestados',\n",
       " 'comportamiento funcionario (trabajador-contra)',\n",
       " 'condicion especial por solicitud del propietario',\n",
       " 'construccion de redes sn',\n",
       " 'contrato compra / donacion activos',\n",
       " 'dano en equipo electrico',\n",
       " 'datos basicos',\n",
       " 'demora en atender peticion',\n",
       " 'demora en reparar dano',\n",
       " 'denuncia de contrato de arrendamiento',\n",
       " 'derrame de aceite',\n",
       " 'descongelados covid-19',\n",
       " 'desenergizacion de infraestructura',\n",
       " 'devolucion o traslado de saldo a favor',\n",
       " 'devolucion y/o copia de documentos',\n",
       " 'direccion incorrecta',\n",
       " 'ejecucion tt',\n",
       " 'emision de documento para pago',\n",
       " 'entrega inoportuna o no entrega de la factura',\n",
       " 'envio de expedientes sspd',\n",
       " 'estado de la infraestructura',\n",
       " 'estado deuda pfs',\n",
       " 'estrato incorrecto',\n",
       " 'exencion contribucion',\n",
       " 'facturacion a la fecha',\n",
       " 'falla en la prestacion del servicio por calidad',\n",
       " 'falla en la prestacion del servicio por continuida',\n",
       " 'falla en la prestacion del servicio por continuidad',\n",
       " 'garantias pfs',\n",
       " 'gestion interna',\n",
       " 'gestionar financiacion',\n",
       " 'inadecuada disposicion de residuos',\n",
       " 'inconformidad con el canal de atencion',\n",
       " 'inconformidad con el consumo o produccion facturad',\n",
       " 'inconformidad con la informacion',\n",
       " 'inconformidad en la atencion de condiciones de seg',\n",
       " 'inconformidad por cobros por normalizacion del ser',\n",
       " 'inconformidad por la programacion de interrupcione',\n",
       " 'inconformidad punto de venta y/o recaudo',\n",
       " 'inconformidad trabajos',\n",
       " 'inconformidad venta portafolio',\n",
       " 'incumplimiento de la revision en las fechas establecidas',\n",
       " 'informacion general',\n",
       " 'inscripcion, retiro o bloqueo de tarjeta pfs',\n",
       " 'levantamiento de desechos vegetales',\n",
       " 'liquidacion conexos otc',\n",
       " 'manejo de fauna y flora',\n",
       " 'modificacion de infraest por incumplimiento de distancias de seg',\n",
       " 'modificar cobros de terceros',\n",
       " 'negacion del servicio',\n",
       " 'no se genera factura para una instalacion',\n",
       " 'normalizar instalacion',\n",
       " 'normalizar instalacion consumos bajos',\n",
       " 'notificacion decision y/o descargos',\n",
       " 'observacion a la factibilidad',\n",
       " 'oferta cbf',\n",
       " 'otros motivos de recurso',\n",
       " 'pago de la factura de otro usuario',\n",
       " 'pago parcial',\n",
       " 'pago sin abono a cuenta',\n",
       " 'paz y salvo pfs',\n",
       " 'perjuicios por falla en la prestacion del servicio',\n",
       " 'plazo para pago',\n",
       " 'poda de arboles',\n",
       " 'portafolio diseno y construccion con cotizacion',\n",
       " 'portafolio habilitacion vivienda',\n",
       " 'portafolio instalaciones sin cotizacion',\n",
       " 'portafolio mantenimiento con cotizacion',\n",
       " 'portafolio trabajos a terceros con cotizacion',\n",
       " 'provisional a definitivo',\n",
       " 'reclamacion extemporanea o agotada la via administ',\n",
       " 'reconexion',\n",
       " 'reconocimiento seguro de vida deuda pfs',\n",
       " 'refinanciacion por mora pfs',\n",
       " 'reformas',\n",
       " 'reinstalacion',\n",
       " 'requerimiento competencia de otra empresa',\n",
       " 'requerimientos entes oficiales o entidades externa',\n",
       " 'requerimientos sspd o sic',\n",
       " 'restitucion de tierras',\n",
       " 'retiro de servicios temporales',\n",
       " 'retiro deuda no solidaria pfs',\n",
       " 'revision de proyectos electricos nivel i',\n",
       " 'revision de proyectos electricos nivel ii y iii',\n",
       " 'revision presunto sap',\n",
       " 'revision, mntto, remodelacion o expansion infraestruc. a.p.',\n",
       " 'seguimiento de provisionales',\n",
       " 'separacion temporal o pago dirigido',\n",
       " 'solicitud cambio de comercializador (exporta)',\n",
       " 'solicitud constancia lectura',\n",
       " 'solicitud de interventoria',\n",
       " 'solicitud de rompimiento de solidaridad',\n",
       " 'solicitud factibilidad del servicio',\n",
       " 'solicitud participacion expansion',\n",
       " 'solicitud viabilidad compra/donacion activos',\n",
       " 'solicitudes otc',\n",
       " 'soportes de la financiacion pfs',\n",
       " 'subsidios y contribuciones',\n",
       " 'tarifa incorrecta',\n",
       " 'tarjeta somos (pfs)',\n",
       " 'terminacion del contrato',\n",
       " 'trabajos tecnicos en med, trafos, acometidas o en infraestr.',\n",
       " 'trabajos tecnicos en medidores, transformadores, a',\n",
       " 'tramite recurso de queja sspd',\n",
       " 'traslado de deuda',\n",
       " 'valores congelados',\n",
       " 'verificacion contrato integral',\n",
       " 'visita posterior',\n",
       " 'visita puesta en servicio']"
      ]
     },
     "execution_count": 47,
     "metadata": {},
     "output_type": "execute_result"
    }
   ],
   "source": [
    "sorted(df_copy['tipo_solicitud_1'].unique().tolist())"
   ]
  },
  {
   "cell_type": "code",
   "execution_count": 48,
   "metadata": {},
   "outputs": [],
   "source": [
    "df_copy['tipo_solicitud_1'] = df_copy['tipo_solicitud_1'].map(lambda x: 'falla en la prestacion del servicio por continuidad' if x=='falla en la prestacion del servicio por continuida' else x)\n",
    "df_copy['tipo_solicitud_1'] = df_copy['tipo_solicitud_1'].map(lambda x: 'trabajos tecnicos en med, trafos, acometidas o en infraestr.' if x=='trabajos tecnicos en medidores, transformadores, a' else x)"
   ]
  },
  {
   "cell_type": "code",
   "execution_count": 49,
   "metadata": {},
   "outputs": [
    {
     "data": {
      "text/plain": [
       "['actualizacion por habeas data',\n",
       " 'afectacion ambiental',\n",
       " 'aplicacion beneficio propiedad o venta de activos',\n",
       " 'asesoria de proyectos',\n",
       " 'caducar financiacion',\n",
       " 'cambio de comercializador',\n",
       " 'cambio de medidor o equipo de medida',\n",
       " 'cambio de plazo en la financiacion pfs',\n",
       " 'cambio de sistema',\n",
       " 'cambio de uso',\n",
       " 'cancelacion de provisional',\n",
       " 'clase de uso incorrecto',\n",
       " 'cobro de acuerdo de pago o financiacion',\n",
       " 'cobro de cargos relacionados con el servicio publi',\n",
       " 'cobro de medidor',\n",
       " 'cobro de otros bienes o servicios en la factura',\n",
       " 'cobro de revisiones',\n",
       " 'cobro desconocido',\n",
       " 'cobro legalizacion particulares',\n",
       " 'cobro multiple y/o acumulado',\n",
       " 'cobro por consumos dejados de facturar o recuperacion de energia',\n",
       " 'cobro por recuperacion de consumos',\n",
       " 'cobros inoportunos',\n",
       " 'cobros por conexion, reconexion, reinstalacion',\n",
       " 'cobros por promedio',\n",
       " 'cobros por servicios no prestados',\n",
       " 'comportamiento funcionario (trabajador-contra)',\n",
       " 'condicion especial por solicitud del propietario',\n",
       " 'construccion de redes sn',\n",
       " 'contrato compra / donacion activos',\n",
       " 'dano en equipo electrico',\n",
       " 'datos basicos',\n",
       " 'demora en atender peticion',\n",
       " 'demora en reparar dano',\n",
       " 'denuncia de contrato de arrendamiento',\n",
       " 'derrame de aceite',\n",
       " 'descongelados covid-19',\n",
       " 'desenergizacion de infraestructura',\n",
       " 'devolucion o traslado de saldo a favor',\n",
       " 'devolucion y/o copia de documentos',\n",
       " 'direccion incorrecta',\n",
       " 'ejecucion tt',\n",
       " 'emision de documento para pago',\n",
       " 'entrega inoportuna o no entrega de la factura',\n",
       " 'envio de expedientes sspd',\n",
       " 'estado de la infraestructura',\n",
       " 'estado deuda pfs',\n",
       " 'estrato incorrecto',\n",
       " 'exencion contribucion',\n",
       " 'facturacion a la fecha',\n",
       " 'falla en la prestacion del servicio por calidad',\n",
       " 'falla en la prestacion del servicio por continuidad',\n",
       " 'garantias pfs',\n",
       " 'gestion interna',\n",
       " 'gestionar financiacion',\n",
       " 'inadecuada disposicion de residuos',\n",
       " 'inconformidad con el canal de atencion',\n",
       " 'inconformidad con el consumo o produccion facturad',\n",
       " 'inconformidad con la informacion',\n",
       " 'inconformidad en la atencion de condiciones de seg',\n",
       " 'inconformidad por cobros por normalizacion del ser',\n",
       " 'inconformidad por la programacion de interrupcione',\n",
       " 'inconformidad punto de venta y/o recaudo',\n",
       " 'inconformidad trabajos',\n",
       " 'inconformidad venta portafolio',\n",
       " 'incumplimiento de la revision en las fechas establecidas',\n",
       " 'informacion general',\n",
       " 'inscripcion, retiro o bloqueo de tarjeta pfs',\n",
       " 'levantamiento de desechos vegetales',\n",
       " 'liquidacion conexos otc',\n",
       " 'manejo de fauna y flora',\n",
       " 'modificacion de infraest por incumplimiento de distancias de seg',\n",
       " 'modificar cobros de terceros',\n",
       " 'negacion del servicio',\n",
       " 'no se genera factura para una instalacion',\n",
       " 'normalizar instalacion',\n",
       " 'normalizar instalacion consumos bajos',\n",
       " 'notificacion decision y/o descargos',\n",
       " 'observacion a la factibilidad',\n",
       " 'oferta cbf',\n",
       " 'otros motivos de recurso',\n",
       " 'pago de la factura de otro usuario',\n",
       " 'pago parcial',\n",
       " 'pago sin abono a cuenta',\n",
       " 'paz y salvo pfs',\n",
       " 'perjuicios por falla en la prestacion del servicio',\n",
       " 'plazo para pago',\n",
       " 'poda de arboles',\n",
       " 'portafolio diseno y construccion con cotizacion',\n",
       " 'portafolio habilitacion vivienda',\n",
       " 'portafolio instalaciones sin cotizacion',\n",
       " 'portafolio mantenimiento con cotizacion',\n",
       " 'portafolio trabajos a terceros con cotizacion',\n",
       " 'provisional a definitivo',\n",
       " 'reclamacion extemporanea o agotada la via administ',\n",
       " 'reconexion',\n",
       " 'reconocimiento seguro de vida deuda pfs',\n",
       " 'refinanciacion por mora pfs',\n",
       " 'reformas',\n",
       " 'reinstalacion',\n",
       " 'requerimiento competencia de otra empresa',\n",
       " 'requerimientos entes oficiales o entidades externa',\n",
       " 'requerimientos sspd o sic',\n",
       " 'restitucion de tierras',\n",
       " 'retiro de servicios temporales',\n",
       " 'retiro deuda no solidaria pfs',\n",
       " 'revision de proyectos electricos nivel i',\n",
       " 'revision de proyectos electricos nivel ii y iii',\n",
       " 'revision presunto sap',\n",
       " 'revision, mntto, remodelacion o expansion infraestruc. a.p.',\n",
       " 'seguimiento de provisionales',\n",
       " 'separacion temporal o pago dirigido',\n",
       " 'solicitud cambio de comercializador (exporta)',\n",
       " 'solicitud constancia lectura',\n",
       " 'solicitud de interventoria',\n",
       " 'solicitud de rompimiento de solidaridad',\n",
       " 'solicitud factibilidad del servicio',\n",
       " 'solicitud participacion expansion',\n",
       " 'solicitud viabilidad compra/donacion activos',\n",
       " 'solicitudes otc',\n",
       " 'soportes de la financiacion pfs',\n",
       " 'subsidios y contribuciones',\n",
       " 'tarifa incorrecta',\n",
       " 'tarjeta somos (pfs)',\n",
       " 'terminacion del contrato',\n",
       " 'trabajos tecnicos en med, trafos, acometidas o en infraestr.',\n",
       " 'tramite recurso de queja sspd',\n",
       " 'traslado de deuda',\n",
       " 'valores congelados',\n",
       " 'verificacion contrato integral',\n",
       " 'visita posterior',\n",
       " 'visita puesta en servicio']"
      ]
     },
     "execution_count": 49,
     "metadata": {},
     "output_type": "execute_result"
    }
   ],
   "source": [
    "sorted(df_copy['tipo_solicitud_1'].unique().tolist())"
   ]
  },
  {
   "cell_type": "code",
   "execution_count": 50,
   "metadata": {},
   "outputs": [
    {
     "name": "stdout",
     "output_type": "stream",
     "text": [
      "Se pasó de tener 163 solicitudes nivel 2 a 132\n"
     ]
    }
   ],
   "source": [
    "## los resultados de estos cambios\n",
    "##\n",
    "print(f\"Se pasó de tener {len(df['tipo_solicitud_1'].unique())} solicitudes nivel 2 a {len(df_copy['tipo_solicitud_1'].unique())}\")"
   ]
  },
  {
   "cell_type": "markdown",
   "metadata": {},
   "source": [
    "Esta primer parte de exploración dejó como resultado una depuración de registros sin sentido y con poco valor semántico, además de una depuración de clasificaciones nivel 2.\n",
    "\n",
    "A continuación, se procede con el preprocesamiento"
   ]
  },
  {
   "cell_type": "code",
   "execution_count": 51,
   "metadata": {},
   "outputs": [
    {
     "name": "stderr",
     "output_type": "stream",
     "text": [
      "[nltk_data] Downloading package stopwords to\n",
      "[nltk_data]     C:\\Users\\juand\\AppData\\Roaming\\nltk_data...\n",
      "[nltk_data]   Package stopwords is already up-to-date!\n"
     ]
    }
   ],
   "source": [
    "## normalización de los textos.\n",
    "##\n",
    "import re\n",
    "import spacy\n",
    "import nltk\n",
    "nltk.download('stopwords')\n",
    "from nltk import RegexpTokenizer\n",
    "from nltk.corpus import stopwords\n",
    "from nltk import word_tokenize\n",
    "from nltk.collocations import *\n",
    "from spellchecker import SpellChecker\n",
    "nlp = spacy.load('es_core_news_md')"
   ]
  },
  {
   "cell_type": "code",
   "execution_count": 52,
   "metadata": {},
   "outputs": [],
   "source": [
    "def text_normalization(text):\n",
    "    stop_words = list(stopwords.words('spanish'))  \n",
    "    no_value_words = ['fecha', 'valor']\n",
    "    for w in no_value_words:\n",
    "        stop_words.append(w)\n",
    "    text = str(text)\n",
    "    text = text.lower()\n",
    "    text = ' '.join(re.findall(r'[a-záéíóúñ]{2,}', text))\n",
    "    \n",
    "    text = word_tokenize(text)\n",
    "    for w in stop_words:\n",
    "        while w in text: text.remove(w)\n",
    "    return' '.join(list(dict.fromkeys(text)))"
   ]
  },
  {
   "cell_type": "code",
   "execution_count": 53,
   "metadata": {},
   "outputs": [
    {
     "data": {
      "text/plain": [
       "0                 solicita pago parcial del valor facturado\n",
       "1                         cliente solicita copia de factura\n",
       "2                         cliente solicita copia de factura\n",
       "3                 solicita pago parcial del valor facturado\n",
       "4                         cliente solicita copia de factura\n",
       "                                ...                        \n",
       "453732    cumple requisitos abono factura n. 82786970, f...\n",
       "453733    factura con saldo saldo factura n. 82786969, f...\n",
       "453734    cumple requisitos abono factura n. 82786968, f...\n",
       "453735    usuaria solicita cancelar créditos por decreto...\n",
       "453736    cumple requisitos abono factura n. 82779373, f...\n",
       "Name: OBSERVACION USUARIO, Length: 453737, dtype: object"
      ]
     },
     "execution_count": 53,
     "metadata": {},
     "output_type": "execute_result"
    }
   ],
   "source": [
    "df_copy['OBSERVACION USUARIO']"
   ]
  },
  {
   "cell_type": "code",
   "execution_count": 54,
   "metadata": {},
   "outputs": [
    {
     "data": {
      "text/plain": [
       "'cumple requisitos abono factura'"
      ]
     },
     "execution_count": 54,
     "metadata": {},
     "output_type": "execute_result"
    }
   ],
   "source": [
    "text_normalization(df_copy['OBSERVACION USUARIO'][453732])"
   ]
  },
  {
   "cell_type": "code",
   "execution_count": null,
   "metadata": {},
   "outputs": [],
   "source": [
    "df_copy['OBSERVACION USUARIO'] = df_copy['OBSERVACION USUARIO'].map(text_normalization)\n",
    "df_copy['OBSERVACION USUARIO']"
   ]
  },
  {
   "cell_type": "code",
   "execution_count": null,
   "metadata": {},
   "outputs": [],
   "source": [
    "## despues de la normalizacion se volvera a buscar textos sin\n",
    "## sentido\n",
    "##\n",
    "len_obs_usuario = [(i, len(o)) for i, o in enumerate(df_copy['OBSERVACION USUARIO'])]\n",
    "len_menor_x = [(i,o) for i, o in sorted(len_obs_usuario, key=lambda t: t[1]) if o <=4]\n",
    "index_menor_x = [i for i, o in len_menor_x]\n",
    "len(len_menor_x)"
   ]
  },
  {
   "cell_type": "code",
   "execution_count": null,
   "metadata": {},
   "outputs": [],
   "source": [
    "df_copy.drop(index_menor_x, inplace=True)"
   ]
  },
  {
   "cell_type": "code",
   "execution_count": null,
   "metadata": {},
   "outputs": [],
   "source": [
    "## hay que resetear los indices de nuevo.\n",
    "df_copy = df_copy.reset_index(drop=True)"
   ]
  },
  {
   "cell_type": "code",
   "execution_count": null,
   "metadata": {},
   "outputs": [],
   "source": [
    "## Remocion de los bi-gramas frecuentes sin valor semantico.\n",
    "\n",
    "bigram_measures = nltk.collocations.BigramAssocMeasures()\n",
    "trigram_measures = nltk.collocations.TrigramAssocMeasures()\n",
    "\n",
    "tokens = []\n",
    "for o in df_copy['OBSERVACION USUARIO']:\n",
    "    for token in word_tokenize(o):\n",
    "        tokens.append(token)\n",
    "        \n",
    "finder = BigramCollocationFinder.from_words(tokens)\n",
    "finder.nbest(bigram_measures.likelihood_ratio, 20)"
   ]
  },
  {
   "cell_type": "code",
   "execution_count": null,
   "metadata": {},
   "outputs": [],
   "source": [
    "## solo se identifica un bi-grama que no genera valor: ('autogest', 'autogestión')\n",
    "##\n",
    "df_copy['OBSERVACION USUARIO'] = df_copy['OBSERVACION USUARIO'].map(lambda x: x.replace('autogest autogestion', ''))"
   ]
  },
  {
   "cell_type": "code",
   "execution_count": null,
   "metadata": {},
   "outputs": [],
   "source": [
    "df_copy['OBSERVACION USUARIO'] = df_copy['OBSERVACION USUARIO'].map(lambda x: x.replace('autogest autogestión', ''))"
   ]
  },
  {
   "cell_type": "code",
   "execution_count": null,
   "metadata": {},
   "outputs": [],
   "source": [
    "## Se eliminan espacios dobles\n",
    "##\n",
    "df_copy['OBSERVACION USUARIO'] = df_copy['OBSERVACION USUARIO'].map(lambda x: x.replace('  ', ' '))"
   ]
  },
  {
   "cell_type": "code",
   "execution_count": null,
   "metadata": {},
   "outputs": [],
   "source": [
    "## en lineas generales los textos han quedado así\n",
    "df_copy['OBSERVACION USUARIO']"
   ]
  },
  {
   "cell_type": "code",
   "execution_count": null,
   "metadata": {},
   "outputs": [],
   "source": [
    "df_copy.head(3)"
   ]
  },
  {
   "cell_type": "code",
   "execution_count": null,
   "metadata": {},
   "outputs": [],
   "source": [
    "df_copy['tipo_solicitud'].value_counts()"
   ]
  },
  {
   "cell_type": "code",
   "execution_count": null,
   "metadata": {},
   "outputs": [],
   "source": [
    "## ----- A partir de aquí nos centraremos en equilibrar los tipos de solicitudes -----\n",
    "## la idea acá es balancear un poco la cantidad de registros entre categorias\n",
    "## las peticiones hay que reducirlas lo máximo posible podemos quedar al menos con\n",
    "## unas 10,000 al igual que los reclamos tener unos 10,000. Por el lado de los recursos\n",
    "## se ensayará creando unos registros sintéticos con LSTM."
   ]
  },
  {
   "cell_type": "code",
   "execution_count": null,
   "metadata": {},
   "outputs": [],
   "source": [
    "datos = df_copy[['tipo_solicitud', 'tipo_solicitud_1', 'OBSERVACION USUARIO']]"
   ]
  },
  {
   "cell_type": "code",
   "execution_count": null,
   "metadata": {},
   "outputs": [],
   "source": [
    "datos['tipo_solicitud'].value_counts()"
   ]
  },
  {
   "cell_type": "code",
   "execution_count": null,
   "metadata": {},
   "outputs": [],
   "source": [
    "datos.to_csv('PQR_modelo.csv',\n",
    "                sep=',',\n",
    "                header=datos_md.columns,\n",
    "                index=False)"
   ]
  },
  {
   "cell_type": "code",
   "execution_count": 70,
   "metadata": {},
   "outputs": [],
   "source": [
    "## Exploremos las peticiones y miremos como hacemos para depurarlas"
   ]
  },
  {
   "cell_type": "code",
   "execution_count": 71,
   "metadata": {},
   "outputs": [
    {
     "data": {
      "text/html": [
       "<div>\n",
       "<style scoped>\n",
       "    .dataframe tbody tr th:only-of-type {\n",
       "        vertical-align: middle;\n",
       "    }\n",
       "\n",
       "    .dataframe tbody tr th {\n",
       "        vertical-align: top;\n",
       "    }\n",
       "\n",
       "    .dataframe thead th {\n",
       "        text-align: right;\n",
       "    }\n",
       "</style>\n",
       "<table border=\"1\" class=\"dataframe\">\n",
       "  <thead>\n",
       "    <tr style=\"text-align: right;\">\n",
       "      <th></th>\n",
       "      <th>tipo_solicitud</th>\n",
       "      <th>tipo_solicitud_1</th>\n",
       "      <th>OBSERVACION USUARIO</th>\n",
       "    </tr>\n",
       "  </thead>\n",
       "  <tbody>\n",
       "    <tr>\n",
       "      <th>0</th>\n",
       "      <td>peticion</td>\n",
       "      <td>pago parcial</td>\n",
       "      <td>solicita pago parcial facturado</td>\n",
       "    </tr>\n",
       "    <tr>\n",
       "      <th>1</th>\n",
       "      <td>peticion</td>\n",
       "      <td>emision de documento para pago</td>\n",
       "      <td>cliente solicita copia factura</td>\n",
       "    </tr>\n",
       "    <tr>\n",
       "      <th>2</th>\n",
       "      <td>peticion</td>\n",
       "      <td>emision de documento para pago</td>\n",
       "      <td>cliente solicita copia factura</td>\n",
       "    </tr>\n",
       "  </tbody>\n",
       "</table>\n",
       "</div>"
      ],
      "text/plain": [
       "  tipo_solicitud                tipo_solicitud_1  \\\n",
       "0       peticion                    pago parcial   \n",
       "1       peticion  emision de documento para pago   \n",
       "2       peticion  emision de documento para pago   \n",
       "\n",
       "               OBSERVACION USUARIO  \n",
       "0  solicita pago parcial facturado  \n",
       "1   cliente solicita copia factura  \n",
       "2   cliente solicita copia factura  "
      ]
     },
     "execution_count": 71,
     "metadata": {},
     "output_type": "execute_result"
    }
   ],
   "source": [
    "datos_peticiones = datos[datos['tipo_solicitud']=='peticion'][['tipo_solicitud', 'tipo_solicitud_1', 'OBSERVACION USUARIO']]\n",
    "datos_peticiones.head(3)"
   ]
  },
  {
   "cell_type": "code",
   "execution_count": 72,
   "metadata": {},
   "outputs": [
    {
     "data": {
      "text/plain": [
       "emision de documento para pago                                      156593\n",
       "pago parcial                                                        134347\n",
       "separacion temporal o pago dirigido                                  30676\n",
       "trabajos tecnicos en med, trafos, acometidas o en infraestr.         20001\n",
       "datos basicos                                                        17596\n",
       "gestionar financiacion                                               15991\n",
       "reconexion                                                           13810\n",
       "descongelados covid-19                                               11054\n",
       "informacion general                                                   9138\n",
       "exencion contribucion                                                 2640\n",
       "notificacion decision y/o descargos                                   2178\n",
       "inscripcion, retiro o bloqueo de tarjeta pfs                           902\n",
       "poda de arboles                                                        762\n",
       "cambio de plazo en la financiacion pfs                                 750\n",
       "terminacion del contrato                                               690\n",
       "pago de la factura de otro usuario                                     590\n",
       "condicion especial por solicitud del propietario                       567\n",
       "cambio de uso                                                          461\n",
       "liquidacion conexos otc                                                386\n",
       "direccion incorrecta                                                   349\n",
       "tarjeta somos (pfs)                                                    325\n",
       "requerimiento competencia de otra empresa                              297\n",
       "perjuicios por falla en la prestacion del servicio                     266\n",
       "dano en equipo electrico                                               246\n",
       "devolucion o traslado de saldo a favor                                 223\n",
       "normalizar instalacion consumos bajos                                  180\n",
       "refinanciacion por mora pfs                                            161\n",
       "traslado de deuda                                                      159\n",
       "normalizar instalacion                                                 157\n",
       "solicitud constancia lectura                                           139\n",
       "negacion del servicio                                                  123\n",
       "estado deuda pfs                                                        86\n",
       "caducar financiacion                                                    79\n",
       "reconocimiento seguro de vida deuda pfs                                 71\n",
       "paz y salvo pfs                                                         68\n",
       "modificacion de infraest por incumplimiento de distancias de seg        66\n",
       "valores congelados                                                      66\n",
       "requerimientos entes oficiales o entidades externa                      57\n",
       "reinstalacion                                                           53\n",
       "retiro deuda no solidaria pfs                                           49\n",
       "desenergizacion de infraestructura                                      48\n",
       "plazo para pago                                                         42\n",
       "requerimientos sspd o sic                                               42\n",
       "revision, mntto, remodelacion o expansion infraestruc. a.p.             30\n",
       "aplicacion beneficio propiedad o venta de activos                       29\n",
       "reclamacion extemporanea o agotada la via administ                      17\n",
       "modificar cobros de terceros                                            15\n",
       "devolucion y/o copia de documentos                                      14\n",
       "soportes de la financiacion pfs                                         11\n",
       "facturacion a la fecha                                                   8\n",
       "revision presunto sap                                                    7\n",
       "garantias pfs                                                            7\n",
       "gestion interna                                                          7\n",
       "portafolio instalaciones sin cotizacion                                  3\n",
       "tramite recurso de queja sspd                                            3\n",
       "restitucion de tierras                                                   2\n",
       "actualizacion por habeas data                                            1\n",
       "denuncia de contrato de arrendamiento                                    1\n",
       "Name: tipo_solicitud_1, dtype: int64"
      ]
     },
     "execution_count": 72,
     "metadata": {},
     "output_type": "execute_result"
    }
   ],
   "source": [
    "datos_peticiones['tipo_solicitud_1'].value_counts()\n",
    "\n",
    "## para las siguientes categorías se dejan unicamente 1,000 registros por\n",
    "## categoría:\n",
    "## emision de documento para pago                                      \n",
    "## pago parcial                                                        \n",
    "## separacion temporal o pago dirigido                                  \n",
    "## informacion general                                                  \n",
    "## trabajos tecnicos en med, trafos, acometidas o en infraestr.         \n",
    "## datos basicos                                                        \n",
    "## reconexion                                                           \n",
    "## gestionar financiacion                                               \n",
    "## descongelados covid-19                                               \n",
    "## exencion contribucion                                                 \n",
    "## notificacion decision y/o descargos     "
   ]
  },
  {
   "cell_type": "code",
   "execution_count": 73,
   "metadata": {},
   "outputs": [],
   "source": [
    "peticiones_depurar = ['emision de documento para pago',\n",
    "                      'pago parcial',\n",
    "                      'separacion temporal o pago dirigido',\n",
    "                      'informacion general',\n",
    "                      'trabajos tecnicos en med, trafos, acometidas o en infraestr.',\n",
    "                      'datos basicos',\n",
    "                      'reconexion',\n",
    "                      'gestionar financiacion',\n",
    "                      'descongelados covid-19',\n",
    "                      'exencion contribucion',\n",
    "                      'notificacion decision y/o descargos',\n",
    "                      'inscripcion, retiro o bloqueo de tarjeta pfs',\n",
    "                      'poda de arboles',\n",
    "                      'cambio de plazo en la financiacion pfs',\n",
    "                      'terminacion del contrato',\n",
    "                      'pago de la factura de otro usuario',\n",
    "                      'condicion especial por solicitud del propietario',\n",
    "                      'direccion incorrecta',\n",
    "                      'tarjeta somos (pfs)',\n",
    "                      'requerimiento competencia de otra empresa',\n",
    "                      'perjuicios por falla en la prestacion del servicio',\n",
    "                      'dano en equipo electrico',\n",
    "                      'devolucion o traslado de saldo a favor']"
   ]
  },
  {
   "cell_type": "code",
   "execution_count": 74,
   "metadata": {},
   "outputs": [],
   "source": [
    "import random\n",
    "\n",
    "for p in peticiones_depurar:\n",
    "    temp = datos_peticiones[datos_peticiones['tipo_solicitud_1']==p]\n",
    "    indexes = temp.index\n",
    "    index_sample = random.sample(list(indexes), len(temp)-180)\n",
    "    datos_peticiones.drop(index_sample, inplace=True)"
   ]
  },
  {
   "cell_type": "code",
   "execution_count": 75,
   "metadata": {},
   "outputs": [
    {
     "data": {
      "text/plain": [
       "cambio de uso                                                       461\n",
       "liquidacion conexos otc                                             386\n",
       "poda de arboles                                                     180\n",
       "informacion general                                                 180\n",
       "tarjeta somos (pfs)                                                 180\n",
       "descongelados covid-19                                              180\n",
       "devolucion o traslado de saldo a favor                              180\n",
       "dano en equipo electrico                                            180\n",
       "gestionar financiacion                                              180\n",
       "requerimiento competencia de otra empresa                           180\n",
       "normalizar instalacion consumos bajos                               180\n",
       "direccion incorrecta                                                180\n",
       "terminacion del contrato                                            180\n",
       "perjuicios por falla en la prestacion del servicio                  180\n",
       "pago de la factura de otro usuario                                  180\n",
       "exencion contribucion                                               180\n",
       "cambio de plazo en la financiacion pfs                              180\n",
       "notificacion decision y/o descargos                                 180\n",
       "trabajos tecnicos en med, trafos, acometidas o en infraestr.        180\n",
       "inscripcion, retiro o bloqueo de tarjeta pfs                        180\n",
       "reconexion                                                          180\n",
       "pago parcial                                                        180\n",
       "emision de documento para pago                                      180\n",
       "datos basicos                                                       180\n",
       "condicion especial por solicitud del propietario                    180\n",
       "separacion temporal o pago dirigido                                 180\n",
       "refinanciacion por mora pfs                                         161\n",
       "traslado de deuda                                                   159\n",
       "normalizar instalacion                                              157\n",
       "solicitud constancia lectura                                        139\n",
       "negacion del servicio                                               123\n",
       "estado deuda pfs                                                     86\n",
       "caducar financiacion                                                 79\n",
       "reconocimiento seguro de vida deuda pfs                              71\n",
       "paz y salvo pfs                                                      68\n",
       "valores congelados                                                   66\n",
       "modificacion de infraest por incumplimiento de distancias de seg     66\n",
       "requerimientos entes oficiales o entidades externa                   57\n",
       "reinstalacion                                                        53\n",
       "retiro deuda no solidaria pfs                                        49\n",
       "desenergizacion de infraestructura                                   48\n",
       "requerimientos sspd o sic                                            42\n",
       "plazo para pago                                                      42\n",
       "revision, mntto, remodelacion o expansion infraestruc. a.p.          30\n",
       "aplicacion beneficio propiedad o venta de activos                    29\n",
       "reclamacion extemporanea o agotada la via administ                   17\n",
       "modificar cobros de terceros                                         15\n",
       "devolucion y/o copia de documentos                                   14\n",
       "soportes de la financiacion pfs                                      11\n",
       "facturacion a la fecha                                                8\n",
       "revision presunto sap                                                 7\n",
       "garantias pfs                                                         7\n",
       "gestion interna                                                       7\n",
       "portafolio instalaciones sin cotizacion                               3\n",
       "tramite recurso de queja sspd                                         3\n",
       "restitucion de tierras                                                2\n",
       "denuncia de contrato de arrendamiento                                 1\n",
       "actualizacion por habeas data                                         1\n",
       "Name: tipo_solicitud_1, dtype: int64"
      ]
     },
     "execution_count": 75,
     "metadata": {},
     "output_type": "execute_result"
    }
   ],
   "source": [
    "datos_peticiones['tipo_solicitud_1'].value_counts()"
   ]
  },
  {
   "cell_type": "code",
   "execution_count": 76,
   "metadata": {},
   "outputs": [
    {
     "data": {
      "text/plain": [
       "6788"
      ]
     },
     "execution_count": 76,
     "metadata": {},
     "output_type": "execute_result"
    }
   ],
   "source": [
    "len(datos_peticiones)"
   ]
  },
  {
   "cell_type": "code",
   "execution_count": 77,
   "metadata": {},
   "outputs": [],
   "source": [
    "## Exploremos los reclamos y miremos como hacemos para depurarlas"
   ]
  },
  {
   "cell_type": "code",
   "execution_count": 78,
   "metadata": {},
   "outputs": [
    {
     "data": {
      "text/html": [
       "<div>\n",
       "<style scoped>\n",
       "    .dataframe tbody tr th:only-of-type {\n",
       "        vertical-align: middle;\n",
       "    }\n",
       "\n",
       "    .dataframe tbody tr th {\n",
       "        vertical-align: top;\n",
       "    }\n",
       "\n",
       "    .dataframe thead th {\n",
       "        text-align: right;\n",
       "    }\n",
       "</style>\n",
       "<table border=\"1\" class=\"dataframe\">\n",
       "  <thead>\n",
       "    <tr style=\"text-align: right;\">\n",
       "      <th></th>\n",
       "      <th>tipo_solicitud</th>\n",
       "      <th>tipo_solicitud_1</th>\n",
       "      <th>OBSERVACION USUARIO</th>\n",
       "    </tr>\n",
       "  </thead>\n",
       "  <tbody>\n",
       "    <tr>\n",
       "      <th>21</th>\n",
       "      <td>reclamo</td>\n",
       "      <td>inconformidad con el consumo o produccion fact...</td>\n",
       "      <td>revisión completa coordinar visita cel usuario...</td>\n",
       "    </tr>\n",
       "    <tr>\n",
       "      <th>35</th>\n",
       "      <td>reclamo</td>\n",
       "      <td>inconformidad con el consumo o produccion fact...</td>\n",
       "      <td>revisar consumo periodo noviembre diciembre pa...</td>\n",
       "    </tr>\n",
       "    <tr>\n",
       "      <th>104</th>\n",
       "      <td>reclamo</td>\n",
       "      <td>inconformidad con el consumo o produccion fact...</td>\n",
       "      <td>revisión completa acuerdo cita usuaria solicit...</td>\n",
       "    </tr>\n",
       "  </tbody>\n",
       "</table>\n",
       "</div>"
      ],
      "text/plain": [
       "    tipo_solicitud                                   tipo_solicitud_1  \\\n",
       "21         reclamo  inconformidad con el consumo o produccion fact...   \n",
       "35         reclamo  inconformidad con el consumo o produccion fact...   \n",
       "104        reclamo  inconformidad con el consumo o produccion fact...   \n",
       "\n",
       "                                   OBSERVACION USUARIO  \n",
       "21   revisión completa coordinar visita cel usuario...  \n",
       "35   revisar consumo periodo noviembre diciembre pa...  \n",
       "104  revisión completa acuerdo cita usuaria solicit...  "
      ]
     },
     "execution_count": 78,
     "metadata": {},
     "output_type": "execute_result"
    }
   ],
   "source": [
    "datos_reclamo = datos[datos['tipo_solicitud']=='reclamo'][['tipo_solicitud', 'tipo_solicitud_1', 'OBSERVACION USUARIO']]\n",
    "datos_reclamo.head(3)"
   ]
  },
  {
   "cell_type": "code",
   "execution_count": 79,
   "metadata": {},
   "outputs": [
    {
     "data": {
      "text/plain": [
       "inconformidad con el consumo o produccion facturad                  19295\n",
       "cobros por conexion, reconexion, reinstalacion                        529\n",
       "cobro de cargos relacionados con el servicio publi                    304\n",
       "pago sin abono a cuenta                                               236\n",
       "cobros por promedio                                                   209\n",
       "cobro de otros bienes o servicios en la factura                       110\n",
       "cobro por recuperacion de consumos                                     95\n",
       "cobro desconocido                                                      62\n",
       "estrato incorrecto                                                     59\n",
       "cobro multiple y/o acumulado                                           57\n",
       "subsidios y contribuciones                                             49\n",
       "tarifa incorrecta                                                      34\n",
       "cobros inoportunos                                                     33\n",
       "cobro de acuerdo de pago o financiacion                                26\n",
       "cobro de medidor                                                       26\n",
       "clase de uso incorrecto                                                26\n",
       "inconformidad por cobros por normalizacion del ser                     20\n",
       "cobro de revisiones                                                    20\n",
       "solicitud de rompimiento de solidaridad                                19\n",
       "inconformidad con la informacion                                       18\n",
       "cobros por servicios no prestados                                      15\n",
       "cobro por consumos dejados de facturar o recuperacion de energia        2\n",
       "verificacion contrato integral                                          1\n",
       "Name: tipo_solicitud_1, dtype: int64"
      ]
     },
     "execution_count": 79,
     "metadata": {},
     "output_type": "execute_result"
    }
   ],
   "source": [
    "datos_reclamo['tipo_solicitud_1'].value_counts()"
   ]
  },
  {
   "cell_type": "code",
   "execution_count": 80,
   "metadata": {},
   "outputs": [],
   "source": [
    "temp = datos_reclamo[datos_reclamo['tipo_solicitud_1']=='inconformidad con el consumo o produccion facturad']\n",
    "indexes = temp.index\n",
    "index_sample = random.sample(list(indexes), len(temp)-9000)\n",
    "datos_reclamo.drop(index_sample, inplace=True)"
   ]
  },
  {
   "cell_type": "code",
   "execution_count": 81,
   "metadata": {},
   "outputs": [
    {
     "data": {
      "text/plain": [
       "inconformidad con el consumo o produccion facturad                  9000\n",
       "cobros por conexion, reconexion, reinstalacion                       529\n",
       "cobro de cargos relacionados con el servicio publi                   304\n",
       "pago sin abono a cuenta                                              236\n",
       "cobros por promedio                                                  209\n",
       "cobro de otros bienes o servicios en la factura                      110\n",
       "cobro por recuperacion de consumos                                    95\n",
       "cobro desconocido                                                     62\n",
       "estrato incorrecto                                                    59\n",
       "cobro multiple y/o acumulado                                          57\n",
       "subsidios y contribuciones                                            49\n",
       "tarifa incorrecta                                                     34\n",
       "cobros inoportunos                                                    33\n",
       "cobro de acuerdo de pago o financiacion                               26\n",
       "clase de uso incorrecto                                               26\n",
       "cobro de medidor                                                      26\n",
       "inconformidad por cobros por normalizacion del ser                    20\n",
       "cobro de revisiones                                                   20\n",
       "solicitud de rompimiento de solidaridad                               19\n",
       "inconformidad con la informacion                                      18\n",
       "cobros por servicios no prestados                                     15\n",
       "cobro por consumos dejados de facturar o recuperacion de energia       2\n",
       "verificacion contrato integral                                         1\n",
       "Name: tipo_solicitud_1, dtype: int64"
      ]
     },
     "execution_count": 81,
     "metadata": {},
     "output_type": "execute_result"
    }
   ],
   "source": [
    "datos_reclamo['tipo_solicitud_1'].value_counts()"
   ]
  },
  {
   "cell_type": "code",
   "execution_count": 82,
   "metadata": {},
   "outputs": [
    {
     "data": {
      "text/plain": [
       "10950"
      ]
     },
     "execution_count": 82,
     "metadata": {},
     "output_type": "execute_result"
    }
   ],
   "source": [
    "len(datos_reclamo)"
   ]
  },
  {
   "cell_type": "code",
   "execution_count": 83,
   "metadata": {},
   "outputs": [],
   "source": [
    "## Ahora sobre los recuros.\n",
    "## se ensayará creando unos registros sintéticos con LSTM"
   ]
  },
  {
   "cell_type": "code",
   "execution_count": 84,
   "metadata": {},
   "outputs": [
    {
     "data": {
      "text/html": [
       "<div>\n",
       "<style scoped>\n",
       "    .dataframe tbody tr th:only-of-type {\n",
       "        vertical-align: middle;\n",
       "    }\n",
       "\n",
       "    .dataframe tbody tr th {\n",
       "        vertical-align: top;\n",
       "    }\n",
       "\n",
       "    .dataframe thead th {\n",
       "        text-align: right;\n",
       "    }\n",
       "</style>\n",
       "<table border=\"1\" class=\"dataframe\">\n",
       "  <thead>\n",
       "    <tr style=\"text-align: right;\">\n",
       "      <th></th>\n",
       "      <th>tipo_solicitud</th>\n",
       "      <th>tipo_solicitud_1</th>\n",
       "      <th>OBSERVACION USUARIO</th>\n",
       "    </tr>\n",
       "  </thead>\n",
       "  <tbody>\n",
       "    <tr>\n",
       "      <th>132715</th>\n",
       "      <td>recurso</td>\n",
       "      <td>inconformidad con el consumo o produccion fact...</td>\n",
       "      <td>usuario encuentra acuerdo valores facturados o...</td>\n",
       "    </tr>\n",
       "    <tr>\n",
       "      <th>133940</th>\n",
       "      <td>recurso</td>\n",
       "      <td>cobro por recuperacion de consumos</td>\n",
       "      <td>usuario trae recurso reposición apelación acto...</td>\n",
       "    </tr>\n",
       "    <tr>\n",
       "      <th>134190</th>\n",
       "      <td>recurso</td>\n",
       "      <td>inconformidad con el consumo o produccion fact...</td>\n",
       "      <td>usuaria solicita revision pues deacuerdo factu...</td>\n",
       "    </tr>\n",
       "  </tbody>\n",
       "</table>\n",
       "</div>"
      ],
      "text/plain": [
       "       tipo_solicitud                                   tipo_solicitud_1  \\\n",
       "132715        recurso  inconformidad con el consumo o produccion fact...   \n",
       "133940        recurso                 cobro por recuperacion de consumos   \n",
       "134190        recurso  inconformidad con el consumo o produccion fact...   \n",
       "\n",
       "                                      OBSERVACION USUARIO  \n",
       "132715  usuario encuentra acuerdo valores facturados o...  \n",
       "133940  usuario trae recurso reposición apelación acto...  \n",
       "134190  usuaria solicita revision pues deacuerdo factu...  "
      ]
     },
     "execution_count": 84,
     "metadata": {},
     "output_type": "execute_result"
    }
   ],
   "source": [
    "datos_recurso = datos[datos['tipo_solicitud']=='recurso'][['tipo_solicitud', 'tipo_solicitud_1', 'OBSERVACION USUARIO']]\n",
    "datos_recurso.head(3)"
   ]
  },
  {
   "cell_type": "code",
   "execution_count": 85,
   "metadata": {},
   "outputs": [],
   "source": [
    "## vamos a remover la puntuacion y los valores numericos de estas observaciones.\n",
    "## se dejaran los stopwords.\n",
    "##\n",
    "datos_recurso['OBSERVACION USUARIO'] = datos_recurso['OBSERVACION USUARIO'].map(lambda x: str(x))\n",
    "datos_recurso['OBSERVACION USUARIO'] = datos_recurso['OBSERVACION USUARIO'].map(lambda x: x.lower())\n",
    "datos_recurso['OBSERVACION USUARIO'] = datos_recurso['OBSERVACION USUARIO'].map(lambda x: ' '.join(re.findall(r'[a-záéíóúñ]{2,}', x)))"
   ]
  },
  {
   "cell_type": "code",
   "execution_count": 86,
   "metadata": {},
   "outputs": [
    {
     "data": {
      "text/plain": [
       "count    566.000000\n",
       "mean     159.166078\n",
       "std      129.730356\n",
       "min       22.000000\n",
       "25%       75.250000\n",
       "50%      110.000000\n",
       "75%      181.500000\n",
       "max      636.000000\n",
       "Name: len_obs, dtype: float64"
      ]
     },
     "execution_count": 86,
     "metadata": {},
     "output_type": "execute_result"
    }
   ],
   "source": [
    "datos_recurso['len_obs'] = datos_recurso['OBSERVACION USUARIO'].map(lambda x: len(x))\n",
    "datos_recurso['len_obs'].describe()"
   ]
  },
  {
   "cell_type": "code",
   "execution_count": 87,
   "metadata": {},
   "outputs": [],
   "source": [
    "## Se eliminan los recursos con len < 50\n",
    "##\n",
    "datos_recurso = datos_recurso.reset_index(drop=True)\n",
    "len_obs_usuario = [(i, len(o)) for i, o in enumerate(datos_recurso['OBSERVACION USUARIO'])]\n",
    "len_menor_x = [(i,o) for i, o in sorted(len_obs_usuario, key=lambda t: t[1]) if o <=50]\n",
    "index_menor_x = [i for i, o in len_menor_x]"
   ]
  },
  {
   "cell_type": "code",
   "execution_count": 88,
   "metadata": {},
   "outputs": [],
   "source": [
    "datos_recurso.drop(index_menor_x, inplace=True)"
   ]
  },
  {
   "cell_type": "code",
   "execution_count": 89,
   "metadata": {},
   "outputs": [
    {
     "data": {
      "text/plain": [
       "count    542.000000\n",
       "mean     164.457565\n",
       "std      130.045894\n",
       "min       51.000000\n",
       "25%       80.000000\n",
       "50%      113.000000\n",
       "75%      184.750000\n",
       "max      636.000000\n",
       "Name: len_obs, dtype: float64"
      ]
     },
     "execution_count": 89,
     "metadata": {},
     "output_type": "execute_result"
    }
   ],
   "source": [
    "datos_recurso['len_obs'].describe()"
   ]
  },
  {
   "cell_type": "code",
   "execution_count": 90,
   "metadata": {},
   "outputs": [
    {
     "data": {
      "text/plain": [
       "542"
      ]
     },
     "execution_count": 90,
     "metadata": {},
     "output_type": "execute_result"
    }
   ],
   "source": [
    "len(datos_recurso)"
   ]
  },
  {
   "cell_type": "code",
   "execution_count": 91,
   "metadata": {},
   "outputs": [],
   "source": [
    "# sacamos todos los tokens en una lista.\n",
    "tokens = []\n",
    "for o in datos_recurso['OBSERVACION USUARIO']:\n",
    "    for token in word_tokenize(o):\n",
    "        tokens.append(token)\n",
    "\n",
    "# organize into sequences of tokens\n",
    "train_len = 50+1 # 50 training words , then one target word\n",
    "\n",
    "# Empty list of sequences\n",
    "text_sequences = []\n",
    "\n",
    "for i in range(train_len, len(tokens)):\n",
    "    \n",
    "    # Grab train_len# amount of characters\n",
    "    seq = tokens[i-train_len:i]\n",
    "    \n",
    "    # Add to list of sequences\n",
    "    text_sequences.append(seq)"
   ]
  },
  {
   "cell_type": "code",
   "execution_count": 92,
   "metadata": {},
   "outputs": [
    {
     "data": {
      "text/plain": [
       "'respuesta recurrente informa justificacion tecnica valores cobrados pues presentado cambio interior vivienda habitantes usuario presenta recurso indicando fuga generada vendabal derribo cuerdas solicita exoneracion pago deuda leído detenimiento recurso usted manifiesta textualmente dirijo ustedes fin interponer reposición pasado julio presente año dieron respuesta radicado anterior dado justificada consumo facturaron meses marzo'"
      ]
     },
     "execution_count": 92,
     "metadata": {},
     "output_type": "execute_result"
    }
   ],
   "source": [
    "## se valida lo que se hizo con las secuencias. \n",
    "' '.join(text_sequences[224])"
   ]
  },
  {
   "cell_type": "code",
   "execution_count": 93,
   "metadata": {},
   "outputs": [],
   "source": [
    "##  Importamos Keras\n",
    "from keras.preprocessing.text import Tokenizer"
   ]
  },
  {
   "cell_type": "code",
   "execution_count": 94,
   "metadata": {},
   "outputs": [],
   "source": [
    "# integer encode sequences of words\n",
    "tokenizer = Tokenizer()\n",
    "tokenizer.fit_on_texts(text_sequences)\n",
    "sequences = tokenizer.texts_to_sequences(text_sequences)"
   ]
  },
  {
   "cell_type": "code",
   "execution_count": 95,
   "metadata": {},
   "outputs": [],
   "source": [
    "# sequences[0]"
   ]
  },
  {
   "cell_type": "code",
   "execution_count": 96,
   "metadata": {},
   "outputs": [],
   "source": [
    "## Con esto se puede ver todo el vocab tokenizer.index_word"
   ]
  },
  {
   "cell_type": "code",
   "execution_count": 97,
   "metadata": {},
   "outputs": [
    {
     "name": "stdout",
     "output_type": "stream",
     "text": [
      "20 : usuario\n",
      "86 : encuentra\n",
      "14 : acuerdo\n",
      "39 : valores\n",
      "50 : facturados\n",
      "2965 : otrso\n",
      "1190 : cargos\n",
      "775 : mano\n",
      "2964 : obra\n",
      "20 : usuario\n",
      "1189 : trae\n",
      "2 : recurso\n",
      "13 : reposición\n",
      "12 : apelación\n",
      "547 : acto\n",
      "143 : julio\n",
      "106 : usuaria\n",
      "68 : solicita\n",
      "70 : revision\n",
      "8 : pues\n",
      "774 : deacuerdo\n",
      "23 : facturado\n",
      "24 : mes\n",
      "45 : mayo\n",
      "213 : kwh\n",
      "1 : respuesta\n",
      "20 : usuario\n",
      "6 : manifiesta\n",
      "231 : justificacion\n",
      "28 : consumos\n",
      "50 : facturados\n",
      "41 : cuenta\n",
      "2956 : aire\n",
      "2955 : acondcionado\n",
      "212 : tampoco\n",
      "230 : nevera\n",
      "70 : revision\n",
      "292 : completa\n",
      "106 : usuaria\n",
      "34 : inconforme\n",
      "104 : alto\n",
      "3 : consumo\n",
      "24 : mes\n",
      "45 : mayo\n",
      "187 : comprendido\n",
      "31 : abril\n",
      "291 : dice\n",
      "2953 : continua\n",
      "58 : mismo\n",
      "1 : respuesta\n",
      "20 : usuario\n"
     ]
    }
   ],
   "source": [
    "## Ejemplo de una secuencia, con sus indices de acuerdo al vocab y la palabra\n",
    "##\n",
    "for i in sequences[0]:\n",
    "    print(f'{i} : {tokenizer.index_word[i]}')"
   ]
  },
  {
   "cell_type": "code",
   "execution_count": 98,
   "metadata": {},
   "outputs": [],
   "source": [
    "## con este tokenizador puede verse una lista de tuplas con las palabras y sus \n",
    "## respectivas frecuencias.\n",
    "##\n",
    "# tokenizer.word_counts"
   ]
  },
  {
   "cell_type": "code",
   "execution_count": 99,
   "metadata": {},
   "outputs": [],
   "source": [
    "## a una variable le asignamos la longitud del vocabulario\n",
    "## \n",
    "vocabulary_size = len(tokenizer.word_counts)"
   ]
  },
  {
   "cell_type": "code",
   "execution_count": 100,
   "metadata": {},
   "outputs": [],
   "source": [
    "## Una RNA recive sólo lee matrices, por esta razón se pasa a una matriz \n",
    "## las secuencias.Donde cada fila es una secuencia, la catidad de columnas serán\n",
    "## la longitud dela secuencia que se ha pre establecido y los valores son los indices de \n",
    "## las palabras dentro del vocab\n",
    "##\n",
    "sequences = np.array(sequences)"
   ]
  },
  {
   "cell_type": "code",
   "execution_count": 101,
   "metadata": {},
   "outputs": [
    {
     "data": {
      "text/plain": [
       "array([[  20,   86,   14, ...,   58,    1,   20],\n",
       "       [  86,   14,   39, ...,    1,   20,    6],\n",
       "       [  14,   39,   50, ...,   20,    6,    5],\n",
       "       ...,\n",
       "       [ 261, 2951, 2952, ...,    2,  548,   23],\n",
       "       [2951, 2952,    4, ...,  548,   23,  441],\n",
       "       [2952,    4,   59, ...,   23,  441,  546]])"
      ]
     },
     "execution_count": 101,
     "metadata": {},
     "output_type": "execute_result"
    }
   ],
   "source": [
    "## Se valida la creación de la matriz\n",
    "##\n",
    "sequences"
   ]
  },
  {
   "cell_type": "code",
   "execution_count": 102,
   "metadata": {},
   "outputs": [],
   "source": [
    "## A partir de acá si se creará la LSTM\n",
    "##\n",
    "import keras\n",
    "from keras.models import Sequential\n",
    "from keras.layers import Dense,LSTM,Embedding"
   ]
  },
  {
   "cell_type": "code",
   "execution_count": 103,
   "metadata": {},
   "outputs": [],
   "source": [
    "## Esta funcion define la RNA, el modelo es secuencial, con 4 capas ocultas\n",
    "## los paranetros son: el tamaño del vocab y la longitud de la secuencia.\n",
    "##\n",
    "def create_model(vocabulary_size, seq_len):\n",
    "    model = Sequential()\n",
    "    model.add(Embedding(vocabulary_size, 50, input_length=seq_len))\n",
    "    model.add(LSTM(80, return_sequences=True))\n",
    "    model.add(LSTM(80))\n",
    "    model.add(Dense(80, activation='relu'))\n",
    "\n",
    "    model.add(Dense(vocabulary_size, activation='softmax'))\n",
    "    \n",
    "    model.compile(loss='categorical_crossentropy', optimizer='adam', metrics=['accuracy'])\n",
    "   \n",
    "    model.summary()\n",
    "    \n",
    "    return model"
   ]
  },
  {
   "cell_type": "code",
   "execution_count": 104,
   "metadata": {},
   "outputs": [],
   "source": [
    "## Acá se van a hacer las respectivas divisiones de los sets de entrenamiento y test\n",
    "## asi como la división de las variables x, y.\n",
    "##\n",
    "from keras.utils import to_categorical"
   ]
  },
  {
   "cell_type": "code",
   "execution_count": 105,
   "metadata": {},
   "outputs": [
    {
     "data": {
      "text/plain": [
       "array([[  20,   86,   14, ...,   58,    1,   20],\n",
       "       [  86,   14,   39, ...,    1,   20,    6],\n",
       "       [  14,   39,   50, ...,   20,    6,    5],\n",
       "       ...,\n",
       "       [ 261, 2951, 2952, ...,    2,  548,   23],\n",
       "       [2951, 2952,    4, ...,  548,   23,  441],\n",
       "       [2952,    4,   59, ...,   23,  441,  546]])"
      ]
     },
     "execution_count": 105,
     "metadata": {},
     "output_type": "execute_result"
    }
   ],
   "source": [
    "## a esta matriz se le extraeran como valores x todas las palabras que anteceden\n",
    "## a la palabra que se quiere predecir. Es decir si se crea una secuencia de 26 palabras\n",
    "## las primeras 25 serán las X y la 26 será la Y\n",
    "##\n",
    "sequences"
   ]
  },
  {
   "cell_type": "code",
   "execution_count": 106,
   "metadata": {},
   "outputs": [
    {
     "data": {
      "text/plain": [
       "array([[  20,   86,   14, ..., 2953,   58,    1],\n",
       "       [  86,   14,   39, ...,   58,    1,   20],\n",
       "       [  14,   39,   50, ...,    1,   20,    6],\n",
       "       ...,\n",
       "       [ 261, 2951, 2952, ...,   67,    2,  548],\n",
       "       [2951, 2952,    4, ...,    2,  548,   23],\n",
       "       [2952,    4,   59, ...,  548,   23,  441]])"
      ]
     },
     "execution_count": 106,
     "metadata": {},
     "output_type": "execute_result"
    }
   ],
   "source": [
    "# First 25 words\n",
    "sequences[:,:-1]"
   ]
  },
  {
   "cell_type": "code",
   "execution_count": 107,
   "metadata": {},
   "outputs": [
    {
     "data": {
      "text/plain": [
       "array([ 20,   6,   5, ...,  23, 441, 546])"
      ]
     },
     "execution_count": 107,
     "metadata": {},
     "output_type": "execute_result"
    }
   ],
   "source": [
    "# last Word\n",
    "sequences[:,-1]"
   ]
  },
  {
   "cell_type": "code",
   "execution_count": 108,
   "metadata": {},
   "outputs": [],
   "source": [
    "x = sequences[:,:-1]"
   ]
  },
  {
   "cell_type": "code",
   "execution_count": 109,
   "metadata": {},
   "outputs": [
    {
     "data": {
      "text/plain": [
       "array([[0., 0., 0., ..., 0., 0., 0.],\n",
       "       [0., 0., 0., ..., 0., 0., 0.],\n",
       "       [0., 0., 0., ..., 0., 0., 0.],\n",
       "       ...,\n",
       "       [0., 0., 0., ..., 0., 0., 0.],\n",
       "       [0., 0., 0., ..., 0., 0., 0.],\n",
       "       [0., 0., 0., ..., 0., 0., 0.]], dtype=float32)"
      ]
     },
     "execution_count": 109,
     "metadata": {},
     "output_type": "execute_result"
    }
   ],
   "source": [
    "y = sequences[:,-1]\n",
    "y = to_categorical(y, num_classes=vocabulary_size+1) # con esto convertimos los indices a un one-hot-encoding.\n",
    "y"
   ]
  },
  {
   "cell_type": "code",
   "execution_count": 110,
   "metadata": {},
   "outputs": [],
   "source": [
    "## se nombra en una variable la longitud de las secuencias\n",
    "##\n",
    "seq_len = x.shape[1]"
   ]
  },
  {
   "cell_type": "code",
   "execution_count": 111,
   "metadata": {},
   "outputs": [],
   "source": [
    "## Entrenamiento del modelo\n",
    "##\n",
    "# model = create_model(vocabulary_size+1, seq_len)\n",
    "# model.fit(x, y, batch_size=128, epochs=250,verbose=1)"
   ]
  },
  {
   "cell_type": "code",
   "execution_count": 112,
   "metadata": {},
   "outputs": [],
   "source": [
    "from pickle import dump,load\n",
    "\n",
    "# guardamos el modelo entrenado\n",
    "# model.save('lstm_textgeneration.h5')\n",
    "# guardamos el tokenizer\n",
    "# dump(tokenizer, open('tokenizer_lstm', 'wb'))"
   ]
  },
  {
   "cell_type": "code",
   "execution_count": 113,
   "metadata": {},
   "outputs": [],
   "source": [
    "## para cargar el modelo ya entrenado con los pesos.\n",
    "model = keras.models.load_model('lstm_textgeneration.h5')"
   ]
  },
  {
   "cell_type": "code",
   "execution_count": 114,
   "metadata": {},
   "outputs": [],
   "source": [
    "## generando texto nuevo\n",
    "##\n",
    "from random import randint\n",
    "from pickle import load\n",
    "from keras.preprocessing.sequence import pad_sequences"
   ]
  },
  {
   "cell_type": "code",
   "execution_count": 115,
   "metadata": {},
   "outputs": [],
   "source": [
    "def generate_text(model, tokenizer, seq_len, seed_text, num_gen_words):\n",
    "    '''\n",
    "    INPUTS:\n",
    "    model : model that was trained on text data\n",
    "    tokenizer : tokenizer that was fit on text data\n",
    "    seq_len : length of training sequence\n",
    "    seed_text : raw string text to serve as the seed\n",
    "    num_gen_words : number of words to be generated by model\n",
    "    '''\n",
    "    \n",
    "    # Final Output\n",
    "    output_text = []\n",
    "    \n",
    "    # Intial Seed Sequence\n",
    "    input_text = seed_text\n",
    "    \n",
    "    # Create num_gen_words\n",
    "    for i in range(num_gen_words):\n",
    "        \n",
    "        # Take the input text string and encode it to a sequence\n",
    "        encoded_text = tokenizer.texts_to_sequences([input_text])[0]\n",
    "        \n",
    "        # Pad sequences to our trained rate (50 words in the video)\n",
    "        pad_encoded = pad_sequences([encoded_text], maxlen=seq_len, truncating='pre')\n",
    "        \n",
    "        # Predict Class Probabilities for each word\n",
    "        pred_word_ind = np.argmax(model.predict(pad_encoded, verbose=0), axis=-1)\n",
    "        # pred_word_ind = model.predict_classes(pad_encoded, verbose=0)[0] -- this way is deprecated\n",
    "        \n",
    "        # Grab word\n",
    "        pred_word = tokenizer.index_word[int(pred_word_ind)] \n",
    "        \n",
    "        # Update the sequence of input text (shifting one over with the new word)\n",
    "        input_text += ' ' + pred_word\n",
    "        \n",
    "        output_text.append(pred_word)\n",
    "        \n",
    "    # Make it look like a sentence.\n",
    "    return ' '.join(output_text)"
   ]
  },
  {
   "cell_type": "code",
   "execution_count": 116,
   "metadata": {},
   "outputs": [
    {
     "data": {
      "text/plain": [
       "['usuario',\n",
       " 'encuentra',\n",
       " 'acuerdo',\n",
       " 'valores',\n",
       " 'facturados',\n",
       " 'otrso',\n",
       " 'cargos',\n",
       " 'mano',\n",
       " 'obra',\n",
       " 'usuario',\n",
       " 'trae',\n",
       " 'recurso',\n",
       " 'reposición',\n",
       " 'apelación',\n",
       " 'acto',\n",
       " 'julio',\n",
       " 'usuaria',\n",
       " 'solicita',\n",
       " 'revision',\n",
       " 'pues',\n",
       " 'deacuerdo',\n",
       " 'facturado',\n",
       " 'mes',\n",
       " 'mayo',\n",
       " 'kwh',\n",
       " 'respuesta',\n",
       " 'usuario',\n",
       " 'manifiesta',\n",
       " 'justificacion',\n",
       " 'consumos',\n",
       " 'facturados',\n",
       " 'cuenta',\n",
       " 'aire',\n",
       " 'acondcionado',\n",
       " 'tampoco',\n",
       " 'nevera',\n",
       " 'revision',\n",
       " 'completa',\n",
       " 'usuaria',\n",
       " 'inconforme',\n",
       " 'alto',\n",
       " 'consumo',\n",
       " 'mes',\n",
       " 'mayo',\n",
       " 'comprendido',\n",
       " 'abril',\n",
       " 'dice',\n",
       " 'continua',\n",
       " 'mismo',\n",
       " 'respuesta',\n",
       " 'usuario']"
      ]
     },
     "execution_count": 116,
     "metadata": {},
     "output_type": "execute_result"
    }
   ],
   "source": [
    "text_sequences[0]"
   ]
  },
  {
   "cell_type": "code",
   "execution_count": 117,
   "metadata": {},
   "outputs": [
    {
     "data": {
      "text/plain": [
       "6896"
      ]
     },
     "execution_count": 117,
     "metadata": {},
     "output_type": "execute_result"
    }
   ],
   "source": [
    "import random\n",
    "# random.seed(101)\n",
    "random_pick = random.randint(0,len(text_sequences))\n",
    "random_pick"
   ]
  },
  {
   "cell_type": "code",
   "execution_count": 118,
   "metadata": {},
   "outputs": [
    {
     "data": {
      "text/plain": [
       "['usan',\n",
       " 'permito',\n",
       " 'solicitar',\n",
       " 'siguiente',\n",
       " 'haga',\n",
       " 'descuento',\n",
       " 'valores',\n",
       " 'pagado',\n",
       " 'empresa',\n",
       " 'deberá',\n",
       " 'ver',\n",
       " 'reflejado',\n",
       " 'factura',\n",
       " 'próximo',\n",
       " 'mes',\n",
       " 'decir',\n",
       " 'julio',\n",
       " 'exonere',\n",
       " 'pago',\n",
       " 'cualquier',\n",
       " 'ayuda',\n",
       " 'donación',\n",
       " 'colaboración',\n",
       " 'etc',\n",
       " 'pretenda',\n",
       " 'cobrarme',\n",
       " 'dichos',\n",
       " 'conceptos',\n",
       " 'reitero',\n",
       " 'deseo',\n",
       " 'pagar',\n",
       " 'dineros',\n",
       " 'mas',\n",
       " 'donaciones',\n",
       " 'colaboraciones',\n",
       " 'ayudas',\n",
       " 'parecido',\n",
       " 'pues',\n",
       " 'parte',\n",
       " 'visto',\n",
       " 'gravemente',\n",
       " 'afectado',\n",
       " 'crisis',\n",
       " 'pandemica',\n",
       " 'recibido',\n",
       " 'familia',\n",
       " 'suscrito',\n",
       " 'ningún',\n",
       " 'tipo',\n",
       " 'económica',\n",
       " 'exijo']"
      ]
     },
     "execution_count": 118,
     "metadata": {},
     "output_type": "execute_result"
    }
   ],
   "source": [
    "random_seed_text = text_sequences[random_pick]\n",
    "random_seed_text"
   ]
  },
  {
   "cell_type": "code",
   "execution_count": 119,
   "metadata": {},
   "outputs": [
    {
     "data": {
      "text/plain": [
       "'usan permito solicitar siguiente haga descuento valores pagado empresa deberá ver reflejado factura próximo mes decir julio exonere pago cualquier ayuda donación colaboración etc pretenda cobrarme dichos conceptos reitero deseo pagar dineros mas donaciones colaboraciones ayudas parecido pues parte visto gravemente afectado crisis pandemica recibido familia suscrito ningún tipo económica exijo'"
      ]
     },
     "execution_count": 119,
     "metadata": {},
     "output_type": "execute_result"
    }
   ],
   "source": [
    "seed_text = ' '.join(random_seed_text)\n",
    "seed_text"
   ]
  },
  {
   "cell_type": "code",
   "execution_count": 120,
   "metadata": {},
   "outputs": [
    {
     "data": {
      "text/plain": [
       "'apliquen ejecuten cobros autorizados recálcalo nuevo estudio lectura medidor cobro meses mayo junio indiscriminado solicito actualice promedio siga cobrando adelante realmente equilibre dicho empresa chec grupo epm intermedio representante legal persona autorizada respuesta fondo términos establecidos ley problema presentado residencia ubicada calle barrio chipre manizales apto cobro excesivo servicio energía'"
      ]
     },
     "execution_count": 120,
     "metadata": {},
     "output_type": "execute_result"
    }
   ],
   "source": [
    "## Se ejecuta la funcion aca con el modelo, el tokenizador ya guardado\n",
    "## la secuencia ya pre establecida, el texto semilla quese definió antes\n",
    "## y see quiere generar una sentencia de 25 palabras.\n",
    "##\n",
    "generate_text(model,tokenizer,seq_len,seed_text=seed_text,num_gen_words=50)"
   ]
  },
  {
   "cell_type": "code",
   "execution_count": 121,
   "metadata": {},
   "outputs": [],
   "source": [
    "## A ojo los registros no quedan tan mal. Se van a generar 1000 registros sintéticos\n",
    "## de 50 palabras de longitud.\n",
    "##\n",
    "#sintetic_text = []\n",
    "#for i in range(0, 1000):\n",
    "#    random_pick = random.randint(0,len(text_sequences))\n",
    "#    random_seed_text = text_sequences[random_pick]\n",
    "#    seed_text = ' '.join(random_seed_text)\n",
    "#    generated_text = generate_text(model,tokenizer,seq_len,seed_text=seed_text,num_gen_words=50)\n",
    "#    sintetic_text.append(generated_text)"
   ]
  },
  {
   "cell_type": "code",
   "execution_count": 122,
   "metadata": {},
   "outputs": [],
   "source": [
    "## vamos a guardar los registros sinteticos generados ya que siempre demora bastante en generarse\n",
    "##\n",
    "import csv\n",
    "\n",
    "#with open('recursos_sinteticos_1000.csv', 'w') as f:\n",
    "#    for item in sintetic_text:\n",
    "#        f.write(\"%s\\n\" % item)\n",
    "\n",
    "## Para cargar los registros sinteticos que se generaron anteriormente.\n",
    "sintetic_text = pd.read_csv('recursos_sinteticos_1000.csv', encoding='latin-1', header=None)"
   ]
  },
  {
   "cell_type": "code",
   "execution_count": 123,
   "metadata": {},
   "outputs": [
    {
     "data": {
      "text/plain": [
       "'mas doble existir alteraciones prte hacemos uso autorizo voluntariamente prestador público radico petición superservicios datos personales acue usuario presenta inconformidad pues cobro exagerado envío expediente sspd ser resuelto recurso apelación interpuesto señor ervin cardona ororzco resolución chec cliente manifiesta inconfromidad consumo cobrado pues habitos cambiado electrodomesticos buen recurso reposición subsidio'"
      ]
     },
     "execution_count": 123,
     "metadata": {},
     "output_type": "execute_result"
    }
   ],
   "source": [
    "sintetic_text[0][0]"
   ]
  },
  {
   "cell_type": "code",
   "execution_count": 124,
   "metadata": {},
   "outputs": [],
   "source": [
    "## juntamos los recursos con los existentes en el df\n",
    "##\n",
    "r = []\n",
    "for i in range(1000):\n",
    "    r.append('recurso')\n",
    "\n",
    "xtra = {'tipo_solicitud':r, 'OBSERVACION USUARIO':sintetic_text[0]}\n",
    "\n",
    "datos_recurso = datos_recurso.append(pd.DataFrame(xtra))"
   ]
  },
  {
   "cell_type": "code",
   "execution_count": 125,
   "metadata": {},
   "outputs": [
    {
     "data": {
      "text/html": [
       "<div>\n",
       "<style scoped>\n",
       "    .dataframe tbody tr th:only-of-type {\n",
       "        vertical-align: middle;\n",
       "    }\n",
       "\n",
       "    .dataframe tbody tr th {\n",
       "        vertical-align: top;\n",
       "    }\n",
       "\n",
       "    .dataframe thead th {\n",
       "        text-align: right;\n",
       "    }\n",
       "</style>\n",
       "<table border=\"1\" class=\"dataframe\">\n",
       "  <thead>\n",
       "    <tr style=\"text-align: right;\">\n",
       "      <th></th>\n",
       "      <th>tipo_solicitud</th>\n",
       "      <th>tipo_solicitud_1</th>\n",
       "      <th>OBSERVACION USUARIO</th>\n",
       "      <th>len_obs</th>\n",
       "    </tr>\n",
       "  </thead>\n",
       "  <tbody>\n",
       "    <tr>\n",
       "      <th>0</th>\n",
       "      <td>recurso</td>\n",
       "      <td>inconformidad con el consumo o produccion fact...</td>\n",
       "      <td>usuario encuentra acuerdo valores facturados o...</td>\n",
       "      <td>67.0</td>\n",
       "    </tr>\n",
       "    <tr>\n",
       "      <th>1</th>\n",
       "      <td>recurso</td>\n",
       "      <td>cobro por recuperacion de consumos</td>\n",
       "      <td>usuario trae recurso reposición apelación acto...</td>\n",
       "      <td>52.0</td>\n",
       "    </tr>\n",
       "    <tr>\n",
       "      <th>2</th>\n",
       "      <td>recurso</td>\n",
       "      <td>inconformidad con el consumo o produccion fact...</td>\n",
       "      <td>usuaria solicita revision pues deacuerdo factu...</td>\n",
       "      <td>73.0</td>\n",
       "    </tr>\n",
       "    <tr>\n",
       "      <th>3</th>\n",
       "      <td>recurso</td>\n",
       "      <td>inconformidad con el consumo o produccion fact...</td>\n",
       "      <td>usuario manifiesta justificacion consumos fact...</td>\n",
       "      <td>92.0</td>\n",
       "    </tr>\n",
       "    <tr>\n",
       "      <th>4</th>\n",
       "      <td>recurso</td>\n",
       "      <td>inconformidad con el consumo o produccion fact...</td>\n",
       "      <td>revision completa usuaria inconforme alto cons...</td>\n",
       "      <td>106.0</td>\n",
       "    </tr>\n",
       "    <tr>\n",
       "      <th>...</th>\n",
       "      <td>...</td>\n",
       "      <td>...</td>\n",
       "      <td>...</td>\n",
       "      <td>...</td>\n",
       "    </tr>\n",
       "    <tr>\n",
       "      <th>995</th>\n",
       "      <td>recurso</td>\n",
       "      <td>NaN</td>\n",
       "      <td>previa pues indica fuga detectada forma oportu...</td>\n",
       "      <td>NaN</td>\n",
       "    </tr>\n",
       "    <tr>\n",
       "      <th>996</th>\n",
       "      <td>recurso</td>\n",
       "      <td>NaN</td>\n",
       "      <td>siempre trabajado instructora virtual oficio d...</td>\n",
       "      <td>NaN</td>\n",
       "    </tr>\n",
       "    <tr>\n",
       "      <th>997</th>\n",
       "      <td>recurso</td>\n",
       "      <td>NaN</td>\n",
       "      <td>cuenta anterior expuesto informa cobro acorde ...</td>\n",
       "      <td>NaN</td>\n",
       "    </tr>\n",
       "    <tr>\n",
       "      <th>998</th>\n",
       "      <td>recurso</td>\n",
       "      <td>NaN</td>\n",
       "      <td>reclamo motivos hechos inicio emergencia sanit...</td>\n",
       "      <td>NaN</td>\n",
       "    </tr>\n",
       "    <tr>\n",
       "      <th>999</th>\n",
       "      <td>recurso</td>\n",
       "      <td>NaN</td>\n",
       "      <td>ustedes cuenta meses diciembre febrero hice ni...</td>\n",
       "      <td>NaN</td>\n",
       "    </tr>\n",
       "  </tbody>\n",
       "</table>\n",
       "<p>1542 rows × 4 columns</p>\n",
       "</div>"
      ],
      "text/plain": [
       "    tipo_solicitud                                   tipo_solicitud_1  \\\n",
       "0          recurso  inconformidad con el consumo o produccion fact...   \n",
       "1          recurso                 cobro por recuperacion de consumos   \n",
       "2          recurso  inconformidad con el consumo o produccion fact...   \n",
       "3          recurso  inconformidad con el consumo o produccion fact...   \n",
       "4          recurso  inconformidad con el consumo o produccion fact...   \n",
       "..             ...                                                ...   \n",
       "995        recurso                                                NaN   \n",
       "996        recurso                                                NaN   \n",
       "997        recurso                                                NaN   \n",
       "998        recurso                                                NaN   \n",
       "999        recurso                                                NaN   \n",
       "\n",
       "                                   OBSERVACION USUARIO  len_obs  \n",
       "0    usuario encuentra acuerdo valores facturados o...     67.0  \n",
       "1    usuario trae recurso reposición apelación acto...     52.0  \n",
       "2    usuaria solicita revision pues deacuerdo factu...     73.0  \n",
       "3    usuario manifiesta justificacion consumos fact...     92.0  \n",
       "4    revision completa usuaria inconforme alto cons...    106.0  \n",
       "..                                                 ...      ...  \n",
       "995  previa pues indica fuga detectada forma oportu...      NaN  \n",
       "996  siempre trabajado instructora virtual oficio d...      NaN  \n",
       "997  cuenta anterior expuesto informa cobro acorde ...      NaN  \n",
       "998  reclamo motivos hechos inicio emergencia sanit...      NaN  \n",
       "999  ustedes cuenta meses diciembre febrero hice ni...      NaN  \n",
       "\n",
       "[1542 rows x 4 columns]"
      ]
     },
     "execution_count": 125,
     "metadata": {},
     "output_type": "execute_result"
    }
   ],
   "source": [
    "datos_recurso"
   ]
  },
  {
   "cell_type": "code",
   "execution_count": 126,
   "metadata": {},
   "outputs": [],
   "source": [
    "## vamos a crear un nuevo df con todos los df depurados. \n",
    "##\n",
    "datos_pedidos = datos[datos['tipo_solicitud']=='pedidos/proyectos'][['tipo_solicitud', 'tipo_solicitud_1', 'OBSERVACION USUARIO']]\n",
    "datos_quejas = datos[datos['tipo_solicitud']=='queja'][['tipo_solicitud', 'tipo_solicitud_1', 'OBSERVACION USUARIO']]"
   ]
  },
  {
   "cell_type": "code",
   "execution_count": 127,
   "metadata": {},
   "outputs": [],
   "source": [
    "datos_md = pd.concat([datos_peticiones, datos_reclamo, datos_recurso, datos_pedidos, datos_quejas],\n",
    "                    names=['tipo_solicitud', 'tipo_solicitud_1', 'OBSERVACION USUARIO'],\n",
    "                    ignore_index=True)"
   ]
  },
  {
   "cell_type": "code",
   "execution_count": 128,
   "metadata": {},
   "outputs": [],
   "source": [
    "'''datos_md.to_csv('PQR_modelo.csv',\n",
    "                sep=',',\n",
    "                header=datos_md.columns,\n",
    "                index=False)'''"
   ]
  },
  {
   "cell_type": "code",
   "execution_count": 129,
   "metadata": {},
   "outputs": [
    {
     "data": {
      "text/plain": [
       "reclamo              10950\n",
       "peticion              6788\n",
       "pedidos/proyectos     5681\n",
       "queja                 3598\n",
       "recurso               1542\n",
       "Name: tipo_solicitud, dtype: int64"
      ]
     },
     "execution_count": 129,
     "metadata": {},
     "output_type": "execute_result"
    }
   ],
   "source": [
    "## el data frame con el se ensayará el nuevo modelo luce entonces así\n",
    "##\n",
    "datos_md['tipo_solicitud'].value_counts()"
   ]
  },
  {
   "cell_type": "markdown",
   "metadata": {},
   "source": [
    "Hasta acá se trabajó en el parte de exploración y preprocesamiento. Como resume, se trabajará con los siguientes registros:\n",
    "\n",
    "[Con estos se hizo la primera vez]\n",
    "- peticion             12854\n",
    "- reclamo              10950\n",
    "- pedidos/proyectos     5681\n",
    "- queja                 3598\n",
    "- recurso               1542\n",
    "\n",
    "[La segunda vez con estos]\n",
    "- peticion             6788\n",
    "- reclamo              5950\n",
    "- pedidos/proyectos    5681\n",
    "- queja                3598\n",
    "- recurso              1542\n",
    "\n"
   ]
  },
  {
   "cell_type": "markdown",
   "metadata": {},
   "source": [
    "### Entrenamiento del modelo"
   ]
  },
  {
   "cell_type": "markdown",
   "metadata": {},
   "source": [
    "En esta sección se entrenará una máquina de soporte vectorial con kernel lineal y un factor C= 10. La división de los datos se hace de forma aleatoria y estratificada.\n",
    "La extracción de caracteristicas se hizo con TF-IDF."
   ]
  },
  {
   "cell_type": "code",
   "execution_count": 175,
   "metadata": {},
   "outputs": [
    {
     "name": "stdout",
     "output_type": "stream",
     "text": [
      "El accuracy en entrenamiento es de 0.912\n"
     ]
    }
   ],
   "source": [
    "import pickle\n",
    "from sklearn.feature_extraction.text import TfidfVectorizer\n",
    "from sklearn.model_selection import train_test_split\n",
    "from sklearn.svm import LinearSVC\n",
    "from sklearn.svm import SVC\n",
    "from sklearn.pipeline import Pipeline\n",
    "from sklearn.decomposition import TruncatedSVD\n",
    "\n",
    "x = datos_md['OBSERVACION USUARIO']\n",
    "y = datos_md['tipo_solicitud']\n",
    "\n",
    "x_train, x_test, y_train, y_test = train_test_split(x, y, test_size=0.2, random_state=2022021, stratify=y)\n",
    "\n",
    "#text_clf = Pipeline([('tfidf', TfidfVectorizer()), ('svm', LinearSVC(C=10, random_state=1022021, max_iter=2000))])\n",
    "text_clf = Pipeline([('tfidf', TfidfVectorizer(ngram_range=(1,2), max_df=0.9, min_df=10)),\n",
    "                     ('svd', TruncatedSVD(n_components=250)),\n",
    "                     ('svm', LinearSVC(C=10, random_state=1022021, max_iter=2000))])\n",
    "#text_clf = Pipeline([('tfidf', TfidfVectorizer()), ('svm', SVC(C=100, kernel='rbf', random_state=10022021, max_iter=1000))])\n",
    "\n",
    "train_acc = text_clf.fit(x_train, y_train).score(x_train, y_train)\n",
    "\n",
    "# Acá sólo voy a cargar el modelo, porque ya lo he entrenado y lo tengo en un archivo llamado\n",
    "# 'LinearSCV_PQR.sav'. Entonces solo lo voy a cargar.\n",
    "\n",
    "#text_clf = pickle.load(open('LinearSCV_PQR.sav', 'rb'))\n",
    "#train_acc = text_clf.score(x_train, y_train)\n",
    "\n",
    "print(f\"El accuracy en entrenamiento es de {round(train_acc, 3)}\")"
   ]
  },
  {
   "cell_type": "code",
   "execution_count": 176,
   "metadata": {},
   "outputs": [
    {
     "name": "stdout",
     "output_type": "stream",
     "text": [
      "El accuracy en validación es de 0.907 (dif: 0.52%)\n"
     ]
    }
   ],
   "source": [
    "from sklearn import metrics\n",
    "\n",
    "predictions = text_clf.predict(x_test)\n",
    "test_acc = metrics.accuracy_score(y_test, predictions)\n",
    "\n",
    "print(f\"El accuracy en validación es de {round(test_acc, 3)} (dif: {round((train_acc-test_acc)*100, 2)}%)\")"
   ]
  },
  {
   "cell_type": "code",
   "execution_count": 177,
   "metadata": {},
   "outputs": [
    {
     "name": "stdout",
     "output_type": "stream",
     "text": [
      "                   precision    recall  f1-score   support\n",
      "\n",
      "pedidos/proyectos       0.89      0.91      0.90      1136\n",
      "         peticion       0.89      0.92      0.91      2571\n",
      "            queja       0.90      0.83      0.86       720\n",
      "          reclamo       0.94      0.93      0.93      2190\n",
      "          recurso       0.80      0.58      0.68       113\n",
      "\n",
      "         accuracy                           0.91      6730\n",
      "        macro avg       0.89      0.84      0.86      6730\n",
      "     weighted avg       0.91      0.91      0.91      6730\n",
      "\n"
     ]
    }
   ],
   "source": [
    "print(metrics.classification_report(y_test, predictions))"
   ]
  },
  {
   "cell_type": "code",
   "execution_count": 178,
   "metadata": {},
   "outputs": [
    {
     "name": "stdout",
     "output_type": "stream",
     "text": [
      "Precisión del clasificador: 90.68 \n",
      "\n",
      "Matriz de Confusión: \n",
      " [[1039   76   16    5    0]\n",
      " [  82 2373   29   77   10]\n",
      " [  31   64  598   24    3]\n",
      " [   8  132   20 2027    3]\n",
      " [   1   10    5   31   66]]\n"
     ]
    },
    {
     "data": {
      "text/plain": [
       "<AxesSubplot:>"
      ]
     },
     "execution_count": 178,
     "metadata": {},
     "output_type": "execute_result"
    },
    {
     "data": {
      "image/png": "[encoded data removed]",
      "text/plain": [
       "<Figure size 432x288 with 1 Axes>"
      ]
     },
     "metadata": {
      "needs_background": "light"
     },
     "output_type": "display_data"
    }
   ],
   "source": [
    "import seaborn as sns\n",
    "\n",
    "#Calculamos la precisión y mostramos la matriz de confusión\n",
    "acc = metrics.accuracy_score(y_test, predictions)\n",
    "mat = metrics.confusion_matrix(y_test, predictions)\n",
    "\n",
    "print (\"Precisión del clasificador: %.2f \" %(acc*100.0) )\n",
    "print (\"\\nMatriz de Confusión: \\n\", mat)\n",
    "\n",
    "#Esta es otra forma de ver la matriz de confusión\n",
    "sns.heatmap(mat, square=True, annot=True, fmt=\"d\", cbar=False, cmap=\"Blues\")"
   ]
  },
  {
   "cell_type": "code",
   "execution_count": 179,
   "metadata": {},
   "outputs": [
    {
     "name": "stdout",
     "output_type": "stream",
     "text": [
      "Accuracy: 92.27 (+/-0.79)\n"
     ]
    }
   ],
   "source": [
    "## Validación cruzada.\n",
    "#\n",
    "from sklearn import model_selection\n",
    "x_train_tfidf = TfidfVectorizer().fit_transform(x_train)\n",
    "\n",
    "kfold = model_selection.StratifiedKFold(n_splits=10)\n",
    "score = model_selection.cross_val_score(LinearSVC(C=1, random_state=1022021, max_iter=2000), x_train_tfidf, y_train, cv=kfold, scoring='accuracy')\n",
    "#score = model_selection.cross_val_score(SVC(C=10, kernel='rbf', random_state=10022021, max_iter=5000), x_train_tfidf, y_train, cv=kfold, scoring='accuracy')\n",
    "print(f\"Accuracy: {round(score.mean()*100, 2)} (+/-{round(score.std()*100, 2)})\")"
   ]
  },
  {
   "cell_type": "code",
   "execution_count": 180,
   "metadata": {},
   "outputs": [],
   "source": [
    "## para guardar el modelo entrenado\n",
    "#pickle.dump(text_clf, open('LinearSCV_3_PQR.sav', 'wb'))"
   ]
  },
  {
   "cell_type": "code",
   "execution_count": 183,
   "metadata": {},
   "outputs": [
    {
     "data": {
      "text/plain": [
       "(33649, 7334)"
      ]
     },
     "execution_count": 183,
     "metadata": {},
     "output_type": "execute_result"
    }
   ],
   "source": [
    "## Desde acá se explorarán las curvas PR y el AUC para cada tipo de solicitud.\n",
    "##\n",
    "#M = TfidfVectorizer().fit_transform(datos_md['OBSERVACION USUARIO'])\n",
    "M = TfidfVectorizer(ngram_range=(1,2), max_df=0.9, min_df=10).fit_transform(datos_md['OBSERVACION USUARIO'])\n",
    "M.shape"
   ]
  },
  {
   "cell_type": "code",
   "execution_count": 184,
   "metadata": {},
   "outputs": [],
   "source": [
    "tipo_sol_int = []\n",
    "for t in datos_md['tipo_solicitud']:\n",
    "    if t == 'peticion':\n",
    "        tipo_sol_int.append(0)\n",
    "    elif t == 'queja':\n",
    "        tipo_sol_int.append(1)\n",
    "    elif t == 'reclamo':\n",
    "        tipo_sol_int.append(2)\n",
    "    elif t == 'pedidos/proyectos':\n",
    "        tipo_sol_int.append(3)\n",
    "    else:\n",
    "        tipo_sol_int.append(4)\n"
   ]
  },
  {
   "cell_type": "code",
   "execution_count": 185,
   "metadata": {},
   "outputs": [],
   "source": [
    "datos_md['tipo_sol_int'] = tipo_sol_int"
   ]
  },
  {
   "cell_type": "code",
   "execution_count": 186,
   "metadata": {},
   "outputs": [
    {
     "data": {
      "text/html": [
       "<div>\n",
       "<style scoped>\n",
       "    .dataframe tbody tr th:only-of-type {\n",
       "        vertical-align: middle;\n",
       "    }\n",
       "\n",
       "    .dataframe tbody tr th {\n",
       "        vertical-align: top;\n",
       "    }\n",
       "\n",
       "    .dataframe thead th {\n",
       "        text-align: right;\n",
       "    }\n",
       "</style>\n",
       "<table border=\"1\" class=\"dataframe\">\n",
       "  <thead>\n",
       "    <tr style=\"text-align: right;\">\n",
       "      <th></th>\n",
       "      <th>tipo_solicitud</th>\n",
       "      <th>tipo_solicitud_1</th>\n",
       "      <th>OBSERVACION USUARIO</th>\n",
       "      <th>tipo_sol_int</th>\n",
       "    </tr>\n",
       "  </thead>\n",
       "  <tbody>\n",
       "    <tr>\n",
       "      <th>0</th>\n",
       "      <td>peticion</td>\n",
       "      <td>gestionar financiacion</td>\n",
       "      <td>solicita financiación adeudado</td>\n",
       "      <td>0</td>\n",
       "    </tr>\n",
       "    <tr>\n",
       "      <th>1</th>\n",
       "      <td>peticion</td>\n",
       "      <td>datos basicos</td>\n",
       "      <td>usuario solicita cambio nombre instalacion nue...</td>\n",
       "      <td>0</td>\n",
       "    </tr>\n",
       "    <tr>\n",
       "      <th>2</th>\n",
       "      <td>peticion</td>\n",
       "      <td>poda de arboles</td>\n",
       "      <td>realizar poda coordinar visita cel usuario sol...</td>\n",
       "      <td>0</td>\n",
       "    </tr>\n",
       "    <tr>\n",
       "      <th>3</th>\n",
       "      <td>peticion</td>\n",
       "      <td>pago de la factura de otro usuario</td>\n",
       "      <td>solicita pagados instalacion periodo error pre...</td>\n",
       "      <td>0</td>\n",
       "    </tr>\n",
       "    <tr>\n",
       "      <th>4</th>\n",
       "      <td>peticion</td>\n",
       "      <td>tarjeta somos (pfs)</td>\n",
       "      <td>usuario solicita nueva tarjeta pfs bloqueada d...</td>\n",
       "      <td>0</td>\n",
       "    </tr>\n",
       "    <tr>\n",
       "      <th>...</th>\n",
       "      <td>...</td>\n",
       "      <td>...</td>\n",
       "      <td>...</td>\n",
       "      <td>...</td>\n",
       "    </tr>\n",
       "    <tr>\n",
       "      <th>33644</th>\n",
       "      <td>queja</td>\n",
       "      <td>falla en la prestacion del servicio por contin...</td>\n",
       "      <td>usuaria inconforme servicio prestado chec debi...</td>\n",
       "      <td>1</td>\n",
       "    </tr>\n",
       "    <tr>\n",
       "      <th>33645</th>\n",
       "      <td>queja</td>\n",
       "      <td>inconformidad con el canal de atencion</td>\n",
       "      <td>desacuerdo respuesta entrego solicitud debido ...</td>\n",
       "      <td>1</td>\n",
       "    </tr>\n",
       "    <tr>\n",
       "      <th>33646</th>\n",
       "      <td>queja</td>\n",
       "      <td>falla en la prestacion del servicio por calidad</td>\n",
       "      <td>usuario solicita medio oficio escrito validaci...</td>\n",
       "      <td>1</td>\n",
       "    </tr>\n",
       "    <tr>\n",
       "      <th>33647</th>\n",
       "      <td>queja</td>\n",
       "      <td>falla en la prestacion del servicio por calidad</td>\n",
       "      <td>buenas tardes presente expresar inconformidad ...</td>\n",
       "      <td>1</td>\n",
       "    </tr>\n",
       "    <tr>\n",
       "      <th>33648</th>\n",
       "      <td>queja</td>\n",
       "      <td>falla en la prestacion del servicio por contin...</td>\n",
       "      <td>buenas tardes escribo nuevamente dado recibido...</td>\n",
       "      <td>1</td>\n",
       "    </tr>\n",
       "  </tbody>\n",
       "</table>\n",
       "<p>33649 rows × 4 columns</p>\n",
       "</div>"
      ],
      "text/plain": [
       "      tipo_solicitud                                   tipo_solicitud_1  \\\n",
       "0           peticion                             gestionar financiacion   \n",
       "1           peticion                                      datos basicos   \n",
       "2           peticion                                    poda de arboles   \n",
       "3           peticion                 pago de la factura de otro usuario   \n",
       "4           peticion                                tarjeta somos (pfs)   \n",
       "...              ...                                                ...   \n",
       "33644          queja  falla en la prestacion del servicio por contin...   \n",
       "33645          queja             inconformidad con el canal de atencion   \n",
       "33646          queja    falla en la prestacion del servicio por calidad   \n",
       "33647          queja    falla en la prestacion del servicio por calidad   \n",
       "33648          queja  falla en la prestacion del servicio por contin...   \n",
       "\n",
       "                                     OBSERVACION USUARIO  tipo_sol_int  \n",
       "0                         solicita financiación adeudado             0  \n",
       "1      usuario solicita cambio nombre instalacion nue...             0  \n",
       "2      realizar poda coordinar visita cel usuario sol...             0  \n",
       "3      solicita pagados instalacion periodo error pre...             0  \n",
       "4      usuario solicita nueva tarjeta pfs bloqueada d...             0  \n",
       "...                                                  ...           ...  \n",
       "33644  usuaria inconforme servicio prestado chec debi...             1  \n",
       "33645  desacuerdo respuesta entrego solicitud debido ...             1  \n",
       "33646  usuario solicita medio oficio escrito validaci...             1  \n",
       "33647  buenas tardes presente expresar inconformidad ...             1  \n",
       "33648  buenas tardes escribo nuevamente dado recibido...             1  \n",
       "\n",
       "[33649 rows x 4 columns]"
      ]
     },
     "execution_count": 186,
     "metadata": {},
     "output_type": "execute_result"
    }
   ],
   "source": [
    "datos_md"
   ]
  },
  {
   "cell_type": "code",
   "execution_count": 187,
   "metadata": {},
   "outputs": [
    {
     "data": {
      "text/plain": [
       "'with open(\\'PQR_modelo.csv\\', \\'w\\') as f:\\n    for item in datos_md:\\n        f.write(\"%s\\n\" % item)'"
      ]
     },
     "execution_count": 187,
     "metadata": {},
     "output_type": "execute_result"
    }
   ],
   "source": [
    "## Guardamos este data frame 'datos_md' para trabajaren el segundo nivel con este mismo\n",
    "##\n",
    "'''with open('PQR_modelo.csv', 'w') as f:\n",
    "    for item in datos_md:\n",
    "        f.write(\"%s\\n\" % item)'''"
   ]
  },
  {
   "cell_type": "code",
   "execution_count": 188,
   "metadata": {},
   "outputs": [
    {
     "data": {
      "text/plain": [
       "array([[1, 0, 0, 0, 0],\n",
       "       [1, 0, 0, 0, 0],\n",
       "       [1, 0, 0, 0, 0],\n",
       "       ...,\n",
       "       [0, 1, 0, 0, 0],\n",
       "       [0, 1, 0, 0, 0],\n",
       "       [0, 1, 0, 0, 0]])"
      ]
     },
     "execution_count": 188,
     "metadata": {},
     "output_type": "execute_result"
    }
   ],
   "source": [
    "from sklearn.preprocessing import label_binarize\n",
    "\n",
    "label_binarize(datos_md['tipo_sol_int'], classes=[0,1,2,3,4])"
   ]
  },
  {
   "cell_type": "code",
   "execution_count": 189,
   "metadata": {},
   "outputs": [
    {
     "name": "stdout",
     "output_type": "stream",
     "text": [
      "Average precision score, micro-averaged over all classes: 0.97\n"
     ]
    },
    {
     "data": {
      "image/png": "[encoded data removed]",
      "text/plain": [
       "<Figure size 504x576 with 1 Axes>"
      ]
     },
     "metadata": {
      "needs_background": "light"
     },
     "output_type": "display_data"
    }
   ],
   "source": [
    "## Curva PR y F1\n",
    "## La curva PR (precission-recall) es una opción apta para evaluar rendimiento de clasificadores\n",
    "## donde las clases estan desbalanceadas. esta medida nos pernite observar la relacion entre\n",
    "## la precision del clasificador y su sensibilidad.\n",
    "##\n",
    "from sklearn.preprocessing import label_binarize\n",
    "from sklearn.multiclass import OneVsRestClassifier\n",
    "from sklearn.metrics import precision_recall_curve\n",
    "from sklearn.metrics import average_precision_score\n",
    "from itertools import cycle\n",
    "\n",
    "#x = TfidfVectorizer().fit_transform(datos_md['OBSERVACION USUARIO'])\n",
    "x = TfidfVectorizer(ngram_range=(1,2), max_df=0.9, min_df=10).fit_transform(datos_md['OBSERVACION USUARIO'])\n",
    "\n",
    "y = label_binarize(datos_md['tipo_sol_int'], classes=[0,1,2,3,4])\n",
    "n_classes = 5\n",
    "\n",
    "# shuffle and split training and test sets\n",
    "x_train, x_test, y_train, y_test =\\\n",
    "    train_test_split(x, y, test_size=0.33, random_state=0, stratify=y)\n",
    "\n",
    "# ROC y AUC solo sirven en espacios de clasificacion binarios, por esta razon se \n",
    "# entrena un clasificador binario uno vs todos\n",
    "clf = OneVsRestClassifier(LinearSVC(C=1, random_state=1022021, max_iter=2000))\n",
    "#clf = OneVsRestClassifier(SVC(C=10, kernel='rbf', random_state=10022021, max_iter=5000))\n",
    "y_score = clf.fit(x_train, y_train).decision_function(x_test)\n",
    "\n",
    "# For each class\n",
    "precision = dict()\n",
    "recall = dict()\n",
    "average_precision = dict()\n",
    "for i in range(n_classes):\n",
    "    precision[i], recall[i], _ = precision_recall_curve(y_test[:, i],\n",
    "                                                        y_score[:, i])\n",
    "    average_precision[i] = average_precision_score(y_test[:, i], y_score[:, i])\n",
    "\n",
    "# A \"micro-average\": quantifying score on all classes jointly\n",
    "precision[\"micro\"], recall[\"micro\"], _ = precision_recall_curve(y_test.ravel(),\n",
    "    y_score.ravel())\n",
    "average_precision[\"micro\"] = average_precision_score(y_test, y_score,\n",
    "                                                     average=\"micro\")\n",
    "print('Average precision score, micro-averaged over all classes: {0:0.2f}'\n",
    "      .format(average_precision[\"micro\"]))\n",
    "\n",
    "# setup plot details\n",
    "colors = cycle(['navy', 'turquoise', 'darkorange', 'cornflowerblue', 'teal'])\n",
    "\n",
    "plt.figure(figsize=(7, 8))\n",
    "f_scores = np.linspace(0.2, 0.8, num=4)\n",
    "lines = []\n",
    "labels = []\n",
    "for f_score in f_scores:\n",
    "    x = np.linspace(0.01, 1)\n",
    "    y = f_score * x / (2 * x - f_score)\n",
    "    l, = plt.plot(x[y >= 0], y[y >= 0], color='gray', alpha=0.2)\n",
    "    plt.annotate('f1={0:0.1f}'.format(f_score), xy=(0.9, y[45] + 0.02))\n",
    "\n",
    "lines.append(l)\n",
    "labels.append('iso-f1 curves')\n",
    "l, = plt.plot(recall[\"micro\"], precision[\"micro\"], color='gold', lw=2)\n",
    "lines.append(l)\n",
    "labels.append('micro-average Precision-recall (area = {0:0.2f})'\n",
    "              ''.format(average_precision[\"micro\"]))\n",
    "\n",
    "for i, color in zip(range(n_classes), colors):\n",
    "    l, = plt.plot(recall[i], precision[i], color=color, lw=2)\n",
    "    lines.append(l)\n",
    "    labels.append('Precision-recall for class {0} (area = {1:0.2f})'\n",
    "                  ''.format(i, average_precision[i]))\n",
    "\n",
    "fig = plt.gcf()\n",
    "fig.subplots_adjust(bottom=0.25)\n",
    "plt.xlim([0.0, 1.0])\n",
    "plt.ylim([0.0, 1.05])\n",
    "plt.xlabel('Recall')\n",
    "plt.ylabel('Precision')\n",
    "plt.title('Extension of Precision-Recall curve to multi-class')\n",
    "plt.legend(lines, labels, loc=(0, -.38), prop=dict(size=10))\n",
    "\n",
    "\n",
    "plt.show()"
   ]
  },
  {
   "cell_type": "code",
   "execution_count": 190,
   "metadata": {},
   "outputs": [
    {
     "data": {
      "text/plain": [
       "'quiero envien copia factura correo electronico'"
      ]
     },
     "execution_count": 190,
     "metadata": {},
     "output_type": "execute_result"
    }
   ],
   "source": [
    "## Ensayo Peticion\n",
    "text_ensayo = text_normalization('quiero que me envien una copia de la factura al correo electronico')\n",
    "text_ensayo"
   ]
  },
  {
   "cell_type": "code",
   "execution_count": 191,
   "metadata": {},
   "outputs": [
    {
     "data": {
      "text/plain": [
       "array(['peticion'], dtype=object)"
      ]
     },
     "execution_count": 191,
     "metadata": {},
     "output_type": "execute_result"
    }
   ],
   "source": [
    "text_clf.predict([text_ensayo])"
   ]
  },
  {
   "cell_type": "code",
   "execution_count": 192,
   "metadata": {},
   "outputs": [
    {
     "data": {
      "text/plain": [
       "'cobros luz incrementado ultimo mes'"
      ]
     },
     "execution_count": 192,
     "metadata": {},
     "output_type": "execute_result"
    }
   ],
   "source": [
    "## Ensayo Reclamo\n",
    "text_ensayo = text_normalization('por que los cobros de la luz se han incrementado tanto en el ultimo mes')\n",
    "text_ensayo"
   ]
  },
  {
   "cell_type": "code",
   "execution_count": 193,
   "metadata": {},
   "outputs": [
    {
     "data": {
      "text/plain": [
       "array(['reclamo'], dtype=object)"
      ]
     },
     "execution_count": 193,
     "metadata": {},
     "output_type": "execute_result"
    }
   ],
   "source": [
    "text_clf.predict([text_ensayo])"
   ]
  },
  {
   "cell_type": "code",
   "execution_count": 194,
   "metadata": {},
   "outputs": [
    {
     "data": {
      "text/plain": [
       "'quisiera removieran poste luz lado casa construiré segunda planta obstruye obra'"
      ]
     },
     "execution_count": 194,
     "metadata": {},
     "output_type": "execute_result"
    }
   ],
   "source": [
    "## Ensayo Pedidos/Proyectos\n",
    "text_ensayo = text_normalization('quisiera que removieran el poste de luz que hay al lado de mi casa ya que construiré una segunda planta y este obstruye la obra')\n",
    "text_ensayo"
   ]
  },
  {
   "cell_type": "code",
   "execution_count": 195,
   "metadata": {},
   "outputs": [
    {
     "data": {
      "text/plain": [
       "array(['pedidos/proyectos'], dtype=object)"
      ]
     },
     "execution_count": 195,
     "metadata": {},
     "output_type": "execute_result"
    }
   ],
   "source": [
    "text_clf.predict([text_ensayo]) "
   ]
  },
  {
   "cell_type": "code",
   "execution_count": 196,
   "metadata": {},
   "outputs": [
    {
     "data": {
      "text/plain": [
       "'inconformidad respecto servicio luz va muchas veces mes'"
      ]
     },
     "execution_count": 196,
     "metadata": {},
     "output_type": "execute_result"
    }
   ],
   "source": [
    "## Ensayo Queja\n",
    "text_ensayo = text_normalization('Tengo una inconformidad respecto al servicio, la luz se va muchas veces al mes')\n",
    "text_ensayo"
   ]
  },
  {
   "cell_type": "code",
   "execution_count": 197,
   "metadata": {},
   "outputs": [
    {
     "data": {
      "text/plain": [
       "array(['queja'], dtype=object)"
      ]
     },
     "execution_count": 197,
     "metadata": {},
     "output_type": "execute_result"
    }
   ],
   "source": [
    "text_clf.predict([text_ensayo])"
   ]
  },
  {
   "cell_type": "code",
   "execution_count": 198,
   "metadata": {},
   "outputs": [
    {
     "data": {
      "text/plain": [
       "'encuentro acuerdo respuesta reclamo quiero poner recurso reposición'"
      ]
     },
     "execution_count": 198,
     "metadata": {},
     "output_type": "execute_result"
    }
   ],
   "source": [
    "## Ensayo Recurso\n",
    "text_ensayo = text_normalization('no me encuentro de acuerdo con la respuesta al reclamo quiero poner un recurso de reposición')\n",
    "text_ensayo"
   ]
  },
  {
   "cell_type": "code",
   "execution_count": 199,
   "metadata": {},
   "outputs": [
    {
     "data": {
      "text/plain": [
       "array(['recurso'], dtype=object)"
      ]
     },
     "execution_count": 199,
     "metadata": {},
     "output_type": "execute_result"
    }
   ],
   "source": [
    "text_clf.predict([text_ensayo])"
   ]
  },
  {
   "cell_type": "code",
   "execution_count": null,
   "metadata": {},
   "outputs": [],
   "source": []
  }
 ],
 "metadata": {
  "kernelspec": {
   "display_name": "Python 3",
   "language": "python",
   "name": "python3"
  },
  "language_info": {
   "codemirror_mode": {
    "name": "ipython",
    "version": 3
   },
   "file_extension": ".py",
   "mimetype": "text/x-python",
   "name": "python",
   "nbconvert_exporter": "python",
   "pygments_lexer": "ipython3",
   "version": "3.8.5"
  }
 },
 "nbformat": 4,
 "nbformat_minor": 4
}
