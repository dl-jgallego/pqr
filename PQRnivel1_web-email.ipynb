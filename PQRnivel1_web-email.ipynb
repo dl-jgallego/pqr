{
 "cells": [
  {
   "cell_type": "markdown",
   "metadata": {},
   "source": [
    "# Modelo de Clasificación PQR nivel 1. Fuente: web, email"
   ]
  },
  {
   "cell_type": "markdown",
   "metadata": {},
   "source": [
    "A comparación del otro modelo entrenado, este sólo toma como fuente las PQR de la web y email. "
   ]
  },
  {
   "cell_type": "markdown",
   "metadata": {},
   "source": [
    "### Exploración y Preprocesamiento"
   ]
  },
  {
   "cell_type": "markdown",
   "metadata": {},
   "source": [
    "En esta primera sección se explorará el set de datos y se preprocesarán los textos con los cuales se entrenará el modelo"
   ]
  },
  {
   "cell_type": "code",
   "execution_count": 177,
   "metadata": {},
   "outputs": [],
   "source": [
    "## importamos las librerias\n",
    "##\n",
    "import pandas as pd\n",
    "import numpy as np\n",
    "import matplotlib.pyplot as plt\n",
    "import seaborn as sns\n",
    "%matplotlib inline"
   ]
  },
  {
   "cell_type": "code",
   "execution_count": 178,
   "metadata": {},
   "outputs": [
    {
     "name": "stderr",
     "output_type": "stream",
     "text": [
      "C:\\Users\\juand\\Anaconda3\\lib\\site-packages\\IPython\\core\\interactiveshell.py:3146: DtypeWarning: Columns (2,10,11,14,15,18,19,20,25,26) have mixed types.Specify dtype option on import or set low_memory=False.\n",
      "  has_raised = await self.run_ast_nodes(code_ast.body, cell_name,\n"
     ]
    }
   ],
   "source": [
    "df = pd.read_csv('PQRs_2018-nov2020.csv', sep=';', encoding='utf-8')"
   ]
  },
  {
   "cell_type": "code",
   "execution_count": 179,
   "metadata": {},
   "outputs": [
    {
     "data": {
      "text/html": [
       "<div>\n",
       "<style scoped>\n",
       "    .dataframe tbody tr th:only-of-type {\n",
       "        vertical-align: middle;\n",
       "    }\n",
       "\n",
       "    .dataframe tbody tr th {\n",
       "        vertical-align: top;\n",
       "    }\n",
       "\n",
       "    .dataframe thead th {\n",
       "        text-align: right;\n",
       "    }\n",
       "</style>\n",
       "<table border=\"1\" class=\"dataframe\">\n",
       "  <thead>\n",
       "    <tr style=\"text-align: right;\">\n",
       "      <th></th>\n",
       "      <th>ID</th>\n",
       "      <th>forma_requerimiento</th>\n",
       "      <th>identificacion</th>\n",
       "      <th>solicitante</th>\n",
       "      <th>dir_solicitante</th>\n",
       "      <th>tipo_solicitud</th>\n",
       "      <th>cuenta</th>\n",
       "      <th>fec_solicitud</th>\n",
       "      <th>fec_vencmto</th>\n",
       "      <th>fec_rpta</th>\n",
       "      <th>...</th>\n",
       "      <th>TELEFONO</th>\n",
       "      <th>CELULAR</th>\n",
       "      <th>EMAIL</th>\n",
       "      <th>CIRCUITO</th>\n",
       "      <th>NODO</th>\n",
       "      <th>UBICACION</th>\n",
       "      <th>CLASE_SERVICIO</th>\n",
       "      <th>ANIOMES</th>\n",
       "      <th>Tipo fuente</th>\n",
       "      <th>DOCUMENTO</th>\n",
       "    </tr>\n",
       "  </thead>\n",
       "  <tbody>\n",
       "    <tr>\n",
       "      <th>0</th>\n",
       "      <td>PQR_201901_1</td>\n",
       "      <td>verbal</td>\n",
       "      <td>25161887</td>\n",
       "      <td>OFIR DE MARIA CORREA CORREA</td>\n",
       "      <td>CRA 16 18 06</td>\n",
       "      <td>peticion</td>\n",
       "      <td>101202096</td>\n",
       "      <td>8/01/2019</td>\n",
       "      <td>28/01/2019</td>\n",
       "      <td>8/01/2019</td>\n",
       "      <td>...</td>\n",
       "      <td>NaN</td>\n",
       "      <td>3.00981e+09</td>\n",
       "      <td>NaN</td>\n",
       "      <td>HER23L12</td>\n",
       "      <td>D20299</td>\n",
       "      <td>U</td>\n",
       "      <td>Residencial</td>\n",
       "      <td>201901</td>\n",
       "      <td>PQR</td>\n",
       "      <td>NaN</td>\n",
       "    </tr>\n",
       "    <tr>\n",
       "      <th>1</th>\n",
       "      <td>PQR_201901_2</td>\n",
       "      <td>verbal</td>\n",
       "      <td>25155655</td>\n",
       "      <td>AURA ALICIA MEJIA CUERVO</td>\n",
       "      <td>CLL 19 15 74</td>\n",
       "      <td>peticion</td>\n",
       "      <td>101249151</td>\n",
       "      <td>4/01/2019</td>\n",
       "      <td>25/01/2019</td>\n",
       "      <td>4/01/2019</td>\n",
       "      <td>...</td>\n",
       "      <td>3.64131e+06</td>\n",
       "      <td>NaN</td>\n",
       "      <td>NaN</td>\n",
       "      <td>HER23L15</td>\n",
       "      <td>D23538</td>\n",
       "      <td>U</td>\n",
       "      <td>Residencial</td>\n",
       "      <td>201901</td>\n",
       "      <td>PQR</td>\n",
       "      <td>NaN</td>\n",
       "    </tr>\n",
       "    <tr>\n",
       "      <th>2</th>\n",
       "      <td>PQR_201901_3</td>\n",
       "      <td>verbal</td>\n",
       "      <td>25161763</td>\n",
       "      <td>AMPARO  QUICENO GARCIA</td>\n",
       "      <td>CLL 20 15 15 PSO 2</td>\n",
       "      <td>peticion</td>\n",
       "      <td>101274963</td>\n",
       "      <td>16/01/2019</td>\n",
       "      <td>5/02/2019</td>\n",
       "      <td>16/01/2019</td>\n",
       "      <td>...</td>\n",
       "      <td>NaN</td>\n",
       "      <td>3.11739e+09</td>\n",
       "      <td>NaN</td>\n",
       "      <td>HER23L15</td>\n",
       "      <td>D23553</td>\n",
       "      <td>U</td>\n",
       "      <td>Residencial</td>\n",
       "      <td>201901</td>\n",
       "      <td>PQR</td>\n",
       "      <td>NaN</td>\n",
       "    </tr>\n",
       "  </tbody>\n",
       "</table>\n",
       "<p>3 rows × 35 columns</p>\n",
       "</div>"
      ],
      "text/plain": [
       "             ID forma_requerimiento identificacion  \\\n",
       "0  PQR_201901_1              verbal       25161887   \n",
       "1  PQR_201901_2              verbal       25155655   \n",
       "2  PQR_201901_3              verbal       25161763   \n",
       "\n",
       "                   solicitante     dir_solicitante tipo_solicitud     cuenta  \\\n",
       "0  OFIR DE MARIA CORREA CORREA        CRA 16 18 06       peticion  101202096   \n",
       "1     AURA ALICIA MEJIA CUERVO        CLL 19 15 74       peticion  101249151   \n",
       "2       AMPARO  QUICENO GARCIA  CLL 20 15 15 PSO 2       peticion  101274963   \n",
       "\n",
       "  fec_solicitud fec_vencmto    fec_rpta  ...     TELEFONO      CELULAR EMAIL  \\\n",
       "0     8/01/2019  28/01/2019   8/01/2019  ...          NaN  3.00981e+09   NaN   \n",
       "1     4/01/2019  25/01/2019   4/01/2019  ...  3.64131e+06          NaN   NaN   \n",
       "2    16/01/2019   5/02/2019  16/01/2019  ...          NaN  3.11739e+09   NaN   \n",
       "\n",
       "   CIRCUITO    NODO UBICACION CLASE_SERVICIO ANIOMES Tipo fuente DOCUMENTO  \n",
       "0  HER23L12  D20299         U    Residencial  201901         PQR       NaN  \n",
       "1  HER23L15  D23538         U    Residencial  201901         PQR       NaN  \n",
       "2  HER23L15  D23553         U    Residencial  201901         PQR       NaN  \n",
       "\n",
       "[3 rows x 35 columns]"
      ]
     },
     "execution_count": 179,
     "metadata": {},
     "output_type": "execute_result"
    }
   ],
   "source": [
    "df.head(3)"
   ]
  },
  {
   "cell_type": "code",
   "execution_count": 180,
   "metadata": {},
   "outputs": [
    {
     "data": {
      "text/plain": [
       "verbal                       575254\n",
       "telefonico                    57263\n",
       "escrito                        8530\n",
       "pagina web                     6238\n",
       "e-mail                         1607\n",
       "asesor remoto                   762\n",
       "chat                            408\n",
       "otros medios electronicos        92\n",
       "sspd                             17\n",
       "interventoria                     3\n",
       "Name: forma_requerimiento, dtype: int64"
      ]
     },
     "execution_count": 180,
     "metadata": {},
     "output_type": "execute_result"
    }
   ],
   "source": [
    "df['forma_requerimiento'].value_counts()"
   ]
  },
  {
   "cell_type": "code",
   "execution_count": 181,
   "metadata": {},
   "outputs": [
    {
     "data": {
      "text/html": [
       "<div>\n",
       "<style scoped>\n",
       "    .dataframe tbody tr th:only-of-type {\n",
       "        vertical-align: middle;\n",
       "    }\n",
       "\n",
       "    .dataframe tbody tr th {\n",
       "        vertical-align: top;\n",
       "    }\n",
       "\n",
       "    .dataframe thead th {\n",
       "        text-align: right;\n",
       "    }\n",
       "</style>\n",
       "<table border=\"1\" class=\"dataframe\">\n",
       "  <thead>\n",
       "    <tr style=\"text-align: right;\">\n",
       "      <th></th>\n",
       "      <th>ID</th>\n",
       "      <th>forma_requerimiento</th>\n",
       "      <th>identificacion</th>\n",
       "      <th>solicitante</th>\n",
       "      <th>dir_solicitante</th>\n",
       "      <th>tipo_solicitud</th>\n",
       "      <th>cuenta</th>\n",
       "      <th>fec_solicitud</th>\n",
       "      <th>fec_vencmto</th>\n",
       "      <th>fec_rpta</th>\n",
       "      <th>...</th>\n",
       "      <th>TELEFONO</th>\n",
       "      <th>CELULAR</th>\n",
       "      <th>EMAIL</th>\n",
       "      <th>CIRCUITO</th>\n",
       "      <th>NODO</th>\n",
       "      <th>UBICACION</th>\n",
       "      <th>CLASE_SERVICIO</th>\n",
       "      <th>ANIOMES</th>\n",
       "      <th>Tipo fuente</th>\n",
       "      <th>DOCUMENTO</th>\n",
       "    </tr>\n",
       "  </thead>\n",
       "  <tbody>\n",
       "    <tr>\n",
       "      <th>0</th>\n",
       "      <td>PQR_201901_1887</td>\n",
       "      <td>pagina web</td>\n",
       "      <td>10082846</td>\n",
       "      <td>DIEGO  FRANCO BARCO</td>\n",
       "      <td>BRR MARACAY MNZ B CAS 4</td>\n",
       "      <td>peticion</td>\n",
       "      <td>152991693</td>\n",
       "      <td>28/01/2019</td>\n",
       "      <td>15/02/2019</td>\n",
       "      <td>31/01/2019</td>\n",
       "      <td>...</td>\n",
       "      <td>3.30308e+06</td>\n",
       "      <td>NaN</td>\n",
       "      <td>NaN</td>\n",
       "      <td>CAM23L12</td>\n",
       "      <td>D12071</td>\n",
       "      <td>U</td>\n",
       "      <td>Residencial</td>\n",
       "      <td>201901</td>\n",
       "      <td>PQR</td>\n",
       "      <td>NaN</td>\n",
       "    </tr>\n",
       "    <tr>\n",
       "      <th>1</th>\n",
       "      <td>PQR_201901_1912</td>\n",
       "      <td>pagina web</td>\n",
       "      <td>51655066</td>\n",
       "      <td>LUZ MARINA REYES</td>\n",
       "      <td>MNZ 27 CAS 40 CAMPESTRE D</td>\n",
       "      <td>queja</td>\n",
       "      <td>153997234</td>\n",
       "      <td>28/12/2018</td>\n",
       "      <td>21/01/2019</td>\n",
       "      <td>10/01/2019</td>\n",
       "      <td>...</td>\n",
       "      <td>6.88633e+07</td>\n",
       "      <td>3.18304e+09</td>\n",
       "      <td>NaN</td>\n",
       "      <td>CAM23L12</td>\n",
       "      <td>D12032</td>\n",
       "      <td>U</td>\n",
       "      <td>Residencial</td>\n",
       "      <td>201901</td>\n",
       "      <td>PQR</td>\n",
       "      <td>NaN</td>\n",
       "    </tr>\n",
       "    <tr>\n",
       "      <th>2</th>\n",
       "      <td>PQR_201901_1936</td>\n",
       "      <td>pagina web</td>\n",
       "      <td>30285814</td>\n",
       "      <td>AMPARO  CASTRO OSORIO</td>\n",
       "      <td>DIG 19A 8T 31 CAMPESTRE B</td>\n",
       "      <td>peticion</td>\n",
       "      <td>154952692</td>\n",
       "      <td>4/01/2019</td>\n",
       "      <td>25/01/2019</td>\n",
       "      <td>16/01/2019</td>\n",
       "      <td>...</td>\n",
       "      <td>6.32201e+07</td>\n",
       "      <td>3.14475e+09</td>\n",
       "      <td>NaN</td>\n",
       "      <td>CAM23L12</td>\n",
       "      <td>D12150</td>\n",
       "      <td>U</td>\n",
       "      <td>Residencial</td>\n",
       "      <td>201901</td>\n",
       "      <td>PQR</td>\n",
       "      <td>NaN</td>\n",
       "    </tr>\n",
       "  </tbody>\n",
       "</table>\n",
       "<p>3 rows × 35 columns</p>\n",
       "</div>"
      ],
      "text/plain": [
       "                ID forma_requerimiento identificacion            solicitante  \\\n",
       "0  PQR_201901_1887          pagina web       10082846    DIEGO  FRANCO BARCO   \n",
       "1  PQR_201901_1912          pagina web       51655066       LUZ MARINA REYES   \n",
       "2  PQR_201901_1936          pagina web       30285814  AMPARO  CASTRO OSORIO   \n",
       "\n",
       "             dir_solicitante tipo_solicitud     cuenta fec_solicitud  \\\n",
       "0    BRR MARACAY MNZ B CAS 4       peticion  152991693    28/01/2019   \n",
       "1  MNZ 27 CAS 40 CAMPESTRE D          queja  153997234    28/12/2018   \n",
       "2  DIG 19A 8T 31 CAMPESTRE B       peticion  154952692     4/01/2019   \n",
       "\n",
       "  fec_vencmto    fec_rpta  ...     TELEFONO      CELULAR EMAIL  CIRCUITO  \\\n",
       "0  15/02/2019  31/01/2019  ...  3.30308e+06          NaN   NaN  CAM23L12   \n",
       "1  21/01/2019  10/01/2019  ...  6.88633e+07  3.18304e+09   NaN  CAM23L12   \n",
       "2  25/01/2019  16/01/2019  ...  6.32201e+07  3.14475e+09   NaN  CAM23L12   \n",
       "\n",
       "     NODO UBICACION CLASE_SERVICIO ANIOMES Tipo fuente DOCUMENTO  \n",
       "0  D12071         U    Residencial  201901         PQR       NaN  \n",
       "1  D12032         U    Residencial  201901         PQR       NaN  \n",
       "2  D12150         U    Residencial  201901         PQR       NaN  \n",
       "\n",
       "[3 rows x 35 columns]"
      ]
     },
     "execution_count": 181,
     "metadata": {},
     "output_type": "execute_result"
    }
   ],
   "source": [
    "df = pd.concat([df[df['forma_requerimiento']=='pagina web'], df[df['forma_requerimiento']=='e-mail']], ignore_index=True)\n",
    "df.head(3)"
   ]
  },
  {
   "cell_type": "code",
   "execution_count": 182,
   "metadata": {},
   "outputs": [
    {
     "name": "stdout",
     "output_type": "stream",
     "text": [
      "<class 'pandas.core.frame.DataFrame'>\n",
      "RangeIndex: 7845 entries, 0 to 7844\n",
      "Data columns (total 35 columns):\n",
      " #   Column                 Non-Null Count  Dtype  \n",
      "---  ------                 --------------  -----  \n",
      " 0   ID                     7845 non-null   object \n",
      " 1   forma_requerimiento    7845 non-null   object \n",
      " 2   identificacion         7842 non-null   object \n",
      " 3   solicitante            7842 non-null   object \n",
      " 4   dir_solicitante        7842 non-null   object \n",
      " 5   tipo_solicitud         7845 non-null   object \n",
      " 6   cuenta                 7845 non-null   int64  \n",
      " 7   fec_solicitud          7845 non-null   object \n",
      " 8   fec_vencmto            7845 non-null   object \n",
      " 9   fec_rpta               7845 non-null   object \n",
      " 10  clase_inicial          1518 non-null   object \n",
      " 11  estrato                7845 non-null   object \n",
      " 12  a_favor_de             7845 non-null   object \n",
      " 13  tipo_solicitud_1       7845 non-null   object \n",
      " 14  documento              1407 non-null   object \n",
      " 15  imputabilidad          7424 non-null   object \n",
      " 16  causa_final            7835 non-null   object \n",
      " 17  responde               7774 non-null   object \n",
      " 18  OBSERVACION USUARIO    7164 non-null   object \n",
      " 19  observacion_respuesta  1528 non-null   object \n",
      " 20  SEGMENTO               4369 non-null   object \n",
      " 21  TIPO_DOC               7840 non-null   object \n",
      " 22  NOMBRE                 7840 non-null   object \n",
      " 23  DIRECCION              7840 non-null   object \n",
      " 24  MUNICIPIO              7840 non-null   object \n",
      " 25  TELEFONO               6173 non-null   object \n",
      " 26  CELULAR                6005 non-null   object \n",
      " 27  EMAIL                  1933 non-null   object \n",
      " 28  CIRCUITO               7809 non-null   object \n",
      " 29  NODO                   7840 non-null   object \n",
      " 30  UBICACION              7840 non-null   object \n",
      " 31  CLASE_SERVICIO         7840 non-null   object \n",
      " 32  ANIOMES                7845 non-null   int64  \n",
      " 33  Tipo fuente            7845 non-null   object \n",
      " 34  DOCUMENTO              420 non-null    float64\n",
      "dtypes: float64(1), int64(2), object(32)\n",
      "memory usage: 2.1+ MB\n"
     ]
    }
   ],
   "source": [
    "df.info()"
   ]
  },
  {
   "cell_type": "code",
   "execution_count": 183,
   "metadata": {},
   "outputs": [
    {
     "data": {
      "text/plain": [
       "7845"
      ]
     },
     "execution_count": 183,
     "metadata": {},
     "output_type": "execute_result"
    }
   ],
   "source": [
    "## cantidad total de filas\n",
    "## \n",
    "len(df)"
   ]
  },
  {
   "cell_type": "code",
   "execution_count": 184,
   "metadata": {},
   "outputs": [],
   "source": [
    "df['tipo_solicitud'] = df['tipo_solicitud'].map(lambda x: 'recurso' if x=='recurso reposicion en subsidio de apelacion' or x=='recurso de reposicion' else x)"
   ]
  },
  {
   "cell_type": "code",
   "execution_count": 185,
   "metadata": {},
   "outputs": [],
   "source": [
    "df_copy = df.copy()"
   ]
  },
  {
   "cell_type": "code",
   "execution_count": 186,
   "metadata": {},
   "outputs": [
    {
     "data": {
      "text/plain": [
       "False    7164\n",
       "True      681\n",
       "Name: OBSERVACION USUARIO, dtype: int64"
      ]
     },
     "execution_count": 186,
     "metadata": {},
     "output_type": "execute_result"
    }
   ],
   "source": [
    "## Eliminacion de NaN\n",
    "## \n",
    "df_copy['OBSERVACION USUARIO'].isna().value_counts()"
   ]
  },
  {
   "cell_type": "code",
   "execution_count": 187,
   "metadata": {},
   "outputs": [],
   "source": [
    "## Eliminacion de elementos sin sentido\n",
    "##\n",
    "df_copy['OBSERVACION USUARIO'] = df_copy['OBSERVACION USUARIO'].map(lambda x: str(x))\n",
    "df_copy['OBSERVACION USUARIO'] = df_copy['OBSERVACION USUARIO'].map(lambda x: x.lower())\n",
    "len_obs_usuario = [(i, len(o)) for i, o in enumerate(df_copy['OBSERVACION USUARIO'])]"
   ]
  },
  {
   "cell_type": "code",
   "execution_count": 188,
   "metadata": {},
   "outputs": [],
   "source": [
    "## Eliminacion de elementos sin sentido\n",
    "## lista con las observaciones que tengan una longitud de observación menor a\n",
    "## x caracteres.\n",
    "##\n",
    "len_menor_x = [(i,o) for i, o in sorted(len_obs_usuario, key=lambda t: t[1]) if o <=20]\n",
    "index_menor_x = [i for i, o in len_menor_x]"
   ]
  },
  {
   "cell_type": "code",
   "execution_count": 189,
   "metadata": {},
   "outputs": [
    {
     "data": {
      "text/plain": [
       "766"
      ]
     },
     "execution_count": 189,
     "metadata": {},
     "output_type": "execute_result"
    }
   ],
   "source": [
    "len(index_menor_x)"
   ]
  },
  {
   "cell_type": "code",
   "execution_count": 190,
   "metadata": {},
   "outputs": [],
   "source": [
    "# sorted(len_obs_usuario, key= lambda t: t[1])"
   ]
  },
  {
   "cell_type": "code",
   "execution_count": 191,
   "metadata": {},
   "outputs": [],
   "source": [
    "## Eliminacion elementos sin sentido\n",
    "## se procede a eliminarlas\n",
    "##\n",
    "df_copy.drop(index_menor_x, inplace=True)"
   ]
  },
  {
   "cell_type": "code",
   "execution_count": 192,
   "metadata": {},
   "outputs": [],
   "source": [
    "df_copy = df_copy.reset_index(drop=True)\n",
    "#len_obs_usuario = [(i, len(o)) for i, o in enumerate(df_copy['OBSERVACION USUARIO'])]\n",
    "#sorted(len_obs_usuario, key= lambda t: t[1])"
   ]
  },
  {
   "cell_type": "code",
   "execution_count": 193,
   "metadata": {},
   "outputs": [],
   "source": [
    "df_copy['len_obs'] = df_copy['OBSERVACION USUARIO'].map(lambda x: len(x))"
   ]
  },
  {
   "cell_type": "code",
   "execution_count": 194,
   "metadata": {},
   "outputs": [
    {
     "data": {
      "text/plain": [
       "count    7079.000000\n",
       "mean      209.921034\n",
       "std       155.858657\n",
       "min        21.000000\n",
       "25%       100.000000\n",
       "50%       180.000000\n",
       "75%       286.000000\n",
       "max      1000.000000\n",
       "Name: len_obs, dtype: float64"
      ]
     },
     "execution_count": 194,
     "metadata": {},
     "output_type": "execute_result"
    }
   ],
   "source": [
    "df_copy['len_obs'].describe()"
   ]
  },
  {
   "cell_type": "code",
   "execution_count": 195,
   "metadata": {},
   "outputs": [
    {
     "name": "stdout",
     "output_type": "stream",
     "text": [
      "309 es el numero de observaciones se sobrepasan los 500 caracteres, equivalente a un 0.0437%\n"
     ]
    }
   ],
   "source": [
    "count = 0\n",
    "for l in df_copy['len_obs']:\n",
    "    if l >=500:\n",
    "        count += 1\n",
    "print(f\"{count} es el numero de observaciones se sobrepasan los 500 caracteres, equivalente a un \"\n",
    "     f\"{round(count/len(df_copy), 4)}%\")"
   ]
  },
  {
   "cell_type": "code",
   "execution_count": 196,
   "metadata": {},
   "outputs": [],
   "source": [
    "## Eliminacion elementos sin sentido\n",
    "## se guardan las observaciones para ver de que se tratan\n",
    "##\n",
    "# len_menor_x_obs = [df_copy['OBSERVACION USUARIO'][i] for i, o in len_menor_x]"
   ]
  },
  {
   "cell_type": "code",
   "execution_count": 197,
   "metadata": {},
   "outputs": [
    {
     "data": {
      "text/plain": [
       "peticion                           3991\n",
       "reclamo                            1941\n",
       "queja                               587\n",
       "pedidos/proyectos                   278\n",
       "recurso                             277\n",
       "programa de financiacion social       5\n",
       "Name: tipo_solicitud, dtype: int64"
      ]
     },
     "execution_count": 197,
     "metadata": {},
     "output_type": "execute_result"
    }
   ],
   "source": [
    "## Veamos los tipos de solicitudes nivel 1\n",
    "##\n",
    "df_copy['tipo_solicitud'].value_counts()"
   ]
  },
  {
   "cell_type": "code",
   "execution_count": 198,
   "metadata": {},
   "outputs": [],
   "source": [
    "## Vamos a depurar estos tipos de solicitudes.\n",
    "##\n",
    "df_copy['tipo_solicitud'] = df_copy['tipo_solicitud'].map(lambda x: 'peticion' if x=='programa de financiacion social' or x=='autogestion' else x)"
   ]
  },
  {
   "cell_type": "code",
   "execution_count": 199,
   "metadata": {},
   "outputs": [
    {
     "data": {
      "text/plain": [
       "peticion             3996\n",
       "reclamo              1941\n",
       "queja                 587\n",
       "pedidos/proyectos     278\n",
       "recurso               277\n",
       "Name: tipo_solicitud, dtype: int64"
      ]
     },
     "execution_count": 199,
     "metadata": {},
     "output_type": "execute_result"
    }
   ],
   "source": [
    "## Validamos el cambio\n",
    "##\n",
    "df_copy['tipo_solicitud'].value_counts()"
   ]
  },
  {
   "cell_type": "code",
   "execution_count": 200,
   "metadata": {},
   "outputs": [
    {
     "name": "stdout",
     "output_type": "stream",
     "text": [
      "peticion: \n",
      "\n",
      "tipo_solicitud_1                                            \n",
      "exencion contribucion                                           1591\n",
      "informacion general                                              764\n",
      "cambio de datos basicos                                          413\n",
      "terminacion del contrato                                         161\n",
      "gestionar financiacion                                           130\n",
      "perjuicios por falla en la prestacion del servicio               120\n",
      "trabajos tecnicos en medidores, transformadores, a               111\n",
      "cambio datos basicos                                             108\n",
      "requerimiento competencia de otra empresa                         92\n",
      "devolucion o traslado de saldo a favor                            67\n",
      "trabajos tecnicos en med, trafos, acometidas o en infraestr.      58\n",
      "traslado de deuda                                                 57\n",
      "emision de documento para pago                                    42\n",
      "separacion temporal o pago dirigido                               34\n",
      "requerimientos sspd o sic                                         29\n",
      "cambio de uso                                                     27\n",
      "poda de arboles                                                   21\n",
      "suspension del servicio                                           19\n",
      "requerimientos entes oficiales o entidades externa                15\n",
      "reclamacion extemporanea o agotada la via administ                13\n",
      "valores congelados                                                13\n",
      "dano en equipo electrico                                          12\n",
      "condicion especial solicitud propietario                          11\n",
      "reconexion                                                         9\n",
      "danos en equipo electrico                                          8\n",
      "pago de la factura de otro usuario                                 8\n",
      "direccion incorrecta                                               8\n",
      "pago parcial                                                       7\n",
      "aplicacion beneficio propiedad o venta de activos                  6\n",
      "devolucion y/o copia de documentos                                 5\n",
      "modificacion de infraestructura por incumplimiento                 5\n",
      "normalizar instalacion                                             5\n",
      "reinstalacion                                                      5\n",
      "solicitud constancia lectura                                       3\n",
      "facturacion a la fecha                                             2\n",
      "inscripcion, retiro o bloqueo de tarjeta pfs                       2\n",
      "descongelados covid-19                                             2\n",
      "condicion especial por solicitud del propietario                   2\n",
      "requerimientos entes oficiales o entidades externas                2\n",
      "cambio de plazo en la financiacion pfs                             2\n",
      "tramite recurso de queja sspd                                      2\n",
      "estado deuda pfs                                                   1\n",
      "desenergizacion de infraestructura                                 1\n",
      "modificar cobros de terceros                                       1\n",
      "revision presunto sap                                              1\n",
      "actualizacion por habeas data                                      1\n",
      "dtype: int64\n",
      "\n",
      "\n",
      "queja: \n",
      "\n",
      "tipo_solicitud_1                                                \n",
      "falla en la prestacion del servicio por continuida                  250\n",
      "inconformidad con el canal de atencion                              108\n",
      "falla en la prestacion del servicio por calidad                      66\n",
      "entrega inoportuna o no entrega de la factura                        38\n",
      "inconformidad con la informacion                                     36\n",
      "inconformidad trabajos                                               18\n",
      "inconformidad punto de venta y/o recaudo                             16\n",
      "comportamiento funcionario (trabajador-contra)                       14\n",
      "demora en atender peticion                                           10\n",
      "falla en la prestacion del servicio por continuidad                   8\n",
      "incumplimiento revision en las fechas establ                          5\n",
      "demora en reparar dano                                                4\n",
      "suspension o corte del servicio                                       4\n",
      "inconformidad por la programacion de interrupciones del servicio      3\n",
      "comportamiento funcionario, trabajador o contratista                  2\n",
      "levantamiento de desechos vegetales                                   1\n",
      "inconformidad en la atencion de condiciones de seg                    1\n",
      "inconformidad por la programacion de interrupcione                    1\n",
      "inconformidad venta portafolio                                        1\n",
      "afectacion ambiental                                                  1\n",
      "dtype: int64\n",
      "\n",
      "\n",
      "reclamo: \n",
      "\n",
      "tipo_solicitud_1                                      \n",
      "inconformidad con el consumo o produccion factura         1530\n",
      "inconformidad con el consumo o produccion facturado        100\n",
      "cobro de cargos relacionados con el servicio publi          84\n",
      "pago sin abono a cuenta                                     75\n",
      "cobros por promedio                                         25\n",
      "subsidios y contribuciones                                  22\n",
      "cobros por conexion, reconexion, reinstalacion              19\n",
      "cobro de otros bienes o servicios en la factura             14\n",
      "estrato incorrecto                                          13\n",
      "cobro multiple y/o acumulado                                10\n",
      "cobro de cargos relacionados con el servicio publico         9\n",
      "tarifa incorrecta                                            7\n",
      "cobro de acuerdo de pago o financiacion                      6\n",
      "solicitud de rompimiento de solidaridad                      5\n",
      "clase de uso incorrecto                                      5\n",
      "cobro desconocido                                            4\n",
      "cobro por recuperacion de consumos                           3\n",
      "inconformidad con el aforo                                   2\n",
      "cobro de revisiones                                          2\n",
      "inconformidad por cobros por normalizacion del ser           2\n",
      "inconformidad por cobros por normalizacion del sevicio       2\n",
      "cobros inoportunos                                           1\n",
      "cobro de otros bienes y servicios en la factura              1\n",
      "dtype: int64\n",
      "\n",
      "\n",
      "recurso: \n",
      "\n",
      "tipo_solicitud_1                                  \n",
      "inconformidad con el consumo o produccion facturad    258\n",
      "cobro de otros bienes o servicios en la factura         3\n",
      "subsidios y contribuciones                              2\n",
      "solicitud de rompimiento de solidaridad                 2\n",
      "pago sin abono a cuenta                                 2\n",
      "negacion del servicio                                   2\n",
      "cobros por promedio                                     2\n",
      "cobros inoportunos                                      2\n",
      "tarifa incorrecta                                       1\n",
      "otros motivos de recurso                                1\n",
      "cobro de cargos relacionados con el servicio publi      1\n",
      "clase de uso incorrecto                                 1\n",
      "dtype: int64\n",
      "\n",
      "\n",
      "pedidos/proyectos: \n",
      "\n",
      "tipo_solicitud_1                               \n",
      "solicitud factibilidad del servicio                63\n",
      "portafolio trabajos a terceros con cotizacion      58\n",
      "revision de proyectos electricos nivel ii y iii    34\n",
      "cambio de sistema                                  29\n",
      "provisional a definitivo                           23\n",
      "portafolio instalaciones sin cotizacion            21\n",
      "solicitud cambio de comercializador (exporta)      13\n",
      "solicitud de interventoria                         11\n",
      "revision de proyectos electricos nivel i           10\n",
      "solicitud viabilidad compra/donacion activos        5\n",
      "liquidacion de conexos proyectos                    5\n",
      "solicitud participacion expansion                   2\n",
      "visita puesta en servicio                           1\n",
      "retiro de servicios temporales                      1\n",
      "cancelacion de provisional                          1\n",
      "cambio de comercializador                           1\n",
      "dtype: int64\n",
      "\n",
      "\n"
     ]
    }
   ],
   "source": [
    "tipos_solicitud = df_copy['tipo_solicitud'].unique().tolist()\n",
    "for s in tipos_solicitud:\n",
    "    print(f\"{s}: \\n\")\n",
    "    print(df_copy[df_copy['tipo_solicitud']==s][['tipo_solicitud_1']].value_counts())\n",
    "    print(\"\\n\")"
   ]
  },
  {
   "cell_type": "code",
   "execution_count": 201,
   "metadata": {},
   "outputs": [],
   "source": [
    "## hay un monton de tipos de solicitudes nivel 2 que realmente son las mismas\n",
    "## ej: 'revision, mntto, remodelacion o expansion infraestruc. a.p.' ==  'revision, mtto, remodelacion o expansion a.p'\n",
    "## vamos a estandarizar esto.\n",
    "##"
   ]
  },
  {
   "cell_type": "code",
   "execution_count": 202,
   "metadata": {},
   "outputs": [],
   "source": [
    "import Levenshtein as lev"
   ]
  },
  {
   "cell_type": "code",
   "execution_count": 203,
   "metadata": {},
   "outputs": [],
   "source": [
    "tipo_sol_nv2_p = []\n",
    "tipo_sol_nv2_r = []\n",
    "tipo_sol_nv2_pro = []\n",
    "tipo_sol_nv2_q = []\n",
    "tipo_sol_nv2_rso = []\n",
    "for s in tipos_solicitud:\n",
    "    temp = sorted(df_copy[df_copy['tipo_solicitud']==s]['tipo_solicitud_1'].unique().tolist())\n",
    "    for i in range(len(temp) - 1):\n",
    "        a = temp[i]\n",
    "        b = temp[i+1]\n",
    "        ratio = lev.ratio(a, b)\n",
    "        if ratio >= 0.75:\n",
    "            if s == 'peticion':\n",
    "                if a not in tipo_sol_nv2_p:\n",
    "                    tipo_sol_nv2_p.append(a)\n",
    "            elif s == 'reclamo':\n",
    "                if a not in tipo_sol_nv2_r:\n",
    "                    tipo_sol_nv2_r.append(a)\n",
    "            elif s == 'pedidos/proyectos':\n",
    "                if a not in tipo_sol_nv2_pro:\n",
    "                    tipo_sol_nv2_pro.append(a)\n",
    "            elif s == 'queja':\n",
    "                if a not in tipo_sol_nv2_q:\n",
    "                    tipo_sol_nv2_q.append(a)\n",
    "            else:\n",
    "                if a not in tipo_sol_nv2_rso:\n",
    "                    tipo_sol_nv2_rso.append(a)\n",
    "        else:\n",
    "            if s == 'peticion':\n",
    "                if b not in tipo_sol_nv2_p:\n",
    "                    tipo_sol_nv2_p.append(b)\n",
    "            elif s == 'reclamo':\n",
    "                if b not in tipo_sol_nv2_r:\n",
    "                    tipo_sol_nv2_r.append(b)\n",
    "            elif s == 'pedidos/proyectos':\n",
    "                if b not in tipo_sol_nv2_pro:\n",
    "                    tipo_sol_nv2_pro.append(b)\n",
    "            elif s == 'queja':\n",
    "                if b not in tipo_sol_nv2_q:\n",
    "                    tipo_sol_nv2_q.append(b)\n",
    "            else:\n",
    "                if b not in tipo_sol_nv2_rso:\n",
    "                    tipo_sol_nv2_rso.append(b)"
   ]
  },
  {
   "cell_type": "code",
   "execution_count": 204,
   "metadata": {},
   "outputs": [
    {
     "data": {
      "text/plain": [
       "46"
      ]
     },
     "execution_count": 204,
     "metadata": {},
     "output_type": "execute_result"
    }
   ],
   "source": [
    "len(sorted(df_copy[df_copy['tipo_solicitud']=='peticion']['tipo_solicitud_1'].unique().tolist()))"
   ]
  },
  {
   "cell_type": "code",
   "execution_count": 205,
   "metadata": {},
   "outputs": [
    {
     "data": {
      "text/plain": [
       "41"
      ]
     },
     "execution_count": 205,
     "metadata": {},
     "output_type": "execute_result"
    }
   ],
   "source": [
    "len(tipo_sol_nv2_p)"
   ]
  },
  {
   "cell_type": "code",
   "execution_count": 206,
   "metadata": {},
   "outputs": [
    {
     "data": {
      "text/plain": [
       "['actualizacion por habeas data',\n",
       " 'aplicacion beneficio propiedad o venta de activos',\n",
       " 'cambio datos basicos',\n",
       " 'cambio de plazo en la financiacion pfs',\n",
       " 'cambio de uso',\n",
       " 'condicion especial por solicitud del propietario',\n",
       " 'dano en equipo electrico',\n",
       " 'descongelados covid-19',\n",
       " 'desenergizacion de infraestructura',\n",
       " 'devolucion o traslado de saldo a favor',\n",
       " 'devolucion y/o copia de documentos',\n",
       " 'direccion incorrecta',\n",
       " 'emision de documento para pago',\n",
       " 'estado deuda pfs',\n",
       " 'exencion contribucion',\n",
       " 'facturacion a la fecha',\n",
       " 'gestionar financiacion',\n",
       " 'informacion general',\n",
       " 'inscripcion, retiro o bloqueo de tarjeta pfs',\n",
       " 'modificacion de infraestructura por incumplimiento',\n",
       " 'modificar cobros de terceros',\n",
       " 'normalizar instalacion',\n",
       " 'pago de la factura de otro usuario',\n",
       " 'pago parcial',\n",
       " 'perjuicios por falla en la prestacion del servicio',\n",
       " 'poda de arboles',\n",
       " 'reclamacion extemporanea o agotada la via administ',\n",
       " 'reconexion',\n",
       " 'reinstalacion',\n",
       " 'requerimiento competencia de otra empresa',\n",
       " 'requerimientos entes oficiales o entidades externa',\n",
       " 'requerimientos sspd o sic',\n",
       " 'revision presunto sap',\n",
       " 'separacion temporal o pago dirigido',\n",
       " 'solicitud constancia lectura',\n",
       " 'suspension del servicio',\n",
       " 'terminacion del contrato',\n",
       " 'trabajos tecnicos en med, trafos, acometidas o en infraestr.',\n",
       " 'trabajos tecnicos en medidores, transformadores, a',\n",
       " 'tramite recurso de queja sspd',\n",
       " 'traslado de deuda',\n",
       " 'valores congelados']"
      ]
     },
     "execution_count": 206,
     "metadata": {},
     "output_type": "execute_result"
    }
   ],
   "source": [
    "tipo_sol_nv2_p.append('actualizacion por habeas data')\n",
    "tipo_sol_nv2_p = sorted(tipo_sol_nv2_p)\n",
    "tipo_sol_nv2_p"
   ]
  },
  {
   "cell_type": "code",
   "execution_count": 207,
   "metadata": {},
   "outputs": [],
   "source": [
    "tipo_sol_nv2_p.remove('trabajos tecnicos en med, trafos, acometidas o en infraestr.')"
   ]
  },
  {
   "cell_type": "code",
   "execution_count": 208,
   "metadata": {},
   "outputs": [
    {
     "data": {
      "text/plain": [
       "23"
      ]
     },
     "execution_count": 208,
     "metadata": {},
     "output_type": "execute_result"
    }
   ],
   "source": [
    "len(sorted(df_copy[df_copy['tipo_solicitud']=='reclamo']['tipo_solicitud_1'].unique().tolist()))"
   ]
  },
  {
   "cell_type": "code",
   "execution_count": 209,
   "metadata": {},
   "outputs": [
    {
     "data": {
      "text/plain": [
       "18"
      ]
     },
     "execution_count": 209,
     "metadata": {},
     "output_type": "execute_result"
    }
   ],
   "source": [
    "len(tipo_sol_nv2_r)"
   ]
  },
  {
   "cell_type": "code",
   "execution_count": 210,
   "metadata": {},
   "outputs": [
    {
     "data": {
      "text/plain": [
       "['clase de uso incorrecto',\n",
       " 'cobro de acuerdo de pago o financiacion',\n",
       " 'cobro de cargos relacionados con el servicio publi',\n",
       " 'cobro de otros bienes o servicios en la factura',\n",
       " 'cobro de revisiones',\n",
       " 'cobro desconocido',\n",
       " 'cobro multiple y/o acumulado',\n",
       " 'cobro por recuperacion de consumos',\n",
       " 'cobros inoportunos',\n",
       " 'cobros por conexion, reconexion, reinstalacion',\n",
       " 'cobros por promedio',\n",
       " 'estrato incorrecto',\n",
       " 'inconformidad con el aforo',\n",
       " 'inconformidad con el consumo o produccion factura',\n",
       " 'inconformidad por cobros por normalizacion del ser',\n",
       " 'pago sin abono a cuenta',\n",
       " 'solicitud de rompimiento de solidaridad',\n",
       " 'subsidios y contribuciones',\n",
       " 'tarifa incorrecta']"
      ]
     },
     "execution_count": 210,
     "metadata": {},
     "output_type": "execute_result"
    }
   ],
   "source": [
    "tipo_sol_nv2_r.append('clase de uso incorrecto')\n",
    "tipo_sol_nv2_r = sorted(tipo_sol_nv2_r)\n",
    "tipo_sol_nv2_r"
   ]
  },
  {
   "cell_type": "code",
   "execution_count": 211,
   "metadata": {},
   "outputs": [
    {
     "data": {
      "text/plain": [
       "16"
      ]
     },
     "execution_count": 211,
     "metadata": {},
     "output_type": "execute_result"
    }
   ],
   "source": [
    "len(sorted(df_copy[df_copy['tipo_solicitud']=='pedidos/proyectos']['tipo_solicitud_1'].unique().tolist()))"
   ]
  },
  {
   "cell_type": "code",
   "execution_count": 212,
   "metadata": {},
   "outputs": [
    {
     "data": {
      "text/plain": [
       "14"
      ]
     },
     "execution_count": 212,
     "metadata": {},
     "output_type": "execute_result"
    }
   ],
   "source": [
    "len(tipo_sol_nv2_pro)"
   ]
  },
  {
   "cell_type": "code",
   "execution_count": 213,
   "metadata": {},
   "outputs": [
    {
     "data": {
      "text/plain": [
       "['asesoria de proyectos',\n",
       " 'cambio de sistema',\n",
       " 'cancelacion de provisional',\n",
       " 'liquidacion de conexos proyectos',\n",
       " 'portafolio instalaciones sin cotizacion',\n",
       " 'portafolio trabajos a terceros con cotizacion',\n",
       " 'provisional a definitivo',\n",
       " 'retiro de servicios temporales',\n",
       " 'revision de proyectos electricos nivel i',\n",
       " 'revision de proyectos electricos nivel ii y iii',\n",
       " 'solicitud cambio de comercializador (exporta)',\n",
       " 'solicitud de interventoria',\n",
       " 'solicitud factibilidad del servicio',\n",
       " 'solicitud participacion expansion',\n",
       " 'solicitud viabilidad compra/donacion activos',\n",
       " 'visita puesta en servicio']"
      ]
     },
     "execution_count": 213,
     "metadata": {},
     "output_type": "execute_result"
    }
   ],
   "source": [
    "tipo_sol_nv2_pro.append('asesoria de proyectos')\n",
    "tipo_sol_nv2_pro.append('revision de proyectos electricos nivel ii y iii')\n",
    "tipo_sol_nv2_pro = sorted(tipo_sol_nv2_pro)\n",
    "tipo_sol_nv2_pro"
   ]
  },
  {
   "cell_type": "code",
   "execution_count": 214,
   "metadata": {},
   "outputs": [
    {
     "data": {
      "text/plain": [
       "20"
      ]
     },
     "execution_count": 214,
     "metadata": {},
     "output_type": "execute_result"
    }
   ],
   "source": [
    "len(sorted(df_copy[df_copy['tipo_solicitud']=='queja']['tipo_solicitud_1'].unique().tolist()))"
   ]
  },
  {
   "cell_type": "code",
   "execution_count": 215,
   "metadata": {},
   "outputs": [
    {
     "data": {
      "text/plain": [
       "16"
      ]
     },
     "execution_count": 215,
     "metadata": {},
     "output_type": "execute_result"
    }
   ],
   "source": [
    "len(tipo_sol_nv2_q)"
   ]
  },
  {
   "cell_type": "code",
   "execution_count": 216,
   "metadata": {},
   "outputs": [
    {
     "data": {
      "text/plain": [
       "['afectacion ambiental',\n",
       " 'comportamiento funcionario (trabajador-contra)',\n",
       " 'demora en atender peticion',\n",
       " 'demora en reparar dano',\n",
       " 'entrega inoportuna o no entrega de la factura',\n",
       " 'falla en la prestacion del servicio por calidad',\n",
       " 'falla en la prestacion del servicio por continuida',\n",
       " 'inconformidad con el canal de atencion',\n",
       " 'inconformidad con la informacion',\n",
       " 'inconformidad en la atencion de condiciones de seg',\n",
       " 'inconformidad por la programacion de interrupcione',\n",
       " 'inconformidad punto de venta y/o recaudo',\n",
       " 'inconformidad trabajos',\n",
       " 'inconformidad venta portafolio',\n",
       " 'incumplimiento revision en las fechas establ',\n",
       " 'levantamiento de desechos vegetales',\n",
       " 'suspension o corte del servicio']"
      ]
     },
     "execution_count": 216,
     "metadata": {},
     "output_type": "execute_result"
    }
   ],
   "source": [
    "tipo_sol_nv2_q.append('afectacion ambiental')\n",
    "tipo_sol_nv2_q = sorted(tipo_sol_nv2_q)\n",
    "tipo_sol_nv2_q"
   ]
  },
  {
   "cell_type": "code",
   "execution_count": 217,
   "metadata": {},
   "outputs": [
    {
     "data": {
      "text/plain": [
       "12"
      ]
     },
     "execution_count": 217,
     "metadata": {},
     "output_type": "execute_result"
    }
   ],
   "source": [
    "len(sorted(df_copy[df_copy['tipo_solicitud']=='recurso']['tipo_solicitud_1'].unique().tolist()))"
   ]
  },
  {
   "cell_type": "code",
   "execution_count": 218,
   "metadata": {},
   "outputs": [
    {
     "data": {
      "text/plain": [
       "['clase de uso incorrecto',\n",
       " 'cobro de cargos relacionados con el servicio publi',\n",
       " 'cobro de otros bienes o servicios en la factura',\n",
       " 'cobros inoportunos',\n",
       " 'cobros por promedio',\n",
       " 'inconformidad con el consumo o produccion facturad',\n",
       " 'negacion del servicio',\n",
       " 'otros motivos de recurso',\n",
       " 'pago sin abono a cuenta',\n",
       " 'solicitud de rompimiento de solidaridad',\n",
       " 'subsidios y contribuciones',\n",
       " 'tarifa incorrecta']"
      ]
     },
     "execution_count": 218,
     "metadata": {},
     "output_type": "execute_result"
    }
   ],
   "source": [
    "tipo_sol_nv2_rso = sorted(df_copy[df_copy['tipo_solicitud']=='recurso']['tipo_solicitud_1'].unique().tolist())\n",
    "tipo_sol_nv2_rso"
   ]
  },
  {
   "cell_type": "code",
   "execution_count": 219,
   "metadata": {},
   "outputs": [],
   "source": [
    "## Los siguientes tipos de solicitudes nivel 1 si tuvieron cambion en los\n",
    "## niveles 2: peticion, reclamo, pedidos/proyectos, queja\n",
    "## estos se procederan a estadarizarce.\n",
    "##\n",
    "def nv2_replacements(solicitud_nv2):\n",
    "    s = tipo_sol_nv2_p + tipo_sol_nv2_r + tipo_sol_nv2_pro + tipo_sol_nv2_q + tipo_sol_nv2_rso\n",
    "    s.remove('revision de proyectos electricos nivel i')\n",
    "    s.remove('revision de proyectos electricos nivel ii y iii')\n",
    "    s.remove('falla en la prestacion del servicio por calidad')\n",
    "    s.remove('falla en la prestacion del servicio por continuida')\n",
    "    for element in s:\n",
    "        if lev.ratio(element, solicitud_nv2) >= 0.75:\n",
    "            solicitud_nv2 = element\n",
    "        else:\n",
    "            solicitud_nv2\n",
    "    return solicitud_nv2"
   ]
  },
  {
   "cell_type": "code",
   "execution_count": 220,
   "metadata": {},
   "outputs": [],
   "source": [
    "df_copy['tipo_solicitud_1'] = df_copy['tipo_solicitud_1'].map(nv2_replacements)"
   ]
  },
  {
   "cell_type": "code",
   "execution_count": 221,
   "metadata": {},
   "outputs": [
    {
     "data": {
      "text/plain": [
       "['actualizacion por habeas data',\n",
       " 'afectacion ambiental',\n",
       " 'aplicacion beneficio propiedad o venta de activos',\n",
       " 'cambio datos basicos',\n",
       " 'cambio de comercializador',\n",
       " 'cambio de plazo en la financiacion pfs',\n",
       " 'cambio de sistema',\n",
       " 'cambio de uso',\n",
       " 'cancelacion de provisional',\n",
       " 'clase de uso incorrecto',\n",
       " 'cobro de acuerdo de pago o financiacion',\n",
       " 'cobro de cargos relacionados con el servicio publi',\n",
       " 'cobro de otros bienes o servicios en la factura',\n",
       " 'cobro de revisiones',\n",
       " 'cobro desconocido',\n",
       " 'cobro multiple y/o acumulado',\n",
       " 'cobro por recuperacion de consumos',\n",
       " 'cobros inoportunos',\n",
       " 'cobros por conexion, reconexion, reinstalacion',\n",
       " 'cobros por promedio',\n",
       " 'comportamiento funcionario (trabajador-contra)',\n",
       " 'condicion especial por solicitud del propietario',\n",
       " 'dano en equipo electrico',\n",
       " 'demora en atender peticion',\n",
       " 'demora en reparar dano',\n",
       " 'descongelados covid-19',\n",
       " 'desenergizacion de infraestructura',\n",
       " 'devolucion o traslado de saldo a favor',\n",
       " 'devolucion y/o copia de documentos',\n",
       " 'direccion incorrecta',\n",
       " 'emision de documento para pago',\n",
       " 'entrega inoportuna o no entrega de la factura',\n",
       " 'estado deuda pfs',\n",
       " 'estrato incorrecto',\n",
       " 'exencion contribucion',\n",
       " 'facturacion a la fecha',\n",
       " 'falla en la prestacion del servicio por calidad',\n",
       " 'falla en la prestacion del servicio por continuida',\n",
       " 'falla en la prestacion del servicio por continuidad',\n",
       " 'gestionar financiacion',\n",
       " 'inconformidad con el canal de atencion',\n",
       " 'inconformidad con el consumo o produccion facturad',\n",
       " 'inconformidad con la informacion',\n",
       " 'inconformidad en la atencion de condiciones de seg',\n",
       " 'inconformidad por cobros por normalizacion del ser',\n",
       " 'inconformidad por la programacion de interrupcione',\n",
       " 'inconformidad punto de venta y/o recaudo',\n",
       " 'inconformidad trabajos',\n",
       " 'inconformidad venta portafolio',\n",
       " 'incumplimiento revision en las fechas establ',\n",
       " 'informacion general',\n",
       " 'inscripcion, retiro o bloqueo de tarjeta pfs',\n",
       " 'levantamiento de desechos vegetales',\n",
       " 'liquidacion de conexos proyectos',\n",
       " 'modificacion de infraestructura por incumplimiento',\n",
       " 'modificar cobros de terceros',\n",
       " 'normalizar instalacion',\n",
       " 'otros motivos de recurso',\n",
       " 'pago de la factura de otro usuario',\n",
       " 'pago parcial',\n",
       " 'pago sin abono a cuenta',\n",
       " 'perjuicios por falla en la prestacion del servicio',\n",
       " 'poda de arboles',\n",
       " 'portafolio instalaciones sin cotizacion',\n",
       " 'portafolio trabajos a terceros con cotizacion',\n",
       " 'provisional a definitivo',\n",
       " 'reclamacion extemporanea o agotada la via administ',\n",
       " 'reconexion',\n",
       " 'reinstalacion',\n",
       " 'requerimiento competencia de otra empresa',\n",
       " 'requerimientos entes oficiales o entidades externa',\n",
       " 'requerimientos sspd o sic',\n",
       " 'retiro de servicios temporales',\n",
       " 'revision de proyectos electricos nivel i',\n",
       " 'revision de proyectos electricos nivel ii y iii',\n",
       " 'revision presunto sap',\n",
       " 'separacion temporal o pago dirigido',\n",
       " 'solicitud cambio de comercializador (exporta)',\n",
       " 'solicitud constancia lectura',\n",
       " 'solicitud de interventoria',\n",
       " 'solicitud de rompimiento de solidaridad',\n",
       " 'solicitud factibilidad del servicio',\n",
       " 'solicitud participacion expansion',\n",
       " 'solicitud viabilidad compra/donacion activos',\n",
       " 'subsidios y contribuciones',\n",
       " 'suspension o corte del servicio',\n",
       " 'tarifa incorrecta',\n",
       " 'terminacion del contrato',\n",
       " 'trabajos tecnicos en med, trafos, acometidas o en infraestr.',\n",
       " 'trabajos tecnicos en medidores, transformadores, a',\n",
       " 'tramite recurso de queja sspd',\n",
       " 'traslado de deuda',\n",
       " 'valores congelados',\n",
       " 'visita puesta en servicio']"
      ]
     },
     "execution_count": 221,
     "metadata": {},
     "output_type": "execute_result"
    }
   ],
   "source": [
    "sorted(df_copy['tipo_solicitud_1'].unique().tolist())"
   ]
  },
  {
   "cell_type": "code",
   "execution_count": 222,
   "metadata": {},
   "outputs": [],
   "source": [
    "df_copy['tipo_solicitud_1'] = df_copy['tipo_solicitud_1'].map(lambda x: 'falla en la prestacion del servicio por continuidad' if x=='falla en la prestacion del servicio por continuida' else x)\n",
    "df_copy['tipo_solicitud_1'] = df_copy['tipo_solicitud_1'].map(lambda x: 'trabajos tecnicos en med, trafos, acometidas o en infraestr.' if x=='trabajos tecnicos en medidores, transformadores, a' else x)"
   ]
  },
  {
   "cell_type": "code",
   "execution_count": 223,
   "metadata": {},
   "outputs": [
    {
     "data": {
      "text/plain": [
       "['actualizacion por habeas data',\n",
       " 'afectacion ambiental',\n",
       " 'aplicacion beneficio propiedad o venta de activos',\n",
       " 'cambio datos basicos',\n",
       " 'cambio de comercializador',\n",
       " 'cambio de plazo en la financiacion pfs',\n",
       " 'cambio de sistema',\n",
       " 'cambio de uso',\n",
       " 'cancelacion de provisional',\n",
       " 'clase de uso incorrecto',\n",
       " 'cobro de acuerdo de pago o financiacion',\n",
       " 'cobro de cargos relacionados con el servicio publi',\n",
       " 'cobro de otros bienes o servicios en la factura',\n",
       " 'cobro de revisiones',\n",
       " 'cobro desconocido',\n",
       " 'cobro multiple y/o acumulado',\n",
       " 'cobro por recuperacion de consumos',\n",
       " 'cobros inoportunos',\n",
       " 'cobros por conexion, reconexion, reinstalacion',\n",
       " 'cobros por promedio',\n",
       " 'comportamiento funcionario (trabajador-contra)',\n",
       " 'condicion especial por solicitud del propietario',\n",
       " 'dano en equipo electrico',\n",
       " 'demora en atender peticion',\n",
       " 'demora en reparar dano',\n",
       " 'descongelados covid-19',\n",
       " 'desenergizacion de infraestructura',\n",
       " 'devolucion o traslado de saldo a favor',\n",
       " 'devolucion y/o copia de documentos',\n",
       " 'direccion incorrecta',\n",
       " 'emision de documento para pago',\n",
       " 'entrega inoportuna o no entrega de la factura',\n",
       " 'estado deuda pfs',\n",
       " 'estrato incorrecto',\n",
       " 'exencion contribucion',\n",
       " 'facturacion a la fecha',\n",
       " 'falla en la prestacion del servicio por calidad',\n",
       " 'falla en la prestacion del servicio por continuidad',\n",
       " 'gestionar financiacion',\n",
       " 'inconformidad con el canal de atencion',\n",
       " 'inconformidad con el consumo o produccion facturad',\n",
       " 'inconformidad con la informacion',\n",
       " 'inconformidad en la atencion de condiciones de seg',\n",
       " 'inconformidad por cobros por normalizacion del ser',\n",
       " 'inconformidad por la programacion de interrupcione',\n",
       " 'inconformidad punto de venta y/o recaudo',\n",
       " 'inconformidad trabajos',\n",
       " 'inconformidad venta portafolio',\n",
       " 'incumplimiento revision en las fechas establ',\n",
       " 'informacion general',\n",
       " 'inscripcion, retiro o bloqueo de tarjeta pfs',\n",
       " 'levantamiento de desechos vegetales',\n",
       " 'liquidacion de conexos proyectos',\n",
       " 'modificacion de infraestructura por incumplimiento',\n",
       " 'modificar cobros de terceros',\n",
       " 'normalizar instalacion',\n",
       " 'otros motivos de recurso',\n",
       " 'pago de la factura de otro usuario',\n",
       " 'pago parcial',\n",
       " 'pago sin abono a cuenta',\n",
       " 'perjuicios por falla en la prestacion del servicio',\n",
       " 'poda de arboles',\n",
       " 'portafolio instalaciones sin cotizacion',\n",
       " 'portafolio trabajos a terceros con cotizacion',\n",
       " 'provisional a definitivo',\n",
       " 'reclamacion extemporanea o agotada la via administ',\n",
       " 'reconexion',\n",
       " 'reinstalacion',\n",
       " 'requerimiento competencia de otra empresa',\n",
       " 'requerimientos entes oficiales o entidades externa',\n",
       " 'requerimientos sspd o sic',\n",
       " 'retiro de servicios temporales',\n",
       " 'revision de proyectos electricos nivel i',\n",
       " 'revision de proyectos electricos nivel ii y iii',\n",
       " 'revision presunto sap',\n",
       " 'separacion temporal o pago dirigido',\n",
       " 'solicitud cambio de comercializador (exporta)',\n",
       " 'solicitud constancia lectura',\n",
       " 'solicitud de interventoria',\n",
       " 'solicitud de rompimiento de solidaridad',\n",
       " 'solicitud factibilidad del servicio',\n",
       " 'solicitud participacion expansion',\n",
       " 'solicitud viabilidad compra/donacion activos',\n",
       " 'subsidios y contribuciones',\n",
       " 'suspension o corte del servicio',\n",
       " 'tarifa incorrecta',\n",
       " 'terminacion del contrato',\n",
       " 'trabajos tecnicos en med, trafos, acometidas o en infraestr.',\n",
       " 'tramite recurso de queja sspd',\n",
       " 'traslado de deuda',\n",
       " 'valores congelados',\n",
       " 'visita puesta en servicio']"
      ]
     },
     "execution_count": 223,
     "metadata": {},
     "output_type": "execute_result"
    }
   ],
   "source": [
    "sorted(df_copy['tipo_solicitud_1'].unique().tolist())"
   ]
  },
  {
   "cell_type": "code",
   "execution_count": 224,
   "metadata": {},
   "outputs": [
    {
     "name": "stdout",
     "output_type": "stream",
     "text": [
      "Se pasó de tener 113 solicitudes nivel 2 a 92\n"
     ]
    }
   ],
   "source": [
    "## los resultados de estos cambios\n",
    "##\n",
    "print(f\"Se pasó de tener {len(df['tipo_solicitud_1'].unique())} solicitudes nivel 2 a {len(df_copy['tipo_solicitud_1'].unique())}\")"
   ]
  },
  {
   "cell_type": "code",
   "execution_count": 225,
   "metadata": {},
   "outputs": [
    {
     "name": "stderr",
     "output_type": "stream",
     "text": [
      "[nltk_data] Downloading package stopwords to\n",
      "[nltk_data]     C:\\Users\\juand\\AppData\\Roaming\\nltk_data...\n",
      "[nltk_data]   Package stopwords is already up-to-date!\n"
     ]
    }
   ],
   "source": [
    "## normalización de los textos.\n",
    "##\n",
    "import re\n",
    "import spacy\n",
    "import nltk\n",
    "nltk.download('stopwords')\n",
    "from nltk import RegexpTokenizer\n",
    "from nltk.corpus import stopwords\n",
    "from nltk import word_tokenize\n",
    "from nltk.collocations import *\n",
    "from spellchecker import SpellChecker\n",
    "nlp = spacy.load('es_core_news_md')"
   ]
  },
  {
   "cell_type": "code",
   "execution_count": 226,
   "metadata": {},
   "outputs": [],
   "source": [
    "def text_normalization(text):\n",
    "    stop_words = list(stopwords.words('spanish'))  \n",
    "    no_value_words = ['fecha', 'valor']\n",
    "    for w in no_value_words:\n",
    "        stop_words.append(w)\n",
    "    text = str(text)\n",
    "    text = text.lower()\n",
    "    text = ' '.join(re.findall(r'[a-záéíóúñ]{3,}', text))\n",
    "    \n",
    "    text = word_tokenize(text)\n",
    "    for w in stop_words:\n",
    "        while w in text: text.remove(w)\n",
    "#    text = ' '.join(list(dict.fromkeys(text)))\n",
    "    \n",
    "#    doc = nlp(text)\n",
    "#    lemas = [t.lemma_ for t in doc]\n",
    "    \n",
    "    return' '.join(list(dict.fromkeys(text)))"
   ]
  },
  {
   "cell_type": "code",
   "execution_count": 227,
   "metadata": {},
   "outputs": [
    {
     "data": {
      "text/plain": [
       "0       rad - 20190220001010 - señores chec , en el ba...\n",
       "1       rad - 20180220021035  - no he logrado pagar po...\n",
       "2       20190220000106 - hechos yo amparo castro osori...\n",
       "3            rad -+ 20190220000876 - duplicado de factura\n",
       "4       20180220021062 - buenas tardes, solicito infor...\n",
       "                              ...                        \n",
       "7074    renovatio trading americas s.a.s e.s.p.relacio...\n",
       "7075    renovatio trading americas s.a.s e.s.p.relacio...\n",
       "7076    usuario solicita cambio de provisional a defin...\n",
       "7077    usuario solicita cambio sistema de monofásico ...\n",
       "7078    se requieren medidores tni que los aporta la e...\n",
       "Name: OBSERVACION USUARIO, Length: 7079, dtype: object"
      ]
     },
     "execution_count": 227,
     "metadata": {},
     "output_type": "execute_result"
    }
   ],
   "source": [
    "df_copy['OBSERVACION USUARIO']"
   ]
  },
  {
   "cell_type": "code",
   "execution_count": 228,
   "metadata": {},
   "outputs": [
    {
     "data": {
      "text/plain": [
       "'virtud artículo constitucional solicito realizar visita inspección medidor luz indicado pues cada día cobro servicio público aumenta singular vivo sola salgo mañana llego noche fines semana tampoco aun así llega factura cobros superiores cien pesos necesito saber explicación'"
      ]
     },
     "execution_count": 228,
     "metadata": {},
     "output_type": "execute_result"
    }
   ],
   "source": [
    "text = text_normalization(df_copy['OBSERVACION USUARIO'][485])\n",
    "text"
   ]
  },
  {
   "cell_type": "code",
   "execution_count": 230,
   "metadata": {},
   "outputs": [
    {
     "data": {
      "text/plain": [
       "0       rad señores chec barrio maracay alumbrado públ...\n",
       "1       rad logrado pagar medio pse favor confirmar pa...\n",
       "2       hechos amparo castro osorio adquirí computador...\n",
       "3                                   rad duplicado factura\n",
       "4       buenas tardes solicito información acerca sigu...\n",
       "                              ...                        \n",
       "7074    renovatio trading americas relaciona cuenta el...\n",
       "7075    renovatio trading americas relaciona cuenta el...\n",
       "7076    usuario solicita cambio provisional definitivo...\n",
       "7077    usuario solicita cambio sistema monofásico bif...\n",
       "7078    requieren medidores tni aporta empresa cobros ...\n",
       "Name: OBSERVACION USUARIO, Length: 7079, dtype: object"
      ]
     },
     "execution_count": 230,
     "metadata": {},
     "output_type": "execute_result"
    }
   ],
   "source": [
    "df_copy['OBSERVACION USUARIO'] = df_copy['OBSERVACION USUARIO'].map(text_normalization)\n",
    "df_copy['OBSERVACION USUARIO']"
   ]
  },
  {
   "cell_type": "code",
   "execution_count": 231,
   "metadata": {},
   "outputs": [
    {
     "data": {
      "text/plain": [
       "28"
      ]
     },
     "execution_count": 231,
     "metadata": {},
     "output_type": "execute_result"
    }
   ],
   "source": [
    "## despues de la normalizacion se volvera a buscar textos sin\n",
    "## sentido\n",
    "##\n",
    "len_obs_usuario = [(i, len(o)) for i, o in enumerate(df_copy['OBSERVACION USUARIO'])]\n",
    "len_menor_x = [(i,o) for i, o in sorted(len_obs_usuario, key=lambda t: t[1]) if o <=20]\n",
    "index_menor_x = [i for i, o in len_menor_x]\n",
    "len(len_menor_x)"
   ]
  },
  {
   "cell_type": "code",
   "execution_count": 232,
   "metadata": {},
   "outputs": [],
   "source": [
    "df_copy.drop(index_menor_x, inplace=True)"
   ]
  },
  {
   "cell_type": "code",
   "execution_count": 233,
   "metadata": {},
   "outputs": [],
   "source": [
    "## hay que resetear los indices de nuevo.\n",
    "df_copy = df_copy.reset_index(drop=True)"
   ]
  },
  {
   "cell_type": "code",
   "execution_count": 234,
   "metadata": {},
   "outputs": [
    {
     "data": {
      "text/plain": [
       "[('exención', 'contribución'),\n",
       " ('buenas', 'tardes'),\n",
       " ('exoneración', 'contribución'),\n",
       " ('industriales', 'decreto'),\n",
       " ('continuidad', 'exención'),\n",
       " ('muchas', 'gracias'),\n",
       " ('cordial', 'saludo'),\n",
       " ('anexa', 'listado'),\n",
       " ('servicios', 'públicos'),\n",
       " ('rut', 'actualizado'),\n",
       " ('contribución', 'energía'),\n",
       " ('energía', 'industriales'),\n",
       " ('buenos', 'días'),\n",
       " ('solicitud', 'continuidad'),\n",
       " ('trata', 'comunicar'),\n",
       " ('falla', 'suministro'),\n",
       " ('antena', 'claro'),\n",
       " ('continuidad', 'beneficio'),\n",
       " ('comunicar', 'linea'),\n",
       " ('chec', 'anexa')]"
      ]
     },
     "execution_count": 234,
     "metadata": {},
     "output_type": "execute_result"
    }
   ],
   "source": [
    "## Remocion de los bi-gramas frecuentes sin valor semantico.\n",
    "\n",
    "bigram_measures = nltk.collocations.BigramAssocMeasures()\n",
    "trigram_measures = nltk.collocations.TrigramAssocMeasures()\n",
    "\n",
    "tokens = []\n",
    "for o in df_copy['OBSERVACION USUARIO']:\n",
    "    for token in word_tokenize(o):\n",
    "        tokens.append(token)\n",
    "        \n",
    "finder = BigramCollocationFinder.from_words(tokens)\n",
    "finder.nbest(bigram_measures.likelihood_ratio, 20)"
   ]
  },
  {
   "cell_type": "code",
   "execution_count": 235,
   "metadata": {},
   "outputs": [],
   "source": [
    "## solo se identifican estos un bi-gramaa que no generan valor:\n",
    "##\n",
    "df_copy['OBSERVACION USUARIO'] = df_copy['OBSERVACION USUARIO'].map(lambda x: x.replace('buena tarde', ''))\n",
    "df_copy['OBSERVACION USUARIO'] = df_copy['OBSERVACION USUARIO'].map(lambda x: x.replace('mucho gracia', ''))\n",
    "df_copy['OBSERVACION USUARIO'] = df_copy['OBSERVACION USUARIO'].map(lambda x: x.replace('buen día', ''))\n",
    "df_copy['OBSERVACION USUARIO'] = df_copy['OBSERVACION USUARIO'].map(lambda x: x.replace('cordial saludo', ''))\n",
    "df_copy['OBSERVACION USUARIO'] = df_copy['OBSERVACION USUARIO'].map(lambda x: x.replace('abril mayo', ''))  "
   ]
  },
  {
   "cell_type": "code",
   "execution_count": 236,
   "metadata": {},
   "outputs": [],
   "source": [
    "## Se eliminan espacios dobles\n",
    "##\n",
    "df_copy['OBSERVACION USUARIO'] = df_copy['OBSERVACION USUARIO'].map(lambda x: x.replace('  ', ' '))\n",
    "df_copy['OBSERVACION USUARIO'] = df_copy['OBSERVACION USUARIO'].map(lambda x: x.strip())"
   ]
  },
  {
   "cell_type": "code",
   "execution_count": 237,
   "metadata": {},
   "outputs": [
    {
     "data": {
      "text/plain": [
       "0       rad señores chec barrio maracay alumbrado públ...\n",
       "1       rad logrado pagar medio pse favor confirmar pa...\n",
       "2       hechos amparo castro osorio adquirí computador...\n",
       "3                                   rad duplicado factura\n",
       "4       buenas tardes solicito información acerca sigu...\n",
       "                              ...                        \n",
       "7046    renovatio trading americas relaciona cuenta el...\n",
       "7047    renovatio trading americas relaciona cuenta el...\n",
       "7048    usuario solicita cambio provisional definitivo...\n",
       "7049    usuario solicita cambio sistema monofásico bif...\n",
       "7050    requieren medidores tni aporta empresa cobros ...\n",
       "Name: OBSERVACION USUARIO, Length: 7051, dtype: object"
      ]
     },
     "execution_count": 237,
     "metadata": {},
     "output_type": "execute_result"
    }
   ],
   "source": [
    "## en lineas generales los textos han quedado así\n",
    "df_copy['OBSERVACION USUARIO']"
   ]
  },
  {
   "cell_type": "code",
   "execution_count": 238,
   "metadata": {},
   "outputs": [
    {
     "data": {
      "text/html": [
       "<div>\n",
       "<style scoped>\n",
       "    .dataframe tbody tr th:only-of-type {\n",
       "        vertical-align: middle;\n",
       "    }\n",
       "\n",
       "    .dataframe tbody tr th {\n",
       "        vertical-align: top;\n",
       "    }\n",
       "\n",
       "    .dataframe thead th {\n",
       "        text-align: right;\n",
       "    }\n",
       "</style>\n",
       "<table border=\"1\" class=\"dataframe\">\n",
       "  <thead>\n",
       "    <tr style=\"text-align: right;\">\n",
       "      <th></th>\n",
       "      <th>ID</th>\n",
       "      <th>forma_requerimiento</th>\n",
       "      <th>identificacion</th>\n",
       "      <th>solicitante</th>\n",
       "      <th>dir_solicitante</th>\n",
       "      <th>tipo_solicitud</th>\n",
       "      <th>cuenta</th>\n",
       "      <th>fec_solicitud</th>\n",
       "      <th>fec_vencmto</th>\n",
       "      <th>fec_rpta</th>\n",
       "      <th>...</th>\n",
       "      <th>CELULAR</th>\n",
       "      <th>EMAIL</th>\n",
       "      <th>CIRCUITO</th>\n",
       "      <th>NODO</th>\n",
       "      <th>UBICACION</th>\n",
       "      <th>CLASE_SERVICIO</th>\n",
       "      <th>ANIOMES</th>\n",
       "      <th>Tipo fuente</th>\n",
       "      <th>DOCUMENTO</th>\n",
       "      <th>len_obs</th>\n",
       "    </tr>\n",
       "  </thead>\n",
       "  <tbody>\n",
       "    <tr>\n",
       "      <th>0</th>\n",
       "      <td>PQR_201901_1887</td>\n",
       "      <td>pagina web</td>\n",
       "      <td>10082846</td>\n",
       "      <td>DIEGO  FRANCO BARCO</td>\n",
       "      <td>BRR MARACAY MNZ B CAS 4</td>\n",
       "      <td>peticion</td>\n",
       "      <td>152991693</td>\n",
       "      <td>28/01/2019</td>\n",
       "      <td>15/02/2019</td>\n",
       "      <td>31/01/2019</td>\n",
       "      <td>...</td>\n",
       "      <td>NaN</td>\n",
       "      <td>NaN</td>\n",
       "      <td>CAM23L12</td>\n",
       "      <td>D12071</td>\n",
       "      <td>U</td>\n",
       "      <td>Residencial</td>\n",
       "      <td>201901</td>\n",
       "      <td>PQR</td>\n",
       "      <td>NaN</td>\n",
       "      <td>400</td>\n",
       "    </tr>\n",
       "    <tr>\n",
       "      <th>1</th>\n",
       "      <td>PQR_201901_1912</td>\n",
       "      <td>pagina web</td>\n",
       "      <td>51655066</td>\n",
       "      <td>LUZ MARINA REYES</td>\n",
       "      <td>MNZ 27 CAS 40 CAMPESTRE D</td>\n",
       "      <td>queja</td>\n",
       "      <td>153997234</td>\n",
       "      <td>28/12/2018</td>\n",
       "      <td>21/01/2019</td>\n",
       "      <td>10/01/2019</td>\n",
       "      <td>...</td>\n",
       "      <td>3.18304e+09</td>\n",
       "      <td>NaN</td>\n",
       "      <td>CAM23L12</td>\n",
       "      <td>D12032</td>\n",
       "      <td>U</td>\n",
       "      <td>Residencial</td>\n",
       "      <td>201901</td>\n",
       "      <td>PQR</td>\n",
       "      <td>NaN</td>\n",
       "      <td>145</td>\n",
       "    </tr>\n",
       "    <tr>\n",
       "      <th>2</th>\n",
       "      <td>PQR_201901_1936</td>\n",
       "      <td>pagina web</td>\n",
       "      <td>30285814</td>\n",
       "      <td>AMPARO  CASTRO OSORIO</td>\n",
       "      <td>DIG 19A 8T 31 CAMPESTRE B</td>\n",
       "      <td>peticion</td>\n",
       "      <td>154952692</td>\n",
       "      <td>4/01/2019</td>\n",
       "      <td>25/01/2019</td>\n",
       "      <td>16/01/2019</td>\n",
       "      <td>...</td>\n",
       "      <td>3.14475e+09</td>\n",
       "      <td>NaN</td>\n",
       "      <td>CAM23L12</td>\n",
       "      <td>D12150</td>\n",
       "      <td>U</td>\n",
       "      <td>Residencial</td>\n",
       "      <td>201901</td>\n",
       "      <td>PQR</td>\n",
       "      <td>NaN</td>\n",
       "      <td>342</td>\n",
       "    </tr>\n",
       "  </tbody>\n",
       "</table>\n",
       "<p>3 rows × 36 columns</p>\n",
       "</div>"
      ],
      "text/plain": [
       "                ID forma_requerimiento identificacion            solicitante  \\\n",
       "0  PQR_201901_1887          pagina web       10082846    DIEGO  FRANCO BARCO   \n",
       "1  PQR_201901_1912          pagina web       51655066       LUZ MARINA REYES   \n",
       "2  PQR_201901_1936          pagina web       30285814  AMPARO  CASTRO OSORIO   \n",
       "\n",
       "             dir_solicitante tipo_solicitud     cuenta fec_solicitud  \\\n",
       "0    BRR MARACAY MNZ B CAS 4       peticion  152991693    28/01/2019   \n",
       "1  MNZ 27 CAS 40 CAMPESTRE D          queja  153997234    28/12/2018   \n",
       "2  DIG 19A 8T 31 CAMPESTRE B       peticion  154952692     4/01/2019   \n",
       "\n",
       "  fec_vencmto    fec_rpta  ...      CELULAR EMAIL  CIRCUITO    NODO UBICACION  \\\n",
       "0  15/02/2019  31/01/2019  ...          NaN   NaN  CAM23L12  D12071         U   \n",
       "1  21/01/2019  10/01/2019  ...  3.18304e+09   NaN  CAM23L12  D12032         U   \n",
       "2  25/01/2019  16/01/2019  ...  3.14475e+09   NaN  CAM23L12  D12150         U   \n",
       "\n",
       "  CLASE_SERVICIO ANIOMES Tipo fuente DOCUMENTO len_obs  \n",
       "0    Residencial  201901         PQR       NaN     400  \n",
       "1    Residencial  201901         PQR       NaN     145  \n",
       "2    Residencial  201901         PQR       NaN     342  \n",
       "\n",
       "[3 rows x 36 columns]"
      ]
     },
     "execution_count": 238,
     "metadata": {},
     "output_type": "execute_result"
    }
   ],
   "source": [
    "df_copy.head(3)"
   ]
  },
  {
   "cell_type": "code",
   "execution_count": 239,
   "metadata": {},
   "outputs": [
    {
     "data": {
      "text/plain": [
       "peticion             3980\n",
       "reclamo              1932\n",
       "queja                 586\n",
       "recurso               277\n",
       "pedidos/proyectos     276\n",
       "Name: tipo_solicitud, dtype: int64"
      ]
     },
     "execution_count": 239,
     "metadata": {},
     "output_type": "execute_result"
    }
   ],
   "source": [
    "df_copy['tipo_solicitud'].value_counts()"
   ]
  },
  {
   "cell_type": "code",
   "execution_count": 240,
   "metadata": {},
   "outputs": [],
   "source": [
    "## ----- A partir de aquí nos centraremos en equilibrar los tipos de solicitudes -----\n",
    "## la idea acá es balancear un poco la cantidad de registros entre categorias\n",
    "## las peticiones hay que reducirlas lo máximo posible podemos quedar al menos con\n",
    "## unas 1,500 al igual que los reclamos tener unos 1,500. Por el lado de los recursos\n",
    "## se ensayará creando unos registros sintéticos con LSTM."
   ]
  },
  {
   "cell_type": "code",
   "execution_count": 241,
   "metadata": {},
   "outputs": [],
   "source": [
    "datos = df_copy[['tipo_solicitud', 'tipo_solicitud_1', 'OBSERVACION USUARIO']]"
   ]
  },
  {
   "cell_type": "code",
   "execution_count": 242,
   "metadata": {},
   "outputs": [
    {
     "data": {
      "text/plain": [
       "peticion             3980\n",
       "reclamo              1932\n",
       "queja                 586\n",
       "recurso               277\n",
       "pedidos/proyectos     276\n",
       "Name: tipo_solicitud, dtype: int64"
      ]
     },
     "execution_count": 242,
     "metadata": {},
     "output_type": "execute_result"
    }
   ],
   "source": [
    "datos['tipo_solicitud'].value_counts()"
   ]
  },
  {
   "cell_type": "code",
   "execution_count": 243,
   "metadata": {},
   "outputs": [],
   "source": [
    "## Exploremos las peticiones y miremos como hacemos para depurarlas"
   ]
  },
  {
   "cell_type": "code",
   "execution_count": 244,
   "metadata": {},
   "outputs": [
    {
     "data": {
      "text/html": [
       "<div>\n",
       "<style scoped>\n",
       "    .dataframe tbody tr th:only-of-type {\n",
       "        vertical-align: middle;\n",
       "    }\n",
       "\n",
       "    .dataframe tbody tr th {\n",
       "        vertical-align: top;\n",
       "    }\n",
       "\n",
       "    .dataframe thead th {\n",
       "        text-align: right;\n",
       "    }\n",
       "</style>\n",
       "<table border=\"1\" class=\"dataframe\">\n",
       "  <thead>\n",
       "    <tr style=\"text-align: right;\">\n",
       "      <th></th>\n",
       "      <th>tipo_solicitud</th>\n",
       "      <th>tipo_solicitud_1</th>\n",
       "      <th>OBSERVACION USUARIO</th>\n",
       "    </tr>\n",
       "  </thead>\n",
       "  <tbody>\n",
       "    <tr>\n",
       "      <th>0</th>\n",
       "      <td>peticion</td>\n",
       "      <td>requerimiento competencia de otra empresa</td>\n",
       "      <td>rad señores chec barrio maracay alumbrado públ...</td>\n",
       "    </tr>\n",
       "    <tr>\n",
       "      <th>2</th>\n",
       "      <td>peticion</td>\n",
       "      <td>informacion general</td>\n",
       "      <td>hechos amparo castro osorio adquirí computador...</td>\n",
       "    </tr>\n",
       "    <tr>\n",
       "      <th>3</th>\n",
       "      <td>peticion</td>\n",
       "      <td>emision de documento para pago</td>\n",
       "      <td>rad duplicado factura</td>\n",
       "    </tr>\n",
       "  </tbody>\n",
       "</table>\n",
       "</div>"
      ],
      "text/plain": [
       "  tipo_solicitud                           tipo_solicitud_1  \\\n",
       "0       peticion  requerimiento competencia de otra empresa   \n",
       "2       peticion                        informacion general   \n",
       "3       peticion             emision de documento para pago   \n",
       "\n",
       "                                 OBSERVACION USUARIO  \n",
       "0  rad señores chec barrio maracay alumbrado públ...  \n",
       "2  hechos amparo castro osorio adquirí computador...  \n",
       "3                              rad duplicado factura  "
      ]
     },
     "execution_count": 244,
     "metadata": {},
     "output_type": "execute_result"
    }
   ],
   "source": [
    "datos_peticiones = datos[datos['tipo_solicitud']=='peticion'][['tipo_solicitud', 'tipo_solicitud_1', 'OBSERVACION USUARIO']]\n",
    "datos_peticiones.head(3)"
   ]
  },
  {
   "cell_type": "code",
   "execution_count": 245,
   "metadata": {},
   "outputs": [
    {
     "data": {
      "text/plain": [
       "exencion contribucion                                           1588\n",
       "informacion general                                              763\n",
       "cambio datos basicos                                             518\n",
       "trabajos tecnicos en med, trafos, acometidas o en infraestr.     168\n",
       "terminacion del contrato                                         161\n",
       "gestionar financiacion                                           127\n",
       "perjuicios por falla en la prestacion del servicio               120\n",
       "requerimiento competencia de otra empresa                         92\n",
       "devolucion o traslado de saldo a favor                            66\n",
       "traslado de deuda                                                 57\n",
       "emision de documento para pago                                    41\n",
       "separacion temporal o pago dirigido                               33\n",
       "requerimientos sspd o sic                                         29\n",
       "cambio de uso                                                     27\n",
       "poda de arboles                                                   21\n",
       "dano en equipo electrico                                          20\n",
       "suspension o corte del servicio                                   19\n",
       "requerimientos entes oficiales o entidades externa                17\n",
       "reclamacion extemporanea o agotada la via administ                13\n",
       "valores congelados                                                13\n",
       "condicion especial por solicitud del propietario                  13\n",
       "reconexion                                                         9\n",
       "pago de la factura de otro usuario                                 8\n",
       "direccion incorrecta                                               7\n",
       "aplicacion beneficio propiedad o venta de activos                  6\n",
       "pago parcial                                                       6\n",
       "modificacion de infraestructura por incumplimiento                 5\n",
       "devolucion y/o copia de documentos                                 5\n",
       "normalizar instalacion                                             5\n",
       "reinstalacion                                                      5\n",
       "solicitud constancia lectura                                       3\n",
       "tramite recurso de queja sspd                                      2\n",
       "facturacion a la fecha                                             2\n",
       "descongelados covid-19                                             2\n",
       "inscripcion, retiro o bloqueo de tarjeta pfs                       2\n",
       "cambio de plazo en la financiacion pfs                             2\n",
       "revision presunto sap                                              1\n",
       "estado deuda pfs                                                   1\n",
       "modificar cobros de terceros                                       1\n",
       "actualizacion por habeas data                                      1\n",
       "desenergizacion de infraestructura                                 1\n",
       "Name: tipo_solicitud_1, dtype: int64"
      ]
     },
     "execution_count": 245,
     "metadata": {},
     "output_type": "execute_result"
    }
   ],
   "source": [
    "datos_peticiones['tipo_solicitud_1'].value_counts()    "
   ]
  },
  {
   "cell_type": "code",
   "execution_count": 246,
   "metadata": {},
   "outputs": [],
   "source": [
    "peticiones_depurar = ['exencion contribucion',\n",
    "                     'informacion general',\n",
    "                     'cambio datos basicos']"
   ]
  },
  {
   "cell_type": "code",
   "execution_count": 247,
   "metadata": {},
   "outputs": [],
   "source": [
    "import random\n",
    "\n",
    "for p in peticiones_depurar:\n",
    "    temp = datos_peticiones[datos_peticiones['tipo_solicitud_1']==p]\n",
    "    indexes = temp.index\n",
    "    index_sample = random.sample(list(indexes), len(temp)-200)\n",
    "    datos_peticiones.drop(index_sample, inplace=True)"
   ]
  },
  {
   "cell_type": "code",
   "execution_count": 248,
   "metadata": {},
   "outputs": [
    {
     "data": {
      "text/plain": [
       "cambio datos basicos                                            200\n",
       "exencion contribucion                                           200\n",
       "informacion general                                             200\n",
       "trabajos tecnicos en med, trafos, acometidas o en infraestr.    168\n",
       "terminacion del contrato                                        161\n",
       "gestionar financiacion                                          127\n",
       "perjuicios por falla en la prestacion del servicio              120\n",
       "requerimiento competencia de otra empresa                        92\n",
       "devolucion o traslado de saldo a favor                           66\n",
       "traslado de deuda                                                57\n",
       "emision de documento para pago                                   41\n",
       "separacion temporal o pago dirigido                              33\n",
       "requerimientos sspd o sic                                        29\n",
       "cambio de uso                                                    27\n",
       "poda de arboles                                                  21\n",
       "dano en equipo electrico                                         20\n",
       "suspension o corte del servicio                                  19\n",
       "requerimientos entes oficiales o entidades externa               17\n",
       "condicion especial por solicitud del propietario                 13\n",
       "valores congelados                                               13\n",
       "reclamacion extemporanea o agotada la via administ               13\n",
       "reconexion                                                        9\n",
       "pago de la factura de otro usuario                                8\n",
       "direccion incorrecta                                              7\n",
       "pago parcial                                                      6\n",
       "aplicacion beneficio propiedad o venta de activos                 6\n",
       "reinstalacion                                                     5\n",
       "devolucion y/o copia de documentos                                5\n",
       "modificacion de infraestructura por incumplimiento                5\n",
       "normalizar instalacion                                            5\n",
       "solicitud constancia lectura                                      3\n",
       "inscripcion, retiro o bloqueo de tarjeta pfs                      2\n",
       "tramite recurso de queja sspd                                     2\n",
       "descongelados covid-19                                            2\n",
       "facturacion a la fecha                                            2\n",
       "cambio de plazo en la financiacion pfs                            2\n",
       "actualizacion por habeas data                                     1\n",
       "desenergizacion de infraestructura                                1\n",
       "estado deuda pfs                                                  1\n",
       "modificar cobros de terceros                                      1\n",
       "revision presunto sap                                             1\n",
       "Name: tipo_solicitud_1, dtype: int64"
      ]
     },
     "execution_count": 248,
     "metadata": {},
     "output_type": "execute_result"
    }
   ],
   "source": [
    "datos_peticiones['tipo_solicitud_1'].value_counts()"
   ]
  },
  {
   "cell_type": "code",
   "execution_count": 249,
   "metadata": {},
   "outputs": [
    {
     "data": {
      "text/plain": [
       "1711"
      ]
     },
     "execution_count": 249,
     "metadata": {},
     "output_type": "execute_result"
    }
   ],
   "source": [
    "len(datos_peticiones)"
   ]
  },
  {
   "cell_type": "code",
   "execution_count": 250,
   "metadata": {},
   "outputs": [],
   "source": [
    "## Exploremos los reclamos y miremos como hacemos para depurarlas"
   ]
  },
  {
   "cell_type": "code",
   "execution_count": 251,
   "metadata": {},
   "outputs": [
    {
     "data": {
      "text/html": [
       "<div>\n",
       "<style scoped>\n",
       "    .dataframe tbody tr th:only-of-type {\n",
       "        vertical-align: middle;\n",
       "    }\n",
       "\n",
       "    .dataframe tbody tr th {\n",
       "        vertical-align: top;\n",
       "    }\n",
       "\n",
       "    .dataframe thead th {\n",
       "        text-align: right;\n",
       "    }\n",
       "</style>\n",
       "<table border=\"1\" class=\"dataframe\">\n",
       "  <thead>\n",
       "    <tr style=\"text-align: right;\">\n",
       "      <th></th>\n",
       "      <th>tipo_solicitud</th>\n",
       "      <th>tipo_solicitud_1</th>\n",
       "      <th>OBSERVACION USUARIO</th>\n",
       "    </tr>\n",
       "  </thead>\n",
       "  <tbody>\n",
       "    <tr>\n",
       "      <th>5</th>\n",
       "      <td>reclamo</td>\n",
       "      <td>inconformidad con el consumo o produccion fact...</td>\n",
       "      <td>factura cobrndo concepto chec suma deseamos sa...</td>\n",
       "    </tr>\n",
       "    <tr>\n",
       "      <th>6</th>\n",
       "      <td>reclamo</td>\n",
       "      <td>cobros por conexion, reconexion, reinstalacion</td>\n",
       "      <td>legal colombia cobro reconexion liquidado</td>\n",
       "    </tr>\n",
       "    <tr>\n",
       "      <th>23</th>\n",
       "      <td>reclamo</td>\n",
       "      <td>inconformidad con el consumo o produccion fact...</td>\n",
       "      <td>regularmente paga factura energía ahora llegó ...</td>\n",
       "    </tr>\n",
       "  </tbody>\n",
       "</table>\n",
       "</div>"
      ],
      "text/plain": [
       "   tipo_solicitud                                   tipo_solicitud_1  \\\n",
       "5         reclamo  inconformidad con el consumo o produccion fact...   \n",
       "6         reclamo     cobros por conexion, reconexion, reinstalacion   \n",
       "23        reclamo  inconformidad con el consumo o produccion fact...   \n",
       "\n",
       "                                  OBSERVACION USUARIO  \n",
       "5   factura cobrndo concepto chec suma deseamos sa...  \n",
       "6           legal colombia cobro reconexion liquidado  \n",
       "23  regularmente paga factura energía ahora llegó ...  "
      ]
     },
     "execution_count": 251,
     "metadata": {},
     "output_type": "execute_result"
    }
   ],
   "source": [
    "datos_reclamo = datos[datos['tipo_solicitud']=='reclamo'][['tipo_solicitud', 'tipo_solicitud_1', 'OBSERVACION USUARIO']]\n",
    "datos_reclamo.head(3)"
   ]
  },
  {
   "cell_type": "code",
   "execution_count": 252,
   "metadata": {},
   "outputs": [
    {
     "data": {
      "text/plain": [
       "inconformidad con el consumo o produccion facturad    1622\n",
       "cobro de cargos relacionados con el servicio publi      92\n",
       "pago sin abono a cuenta                                 75\n",
       "cobros por promedio                                     25\n",
       "subsidios y contribuciones                              22\n",
       "cobros por conexion, reconexion, reinstalacion          19\n",
       "cobro de otros bienes o servicios en la factura         15\n",
       "estrato incorrecto                                      13\n",
       "cobro multiple y/o acumulado                            10\n",
       "tarifa incorrecta                                        7\n",
       "cobro de acuerdo de pago o financiacion                  6\n",
       "solicitud de rompimiento de solidaridad                  5\n",
       "clase de uso incorrecto                                  5\n",
       "inconformidad por cobros por normalizacion del ser       4\n",
       "cobro desconocido                                        4\n",
       "cobro por recuperacion de consumos                       3\n",
       "inconformidad con la informacion                         2\n",
       "cobro de revisiones                                      2\n",
       "cobros inoportunos                                       1\n",
       "Name: tipo_solicitud_1, dtype: int64"
      ]
     },
     "execution_count": 252,
     "metadata": {},
     "output_type": "execute_result"
    }
   ],
   "source": [
    "datos_reclamo['tipo_solicitud_1'].value_counts()"
   ]
  },
  {
   "cell_type": "code",
   "execution_count": 253,
   "metadata": {},
   "outputs": [],
   "source": [
    "temp = datos_reclamo[datos_reclamo['tipo_solicitud_1']=='inconformidad con el consumo o produccion facturad']\n",
    "indexes = temp.index\n",
    "index_sample = random.sample(list(indexes), len(temp)-1200)\n",
    "datos_reclamo.drop(index_sample, inplace=True)"
   ]
  },
  {
   "cell_type": "code",
   "execution_count": 254,
   "metadata": {},
   "outputs": [
    {
     "data": {
      "text/plain": [
       "inconformidad con el consumo o produccion facturad    1200\n",
       "cobro de cargos relacionados con el servicio publi      92\n",
       "pago sin abono a cuenta                                 75\n",
       "cobros por promedio                                     25\n",
       "subsidios y contribuciones                              22\n",
       "cobros por conexion, reconexion, reinstalacion          19\n",
       "cobro de otros bienes o servicios en la factura         15\n",
       "estrato incorrecto                                      13\n",
       "cobro multiple y/o acumulado                            10\n",
       "tarifa incorrecta                                        7\n",
       "cobro de acuerdo de pago o financiacion                  6\n",
       "solicitud de rompimiento de solidaridad                  5\n",
       "clase de uso incorrecto                                  5\n",
       "inconformidad por cobros por normalizacion del ser       4\n",
       "cobro desconocido                                        4\n",
       "cobro por recuperacion de consumos                       3\n",
       "inconformidad con la informacion                         2\n",
       "cobro de revisiones                                      2\n",
       "cobros inoportunos                                       1\n",
       "Name: tipo_solicitud_1, dtype: int64"
      ]
     },
     "execution_count": 254,
     "metadata": {},
     "output_type": "execute_result"
    }
   ],
   "source": [
    "datos_reclamo['tipo_solicitud_1'].value_counts()"
   ]
  },
  {
   "cell_type": "code",
   "execution_count": 255,
   "metadata": {},
   "outputs": [
    {
     "data": {
      "text/plain": [
       "1510"
      ]
     },
     "execution_count": 255,
     "metadata": {},
     "output_type": "execute_result"
    }
   ],
   "source": [
    "len(datos_reclamo)"
   ]
  },
  {
   "cell_type": "code",
   "execution_count": 256,
   "metadata": {},
   "outputs": [],
   "source": [
    "## Ahora sobre los recuros.\n",
    "## se ensayará creando unos registros sintéticos con LSTM"
   ]
  },
  {
   "cell_type": "code",
   "execution_count": 257,
   "metadata": {},
   "outputs": [
    {
     "data": {
      "text/html": [
       "<div>\n",
       "<style scoped>\n",
       "    .dataframe tbody tr th:only-of-type {\n",
       "        vertical-align: middle;\n",
       "    }\n",
       "\n",
       "    .dataframe tbody tr th {\n",
       "        vertical-align: top;\n",
       "    }\n",
       "\n",
       "    .dataframe thead th {\n",
       "        text-align: right;\n",
       "    }\n",
       "</style>\n",
       "<table border=\"1\" class=\"dataframe\">\n",
       "  <thead>\n",
       "    <tr style=\"text-align: right;\">\n",
       "      <th></th>\n",
       "      <th>tipo_solicitud</th>\n",
       "      <th>tipo_solicitud_1</th>\n",
       "      <th>OBSERVACION USUARIO</th>\n",
       "    </tr>\n",
       "  </thead>\n",
       "  <tbody>\n",
       "    <tr>\n",
       "      <th>917</th>\n",
       "      <td>recurso</td>\n",
       "      <td>solicitud de rompimiento de solidaridad</td>\n",
       "      <td>recurrente interpone recurso manifestando inco...</td>\n",
       "    </tr>\n",
       "    <tr>\n",
       "      <th>992</th>\n",
       "      <td>recurso</td>\n",
       "      <td>inconformidad con el consumo o produccion fact...</td>\n",
       "      <td>cliente manifista inconformidad respuesta pues...</td>\n",
       "    </tr>\n",
       "    <tr>\n",
       "      <th>1011</th>\n",
       "      <td>recurso</td>\n",
       "      <td>inconformidad con el consumo o produccion fact...</td>\n",
       "      <td>cliente manifiesta inconformidad consumo factu...</td>\n",
       "    </tr>\n",
       "  </tbody>\n",
       "</table>\n",
       "</div>"
      ],
      "text/plain": [
       "     tipo_solicitud                                   tipo_solicitud_1  \\\n",
       "917         recurso            solicitud de rompimiento de solidaridad   \n",
       "992         recurso  inconformidad con el consumo o produccion fact...   \n",
       "1011        recurso  inconformidad con el consumo o produccion fact...   \n",
       "\n",
       "                                    OBSERVACION USUARIO  \n",
       "917   recurrente interpone recurso manifestando inco...  \n",
       "992   cliente manifista inconformidad respuesta pues...  \n",
       "1011  cliente manifiesta inconformidad consumo factu...  "
      ]
     },
     "execution_count": 257,
     "metadata": {},
     "output_type": "execute_result"
    }
   ],
   "source": [
    "datos_recurso = datos[datos['tipo_solicitud']=='recurso'][['tipo_solicitud', 'tipo_solicitud_1', 'OBSERVACION USUARIO']]\n",
    "datos_recurso.head(3)"
   ]
  },
  {
   "cell_type": "code",
   "execution_count": 258,
   "metadata": {},
   "outputs": [],
   "source": [
    "## vamos a remover la puntuacion y los valores numericos de estas observaciones.\n",
    "## se dejaran los stopwords.\n",
    "##\n",
    "datos_recurso['OBSERVACION USUARIO'] = datos_recurso['OBSERVACION USUARIO'].map(lambda x: str(x))\n",
    "datos_recurso['OBSERVACION USUARIO'] = datos_recurso['OBSERVACION USUARIO'].map(lambda x: x.lower())\n",
    "datos_recurso['OBSERVACION USUARIO'] = datos_recurso['OBSERVACION USUARIO'].map(lambda x: ' '.join(re.findall(r'[a-záéíóúñ]{2,}', x)))"
   ]
  },
  {
   "cell_type": "code",
   "execution_count": 259,
   "metadata": {},
   "outputs": [
    {
     "data": {
      "text/plain": [
       "count    277.000000\n",
       "mean     213.386282\n",
       "std      148.211850\n",
       "min       22.000000\n",
       "25%       95.000000\n",
       "50%      169.000000\n",
       "75%      275.000000\n",
       "max      636.000000\n",
       "Name: len_obs, dtype: float64"
      ]
     },
     "execution_count": 259,
     "metadata": {},
     "output_type": "execute_result"
    }
   ],
   "source": [
    "datos_recurso['len_obs'] = datos_recurso['OBSERVACION USUARIO'].map(lambda x: len(x))\n",
    "datos_recurso['len_obs'].describe()"
   ]
  },
  {
   "cell_type": "code",
   "execution_count": 260,
   "metadata": {},
   "outputs": [],
   "source": [
    "## Se eliminan los recursos con len < 50\n",
    "##\n",
    "datos_recurso = datos_recurso.reset_index(drop=True)\n",
    "len_obs_usuario = [(i, len(o)) for i, o in enumerate(datos_recurso['OBSERVACION USUARIO'])]\n",
    "len_menor_x = [(i,o) for i, o in sorted(len_obs_usuario, key=lambda t: t[1]) if o <=50]\n",
    "index_menor_x = [i for i, o in len_menor_x]"
   ]
  },
  {
   "cell_type": "code",
   "execution_count": 261,
   "metadata": {},
   "outputs": [],
   "source": [
    "datos_recurso.drop(index_menor_x, inplace=True)"
   ]
  },
  {
   "cell_type": "code",
   "execution_count": 262,
   "metadata": {},
   "outputs": [
    {
     "data": {
      "text/plain": [
       "count    266.000000\n",
       "mean     220.575188\n",
       "std      146.861364\n",
       "min       51.000000\n",
       "25%      111.250000\n",
       "50%      171.500000\n",
       "75%      290.000000\n",
       "max      636.000000\n",
       "Name: len_obs, dtype: float64"
      ]
     },
     "execution_count": 262,
     "metadata": {},
     "output_type": "execute_result"
    }
   ],
   "source": [
    "datos_recurso['len_obs'].describe()"
   ]
  },
  {
   "cell_type": "code",
   "execution_count": 263,
   "metadata": {},
   "outputs": [],
   "source": [
    "## vamos a crear un nuevo df con todos los df depurados. \n",
    "##\n",
    "datos_pedidos = datos[datos['tipo_solicitud']=='pedidos/proyectos'][['tipo_solicitud', 'tipo_solicitud_1', 'OBSERVACION USUARIO']]\n",
    "datos_quejas = datos[datos['tipo_solicitud']=='queja'][['tipo_solicitud', 'tipo_solicitud_1', 'OBSERVACION USUARIO']]"
   ]
  },
  {
   "cell_type": "code",
   "execution_count": 264,
   "metadata": {},
   "outputs": [],
   "source": [
    "datos_md = pd.concat([datos_peticiones, datos_reclamo, datos_recurso, datos_pedidos, datos_quejas],\n",
    "                    names=['tipo_solicitud', 'tipo_solicitud_1', 'OBSERVACION USUARIO'],\n",
    "                    ignore_index=True)"
   ]
  },
  {
   "cell_type": "code",
   "execution_count": 265,
   "metadata": {},
   "outputs": [
    {
     "data": {
      "text/html": [
       "<div>\n",
       "<style scoped>\n",
       "    .dataframe tbody tr th:only-of-type {\n",
       "        vertical-align: middle;\n",
       "    }\n",
       "\n",
       "    .dataframe tbody tr th {\n",
       "        vertical-align: top;\n",
       "    }\n",
       "\n",
       "    .dataframe thead th {\n",
       "        text-align: right;\n",
       "    }\n",
       "</style>\n",
       "<table border=\"1\" class=\"dataframe\">\n",
       "  <thead>\n",
       "    <tr style=\"text-align: right;\">\n",
       "      <th></th>\n",
       "      <th>tipo_solicitud</th>\n",
       "      <th>tipo_solicitud_1</th>\n",
       "      <th>OBSERVACION USUARIO</th>\n",
       "      <th>len_obs</th>\n",
       "    </tr>\n",
       "  </thead>\n",
       "  <tbody>\n",
       "    <tr>\n",
       "      <th>0</th>\n",
       "      <td>peticion</td>\n",
       "      <td>requerimiento competencia de otra empresa</td>\n",
       "      <td>rad señores chec barrio maracay alumbrado públ...</td>\n",
       "      <td>NaN</td>\n",
       "    </tr>\n",
       "    <tr>\n",
       "      <th>1</th>\n",
       "      <td>peticion</td>\n",
       "      <td>emision de documento para pago</td>\n",
       "      <td>rad duplicado factura</td>\n",
       "      <td>NaN</td>\n",
       "    </tr>\n",
       "    <tr>\n",
       "      <th>2</th>\n",
       "      <td>peticion</td>\n",
       "      <td>emision de documento para pago</td>\n",
       "      <td>rad llego ultima factura cambio medidor pago</td>\n",
       "      <td>NaN</td>\n",
       "    </tr>\n",
       "    <tr>\n",
       "      <th>3</th>\n",
       "      <td>peticion</td>\n",
       "      <td>requerimiento competencia de otra empresa</td>\n",
       "      <td>ultima factura llego cobro alumbrado publico e...</td>\n",
       "      <td>NaN</td>\n",
       "    </tr>\n",
       "    <tr>\n",
       "      <th>4</th>\n",
       "      <td>peticion</td>\n",
       "      <td>dano en equipo electrico</td>\n",
       "      <td>dia diciembre corte energia quemo televisor ma...</td>\n",
       "      <td>NaN</td>\n",
       "    </tr>\n",
       "    <tr>\n",
       "      <th>...</th>\n",
       "      <td>...</td>\n",
       "      <td>...</td>\n",
       "      <td>...</td>\n",
       "      <td>...</td>\n",
       "    </tr>\n",
       "    <tr>\n",
       "      <th>4344</th>\n",
       "      <td>queja</td>\n",
       "      <td>inconformidad con el canal de atencion</td>\n",
       "      <td>solicitud traslado competencias sspd radicado ...</td>\n",
       "      <td>NaN</td>\n",
       "    </tr>\n",
       "    <tr>\n",
       "      <th>4345</th>\n",
       "      <td>queja</td>\n",
       "      <td>entrega inoportuna o no entrega de la factura</td>\n",
       "      <td>bnas noches dirijo ustedes predio ubicado call...</td>\n",
       "      <td>NaN</td>\n",
       "    </tr>\n",
       "    <tr>\n",
       "      <th>4346</th>\n",
       "      <td>queja</td>\n",
       "      <td>falla en la prestacion del servicio por contin...</td>\n",
       "      <td>solicitud traslado competencias sspd radicado ...</td>\n",
       "      <td>NaN</td>\n",
       "    </tr>\n",
       "    <tr>\n",
       "      <th>4347</th>\n",
       "      <td>queja</td>\n",
       "      <td>inconformidad con el canal de atencion</td>\n",
       "      <td>solicitud traslado sspd radicado trata comunic...</td>\n",
       "      <td>NaN</td>\n",
       "    </tr>\n",
       "    <tr>\n",
       "      <th>4348</th>\n",
       "      <td>queja</td>\n",
       "      <td>inconformidad con el canal de atencion</td>\n",
       "      <td>solicitud traslado competencia empresa energía...</td>\n",
       "      <td>NaN</td>\n",
       "    </tr>\n",
       "  </tbody>\n",
       "</table>\n",
       "<p>4349 rows × 4 columns</p>\n",
       "</div>"
      ],
      "text/plain": [
       "     tipo_solicitud                                   tipo_solicitud_1  \\\n",
       "0          peticion          requerimiento competencia de otra empresa   \n",
       "1          peticion                     emision de documento para pago   \n",
       "2          peticion                     emision de documento para pago   \n",
       "3          peticion          requerimiento competencia de otra empresa   \n",
       "4          peticion                           dano en equipo electrico   \n",
       "...             ...                                                ...   \n",
       "4344          queja             inconformidad con el canal de atencion   \n",
       "4345          queja      entrega inoportuna o no entrega de la factura   \n",
       "4346          queja  falla en la prestacion del servicio por contin...   \n",
       "4347          queja             inconformidad con el canal de atencion   \n",
       "4348          queja             inconformidad con el canal de atencion   \n",
       "\n",
       "                                    OBSERVACION USUARIO  len_obs  \n",
       "0     rad señores chec barrio maracay alumbrado públ...      NaN  \n",
       "1                                 rad duplicado factura      NaN  \n",
       "2          rad llego ultima factura cambio medidor pago      NaN  \n",
       "3     ultima factura llego cobro alumbrado publico e...      NaN  \n",
       "4     dia diciembre corte energia quemo televisor ma...      NaN  \n",
       "...                                                 ...      ...  \n",
       "4344  solicitud traslado competencias sspd radicado ...      NaN  \n",
       "4345  bnas noches dirijo ustedes predio ubicado call...      NaN  \n",
       "4346  solicitud traslado competencias sspd radicado ...      NaN  \n",
       "4347  solicitud traslado sspd radicado trata comunic...      NaN  \n",
       "4348  solicitud traslado competencia empresa energía...      NaN  \n",
       "\n",
       "[4349 rows x 4 columns]"
      ]
     },
     "execution_count": 265,
     "metadata": {},
     "output_type": "execute_result"
    }
   ],
   "source": [
    "datos_md"
   ]
  },
  {
   "cell_type": "code",
   "execution_count": 266,
   "metadata": {},
   "outputs": [
    {
     "data": {
      "text/plain": [
       "peticion             1711\n",
       "reclamo              1510\n",
       "queja                 586\n",
       "pedidos/proyectos     276\n",
       "recurso               266\n",
       "Name: tipo_solicitud, dtype: int64"
      ]
     },
     "execution_count": 266,
     "metadata": {},
     "output_type": "execute_result"
    }
   ],
   "source": [
    "## el data frame con el se ensayará el nuevo modelo luce entonces así\n",
    "##\n",
    "datos_md['tipo_solicitud'].value_counts()"
   ]
  },
  {
   "cell_type": "code",
   "execution_count": 294,
   "metadata": {},
   "outputs": [],
   "source": [
    "'''datos_md.to_csv('PQR_modelo_web_email.csv',\n",
    "                sep=',',\n",
    "                header=datos_md.columns,\n",
    "                index=False)'''"
   ]
  },
  {
   "cell_type": "markdown",
   "metadata": {},
   "source": [
    "Hasta acá se trabajó en el parte de exploración y preprocesamiento. Como resume, se trabajará con los siguientes registros:\n",
    "- peticion             1711\n",
    "- reclamo              1510\n",
    "- queja                 586\n",
    "- pedidos/proyectos     276\n",
    "- recurso               266"
   ]
  },
  {
   "cell_type": "markdown",
   "metadata": {},
   "source": [
    "### Entranamiento del modelo"
   ]
  },
  {
   "cell_type": "markdown",
   "metadata": {},
   "source": [
    "En esta sección se entrenará una máquina de soporte vectorial con kernel lineal y un factor C= 10. La división de los datos se hace de forma aleatoria y estratificada. La extracción de caracteristicas se hizo con TF-IDF. Se añade al pipeline una reducción de dimensiones con SVD"
   ]
  },
  {
   "cell_type": "markdown",
   "metadata": {},
   "source": [
    "* Uso de LSA para reducción de dimensiones"
   ]
  },
  {
   "cell_type": "code",
   "execution_count": 267,
   "metadata": {},
   "outputs": [],
   "source": [
    "from sklearn.feature_extraction.text import TfidfVectorizer\n",
    "from gensim import corpora\n",
    "from gensim.models import lsimodel"
   ]
  },
  {
   "cell_type": "code",
   "execution_count": 268,
   "metadata": {},
   "outputs": [],
   "source": [
    "term_matrix = TfidfVectorizer().fit_transform(datos_md['OBSERVACION USUARIO']) # se saca la matriz TF-IDF\n",
    "num_ft = term_matrix.shape[0] # numero de términos"
   ]
  },
  {
   "cell_type": "code",
   "execution_count": 269,
   "metadata": {},
   "outputs": [
    {
     "data": {
      "text/plain": [
       "4349"
      ]
     },
     "execution_count": 269,
     "metadata": {},
     "output_type": "execute_result"
    }
   ],
   "source": [
    "num_ft"
   ]
  },
  {
   "cell_type": "code",
   "execution_count": 270,
   "metadata": {},
   "outputs": [
    {
     "name": "stderr",
     "output_type": "stream",
     "text": [
      "<__array_function__ internals>:5: SparseEfficiencyWarning: Comparing a sparse matrix with 0 using == is inefficient, try using != instead.\n"
     ]
    }
   ],
   "source": [
    "from numpy.linalg import matrix_rank\n",
    "m_rank = matrix_rank(term_matrix)"
   ]
  },
  {
   "cell_type": "code",
   "execution_count": 271,
   "metadata": {},
   "outputs": [],
   "source": [
    "# lsimodel.Projection(num_ft, m_rank, docs=term_matrix)"
   ]
  },
  {
   "cell_type": "markdown",
   "metadata": {},
   "source": [
    "El kernel colapsa corriendo esto, creo que para la projección se necesita una matriz cuadrada, después tal vez si se podría hacer la projección en un espacio menor de la matriz TF-IDF"
   ]
  },
  {
   "cell_type": "code",
   "execution_count": 272,
   "metadata": {},
   "outputs": [
    {
     "name": "stdout",
     "output_type": "stream",
     "text": [
      "El accuracy en entrenamiento es de 0.872\n"
     ]
    }
   ],
   "source": [
    "from sklearn.feature_extraction.text import TfidfVectorizer\n",
    "from sklearn.model_selection import train_test_split\n",
    "from sklearn.svm import LinearSVC\n",
    "from sklearn.svm import SVC\n",
    "from sklearn.pipeline import Pipeline\n",
    "from sklearn import preprocessing\n",
    "from sklearn.decomposition import TruncatedSVD\n",
    "\n",
    "x = datos_md['OBSERVACION USUARIO']\n",
    "y = datos_md['tipo_solicitud']\n",
    "\n",
    "x_train, x_test, y_train, y_test = train_test_split(x, y, test_size=0.33, random_state=2022021, stratify=y)\n",
    "\n",
    "text_clf = Pipeline([('tfidf', TfidfVectorizer(max_df=0.95, min_df=2)),\n",
    "                     ('svd', TruncatedSVD(n_components=200)),\n",
    "                     ('svm', LinearSVC(C=10, random_state=1022021, max_iter=7000))])\n",
    "#peticion_clf = Pipeline([('tfidf', TfidfVectorizer()), ('scl', preprocessing.StandardScaler(with_mean=False)),\n",
    "#                         ('svm', SVC(C=10, kernel='rbf', random_state=10022021, max_iter=2000))])\n",
    "\n",
    "train_acc = text_clf.fit(x_train, y_train).score(x_train, y_train)\n",
    "print(f\"El accuracy en entrenamiento es de {round(train_acc, 3)}\")"
   ]
  },
  {
   "cell_type": "code",
   "execution_count": 273,
   "metadata": {},
   "outputs": [
    {
     "name": "stdout",
     "output_type": "stream",
     "text": [
      "El accuracy en validación es de 0.797 (dif: 7.56%)\n"
     ]
    }
   ],
   "source": [
    "from sklearn import metrics\n",
    "\n",
    "predictions = text_clf.predict(x_test)\n",
    "test_acc = metrics.accuracy_score(y_test, predictions)\n",
    "\n",
    "print(f\"El accuracy en validación es de {round(test_acc, 3)} (dif: {round((train_acc-test_acc)*100, 2)}%)\")"
   ]
  },
  {
   "cell_type": "code",
   "execution_count": 274,
   "metadata": {},
   "outputs": [
    {
     "name": "stdout",
     "output_type": "stream",
     "text": [
      "                   precision    recall  f1-score   support\n",
      "\n",
      "pedidos/proyectos       0.81      0.59      0.68        91\n",
      "         peticion       0.78      0.85      0.81       565\n",
      "            queja       0.83      0.65      0.73       193\n",
      "          reclamo       0.82      0.87      0.84       499\n",
      "          recurso       0.72      0.57      0.64        88\n",
      "\n",
      "         accuracy                           0.80      1436\n",
      "        macro avg       0.79      0.71      0.74      1436\n",
      "     weighted avg       0.80      0.80      0.79      1436\n",
      "\n"
     ]
    }
   ],
   "source": [
    "print(metrics.classification_report(y_test, predictions))"
   ]
  },
  {
   "cell_type": "markdown",
   "metadata": {},
   "source": [
    "Las clases están muy desbalanceadas , sin embargo si intentamos nivelarlas creo que ya quedan muy pocas y sria complejo entrenar el modelo con esa cantidad de registros. veo una vía:\n",
    "- buscar métodos de clasificación de texto con sets de datos reducidos"
   ]
  },
  {
   "cell_type": "code",
   "execution_count": 275,
   "metadata": {},
   "outputs": [
    {
     "name": "stdout",
     "output_type": "stream",
     "text": [
      "Precisión del clasificador: 79.67 \n",
      "\n",
      "Matriz de Confusión: \n",
      " [[ 54  33   4   0   0]\n",
      " [  9 482  18  50   6]\n",
      " [  3  45 125  16   4]\n",
      " [  1  53   3 433   9]\n",
      " [  0   7   0  31  50]]\n"
     ]
    },
    {
     "data": {
      "text/plain": [
       "<AxesSubplot:>"
      ]
     },
     "execution_count": 275,
     "metadata": {},
     "output_type": "execute_result"
    },
    {
     "data": {
      "image/png": "[encoded data removed]",
      "text/plain": [
       "<Figure size 432x288 with 1 Axes>"
      ]
     },
     "metadata": {
      "needs_background": "light"
     },
     "output_type": "display_data"
    }
   ],
   "source": [
    "import seaborn as sns\n",
    "\n",
    "#Calculamos la precisión y mostramos la matriz de confusión\n",
    "acc = metrics.accuracy_score(y_test, predictions)\n",
    "mat = metrics.confusion_matrix(y_test, predictions)\n",
    "\n",
    "print (\"Precisión del clasificador: %.2f \" %(acc*100.0) )\n",
    "print (\"\\nMatriz de Confusión: \\n\", mat)\n",
    "\n",
    "#Esta es otra forma de ver la matriz de confusión\n",
    "sns.heatmap(mat, square=True, annot=True, fmt=\"d\", cbar=False, cmap=\"Blues\")"
   ]
  },
  {
   "cell_type": "code",
   "execution_count": 276,
   "metadata": {},
   "outputs": [
    {
     "name": "stdout",
     "output_type": "stream",
     "text": [
      "Accuracy: 81.43 (+/-2.19)\n"
     ]
    }
   ],
   "source": [
    "## Validación cruzada.\n",
    "#\n",
    "from sklearn import model_selection\n",
    "x_train_tfidf = TfidfVectorizer(max_df=0.95, min_df=2).fit_transform(x_train)\n",
    "\n",
    "x_train_tfidf = TruncatedSVD(n_components=200).fit_transform(x_train_tfidf)\n",
    "\n",
    "kfold = model_selection.StratifiedKFold(n_splits=10)\n",
    "score = model_selection.cross_val_score(LinearSVC(C=10, random_state=1022021, max_iter=7000), x_train_tfidf, y_train, cv=kfold, scoring='accuracy')\n",
    "#score = model_selection.cross_val_score(SVC(C=10, kernel='rbf', random_state=10022021, max_iter=5000), x_train_tfidf, y_train, cv=kfold, scoring='accuracy')\n",
    "print(f\"Accuracy: {round(score.mean()*100, 2)} (+/-{round(score.std()*100, 2)})\")"
   ]
  },
  {
   "cell_type": "code",
   "execution_count": 277,
   "metadata": {},
   "outputs": [
    {
     "data": {
      "text/plain": [
       "(4349, 9191)"
      ]
     },
     "execution_count": 277,
     "metadata": {},
     "output_type": "execute_result"
    }
   ],
   "source": [
    "## Desde acá se explorarán las curvas ROC y el AUC para cada tipo de solicitud.\n",
    "##\n",
    "M = TfidfVectorizer().fit_transform(datos_md['OBSERVACION USUARIO'])\n",
    "M.shape"
   ]
  },
  {
   "cell_type": "code",
   "execution_count": 278,
   "metadata": {},
   "outputs": [],
   "source": [
    "tipo_sol_int = []\n",
    "for t in datos_md['tipo_solicitud']:\n",
    "    if t == 'peticion':\n",
    "        tipo_sol_int.append(0)\n",
    "    elif t == 'queja':\n",
    "        tipo_sol_int.append(1)\n",
    "    elif t == 'reclamo':\n",
    "        tipo_sol_int.append(2)\n",
    "    elif t == 'pedidos/proyectos':\n",
    "        tipo_sol_int.append(3)\n",
    "    else:\n",
    "        tipo_sol_int.append(4)\n",
    "datos_md['tipo_sol_int'] = tipo_sol_int"
   ]
  },
  {
   "cell_type": "code",
   "execution_count": 279,
   "metadata": {},
   "outputs": [],
   "source": [
    "datos_md['tipo_sol_int'] = tipo_sol_int"
   ]
  },
  {
   "cell_type": "code",
   "execution_count": 280,
   "metadata": {},
   "outputs": [
    {
     "data": {
      "text/html": [
       "<div>\n",
       "<style scoped>\n",
       "    .dataframe tbody tr th:only-of-type {\n",
       "        vertical-align: middle;\n",
       "    }\n",
       "\n",
       "    .dataframe tbody tr th {\n",
       "        vertical-align: top;\n",
       "    }\n",
       "\n",
       "    .dataframe thead th {\n",
       "        text-align: right;\n",
       "    }\n",
       "</style>\n",
       "<table border=\"1\" class=\"dataframe\">\n",
       "  <thead>\n",
       "    <tr style=\"text-align: right;\">\n",
       "      <th></th>\n",
       "      <th>tipo_solicitud</th>\n",
       "      <th>tipo_solicitud_1</th>\n",
       "      <th>OBSERVACION USUARIO</th>\n",
       "      <th>len_obs</th>\n",
       "      <th>tipo_sol_int</th>\n",
       "    </tr>\n",
       "  </thead>\n",
       "  <tbody>\n",
       "    <tr>\n",
       "      <th>0</th>\n",
       "      <td>peticion</td>\n",
       "      <td>requerimiento competencia de otra empresa</td>\n",
       "      <td>rad señores chec barrio maracay alumbrado públ...</td>\n",
       "      <td>NaN</td>\n",
       "      <td>0</td>\n",
       "    </tr>\n",
       "    <tr>\n",
       "      <th>1</th>\n",
       "      <td>peticion</td>\n",
       "      <td>emision de documento para pago</td>\n",
       "      <td>rad duplicado factura</td>\n",
       "      <td>NaN</td>\n",
       "      <td>0</td>\n",
       "    </tr>\n",
       "    <tr>\n",
       "      <th>2</th>\n",
       "      <td>peticion</td>\n",
       "      <td>emision de documento para pago</td>\n",
       "      <td>rad llego ultima factura cambio medidor pago</td>\n",
       "      <td>NaN</td>\n",
       "      <td>0</td>\n",
       "    </tr>\n",
       "    <tr>\n",
       "      <th>3</th>\n",
       "      <td>peticion</td>\n",
       "      <td>requerimiento competencia de otra empresa</td>\n",
       "      <td>ultima factura llego cobro alumbrado publico e...</td>\n",
       "      <td>NaN</td>\n",
       "      <td>0</td>\n",
       "    </tr>\n",
       "    <tr>\n",
       "      <th>4</th>\n",
       "      <td>peticion</td>\n",
       "      <td>dano en equipo electrico</td>\n",
       "      <td>dia diciembre corte energia quemo televisor ma...</td>\n",
       "      <td>NaN</td>\n",
       "      <td>0</td>\n",
       "    </tr>\n",
       "    <tr>\n",
       "      <th>...</th>\n",
       "      <td>...</td>\n",
       "      <td>...</td>\n",
       "      <td>...</td>\n",
       "      <td>...</td>\n",
       "      <td>...</td>\n",
       "    </tr>\n",
       "    <tr>\n",
       "      <th>4344</th>\n",
       "      <td>queja</td>\n",
       "      <td>inconformidad con el canal de atencion</td>\n",
       "      <td>solicitud traslado competencias sspd radicado ...</td>\n",
       "      <td>NaN</td>\n",
       "      <td>1</td>\n",
       "    </tr>\n",
       "    <tr>\n",
       "      <th>4345</th>\n",
       "      <td>queja</td>\n",
       "      <td>entrega inoportuna o no entrega de la factura</td>\n",
       "      <td>bnas noches dirijo ustedes predio ubicado call...</td>\n",
       "      <td>NaN</td>\n",
       "      <td>1</td>\n",
       "    </tr>\n",
       "    <tr>\n",
       "      <th>4346</th>\n",
       "      <td>queja</td>\n",
       "      <td>falla en la prestacion del servicio por contin...</td>\n",
       "      <td>solicitud traslado competencias sspd radicado ...</td>\n",
       "      <td>NaN</td>\n",
       "      <td>1</td>\n",
       "    </tr>\n",
       "    <tr>\n",
       "      <th>4347</th>\n",
       "      <td>queja</td>\n",
       "      <td>inconformidad con el canal de atencion</td>\n",
       "      <td>solicitud traslado sspd radicado trata comunic...</td>\n",
       "      <td>NaN</td>\n",
       "      <td>1</td>\n",
       "    </tr>\n",
       "    <tr>\n",
       "      <th>4348</th>\n",
       "      <td>queja</td>\n",
       "      <td>inconformidad con el canal de atencion</td>\n",
       "      <td>solicitud traslado competencia empresa energía...</td>\n",
       "      <td>NaN</td>\n",
       "      <td>1</td>\n",
       "    </tr>\n",
       "  </tbody>\n",
       "</table>\n",
       "<p>4349 rows × 5 columns</p>\n",
       "</div>"
      ],
      "text/plain": [
       "     tipo_solicitud                                   tipo_solicitud_1  \\\n",
       "0          peticion          requerimiento competencia de otra empresa   \n",
       "1          peticion                     emision de documento para pago   \n",
       "2          peticion                     emision de documento para pago   \n",
       "3          peticion          requerimiento competencia de otra empresa   \n",
       "4          peticion                           dano en equipo electrico   \n",
       "...             ...                                                ...   \n",
       "4344          queja             inconformidad con el canal de atencion   \n",
       "4345          queja      entrega inoportuna o no entrega de la factura   \n",
       "4346          queja  falla en la prestacion del servicio por contin...   \n",
       "4347          queja             inconformidad con el canal de atencion   \n",
       "4348          queja             inconformidad con el canal de atencion   \n",
       "\n",
       "                                    OBSERVACION USUARIO  len_obs  tipo_sol_int  \n",
       "0     rad señores chec barrio maracay alumbrado públ...      NaN             0  \n",
       "1                                 rad duplicado factura      NaN             0  \n",
       "2          rad llego ultima factura cambio medidor pago      NaN             0  \n",
       "3     ultima factura llego cobro alumbrado publico e...      NaN             0  \n",
       "4     dia diciembre corte energia quemo televisor ma...      NaN             0  \n",
       "...                                                 ...      ...           ...  \n",
       "4344  solicitud traslado competencias sspd radicado ...      NaN             1  \n",
       "4345  bnas noches dirijo ustedes predio ubicado call...      NaN             1  \n",
       "4346  solicitud traslado competencias sspd radicado ...      NaN             1  \n",
       "4347  solicitud traslado sspd radicado trata comunic...      NaN             1  \n",
       "4348  solicitud traslado competencia empresa energía...      NaN             1  \n",
       "\n",
       "[4349 rows x 5 columns]"
      ]
     },
     "execution_count": 280,
     "metadata": {},
     "output_type": "execute_result"
    }
   ],
   "source": [
    "datos_md"
   ]
  },
  {
   "cell_type": "code",
   "execution_count": 281,
   "metadata": {},
   "outputs": [
    {
     "data": {
      "text/plain": [
       "array([[1, 0, 0, 0, 0],\n",
       "       [1, 0, 0, 0, 0],\n",
       "       [1, 0, 0, 0, 0],\n",
       "       ...,\n",
       "       [0, 1, 0, 0, 0],\n",
       "       [0, 1, 0, 0, 0],\n",
       "       [0, 1, 0, 0, 0]])"
      ]
     },
     "execution_count": 281,
     "metadata": {},
     "output_type": "execute_result"
    }
   ],
   "source": [
    "from sklearn.preprocessing import label_binarize\n",
    "\n",
    "label_binarize(datos_md['tipo_sol_int'], classes=[0,1,2,3,4])"
   ]
  },
  {
   "cell_type": "code",
   "execution_count": 282,
   "metadata": {},
   "outputs": [
    {
     "name": "stdout",
     "output_type": "stream",
     "text": [
      "Average precision score, micro-averaged over all classes: 0.86\n"
     ]
    },
    {
     "data": {
      "image/png": "[encoded data removed]",
      "text/plain": [
       "<Figure size 504x576 with 1 Axes>"
      ]
     },
     "metadata": {
      "needs_background": "light"
     },
     "output_type": "display_data"
    }
   ],
   "source": [
    "## Curva PR y F1\n",
    "## La curva PR (precission-recall) es una opción apta para evaluar rendimiento de clasificadores\n",
    "## donde las clases estan desbalanceadas. esta medida nos pernite observar la relacion entre\n",
    "## la precision del clasificador y su sensibilidad.\n",
    "##\n",
    "from sklearn.multiclass import OneVsRestClassifier\n",
    "from itertools import cycle\n",
    "from sklearn.preprocessing import label_binarize\n",
    "from sklearn.metrics import precision_recall_curve\n",
    "from sklearn.metrics import average_precision_score\n",
    "\n",
    "x = TfidfVectorizer(max_df=0.95, min_df=2).fit_transform(datos_md['OBSERVACION USUARIO'])\n",
    "x = TruncatedSVD(n_components=100).fit_transform(x)\n",
    "\n",
    "y = label_binarize(datos_md['tipo_sol_int'], classes=[0,1,2,3,4])\n",
    "n_classes = 5\n",
    "\n",
    "# shuffle and split training and test sets\n",
    "x_train, x_test, y_train, y_test =\\\n",
    "    train_test_split(x, y, test_size=0.33, random_state=0, stratify=y)\n",
    "\n",
    "# ROC y AUC solo sirven en espacios de clasificacion binarios, por esta razon se \n",
    "# entrena un clasificador binario uno vs todos\n",
    "clf = OneVsRestClassifier(LinearSVC(C=10, random_state=1022021, max_iter=7000))\n",
    "#clf = OneVsRestClassifier(SVC(C=10, kernel='rbf', random_state=10022021, max_iter=5000))\n",
    "y_score = clf.fit(x_train, y_train).decision_function(x_test)\n",
    "\n",
    "# For each class\n",
    "precision = dict()\n",
    "recall = dict()\n",
    "average_precision = dict()\n",
    "for i in range(n_classes):\n",
    "    precision[i], recall[i], _ = precision_recall_curve(y_test[:, i],\n",
    "                                                        y_score[:, i])\n",
    "    average_precision[i] = average_precision_score(y_test[:, i], y_score[:, i])\n",
    "\n",
    "# A \"micro-average\": quantifying score on all classes jointly\n",
    "precision[\"micro\"], recall[\"micro\"], _ = precision_recall_curve(y_test.ravel(),\n",
    "    y_score.ravel())\n",
    "average_precision[\"micro\"] = average_precision_score(y_test, y_score,\n",
    "                                                     average=\"micro\")\n",
    "print('Average precision score, micro-averaged over all classes: {0:0.2f}'\n",
    "      .format(average_precision[\"micro\"]))\n",
    "\n",
    "# setup plot details\n",
    "colors = cycle(['navy', 'turquoise', 'darkorange', 'cornflowerblue', 'teal'])\n",
    "\n",
    "plt.figure(figsize=(7, 8))\n",
    "f_scores = np.linspace(0.2, 0.8, num=4)\n",
    "lines = []\n",
    "labels = []\n",
    "for f_score in f_scores:\n",
    "    x = np.linspace(0.01, 1)\n",
    "    y = f_score * x / (2 * x - f_score)\n",
    "    l, = plt.plot(x[y >= 0], y[y >= 0], color='gray', alpha=0.2)\n",
    "    plt.annotate('f1={0:0.1f}'.format(f_score), xy=(0.9, y[45] + 0.02))\n",
    "\n",
    "lines.append(l)\n",
    "labels.append('iso-f1 curves')\n",
    "l, = plt.plot(recall[\"micro\"], precision[\"micro\"], color='gold', lw=2)\n",
    "lines.append(l)\n",
    "labels.append('micro-average Precision-recall (area = {0:0.2f})'\n",
    "              ''.format(average_precision[\"micro\"]))\n",
    "\n",
    "for i, color in zip(range(n_classes), colors):\n",
    "    l, = plt.plot(recall[i], precision[i], color=color, lw=2)\n",
    "    lines.append(l)\n",
    "    labels.append('Precision-recall for class {0} (area = {1:0.2f})'\n",
    "                  ''.format(i, average_precision[i]))\n",
    "\n",
    "fig = plt.gcf()\n",
    "fig.subplots_adjust(bottom=0.25)\n",
    "plt.xlim([0.0, 1.0])\n",
    "plt.ylim([0.0, 1.05])\n",
    "plt.xlabel('Recall')\n",
    "plt.ylabel('Precision')\n",
    "plt.title('Extension of Precision-Recall curve to multi-class')\n",
    "plt.legend(lines, labels, loc=(0, -.38), prop=dict(size=10))\n",
    "\n",
    "\n",
    "plt.show()"
   ]
  },
  {
   "cell_type": "code",
   "execution_count": 283,
   "metadata": {},
   "outputs": [
    {
     "data": {
      "text/plain": [
       "'quiero envien copia factura correo electronico'"
      ]
     },
     "execution_count": 283,
     "metadata": {},
     "output_type": "execute_result"
    }
   ],
   "source": [
    "## Ensayo Peticion\n",
    "text_ensayo = text_normalization('quiero que me envien una copia de la factura al correo electronico')\n",
    "text_ensayo"
   ]
  },
  {
   "cell_type": "code",
   "execution_count": 284,
   "metadata": {},
   "outputs": [
    {
     "data": {
      "text/plain": [
       "array(['peticion'], dtype=object)"
      ]
     },
     "execution_count": 284,
     "metadata": {},
     "output_type": "execute_result"
    }
   ],
   "source": [
    "text_clf.predict([text_ensayo])"
   ]
  },
  {
   "cell_type": "code",
   "execution_count": 285,
   "metadata": {},
   "outputs": [
    {
     "data": {
      "text/plain": [
       "'cobros luz incrementado ultimo mes'"
      ]
     },
     "execution_count": 285,
     "metadata": {},
     "output_type": "execute_result"
    }
   ],
   "source": [
    "## Ensayo Reclamo\n",
    "text_ensayo = text_normalization('por que los cobros de la luz se han incrementado tanto en el ultimo mes')\n",
    "text_ensayo"
   ]
  },
  {
   "cell_type": "code",
   "execution_count": 286,
   "metadata": {},
   "outputs": [
    {
     "data": {
      "text/plain": [
       "array(['reclamo'], dtype=object)"
      ]
     },
     "execution_count": 286,
     "metadata": {},
     "output_type": "execute_result"
    }
   ],
   "source": [
    "text_clf.predict([text_ensayo])"
   ]
  },
  {
   "cell_type": "code",
   "execution_count": 287,
   "metadata": {},
   "outputs": [
    {
     "data": {
      "text/plain": [
       "'quisiera removieran poste luz lado casa construiré segunda planta obstruye obra'"
      ]
     },
     "execution_count": 287,
     "metadata": {},
     "output_type": "execute_result"
    }
   ],
   "source": [
    "## Ensayo Pedidos/Proyectos\n",
    "text_ensayo = text_normalization('quisiera que removieran el poste de luz que hay al lado de mi casa ya que construiré una segunda planta y este obstruye la obra')\n",
    "text_ensayo"
   ]
  },
  {
   "cell_type": "code",
   "execution_count": 288,
   "metadata": {},
   "outputs": [
    {
     "data": {
      "text/plain": [
       "array(['peticion'], dtype=object)"
      ]
     },
     "execution_count": 288,
     "metadata": {},
     "output_type": "execute_result"
    }
   ],
   "source": [
    "text_clf.predict([text_ensayo])"
   ]
  },
  {
   "cell_type": "code",
   "execution_count": 289,
   "metadata": {},
   "outputs": [
    {
     "data": {
      "text/plain": [
       "'inconformidad respecto servicio luz muchas veces mes'"
      ]
     },
     "execution_count": 289,
     "metadata": {},
     "output_type": "execute_result"
    }
   ],
   "source": [
    "## Ensayo Queja\n",
    "text_ensayo = text_normalization('Tengo una inconformidad respecto al servicio, la luz se va muchas veces al mes')\n",
    "text_ensayo"
   ]
  },
  {
   "cell_type": "code",
   "execution_count": 290,
   "metadata": {},
   "outputs": [
    {
     "data": {
      "text/plain": [
       "array(['queja'], dtype=object)"
      ]
     },
     "execution_count": 290,
     "metadata": {},
     "output_type": "execute_result"
    }
   ],
   "source": [
    "text_clf.predict([text_ensayo])"
   ]
  },
  {
   "cell_type": "code",
   "execution_count": 291,
   "metadata": {},
   "outputs": [
    {
     "data": {
      "text/plain": [
       "'encuentro acuerdo respuesta reclamo quiero poner recurso reposición'"
      ]
     },
     "execution_count": 291,
     "metadata": {},
     "output_type": "execute_result"
    }
   ],
   "source": [
    "## Ensayo Recurso\n",
    "text_ensayo = text_normalization('no me encuentro de acuerdo con la respuesta al reclamo quiero poner un recurso de reposición')\n",
    "text_ensayo"
   ]
  },
  {
   "cell_type": "code",
   "execution_count": 292,
   "metadata": {},
   "outputs": [
    {
     "data": {
      "text/plain": [
       "array(['recurso'], dtype=object)"
      ]
     },
     "execution_count": 292,
     "metadata": {},
     "output_type": "execute_result"
    }
   ],
   "source": [
    "text_clf.predict([text_ensayo])"
   ]
  },
  {
   "cell_type": "code",
   "execution_count": 293,
   "metadata": {},
   "outputs": [],
   "source": [
    "## vamos a guardar el modelo que se entrenó\n",
    "##\n",
    "'''import pickle\n",
    "pickle.dump(text_clf, open('LinearSCV_PQR_web_email.sav', 'wb'))'''"
   ]
  },
  {
   "cell_type": "code",
   "execution_count": null,
   "metadata": {},
   "outputs": [],
   "source": []
  }
 ],
 "metadata": {
  "kernelspec": {
   "display_name": "Python 3",
   "language": "python",
   "name": "python3"
  },
  "language_info": {
   "codemirror_mode": {
    "name": "ipython",
    "version": 3
   },
   "file_extension": ".py",
   "mimetype": "text/x-python",
   "name": "python",
   "nbconvert_exporter": "python",
   "pygments_lexer": "ipython3",
   "version": "3.8.5"
  }
 },
 "nbformat": 4,
 "nbformat_minor": 4
}