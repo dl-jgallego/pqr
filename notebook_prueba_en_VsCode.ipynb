{
 "metadata": {
  "language_info": {
   "codemirror_mode": {
    "name": "ipython",
    "version": 3
   },
   "file_extension": ".py",
   "mimetype": "text/x-python",
   "name": "python",
   "nbconvert_exporter": "python",
   "pygments_lexer": "ipython3",
   "version": "3.8.5-final"
  },
  "orig_nbformat": 2,
  "kernelspec": {
   "name": "python3",
   "display_name": "Python 3.8.5 64-bit ('juand': virtualenv)",
   "metadata": {
    "interpreter": {
     "hash": "300c4f90a2c3ecea23028101304a314120e5e3157958ce81e6c4363c746c8e56"
    }
   }
  }
 },
 "nbformat": 4,
 "nbformat_minor": 2,
 "cells": [
  {
   "cell_type": "code",
   "execution_count": 1,
   "metadata": {},
   "outputs": [],
   "source": [
    "# hi this is a jupyter notebook run locally on VsCode"
   ]
  },
  {
   "cell_type": "code",
   "execution_count": 2,
   "metadata": {},
   "outputs": [
    {
     "output_type": "stream",
     "name": "stdout",
     "text": [
      "hi this is a jupyter notebook run locally on VsCode\n"
     ]
    }
   ],
   "source": [
    "msg = 'hi this is a jupyter notebook run locally on VsCode'\n",
    "print(msg)"
   ]
  }
 ]
}