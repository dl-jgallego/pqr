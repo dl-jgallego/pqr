{
 "cells": [
  {
   "cell_type": "markdown",
   "metadata": {},
   "source": [
    "# Validación datos históricos PQR."
   ]
  },
  {
   "cell_type": "markdown",
   "metadata": {},
   "source": [
    "En las lineas abajo se hace una breve exploración de dos data sets:\n",
    "1. PQR 2018-2020. Fuente: Duván.\n",
    "2. PQR 2016-2017. Fuente: Carlos\n",
    "\n",
    "*Tener presente los signos de puntuacion*"
   ]
  },
  {
   "cell_type": "code",
   "execution_count": 2,
   "metadata": {},
   "outputs": [],
   "source": [
    "import pandas as pd\n",
    "import numpy as np\n",
    "import glob"
   ]
  },
  {
   "cell_type": "code",
   "execution_count": 4,
   "metadata": {},
   "outputs": [
    {
     "name": "stderr",
     "output_type": "stream",
     "text": [
      "C:\\Users\\juand\\Anaconda3\\lib\\site-packages\\IPython\\core\\interactiveshell.py:3146: DtypeWarning: Columns (2,10,11,14,15,18,19,20,25,26) have mixed types.Specify dtype option on import or set low_memory=False.\n",
      "  has_raised = await self.run_ast_nodes(code_ast.body, cell_name,\n"
     ]
    }
   ],
   "source": [
    "df_18_20 = pd.read_csv('PQRs_2018-nov2020.csv', sep = ';', encoding='utf-8')"
   ]
  },
  {
   "cell_type": "markdown",
   "metadata": {},
   "source": [
    "Se puede observar que el data set correspondiente a los años 2018 a 2020 tiene 35 columnas y 650175 registros"
   ]
  },
  {
   "cell_type": "code",
   "execution_count": 5,
   "metadata": {},
   "outputs": [
    {
     "data": {
      "text/html": [
       "<div>\n",
       "<style scoped>\n",
       "    .dataframe tbody tr th:only-of-type {\n",
       "        vertical-align: middle;\n",
       "    }\n",
       "\n",
       "    .dataframe tbody tr th {\n",
       "        vertical-align: top;\n",
       "    }\n",
       "\n",
       "    .dataframe thead th {\n",
       "        text-align: right;\n",
       "    }\n",
       "</style>\n",
       "<table border=\"1\" class=\"dataframe\">\n",
       "  <thead>\n",
       "    <tr style=\"text-align: right;\">\n",
       "      <th></th>\n",
       "      <th>ID</th>\n",
       "      <th>forma_requerimiento</th>\n",
       "      <th>identificacion</th>\n",
       "      <th>solicitante</th>\n",
       "      <th>dir_solicitante</th>\n",
       "      <th>tipo_solicitud</th>\n",
       "      <th>cuenta</th>\n",
       "      <th>fec_solicitud</th>\n",
       "      <th>fec_vencmto</th>\n",
       "      <th>fec_rpta</th>\n",
       "      <th>...</th>\n",
       "      <th>TELEFONO</th>\n",
       "      <th>CELULAR</th>\n",
       "      <th>EMAIL</th>\n",
       "      <th>CIRCUITO</th>\n",
       "      <th>NODO</th>\n",
       "      <th>UBICACION</th>\n",
       "      <th>CLASE_SERVICIO</th>\n",
       "      <th>ANIOMES</th>\n",
       "      <th>Tipo fuente</th>\n",
       "      <th>DOCUMENTO</th>\n",
       "    </tr>\n",
       "  </thead>\n",
       "  <tbody>\n",
       "    <tr>\n",
       "      <th>0</th>\n",
       "      <td>PQR_201901_1</td>\n",
       "      <td>verbal</td>\n",
       "      <td>25161887</td>\n",
       "      <td>OFIR DE MARIA CORREA CORREA</td>\n",
       "      <td>CRA 16 18 06</td>\n",
       "      <td>peticion</td>\n",
       "      <td>101202096</td>\n",
       "      <td>8/01/2019</td>\n",
       "      <td>28/01/2019</td>\n",
       "      <td>8/01/2019</td>\n",
       "      <td>...</td>\n",
       "      <td>NaN</td>\n",
       "      <td>3.00981e+09</td>\n",
       "      <td>NaN</td>\n",
       "      <td>HER23L12</td>\n",
       "      <td>D20299</td>\n",
       "      <td>U</td>\n",
       "      <td>Residencial</td>\n",
       "      <td>201901</td>\n",
       "      <td>PQR</td>\n",
       "      <td>NaN</td>\n",
       "    </tr>\n",
       "    <tr>\n",
       "      <th>1</th>\n",
       "      <td>PQR_201901_2</td>\n",
       "      <td>verbal</td>\n",
       "      <td>25155655</td>\n",
       "      <td>AURA ALICIA MEJIA CUERVO</td>\n",
       "      <td>CLL 19 15 74</td>\n",
       "      <td>peticion</td>\n",
       "      <td>101249151</td>\n",
       "      <td>4/01/2019</td>\n",
       "      <td>25/01/2019</td>\n",
       "      <td>4/01/2019</td>\n",
       "      <td>...</td>\n",
       "      <td>3.64131e+06</td>\n",
       "      <td>NaN</td>\n",
       "      <td>NaN</td>\n",
       "      <td>HER23L15</td>\n",
       "      <td>D23538</td>\n",
       "      <td>U</td>\n",
       "      <td>Residencial</td>\n",
       "      <td>201901</td>\n",
       "      <td>PQR</td>\n",
       "      <td>NaN</td>\n",
       "    </tr>\n",
       "    <tr>\n",
       "      <th>2</th>\n",
       "      <td>PQR_201901_3</td>\n",
       "      <td>verbal</td>\n",
       "      <td>25161763</td>\n",
       "      <td>AMPARO  QUICENO GARCIA</td>\n",
       "      <td>CLL 20 15 15 PSO 2</td>\n",
       "      <td>peticion</td>\n",
       "      <td>101274963</td>\n",
       "      <td>16/01/2019</td>\n",
       "      <td>5/02/2019</td>\n",
       "      <td>16/01/2019</td>\n",
       "      <td>...</td>\n",
       "      <td>NaN</td>\n",
       "      <td>3.11739e+09</td>\n",
       "      <td>NaN</td>\n",
       "      <td>HER23L15</td>\n",
       "      <td>D23553</td>\n",
       "      <td>U</td>\n",
       "      <td>Residencial</td>\n",
       "      <td>201901</td>\n",
       "      <td>PQR</td>\n",
       "      <td>NaN</td>\n",
       "    </tr>\n",
       "  </tbody>\n",
       "</table>\n",
       "<p>3 rows × 35 columns</p>\n",
       "</div>"
      ],
      "text/plain": [
       "             ID forma_requerimiento identificacion  \\\n",
       "0  PQR_201901_1              verbal       25161887   \n",
       "1  PQR_201901_2              verbal       25155655   \n",
       "2  PQR_201901_3              verbal       25161763   \n",
       "\n",
       "                   solicitante     dir_solicitante tipo_solicitud     cuenta  \\\n",
       "0  OFIR DE MARIA CORREA CORREA        CRA 16 18 06       peticion  101202096   \n",
       "1     AURA ALICIA MEJIA CUERVO        CLL 19 15 74       peticion  101249151   \n",
       "2       AMPARO  QUICENO GARCIA  CLL 20 15 15 PSO 2       peticion  101274963   \n",
       "\n",
       "  fec_solicitud fec_vencmto    fec_rpta  ...     TELEFONO      CELULAR EMAIL  \\\n",
       "0     8/01/2019  28/01/2019   8/01/2019  ...          NaN  3.00981e+09   NaN   \n",
       "1     4/01/2019  25/01/2019   4/01/2019  ...  3.64131e+06          NaN   NaN   \n",
       "2    16/01/2019   5/02/2019  16/01/2019  ...          NaN  3.11739e+09   NaN   \n",
       "\n",
       "   CIRCUITO    NODO UBICACION CLASE_SERVICIO ANIOMES Tipo fuente DOCUMENTO  \n",
       "0  HER23L12  D20299         U    Residencial  201901         PQR       NaN  \n",
       "1  HER23L15  D23538         U    Residencial  201901         PQR       NaN  \n",
       "2  HER23L15  D23553         U    Residencial  201901         PQR       NaN  \n",
       "\n",
       "[3 rows x 35 columns]"
      ]
     },
     "execution_count": 5,
     "metadata": {},
     "output_type": "execute_result"
    }
   ],
   "source": [
    "df_18_20.head(3)"
   ]
  },
  {
   "cell_type": "code",
   "execution_count": 6,
   "metadata": {},
   "outputs": [
    {
     "data": {
      "text/plain": [
       "650175"
      ]
     },
     "execution_count": 6,
     "metadata": {},
     "output_type": "execute_result"
    }
   ],
   "source": [
    "len(df_18_20)"
   ]
  },
  {
   "cell_type": "markdown",
   "metadata": {},
   "source": [
    "La siguiente celda demuestra algunos datos nulos en algunas columnas, quedaría pendiente para el preprocesamiento."
   ]
  },
  {
   "cell_type": "code",
   "execution_count": 5,
   "metadata": {},
   "outputs": [
    {
     "name": "stdout",
     "output_type": "stream",
     "text": [
      "<class 'pandas.core.frame.DataFrame'>\n",
      "RangeIndex: 650175 entries, 0 to 650174\n",
      "Data columns (total 35 columns):\n",
      " #   Column                 Non-Null Count   Dtype  \n",
      "---  ------                 --------------   -----  \n",
      " 0   ID                     650175 non-null  object \n",
      " 1   forma_requerimiento    650174 non-null  object \n",
      " 2   identificacion         650153 non-null  object \n",
      " 3   solicitante            650098 non-null  object \n",
      " 4   dir_solicitante        650145 non-null  object \n",
      " 5   tipo_solicitud         650175 non-null  object \n",
      " 6   cuenta                 650175 non-null  int64  \n",
      " 7   fec_solicitud          650175 non-null  object \n",
      " 8   fec_vencmto            650175 non-null  object \n",
      " 9   fec_rpta               650175 non-null  object \n",
      " 10  clase_inicial          343509 non-null  object \n",
      " 11  estrato                650175 non-null  object \n",
      " 12  a_favor_de             650175 non-null  object \n",
      " 13  tipo_solicitud_1       650175 non-null  object \n",
      " 14  documento              262317 non-null  object \n",
      " 15  imputabilidad          543926 non-null  object \n",
      " 16  causa_final            648554 non-null  object \n",
      " 17  responde               649381 non-null  object \n",
      " 18  OBSERVACION USUARIO    486116 non-null  object \n",
      " 19  observacion_respuesta  343838 non-null  object \n",
      " 20  SEGMENTO               552506 non-null  object \n",
      " 21  TIPO_DOC               650139 non-null  object \n",
      " 22  NOMBRE                 650139 non-null  object \n",
      " 23  DIRECCION              650139 non-null  object \n",
      " 24  MUNICIPIO              650139 non-null  object \n",
      " 25  TELEFONO               410091 non-null  object \n",
      " 26  CELULAR                471157 non-null  object \n",
      " 27  EMAIL                  35446 non-null   object \n",
      " 28  CIRCUITO               649042 non-null  object \n",
      " 29  NODO                   650138 non-null  object \n",
      " 30  UBICACION              650138 non-null  object \n",
      " 31  CLASE_SERVICIO         650138 non-null  object \n",
      " 32  ANIOMES                650175 non-null  int64  \n",
      " 33  Tipo fuente            650175 non-null  object \n",
      " 34  DOCUMENTO              106239 non-null  float64\n",
      "dtypes: float64(1), int64(2), object(32)\n",
      "memory usage: 173.6+ MB\n"
     ]
    }
   ],
   "source": [
    "df_18_20.info()"
   ]
  },
  {
   "cell_type": "markdown",
   "metadata": {},
   "source": [
    "El dataframe del 2018 a nov2020 se tienen las siguientes columnas"
   ]
  },
  {
   "cell_type": "code",
   "execution_count": 7,
   "metadata": {},
   "outputs": [
    {
     "data": {
      "text/plain": [
       "Index(['ID', 'forma_requerimiento', 'identificacion', 'solicitante',\n",
       "       'dir_solicitante', 'tipo_solicitud', 'cuenta', 'fec_solicitud',\n",
       "       'fec_vencmto', 'fec_rpta', 'clase_inicial', 'estrato', 'a_favor_de',\n",
       "       'tipo_solicitud_1', 'documento', 'imputabilidad', 'causa_final',\n",
       "       'responde', 'OBSERVACION USUARIO', 'observacion_respuesta', 'SEGMENTO',\n",
       "       'TIPO_DOC', 'NOMBRE', 'DIRECCION', 'MUNICIPIO', 'TELEFONO', 'CELULAR',\n",
       "       'EMAIL', 'CIRCUITO', 'NODO', 'UBICACION', 'CLASE_SERVICIO', 'ANIOMES',\n",
       "       'Tipo fuente', 'DOCUMENTO'],\n",
       "      dtype='object')"
      ]
     },
     "execution_count": 7,
     "metadata": {},
     "output_type": "execute_result"
    }
   ],
   "source": [
    "df_18_20.columns"
   ]
  },
  {
   "cell_type": "markdown",
   "metadata": {},
   "source": [
    "De las columnas anteriores, se extraen algunas para observar cómo es la información que contienen. Claro está que la selección de más columnas es algo discutible en función del modelo que se piensa entrenar."
   ]
  },
  {
   "cell_type": "code",
   "execution_count": 8,
   "metadata": {},
   "outputs": [
    {
     "data": {
      "text/plain": [
       "NO APLICA                                  276845\n",
       "Accede no imputable a CHEC                 223380\n",
       "NO                                          26797\n",
       "No accede                                   10061\n",
       "Accede imputable a CHEC                      3086\n",
       "SI                                           2992\n",
       "Accede parcialmente no imputable a CHEC       343\n",
       "Traslada por competencia                      150\n",
       "Archiva                                       130\n",
       "Accede parcialmente imputable a CHEC          112\n",
       "0                                              25\n",
       "0.0                                             4\n",
       "Modifica                                        1\n",
       "Name: imputabilidad, dtype: int64"
      ]
     },
     "execution_count": 8,
     "metadata": {},
     "output_type": "execute_result"
    }
   ],
   "source": [
    "df_18_20['imputabilidad'].value_counts()"
   ]
  },
  {
   "cell_type": "markdown",
   "metadata": {},
   "source": [
    "Algo positivo es que ya vienen etiquetadas por tipo de PQR. A continuación, se muestran los tipos de solicitudes contenidas en el df."
   ]
  },
  {
   "cell_type": "code",
   "execution_count": 38,
   "metadata": {},
   "outputs": [
    {
     "data": {
      "text/plain": [
       "peticion                                       600213\n",
       "reclamo                                         28950\n",
       "queja                                            7093\n",
       "pedidos/proyectos                                5831\n",
       "autogestion                                      5392\n",
       "programa de financiacion social                  2125\n",
       "recurso reposicion en subsidio de apelacion       436\n",
       "recurso de reposicion                             135\n",
       "Name: tipo_solicitud, dtype: int64"
      ]
     },
     "execution_count": 38,
     "metadata": {},
     "output_type": "execute_result"
    }
   ],
   "source": [
    "df_18_20['tipo_solicitud'].value_counts()"
   ]
  },
  {
   "cell_type": "markdown",
   "metadata": {},
   "source": [
    "*llevar todo a solo 4 categorias como esta en el 2017*"
   ]
  },
  {
   "cell_type": "markdown",
   "metadata": {},
   "source": [
    "Aparte de los tipos de solicitudes, hay unos tipos de solicitudes más especificos (163 en total) por tipo de solicitud nivel 1. Se presentan en la siguiente celda:"
   ]
  },
  {
   "cell_type": "code",
   "execution_count": 11,
   "metadata": {},
   "outputs": [
    {
     "data": {
      "text/plain": [
       "pago parcial                                                    193895\n",
       "emision de documento para pago                                  190081\n",
       "separacion temporal o pago dirigido                              52350\n",
       "trabajos tecnicos en med, trafos, acometidas o en infraestr.     41480\n",
       "informacion general                                              32226\n",
       "                                                                 ...  \n",
       "portafolio diseno y construccion con cotizacion                      1\n",
       "verificacion contrato integral                                       1\n",
       "cambio de comercializador                                            1\n",
       "actualizacion por habeas data                                        1\n",
       "oferta cbf                                                           1\n",
       "Name: tipo_solicitud_1, Length: 163, dtype: int64"
      ]
     },
     "execution_count": 11,
     "metadata": {},
     "output_type": "execute_result"
    }
   ],
   "source": [
    "df_18_20['tipo_solicitud_1'].value_counts()"
   ]
  },
  {
   "cell_type": "markdown",
   "metadata": {},
   "source": [
    "A partir de este punto se quiere revisar qué tipos de solicitudes nivel 2 hay por cada tipo de solicitud nivel 1."
   ]
  },
  {
   "cell_type": "code",
   "execution_count": 9,
   "metadata": {},
   "outputs": [],
   "source": [
    "tipos_solicitud = df_18_20['tipo_solicitud'].unique().tolist()"
   ]
  },
  {
   "cell_type": "code",
   "execution_count": 10,
   "metadata": {},
   "outputs": [
    {
     "name": "stdout",
     "output_type": "stream",
     "text": [
      "peticion: \n",
      "\n",
      "tipo_solicitud_1                                            \n",
      "pago parcial                                                    190922\n",
      "emision de documento para pago                                  187663\n",
      "separacion temporal o pago dirigido                              52350\n",
      "trabajos tecnicos en med, trafos, acometidas o en infraestr.     41480\n",
      "informacion general                                              32226\n",
      "                                                                 ...  \n",
      "aplicacion beneficio propiedad de activos                            2\n",
      "restitucion de tierras                                               2\n",
      "no conexion del servicio                                             1\n",
      "denuncia de contrato de arrendamiento                                1\n",
      "actualizacion por habeas data                                        1\n",
      "Length: 62, dtype: int64\n",
      "\n",
      "\n",
      "reclamo: \n",
      "\n",
      "tipo_solicitud_1                                                \n",
      "inconformidad con el consumo o produccion factura                   14083\n",
      "inconformidad con el consumo o produccion facturado                 12315\n",
      "cobros por conexion, reconexion, reinstalacion                        669\n",
      "cobros por promedio                                                   284\n",
      "pago sin abono a cuenta                                               268\n",
      "cobro de cargos relacionados con el servicio publi                    246\n",
      "cobro de cargos relacionados con el servicio publico                  128\n",
      "cobro por recuperacion de consumos                                    112\n",
      "estrato incorrecto                                                    104\n",
      "cobro desconocido                                                      99\n",
      "cobro multiple y/o acumulado                                           76\n",
      "cobro de otros bienes y servicios en la factura                        71\n",
      "cobro por consumos dejados de facturar o recuperacion de energia       70\n",
      "cobro de otros bienes o servicios en la factura                        70\n",
      "subsidios y contribuciones                                             51\n",
      "tarifa incorrecta                                                      39\n",
      "cobro de medidor                                                       37\n",
      "cobros inoportunos                                                     37\n",
      "clase de uso incorrecto                                                33\n",
      "cobro de acuerdo de pago o financiacion                                30\n",
      "cobro de revisiones                                                    28\n",
      "solicitud de rompimiento de solidaridad                                26\n",
      "inconformidad con el aforo                                             24\n",
      "cobros por servicios no prestados                                      23\n",
      "inconformidad por cobros por normalizacion del ser                     13\n",
      "inconformidad por cobros por normalizacion del sevicio                 13\n",
      "verificacion contrato integral                                          1\n",
      "dtype: int64\n",
      "\n",
      "\n",
      "queja: \n",
      "\n",
      "tipo_solicitud_1                                                \n",
      "entrega inoportuna o no entrega de la factura                       3107\n",
      "inconformidad trabajos                                               623\n",
      "falla en la prestacion del servicio por continuida                   599\n",
      "falla en la prestacion del servicio por continuidad                  555\n",
      "falla en la prestacion del servicio por calidad                      490\n",
      "demora en reparar dano                                               309\n",
      "inconformidad con la informacion                                     273\n",
      "suspension o corte del servicio                                      187\n",
      "comportamiento funcionario, trabajador o contratista                 156\n",
      "inconformidad con el canal de atencion                               152\n",
      "demora en atender peticion                                           123\n",
      "comportamiento funcionario (trabajador-contra)                       100\n",
      "incumplimiento de la revision en las fechas establecidas              91\n",
      "inconformidad por la programacion de interrupciones del servicio      67\n",
      "incumplimiento revision en las fechas establ                          43\n",
      "inconformidad punto de venta y/o recaudo                              41\n",
      "inadecuada disposicion de residuos                                    27\n",
      "no conexion del servicio                                              27\n",
      "estado de la infraestructura                                          25\n",
      "levantamiento de desechos vegetales                                   24\n",
      "inconformidad por la programacion de interrupcione                    22\n",
      "inconformidad en la atencion de condiciones de seguridad o riesg      20\n",
      "no se genera factura para una instalacion                              8\n",
      "cambio de medidor o equipo de medida                                   7\n",
      "afectacion ambiental                                                   7\n",
      "manejo de fauna y flora                                                3\n",
      "inconformidad en la atencion de condiciones de seg                     3\n",
      "derrame de aceite                                                      2\n",
      "inconformidad venta portafolio                                         2\n",
      "dtype: int64\n",
      "\n",
      "\n",
      "programa de financiacion social: \n",
      "\n",
      "tipo_solicitud_1                            \n",
      "inscripcion, retiro o bloqueo de tarjeta pfs    905\n",
      "cambio de plazo en la financiacion pfs          757\n",
      "refinanciacion por mora pfs                     171\n",
      "reconocimiento seguro de vida deuda pfs          71\n",
      "paz y salvo pfs                                  68\n",
      "traslado deudaÂ  pfs                             50\n",
      "retiro deuda no solidaria pfs                    49\n",
      "estado deuda pfs                                 22\n",
      "certificado deuda pfs                            14\n",
      "soportes de la financiacion pfs                  11\n",
      "garantias pfs                                     7\n",
      "dtype: int64\n",
      "\n",
      "\n",
      "recurso reposicion en subsidio de apelacion: \n",
      "\n",
      "tipo_solicitud_1                                  \n",
      "inconformidad con el consumo o produccion facturad    362\n",
      "envio de expedientes sspd                              18\n",
      "cobro por recuperacion de consumos                     11\n",
      "otros motivos de recurso                               10\n",
      "solicitud de rompimiento de solidaridad                 7\n",
      "cobro de otros bienes o servicios en la factura         5\n",
      "cobros por conexion, reconexion, reinstalacion          4\n",
      "cobros inoportunos                                      3\n",
      "negacion del servicio                                   3\n",
      "cobro de cargos relacionados con el servicio publi      3\n",
      "subsidios y contribuciones                              3\n",
      "pago sin abono a cuenta                                 2\n",
      "tarifa incorrecta                                       1\n",
      "cobros por promedio                                     1\n",
      "cobros por servicios no prestados                       1\n",
      "inconformidad por cobros por normalizacion del ser      1\n",
      "clase de uso incorrecto                                 1\n",
      "dtype: int64\n",
      "\n",
      "\n",
      "recurso de reposicion: \n",
      "\n",
      "tipo_solicitud_1                                  \n",
      "inconformidad con el consumo o produccion facturad    118\n",
      "otros motivos de recurso                                3\n",
      "cobro de otros bienes o servicios en la factura         3\n",
      "subsidios y contribuciones                              2\n",
      "cobros inoportunos                                      2\n",
      "cobro por recuperacion de consumos                      2\n",
      "tarifa incorrecta                                       1\n",
      "negacion del servicio                                   1\n",
      "inconformidad por cobros por normalizacion del ser      1\n",
      "cobros por promedio                                     1\n",
      "clase de uso incorrecto                                 1\n",
      "dtype: int64\n",
      "\n",
      "\n",
      "pedidos/proyectos: \n",
      "\n",
      "tipo_solicitud_1                               \n",
      "portafolio instalaciones sin cotizacion            2420\n",
      "portafolio trabajos a terceros con cotizacion      1096\n",
      "provisional a definitivo                            534\n",
      "cambio de sistema                                   407\n",
      "seguimiento de provisionales                        359\n",
      "solicitud factibilidad del servicio                 311\n",
      "solicitud de interventoria                          174\n",
      "liquidacion de conexos proyectos                    129\n",
      "ejecucion tt                                        103\n",
      "cobro legalizacion particulares                      97\n",
      "revision de proyectos electricos nivel ii y iii      42\n",
      "cancelacion de provisional                           18\n",
      "conexion del servicio                                18\n",
      "visita puesta en servicio                            14\n",
      "solicitud viabilidad compra/donacion activos         14\n",
      "asesoria de proyectos                                13\n",
      "solicitud cambio de comercializador (exporta)        13\n",
      "reformas                                             12\n",
      "revision de proyectos electricos nivel i             10\n",
      "portafolio mantenimiento con cotizacion               9\n",
      "solicitud participacion expansion                     7\n",
      "solicitudes otc                                       7\n",
      "construccion de redes sn                              6\n",
      "contrato compra / donacion activos                    4\n",
      "portafolio habilitacion vivienda                      4\n",
      "observacion a la factibilidad                         2\n",
      "retiro de servicios temporales                        2\n",
      "visita posterior                                      2\n",
      "portafolio diseno y construccion con cotizacion       1\n",
      "oferta cbf                                            1\n",
      "liquidacion conexos otc                               1\n",
      "cambio de comercializador                             1\n",
      "dtype: int64\n",
      "\n",
      "\n",
      "autogestion: \n",
      "\n",
      "tipo_solicitud_1              \n",
      "pago parcial                      2973\n",
      "emision de documento para pago    2418\n",
      "reconexion                           1\n",
      "dtype: int64\n",
      "\n",
      "\n"
     ]
    }
   ],
   "source": [
    "for s in tipos_solicitud:\n",
    "    print(f\"{s}: \\n\")\n",
    "    print(df_18_20[df_18_20['tipo_solicitud']==s][['tipo_solicitud_1']].value_counts())\n",
    "    print(\"\\n\")"
   ]
  },
  {
   "cell_type": "markdown",
   "metadata": {},
   "source": [
    "Para las peticiones se presentan acontinuación de forma más detallada:"
   ]
  },
  {
   "cell_type": "code",
   "execution_count": 12,
   "metadata": {},
   "outputs": [
    {
     "data": {
      "text/plain": [
       "['actualizacion por habeas data',\n",
       " 'aplicacion beneficio propiedad de activos',\n",
       " 'aplicacion beneficio propiedad o venta de activos',\n",
       " 'caducar financiacion',\n",
       " 'cambio datos basicos',\n",
       " 'cambio de datos basicos',\n",
       " 'cambio de uso',\n",
       " 'condicion especial por solicitud del propietario',\n",
       " 'condicion especial solicitud propietario',\n",
       " 'dano en equipo electrico',\n",
       " 'danos en equipo electrico',\n",
       " 'datos basicos',\n",
       " 'denuncia de contrato de arrendamiento',\n",
       " 'descongelados covid-19',\n",
       " 'desenergizacion de infraestructura',\n",
       " 'devolucion o traslado de saldo a favor',\n",
       " 'devolucion y/o copia de documentos',\n",
       " 'direccion incorrecta',\n",
       " 'direccion incorrecta ',\n",
       " 'emision de documento para pago',\n",
       " 'exencion contribucion',\n",
       " 'facturacion a la fecha',\n",
       " 'gestion interna',\n",
       " 'gestionar financiacion',\n",
       " 'informacion general',\n",
       " 'instalacion con consumos bajos',\n",
       " 'liquidacion de conexos',\n",
       " 'modificacion de infraest por incumplimiento de distancias de seg',\n",
       " 'modificacion de infraestructura por incumplimiento',\n",
       " 'modificar cobros de terceros',\n",
       " 'no conexion del servicio',\n",
       " 'normalizar instalacion',\n",
       " 'normalizar instalacion consumos bajos',\n",
       " 'notificacion decision y/o descargos',\n",
       " 'notificaciones y/o descargos',\n",
       " 'pago de la factura de otro usuario',\n",
       " 'pago parcial',\n",
       " 'perjuicios por falla en la prestacion del servicio',\n",
       " 'plazo para pago',\n",
       " 'poda de arboles',\n",
       " 'portafolio instalaciones sin cotizacion',\n",
       " 'reclamacion extemporanea o agotada la via administ',\n",
       " 'reconexion',\n",
       " 'reinstalacion',\n",
       " 'requerimiento competencia de otra empresa',\n",
       " 'requerimientos entes oficiales o entidades externa',\n",
       " 'requerimientos entes oficiales o entidades externas',\n",
       " 'requerimientos sspd o sic',\n",
       " 'restitucion de tierras',\n",
       " 'revision presunto sap',\n",
       " 'revision, mntto, remodelacion o expansion infraestruc. a.p.',\n",
       " 'revision, mtto, remodelacion o expansion a.p',\n",
       " 'separacion temporal o pago dirigido',\n",
       " 'solicitud constancia lectura',\n",
       " 'suspension del servicio',\n",
       " 'tarjeta somos (pfs)',\n",
       " 'terminacion del contrato',\n",
       " 'trabajos tecnicos en med, trafos, acometidas o en infraestr.',\n",
       " 'trabajos tecnicos en medidores, transformadores, a',\n",
       " 'tramite recurso de queja sspd',\n",
       " 'traslado de deuda',\n",
       " 'valores congelados']"
      ]
     },
     "execution_count": 12,
     "metadata": {},
     "output_type": "execute_result"
    }
   ],
   "source": [
    "sorted(df_18_20[df_18_20['tipo_solicitud']=='peticion']['tipo_solicitud_1'].unique().tolist())"
   ]
  },
  {
   "cell_type": "markdown",
   "metadata": {},
   "source": [
    "*preprocesar con Levenshtein*"
   ]
  },
  {
   "cell_type": "markdown",
   "metadata": {},
   "source": [
    "Se procedea hacer el mismo proceso con el año 2017."
   ]
  },
  {
   "cell_type": "code",
   "execution_count": 31,
   "metadata": {},
   "outputs": [],
   "source": [
    "df_17 = pd.read_excel('PQR_2017.xlsx', sheet_name='PQR_2017')"
   ]
  },
  {
   "cell_type": "markdown",
   "metadata": {},
   "source": [
    "De entrada puede observarse que este df tiene una dimensión menor, 27 columnas frente a 35 del año 2018-2020."
   ]
  },
  {
   "cell_type": "code",
   "execution_count": 35,
   "metadata": {},
   "outputs": [
    {
     "data": {
      "text/html": [
       "<div>\n",
       "<style scoped>\n",
       "    .dataframe tbody tr th:only-of-type {\n",
       "        vertical-align: middle;\n",
       "    }\n",
       "\n",
       "    .dataframe tbody tr th {\n",
       "        vertical-align: top;\n",
       "    }\n",
       "\n",
       "    .dataframe thead th {\n",
       "        text-align: right;\n",
       "    }\n",
       "</style>\n",
       "<table border=\"1\" class=\"dataframe\">\n",
       "  <thead>\n",
       "    <tr style=\"text-align: right;\">\n",
       "      <th></th>\n",
       "      <th>COD_PQRS</th>\n",
       "      <th>COD_ARCHIVO</th>\n",
       "      <th>ANIOMES</th>\n",
       "      <th>NIU</th>\n",
       "      <th>DEPENDENCIA</th>\n",
       "      <th>FEC_SOLICITUD</th>\n",
       "      <th>FEC_VENCIMIENTO</th>\n",
       "      <th>FEC_RESPUESTA</th>\n",
       "      <th>DIAS</th>\n",
       "      <th>NUM_SOLICITUD</th>\n",
       "      <th>...</th>\n",
       "      <th>ESTRATO</th>\n",
       "      <th>A_FAVOR</th>\n",
       "      <th>TIP_SOLICITUD2</th>\n",
       "      <th>DOCUMENTO</th>\n",
       "      <th>IMPUTABILIDAD</th>\n",
       "      <th>FIN_CAUSA</th>\n",
       "      <th>DEP_RESPONDE</th>\n",
       "      <th>OBS_RESPUESTA</th>\n",
       "      <th>FEC_ALTA</th>\n",
       "      <th>FLAG</th>\n",
       "    </tr>\n",
       "  </thead>\n",
       "  <tbody>\n",
       "    <tr>\n",
       "      <th>0</th>\n",
       "      <td>33138</td>\n",
       "      <td>940</td>\n",
       "      <td>201701</td>\n",
       "      <td>243436390.0</td>\n",
       "      <td>522017</td>\n",
       "      <td>2017-01-01</td>\n",
       "      <td>2017-01-20</td>\n",
       "      <td>2017-07-01</td>\n",
       "      <td>5.0</td>\n",
       "      <td>2200</td>\n",
       "      <td>...</td>\n",
       "      <td>2.0</td>\n",
       "      <td>CHEC</td>\n",
       "      <td>FALLA EN LA PRESTACIÓN DEL SERVICIO POR CONTIN...</td>\n",
       "      <td>522017000000</td>\n",
       "      <td>Accede no imputable a CHEC</td>\n",
       "      <td>Falla en la prestación del servicio por contin...</td>\n",
       "      <td>Canales Presenciales</td>\n",
       "      <td>En visita realizada se observó que hay una veg...</td>\n",
       "      <td>2017-05-18 22:28:08.757</td>\n",
       "      <td>1</td>\n",
       "    </tr>\n",
       "    <tr>\n",
       "      <th>1</th>\n",
       "      <td>33139</td>\n",
       "      <td>940</td>\n",
       "      <td>201701</td>\n",
       "      <td>143893602.0</td>\n",
       "      <td>522011</td>\n",
       "      <td>2016-01-12</td>\n",
       "      <td>2017-01-13</td>\n",
       "      <td>2017-12-01</td>\n",
       "      <td>29.0</td>\n",
       "      <td>45574</td>\n",
       "      <td>...</td>\n",
       "      <td>3.0</td>\n",
       "      <td>CHEC</td>\n",
       "      <td>INSTALACION CON CONSUMOS BAJOS</td>\n",
       "      <td>52201145574</td>\n",
       "      <td>Accede no imputable a CHEC</td>\n",
       "      <td>Causa identificada</td>\n",
       "      <td>Canales Presenciales</td>\n",
       "      <td>Nuestra empresa le informa que el día 19 de di...</td>\n",
       "      <td>2017-05-18 22:28:08.773</td>\n",
       "      <td>1</td>\n",
       "    </tr>\n",
       "    <tr>\n",
       "      <th>2</th>\n",
       "      <td>33140</td>\n",
       "      <td>940</td>\n",
       "      <td>201701</td>\n",
       "      <td>378494905.0</td>\n",
       "      <td>62010</td>\n",
       "      <td>2017-02-01</td>\n",
       "      <td>2017-01-23</td>\n",
       "      <td>2017-02-01</td>\n",
       "      <td>1.0</td>\n",
       "      <td>146365</td>\n",
       "      <td>...</td>\n",
       "      <td>2.0</td>\n",
       "      <td>CHEC</td>\n",
       "      <td>SEPARACIÓN TEMPORAL O PAGO DIRIGIDO</td>\n",
       "      <td>62010</td>\n",
       "      <td>Accede no imputable a CHEC</td>\n",
       "      <td>Cumplida</td>\n",
       "      <td>Canales Presenciales</td>\n",
       "      <td>CANCELA CONSUMO Y ABONA PFS|</td>\n",
       "      <td>2017-05-18 22:28:08.773</td>\n",
       "      <td>1</td>\n",
       "    </tr>\n",
       "  </tbody>\n",
       "</table>\n",
       "<p>3 rows × 27 columns</p>\n",
       "</div>"
      ],
      "text/plain": [
       "   COD_PQRS  COD_ARCHIVO  ANIOMES          NIU  DEPENDENCIA FEC_SOLICITUD  \\\n",
       "0     33138          940   201701  243436390.0       522017    2017-01-01   \n",
       "1     33139          940   201701  143893602.0       522011    2016-01-12   \n",
       "2     33140          940   201701  378494905.0        62010    2017-02-01   \n",
       "\n",
       "  FEC_VENCIMIENTO FEC_RESPUESTA  DIAS  NUM_SOLICITUD  ...  ESTRATO A_FAVOR  \\\n",
       "0      2017-01-20    2017-07-01   5.0           2200  ...      2.0    CHEC   \n",
       "1      2017-01-13    2017-12-01  29.0          45574  ...      3.0    CHEC   \n",
       "2      2017-01-23    2017-02-01   1.0         146365  ...      2.0    CHEC   \n",
       "\n",
       "                                      TIP_SOLICITUD2     DOCUMENTO  \\\n",
       "0  FALLA EN LA PRESTACIÓN DEL SERVICIO POR CONTIN...  522017000000   \n",
       "1                     INSTALACION CON CONSUMOS BAJOS   52201145574   \n",
       "2                SEPARACIÓN TEMPORAL O PAGO DIRIGIDO         62010   \n",
       "\n",
       "                IMPUTABILIDAD  \\\n",
       "0  Accede no imputable a CHEC   \n",
       "1  Accede no imputable a CHEC   \n",
       "2  Accede no imputable a CHEC   \n",
       "\n",
       "                                           FIN_CAUSA          DEP_RESPONDE  \\\n",
       "0  Falla en la prestación del servicio por contin...  Canales Presenciales   \n",
       "1                                 Causa identificada  Canales Presenciales   \n",
       "2                                           Cumplida  Canales Presenciales   \n",
       "\n",
       "                                       OBS_RESPUESTA                 FEC_ALTA  \\\n",
       "0  En visita realizada se observó que hay una veg...  2017-05-18 22:28:08.757   \n",
       "1  Nuestra empresa le informa que el día 19 de di...  2017-05-18 22:28:08.773   \n",
       "2                       CANCELA CONSUMO Y ABONA PFS|  2017-05-18 22:28:08.773   \n",
       "\n",
       "  FLAG  \n",
       "0    1  \n",
       "1    1  \n",
       "2    1  \n",
       "\n",
       "[3 rows x 27 columns]"
      ]
     },
     "execution_count": 35,
     "metadata": {},
     "output_type": "execute_result"
    }
   ],
   "source": [
    "df_17.head(3)"
   ]
  },
  {
   "cell_type": "code",
   "execution_count": 37,
   "metadata": {},
   "outputs": [
    {
     "data": {
      "text/plain": [
       "0            Queja\n",
       "1         Peticion\n",
       "2         Peticion\n",
       "3         Peticion\n",
       "4         Peticion\n",
       "            ...   \n",
       "123339     Reclamo\n",
       "123340     Reclamo\n",
       "123341     Reclamo\n",
       "123342     Reclamo\n",
       "123343     Reclamo\n",
       "Name: TIP_SOLICITUD, Length: 123344, dtype: object"
      ]
     },
     "execution_count": 37,
     "metadata": {},
     "output_type": "execute_result"
    }
   ],
   "source": [
    "df_17['TIP_SOLICITUD']"
   ]
  },
  {
   "cell_type": "markdown",
   "metadata": {},
   "source": [
    "Al igual que el df 2018-2020 también hay algunos datos faltantes en algunas columnas, caso que se abordará en el preprocesamiento."
   ]
  },
  {
   "cell_type": "code",
   "execution_count": 36,
   "metadata": {},
   "outputs": [
    {
     "name": "stdout",
     "output_type": "stream",
     "text": [
      "<class 'pandas.core.frame.DataFrame'>\n",
      "RangeIndex: 123344 entries, 0 to 123343\n",
      "Data columns (total 27 columns):\n",
      " #   Column                         Non-Null Count   Dtype         \n",
      "---  ------                         --------------   -----         \n",
      " 0   COD_PQRS                       123344 non-null  int64         \n",
      " 1   COD_ARCHIVO                    123344 non-null  int64         \n",
      " 2   ANIOMES                        123344 non-null  int64         \n",
      " 3   NIU                            121756 non-null  float64       \n",
      " 4   DEPENDENCIA                    123344 non-null  int64         \n",
      " 5   FEC_SOLICITUD                  123343 non-null  datetime64[ns]\n",
      " 6   FEC_VENCIMIENTO                123343 non-null  datetime64[ns]\n",
      " 7   FEC_RESPUESTA                  123343 non-null  datetime64[ns]\n",
      " 8   DIAS                           123343 non-null  float64       \n",
      " 9   NUM_SOLICITUD                  123344 non-null  int64         \n",
      " 10  NUM_IDENTIFICACIONSOLICITANTE  123344 non-null  int64         \n",
      " 11  NOM_SOLICITANTE                123340 non-null  object        \n",
      " 12  DIR_SOLICITANTE                123344 non-null  object        \n",
      " 13  TIP_SOLICITUD                  123343 non-null  object        \n",
      " 14  ACCION                         123343 non-null  object        \n",
      " 15  CLASE_SERVICIOHIJA             121756 non-null  object        \n",
      " 16  CLASE_INICIAL                  121756 non-null  object        \n",
      " 17  ESTRATO                        121756 non-null  float64       \n",
      " 18  A_FAVOR                        123343 non-null  object        \n",
      " 19  TIP_SOLICITUD2                 123343 non-null  object        \n",
      " 20  DOCUMENTO                      123343 non-null  object        \n",
      " 21  IMPUTABILIDAD                  123343 non-null  object        \n",
      " 22  FIN_CAUSA                      123343 non-null  object        \n",
      " 23  DEP_RESPONDE                   123343 non-null  object        \n",
      " 24  OBS_RESPUESTA                  123340 non-null  object        \n",
      " 25  FEC_ALTA                       123344 non-null  object        \n",
      " 26  FLAG                           123344 non-null  int64         \n",
      "dtypes: datetime64[ns](3), float64(3), int64(7), object(14)\n",
      "memory usage: 25.4+ MB\n"
     ]
    }
   ],
   "source": [
    "df_17.info()"
   ]
  },
  {
   "cell_type": "markdown",
   "metadata": {},
   "source": [
    "Las columnas de este df son:"
   ]
  },
  {
   "cell_type": "code",
   "execution_count": 37,
   "metadata": {},
   "outputs": [
    {
     "data": {
      "text/plain": [
       "Index(['COD_PQRS', 'COD_ARCHIVO', 'ANIOMES', 'NIU', 'DEPENDENCIA',\n",
       "       'FEC_SOLICITUD', 'FEC_VENCIMIENTO', 'FEC_RESPUESTA', 'DIAS',\n",
       "       'NUM_SOLICITUD', 'NUM_IDENTIFICACIONSOLICITANTE', 'NOM_SOLICITANTE',\n",
       "       'DIR_SOLICITANTE', 'TIP_SOLICITUD', 'ACCION', 'CLASE_SERVICIOHIJA',\n",
       "       'CLASE_INICIAL', 'ESTRATO', 'A_FAVOR', 'TIP_SOLICITUD2', 'DOCUMENTO',\n",
       "       'IMPUTABILIDAD', 'FIN_CAUSA', 'DEP_RESPONDE', 'OBS_RESPUESTA',\n",
       "       'FEC_ALTA', 'FLAG'],\n",
       "      dtype='object')"
      ]
     },
     "execution_count": 37,
     "metadata": {},
     "output_type": "execute_result"
    }
   ],
   "source": [
    "df_17.columns"
   ]
  },
  {
   "cell_type": "markdown",
   "metadata": {},
   "source": [
    "De forma particular la columna 'Oberservación' presente en el df 2018-2020 no se encuentra en este df 17."
   ]
  },
  {
   "cell_type": "code",
   "execution_count": 38,
   "metadata": {},
   "outputs": [
    {
     "data": {
      "text/html": [
       "<div>\n",
       "<style scoped>\n",
       "    .dataframe tbody tr th:only-of-type {\n",
       "        vertical-align: middle;\n",
       "    }\n",
       "\n",
       "    .dataframe tbody tr th {\n",
       "        vertical-align: top;\n",
       "    }\n",
       "\n",
       "    .dataframe thead th {\n",
       "        text-align: right;\n",
       "    }\n",
       "</style>\n",
       "<table border=\"1\" class=\"dataframe\">\n",
       "  <thead>\n",
       "    <tr style=\"text-align: right;\">\n",
       "      <th></th>\n",
       "      <th>TIP_SOLICITUD</th>\n",
       "      <th>ACCION</th>\n",
       "      <th>CLASE_SERVICIOHIJA</th>\n",
       "      <th>CLASE_INICIAL</th>\n",
       "      <th>TIP_SOLICITUD2</th>\n",
       "    </tr>\n",
       "  </thead>\n",
       "  <tbody>\n",
       "    <tr>\n",
       "      <th>0</th>\n",
       "      <td>Queja</td>\n",
       "      <td>OTRAS ACCIONES</td>\n",
       "      <td>RS</td>\n",
       "      <td>Residencial</td>\n",
       "      <td>FALLA EN LA PRESTACIÓN DEL SERVICIO POR CONTIN...</td>\n",
       "    </tr>\n",
       "    <tr>\n",
       "      <th>1</th>\n",
       "      <td>Peticion</td>\n",
       "      <td>REVISION EN EL INMUEBLE</td>\n",
       "      <td>RS</td>\n",
       "      <td>Residencial</td>\n",
       "      <td>INSTALACION CON CONSUMOS BAJOS</td>\n",
       "    </tr>\n",
       "    <tr>\n",
       "      <th>2</th>\n",
       "      <td>Peticion</td>\n",
       "      <td>CONSULTA DE PAGOS EN SIEC Y FACTURA</td>\n",
       "      <td>RS</td>\n",
       "      <td>Residencial</td>\n",
       "      <td>SEPARACIÓN TEMPORAL O PAGO DIRIGIDO</td>\n",
       "    </tr>\n",
       "  </tbody>\n",
       "</table>\n",
       "</div>"
      ],
      "text/plain": [
       "  TIP_SOLICITUD                               ACCION CLASE_SERVICIOHIJA  \\\n",
       "0         Queja                       OTRAS ACCIONES                 RS   \n",
       "1      Peticion              REVISION EN EL INMUEBLE                 RS   \n",
       "2      Peticion  CONSULTA DE PAGOS EN SIEC Y FACTURA                 RS   \n",
       "\n",
       "  CLASE_INICIAL                                     TIP_SOLICITUD2  \n",
       "0   Residencial  FALLA EN LA PRESTACIÓN DEL SERVICIO POR CONTIN...  \n",
       "1   Residencial                     INSTALACION CON CONSUMOS BAJOS  \n",
       "2   Residencial                SEPARACIÓN TEMPORAL O PAGO DIRIGIDO  "
      ]
     },
     "execution_count": 38,
     "metadata": {},
     "output_type": "execute_result"
    }
   ],
   "source": [
    "df_17[['TIP_SOLICITUD', 'ACCION', 'CLASE_SERVICIOHIJA','CLASE_INICIAL', 'TIP_SOLICITUD2']].head(3)"
   ]
  },
  {
   "cell_type": "code",
   "execution_count": 43,
   "metadata": {},
   "outputs": [
    {
     "name": "stdout",
     "output_type": "stream",
     "text": [
      "En visita realizada se observó que hay una vegetación la cual está afectando las redes de energía del sector, estos cultivos de pino no respetaron las distancias de seguridad hacia la red, ocasionando que cada vez que ventea o llueve las ramas se acercan a la red primaria ocasionando la quema de los fusibles de la sección, la CHEC realizo poda de algunos árboles en el mes de diciembre, para el día 12/01/2017 se tiene presupuestado la instalación de unos seccionadores de repetición con los cuales podemos mitigar un poco las fallas en los seccionadores. Recordamos a la comunidad la necesidad de respetar las franjas que usas las redes de energía para garantizar una prestación del servicio, ya que estos cultivos afectan a los mismos usuarios que tienen estas plantaciones.|\n",
      "\n",
      "Nuestra empresa le informa que el día 19 de diciembre de 2016 se realizó visita al predio encontrando medidor NOA No. 16546481 frenado, por tal motivo se retiró y se instala medidor suministrado por el usuario marca METREX No. 1156849, el medidor retirado No. 16546481 se envió al laboratorio de calibración arrojando como resultado no conforme \"medidor no integra en el registrador, debido a que al piñón le hacen falta varios dientes\". Por lo anterior se accede a su solicitud, y se procede a re facturar la cuenta para los periodos de septiembre y octubre de 2016 en base al promedio histórico, quedando el periodo de septiembre por 113 Kilovatios y octubre por 116 Kilovatios, se entrega a usuario factura corregida por valor de $64.550.|\n",
      "\n",
      "CANCELA CONSUMO Y ABONA PFS|\n",
      "\n",
      "se entrega factura|\n",
      "\n",
      "se entrega factura|\n",
      "\n",
      "se autoriza pagar saldo anteiror|\n",
      "\n",
      "se autoriza pagar mas de la mitad de la factura|\n",
      "\n",
      "se entrega factura|\n",
      "\n",
      "se entrega factura|\n",
      "\n",
      "se autoriza pagar saldo anteiror|\n",
      "\n",
      "se entrega factura|\n",
      "\n",
      "se entrega factura|\n",
      "\n",
      "CANCELA CONSUMO PENDIENTE PFS|\n",
      "\n",
      "se entrega factura|\n",
      "\n",
      "se autoriza pagar concpetos chec|\n",
      "\n",
      "se autoriza pagar parte al pfs|\n",
      "\n",
      "se autoriza pagar saldo anterior|\n",
      "\n",
      "se autoriza pagar a mitad de la factura|\n",
      "\n",
      "se autoriza pagar saldo anterior|\n",
      "\n",
      "PAGAPARCIAL AL CONSUMO|\n",
      "\n",
      "PAGA CONSUMO ABONA PFS|\n",
      "\n",
      "SOLICITUD PAGO PARCIAL|\n",
      "\n",
      "PAGA SALDO ANTERIOR|\n",
      "\n",
      "pago parcial fact pet 146416|\n",
      "\n",
      "paga solo el consumo|\n",
      "\n",
      "se entrega factura|\n",
      "\n",
      "se entrega factura|\n",
      "\n",
      "se entrega factura|\n",
      "\n",
      "SALDO ANTERIOR, SE ENTREGA FACTURA|\n",
      "\n",
      "cancela 50%, restante en siguiente factura|\n",
      "\n",
      "USUARIA SOLICITA CANCELAR 50%, RESTANTE SE DEBE CANCELAR COMPLETA EN LA SIGUIENTE FACTURA|\n",
      "\n",
      "CANCELA SALDO ANTERIOR, SE CONSUMO PENDIENTE AURORA|\n",
      "\n",
      "CANCELA CONSUMO PENDIENTE PFS|\n",
      "\n",
      "CANCELA CONSUMO PENDIENTE PFS|\n",
      "\n",
      "se entrega factura|\n",
      "\n",
      "Nuestra Empresa decide acceder a la petición presentada, actualizando en la cuenta 432002469 el suscriptor para que figure a nombre de ESMERALDA HINCAPIE IDARRAGA, quien se acreditó como nuevo propietario del inmueble. El cambio se verá reflejado a partir de la próxima facturación.|\n",
      "\n",
      "solicita pagar parte del consumo|\n",
      "\n",
      "el consumo|\n",
      "\n",
      "cancela mas del 50%|\n",
      "\n",
      "por solicitud de la propietaria s ehace cambio d enombre presenta los requiistos y este se refleja ne la proxima fcaturacion|\n",
      "\n",
      "salod en mora|\n",
      "\n",
      "CANCELA EL 50% DE LA FACTURA|\n",
      "\n",
      "salod en mora|\n",
      "\n",
      "saldo en mora|\n",
      "\n",
      "En atención a la solicitud formulada el 02 de Enero de 2017, le informamos que se realizó consulta de datos básicos en la página de Superintendencia de Notariado y Registro y el nombre que allí aparece, es el mismo que aparece en la copia de la Escritura Pública documento que adjunta.  Por todo lo anterior, se procede a cambio de suscriptor a nombre de María Fabiola Villa de Candamil con CC 24.364.249. Tenemos la mejor voluntad y una permanente disposición para atender sus solicitudes. Nuestro interés es y seguirá siendo trabajar por brindarle servicios con calidad y oportunidad|\n",
      "\n",
      "En visita técnica del 07/ene/17 se encuentra contador 19014080 ISK en normal funcionamiento según el resultado de las pruebas realizadas,lectura 25744 consistente con la facturada,no se detectan fugas de energía ni irregularidades técnicas en la conexión del contador, instalaciones eléctricas en buen estado.tiempo de ocupación 6 meses. Por lo anterior se concluye que el consumo facturado en el periodo agosto, septiembre, octubre, noviembre y diciembre 2016, se está liquidando con base en la diferencia de lecturas del contador 19014080 ISK, corresponde a la utilización del servicio y no será modificado. Si desea formular recurso frente a esta decisión, deberá pagar la suma de $25.000 correspondiente al valor promedio del consumo del periodo de diciembre/16 en reclamación.|\n",
      "\n",
      "En visita técnica del 07/ene/17 se encuentra contador 6677155924 CHI en normal funcionamiento según el resultado de las pruebas realizadas,lectura 5795 consistente con la facturada,no se detectan fugas de energía ni irregularidades técnicas en la conexión del contador,instalaciones eléctricas en regular estado se sugiere particularmente remodelar y evitar inconvenientes en la vivienda,Por lo anterior se concluye que el consumo facturado en el periodo de octubre y noviembre de 2016 se está liquidando con base en la diferencia de lecturas del contador 6677155924 CHI,corresponde a la utilización del servicio y no será modificado. Si desea formular recurso frente a esta decisión, deberá pagar $29.500 correspondiente al valor promedio del consumo del periodo de noviembre en reclamacion|\n",
      "\n",
      "según solicitud se realiza el cambio de la dirección tal y como estaba anterior mente se adjunta factura con dirección antigua no se evidencia solicitud anterior por cambio|\n",
      "\n",
      "Se realiza visita técnica al inmuebel el 04/ene/17, se procede a realizar el cambio de la caja hermética la cual aloja el contador 691067 marca FUJ, todo queda en normal funcionamiento al termino de la labor.  El valor de $95.400 producto de la labor se verá reflejado en la próxima facturación. Tenemos la mejor voluntad y una permanente disposición para atender sus solicitudes. Nuestro interés es y seguirá siendo trabajar por brindarle servicios con calidad y oportunidad.|\n",
      "\n",
      "Oficio: En atención a lo anterior, queremos informarle que a la fecha, la instalación 382485136, cuyo suscriptor es el señor Jose Luis López Clavijo, se encuentra a Paz y Salvo por todos los conceptos por la obligación N° 32454 adquirido por el Programa de Financiación Social.|\n",
      "\n"
     ]
    }
   ],
   "source": [
    "for i in range(0, 50):\n",
    "    print(f\"{df_17['OBS_RESPUESTA'][i]}\" \"\\n\")"
   ]
  },
  {
   "cell_type": "markdown",
   "metadata": {},
   "source": [
    "Adicionalmente, este df 17 contiene una cantidad menor de tipos de solicitudes frente al df 2018"
   ]
  },
  {
   "cell_type": "code",
   "execution_count": 18,
   "metadata": {},
   "outputs": [
    {
     "data": {
      "text/plain": [
       "Peticion    109029\n",
       "Reclamo       9219\n",
       "Queja         5091\n",
       "Recurso          4\n",
       "Name: TIP_SOLICITUD, dtype: int64"
      ]
     },
     "execution_count": 18,
     "metadata": {},
     "output_type": "execute_result"
    }
   ],
   "source": [
    "df_17['TIP_SOLICITUD'].value_counts()"
   ]
  },
  {
   "cell_type": "markdown",
   "metadata": {},
   "source": [
    "Y hablando de las solitudes nivel 2 este df contiene 83 tipos frente a 163 del df 2018-2020."
   ]
  },
  {
   "cell_type": "code",
   "execution_count": 39,
   "metadata": {},
   "outputs": [
    {
     "data": {
      "text/plain": [
       "PAGO PARCIAL                                                    34422\n",
       "EMISION DE DOCUMENTO PARA PAGO                                  21252\n",
       "TRABAJOS TÉCNICOS EN MED, TRAFOS, ACOMETIDAS O EN INFRAESTR.    18775\n",
       "SEPARACIÓN TEMPORAL O PAGO DIRIGIDO                             13731\n",
       "CAMBIO DATOS BASICOS                                             8946\n",
       "                                                                ...  \n",
       "DERRAME DE ACEITE                                                   1\n",
       "REVISIÓN PRESUNTO SAP                                               1\n",
       "NO SE GENERA FACTURA PARA UNA INSTALACIÓN                           1\n",
       "FALLA EN LA CONEXIÓN DEL SERVICIO                                   1\n",
       "APLICACIÓN BENEFICIO PROPIEDAD DE ACTIVOS                           1\n",
       "Name: TIP_SOLICITUD2, Length: 83, dtype: int64"
      ]
     },
     "execution_count": 39,
     "metadata": {},
     "output_type": "execute_result"
    }
   ],
   "source": [
    "df_17['TIP_SOLICITUD2'].value_counts()"
   ]
  },
  {
   "cell_type": "markdown",
   "metadata": {},
   "source": [
    "A partir de este punto se procede a hacer la misma exposición de solicitudes nivel 2 por cada solicitud nivel 1."
   ]
  },
  {
   "cell_type": "code",
   "execution_count": 40,
   "metadata": {},
   "outputs": [],
   "source": [
    "tipos_solicitud_17 = df_17['TIP_SOLICITUD'].unique().tolist()"
   ]
  },
  {
   "cell_type": "code",
   "execution_count": 41,
   "metadata": {},
   "outputs": [
    {
     "name": "stdout",
     "output_type": "stream",
     "text": [
      "Queja: \n",
      "\n",
      "TIP_SOLICITUD2                                                  \n",
      "ENTREGA INOPORTUNA O NO ENTREGA DE LA FACTURA                       3177\n",
      "FALLA EN LA PRESTACIÓN DEL SERVICIO POR CONTINUIDAD                  544\n",
      "FALLA EN LA PRESTACIÓN DEL SERVICIO POR CALIDAD                      249\n",
      "INCONFORMIDAD TRABAJOS                                               245\n",
      "SUSPENSIÓN O CORTE DEL SERVICIO                                      225\n",
      "INCONFORMIDAD CON LA INFORMACIÓN                                     125\n",
      "COMPORTAMIENTO FUNCIONARIO, TRABAJADOR O CONTRATISTA                 120\n",
      "DEMORA EN REPARAR DAÑO                                               110\n",
      "DEMORA EN ATENDER PETICION                                            91\n",
      "INCUMPLIMIENTO DE LA REVISIÓN EN LAS FECHAS ESTABLECIDAS              45\n",
      "INCONFORMIDAD POR LA PROGRAMACIÓN DE INTERRUPCIONES DEL SERVICIO      36\n",
      "INCONFORMIDAD CON EL CANAL DE ATENCIÓN                                25\n",
      "ESTADO DE LA INFRAESTRUCTURA                                          22\n",
      "INCONFORMIDAD EN LA ATENCIÓN DE CONDICIONES DE SEGURIDAD O RIESG      17\n",
      "INCONFORMIDAD PUNTO DE VENTA Y/O RECAUDO                              14\n",
      "NO CONEXIÓN DEL SERVICIO                                              13\n",
      "LEVANTAMIENTO DE DESECHOS VEGETALES                                   10\n",
      "CAMBIO DE MEDIDOR O EQUIPO DE MEDIDA                                   6\n",
      "INADECUADA DISPOSICIÓN DE RESIDUOS                                     6\n",
      "EMISION DE DOCUMENTO PARA PAGO                                         3\n",
      "AFECTACIÓN AMBIENTAL                                                   3\n",
      "MANEJO DE FAUNA Y FLORA                                                2\n",
      "DERRAME DE ACEITE                                                      1\n",
      "FALLA EN LA CONEXIÓN DEL SERVICIO                                      1\n",
      "NO SE GENERA FACTURA PARA UNA INSTALACIÓN                              1\n",
      "dtype: int64\n",
      "\n",
      "\n",
      "Peticion: \n",
      "\n",
      "TIP_SOLICITUD2                                                  \n",
      "PAGO PARCIAL                                                        34422\n",
      "EMISION DE DOCUMENTO PARA PAGO                                      21249\n",
      "TRABAJOS TÉCNICOS EN MED, TRAFOS, ACOMETIDAS O EN INFRAESTR.        18775\n",
      "SEPARACIÓN TEMPORAL O PAGO DIRIGIDO                                 13731\n",
      "CAMBIO DATOS BASICOS                                                 8946\n",
      "NOTIFICACIONES Y/O DESCARGOS                                         3036\n",
      "GESTIONAR FINANCIACION                                               2474\n",
      "INFORMACION GENERAL                                                  1862\n",
      "PODA DE ARBOLES                                                       643\n",
      "EXENCIÓN CONTRIBUCIÓN                                                 527\n",
      "TERMINACION DEL CONTRATO                                              505\n",
      "PAGO DE LA FACTURA DE OTRO USUARIO                                    418\n",
      "SUSPENSION DEL SERVICIO                                               384\n",
      "DAÑO EN EQUIPO ELÉCTRICO                                              327\n",
      "CONDICION ESPECIAL POR SOLICITUD DEL PROPIETARIO                      226\n",
      "REQUERIMIENTO COMPETENCIA DE OTRA EMPRESA                             224\n",
      "INSTALACION CON CONSUMOS BAJOS                                        215\n",
      "CAMBIO DE USO                                                         175\n",
      "TARJETA SOMOS (PFS)                                                   159\n",
      "DIRECCION INCORRECTA                                                  111\n",
      "REQUERIMIENTOS ENTES OFICIALES O ENTIDADES EXTERNAS                    88\n",
      "MODIFICAR COBROS DE TERCEROS                                           79\n",
      "DEVOLUCION O TRASLADO DE SALDO A FAVOR                                 72\n",
      "CAMBIO COMERCIALIZADOR                                                 69\n",
      "PLAZO PARA PAGO                                                        56\n",
      "REVISIÓN, MNTTO, REMODELACIÓN O EXPANSIÓN INFRAESTRUC. A.P.            55\n",
      "MODIFICACIÓN DE INFRAEST POR INCUMPLIMIENTO DE DISTANCIAS DE SEG       50\n",
      "SOLICITUD CONSTANCIA LECTURA                                           50\n",
      "DESENERGIZACIÓN DE INFRAESTRUCTURA                                     33\n",
      "TRASLADO DE DEUDA                                                      31\n",
      "REQUERIMIENTOS SSPD O SIC                                              20\n",
      "FACTURACIÓN A LA FECHA                                                  7\n",
      "DEVOLUCIÓN Y/O COPIA DE DOCUMENTOS                                      6\n",
      "DENUNCIA DEL CONTRATO DE ARRENDAMIENTO                                  1\n",
      "RESTITUCIÓN DE TIERRAS                                                  1\n",
      "REVISIÓN PRESUNTO SAP                                                   1\n",
      "APLICACIÓN BENEFICIO PROPIEDAD DE ACTIVOS                               1\n",
      "dtype: int64\n",
      "\n",
      "\n",
      "Reclamo: \n",
      "\n",
      "TIP_SOLICITUD2                                                  \n",
      "INCONFORMIDAD CON EL CONSUMO O PRODUCCIÓN FACTURADO                 8401\n",
      "COBROS POR CONEXIÓN, RECONEXIÓN, REINSTALACIÓN                       202\n",
      "PAGO SIN ABONO A CUENTA                                              103\n",
      "COBROS POR PROMEDIO                                                   95\n",
      "COBRO DESCONOCIDO                                                     81\n",
      "ESTRATO INCORRECTO                                                    70\n",
      "COBRO DE CARGOS RELACIONADOS CON EL SERVICIO PÚBLICO                  59\n",
      "COBRO DE OTROS BIENES Y SERVICIOS EN LA FACTURA                       51\n",
      "COBRO POR CONSUMOS DEJADOS DE FACTURAR O RECUPERACION DE ENERGIA      27\n",
      "COBRO MÚLTIPLE Y/O ACUMULADO                                          23\n",
      "CLASE DE USO INCORRECTO                                               22\n",
      "COBROS INOPORTUNOS                                                    13\n",
      "COBRO DE MEDIDOR                                                      13\n",
      "COBROS POR SERVICIOS NO PRESTADOS                                     12\n",
      "SOLICITUD DE ROMPIMIENTO DE SOLIDARIDAD                               10\n",
      "TARIFA INCORRECTA                                                      9\n",
      "INCONFORMIDAD POR COBROS POR NORMALIZACIÓN DEL SEVICIO                 8\n",
      "SUBSIDIOS Y CONTRIBUCIONES                                             6\n",
      "COBRO DE ACUERDO DE PAGO O FINANCIACION                                6\n",
      "INCONFORMIDAD CON EL AFORO                                             5\n",
      "COBRO DE REVISIONES                                                    3\n",
      "dtype: int64\n",
      "\n",
      "\n",
      "nan: \n",
      "\n",
      "Series([], dtype: int64)\n",
      "\n",
      "\n",
      "Recurso: \n",
      "\n",
      "TIP_SOLICITUD2       \n",
      "NEGACION DEL SERVICIO    4\n",
      "dtype: int64\n",
      "\n",
      "\n"
     ]
    }
   ],
   "source": [
    "for s in tipos_solicitud_17:\n",
    "    print(f\"{s}: \\n\")\n",
    "    print(df_17[df_17['TIP_SOLICITUD']==s][['TIP_SOLICITUD2']].value_counts())\n",
    "    print(\"\\n\")"
   ]
  },
  {
   "cell_type": "markdown",
   "metadata": {},
   "source": [
    "*Hay que buscar estandarizar las solicitudes nivel 2 a las de 2018-2020*"
   ]
  },
  {
   "cell_type": "markdown",
   "metadata": {},
   "source": [
    "## Como puntos para discutir:\n",
    "- Diferente dimensionalidad entre df pueden presetar una dificultad a la hora de querer combinar ambos df para el entrenamiento.\n",
    "- Hay que poner lupa también sobre las solicitudes nivel 1 y nivel 2 de cada df, esto puede presentar otra dificultad.\n",
    "\n",
    "## Compromisos de la reunión del 22/20/2021\n",
    "- Validar si es posible estandarizar por lo menos la columna de observación de Usuario\n",
    "- Para el preprocesamiento a tener en cuenta:\n",
    "    - Tener presente los signos de puntuacion. (Revisar de forma general si las observaciones tienen buena puntuación)\n",
    "    - Llevar todo a sólo 4 tipos de solicitud nivel 1. (Como está en el 2017).\n",
    "    - Llevar todo a la misma cantidad de categorías nivel 2 (Entre más se puedan agrupar, mejor)\n",
    "    - Preprocesar con Levenshtein principalmente para estandarizar las solicitudes nivel 2."
   ]
  },
  {
   "cell_type": "markdown",
   "metadata": {},
   "source": [
    "Ya que no es posible extraer la columna 'OBSERVACION_USUARIO' para los años 2016-2017, no se tendrán en cuenta para el modelo."
   ]
  },
  {
   "cell_type": "code",
   "execution_count": null,
   "metadata": {},
   "outputs": [],
   "source": []
  }
 ],
 "metadata": {
  "kernelspec": {
   "display_name": "Python 3",
   "language": "python",
   "name": "python3"
  },
  "language_info": {
   "codemirror_mode": {
    "name": "ipython",
    "version": 3
   },
   "file_extension": ".py",
   "mimetype": "text/x-python",
   "name": "python",
   "nbconvert_exporter": "python",
   "pygments_lexer": "ipython3",
   "version": "3.8.5"
  }
 },
 "nbformat": 4,
 "nbformat_minor": 4
}
